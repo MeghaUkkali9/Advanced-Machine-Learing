{
  "nbformat": 4,
  "nbformat_minor": 0,
  "metadata": {
    "colab": {
      "name": "Welcome To Colaboratory",
      "provenance": [],
      "collapsed_sections": [],
      "toc_visible": true,
      "include_colab_link": true
    },
    "kernelspec": {
      "display_name": "Python 3",
      "name": "python3"
    }
  },
  "cells": [
    {
      "cell_type": "markdown",
      "metadata": {
        "id": "view-in-github",
        "colab_type": "text"
      },
      "source": [
        "<a href=\"https://colab.research.google.com/github/MeghaUkkali9/Advanced-Machine-Learing/blob/master/Project4_MeghaUkkali.ipynb\" target=\"_parent\"><img src=\"https://colab.research.google.com/assets/colab-badge.svg\" alt=\"Open In Colab\"/></a>"
      ]
    },
    {
      "cell_type": "markdown",
      "metadata": {
        "id": "Sw47KELgC_tR",
        "colab_type": "text"
      },
      "source": [
        "Project#: 1\n",
        "Name: Megha Ukkali\n",
        "Course: Advanced Machine Learning\n",
        "Submission Date: 01/29/2020"
      ]
    },
    {
      "cell_type": "markdown",
      "metadata": {
        "id": "pjvcuoLalNXo",
        "colab_type": "text"
      },
      "source": [
        "Project 1\n",
        "3) Download the Wine data set from https://archive.ics.uci.edu/ml/datasets/Wine (Links to an external site.) and create a new Jupytor notebook to perform the following tasks:\n",
        "a) --Plot the classification data against each of the attributes\n",
        "\n",
        "b) -- Which attribute has the highest correlation with the classification  label?\n",
        "\n",
        "c) -- Repeat all the experiments in 02_end_to_end_machine_learning_project.ipynb but use the Wine data set instead the housing data"
      ]
    },
    {
      "cell_type": "markdown",
      "metadata": {
        "id": "ugGJg-_CD1eU",
        "colab_type": "text"
      },
      "source": [
        "Upload the wine dataset from the git hub"
      ]
    },
    {
      "cell_type": "code",
      "metadata": {
        "id": "yt88UxaODAc-",
        "colab_type": "code",
        "colab": {}
      },
      "source": [
        "import os\n",
        "import urllib\n",
        "\n",
        "\n",
        "DOWNLOAD_ROOT = \"https://raw.githubusercontent.com/MeghaUkkali9/Advanced-Machine-Learing/master/\"\n",
        "PRSA_PATH = os.path.join(\"datasets\", \"PRSA\")\n",
        "PRSA_URL = DOWNLOAD_ROOT + \"datasets/PRSA/PRSA_data_2010.1.1-2014.12.31.csv\"\n",
        "\n",
        "def fetch_prsadata_data(prsadata_url=PRSA_URL, prsadata_path=PRSA_PATH):\n",
        "    if not os.path.isdir(prsadata_path):\n",
        "        os.makedirs(prsadata_path)\n",
        "    tgz_path = os.path.join(prsadata_path, \"PRSA_data_2010.1.1-2014.12.31.csv\")\n",
        "    urllib.request.urlretrieve(prsadata_url, tgz_path)"
      ],
      "execution_count": 0,
      "outputs": []
    },
    {
      "cell_type": "code",
      "metadata": {
        "id": "7JltCOSkmAJJ",
        "colab_type": "code",
        "colab": {}
      },
      "source": [
        "fetch_prsadata_data()"
      ],
      "execution_count": 0,
      "outputs": []
    },
    {
      "cell_type": "markdown",
      "metadata": {
        "id": "n7QdIX6cGnt9",
        "colab_type": "text"
      },
      "source": [
        "Load the .csv file of prsa dataset"
      ]
    },
    {
      "cell_type": "code",
      "metadata": {
        "id": "qCwAmqInmF5o",
        "colab_type": "code",
        "colab": {}
      },
      "source": [
        "import pandas as pd\n",
        "\n",
        "def load_prsadata_data(prsadata_path=PRSA_PATH):\n",
        "    csv_path = os.path.join(prsadata_path, \"PRSA_data_2010.1.1-2014.12.31.csv\")\n",
        "    return pd.read_csv(csv_path)"
      ],
      "execution_count": 0,
      "outputs": []
    },
    {
      "cell_type": "code",
      "metadata": {
        "id": "W62HxiVgmI45",
        "colab_type": "code",
        "outputId": "7a31f172-e74e-4457-c62f-45125665d4ab",
        "colab": {
          "base_uri": "https://localhost:8080/",
          "height": 196
        }
      },
      "source": [
        "prsadata = load_prsadata_data()\n",
        "prsadata.head()"
      ],
      "execution_count": 4,
      "outputs": [
        {
          "output_type": "execute_result",
          "data": {
            "text/html": [
              "<div>\n",
              "<style scoped>\n",
              "    .dataframe tbody tr th:only-of-type {\n",
              "        vertical-align: middle;\n",
              "    }\n",
              "\n",
              "    .dataframe tbody tr th {\n",
              "        vertical-align: top;\n",
              "    }\n",
              "\n",
              "    .dataframe thead th {\n",
              "        text-align: right;\n",
              "    }\n",
              "</style>\n",
              "<table border=\"1\" class=\"dataframe\">\n",
              "  <thead>\n",
              "    <tr style=\"text-align: right;\">\n",
              "      <th></th>\n",
              "      <th>No</th>\n",
              "      <th>year</th>\n",
              "      <th>month</th>\n",
              "      <th>day</th>\n",
              "      <th>hour</th>\n",
              "      <th>pm2.5</th>\n",
              "      <th>DEWP</th>\n",
              "      <th>TEMP</th>\n",
              "      <th>PRES</th>\n",
              "      <th>cbwd</th>\n",
              "      <th>Iws</th>\n",
              "      <th>Is</th>\n",
              "      <th>Ir</th>\n",
              "    </tr>\n",
              "  </thead>\n",
              "  <tbody>\n",
              "    <tr>\n",
              "      <th>0</th>\n",
              "      <td>1</td>\n",
              "      <td>2010</td>\n",
              "      <td>1</td>\n",
              "      <td>1</td>\n",
              "      <td>0</td>\n",
              "      <td>NaN</td>\n",
              "      <td>-21</td>\n",
              "      <td>-11.0</td>\n",
              "      <td>1021.0</td>\n",
              "      <td>NW</td>\n",
              "      <td>1.79</td>\n",
              "      <td>0</td>\n",
              "      <td>0</td>\n",
              "    </tr>\n",
              "    <tr>\n",
              "      <th>1</th>\n",
              "      <td>2</td>\n",
              "      <td>2010</td>\n",
              "      <td>1</td>\n",
              "      <td>1</td>\n",
              "      <td>1</td>\n",
              "      <td>NaN</td>\n",
              "      <td>-21</td>\n",
              "      <td>-12.0</td>\n",
              "      <td>1020.0</td>\n",
              "      <td>NW</td>\n",
              "      <td>4.92</td>\n",
              "      <td>0</td>\n",
              "      <td>0</td>\n",
              "    </tr>\n",
              "    <tr>\n",
              "      <th>2</th>\n",
              "      <td>3</td>\n",
              "      <td>2010</td>\n",
              "      <td>1</td>\n",
              "      <td>1</td>\n",
              "      <td>2</td>\n",
              "      <td>NaN</td>\n",
              "      <td>-21</td>\n",
              "      <td>-11.0</td>\n",
              "      <td>1019.0</td>\n",
              "      <td>NW</td>\n",
              "      <td>6.71</td>\n",
              "      <td>0</td>\n",
              "      <td>0</td>\n",
              "    </tr>\n",
              "    <tr>\n",
              "      <th>3</th>\n",
              "      <td>4</td>\n",
              "      <td>2010</td>\n",
              "      <td>1</td>\n",
              "      <td>1</td>\n",
              "      <td>3</td>\n",
              "      <td>NaN</td>\n",
              "      <td>-21</td>\n",
              "      <td>-14.0</td>\n",
              "      <td>1019.0</td>\n",
              "      <td>NW</td>\n",
              "      <td>9.84</td>\n",
              "      <td>0</td>\n",
              "      <td>0</td>\n",
              "    </tr>\n",
              "    <tr>\n",
              "      <th>4</th>\n",
              "      <td>5</td>\n",
              "      <td>2010</td>\n",
              "      <td>1</td>\n",
              "      <td>1</td>\n",
              "      <td>4</td>\n",
              "      <td>NaN</td>\n",
              "      <td>-20</td>\n",
              "      <td>-12.0</td>\n",
              "      <td>1018.0</td>\n",
              "      <td>NW</td>\n",
              "      <td>12.97</td>\n",
              "      <td>0</td>\n",
              "      <td>0</td>\n",
              "    </tr>\n",
              "  </tbody>\n",
              "</table>\n",
              "</div>"
            ],
            "text/plain": [
              "   No  year  month  day  hour  pm2.5  DEWP  TEMP    PRES cbwd    Iws  Is  Ir\n",
              "0   1  2010      1    1     0    NaN   -21 -11.0  1021.0   NW   1.79   0   0\n",
              "1   2  2010      1    1     1    NaN   -21 -12.0  1020.0   NW   4.92   0   0\n",
              "2   3  2010      1    1     2    NaN   -21 -11.0  1019.0   NW   6.71   0   0\n",
              "3   4  2010      1    1     3    NaN   -21 -14.0  1019.0   NW   9.84   0   0\n",
              "4   5  2010      1    1     4    NaN   -20 -12.0  1018.0   NW  12.97   0   0"
            ]
          },
          "metadata": {
            "tags": []
          },
          "execution_count": 4
        }
      ]
    },
    {
      "cell_type": "code",
      "metadata": {
        "id": "Zz8X8j5JmZUj",
        "colab_type": "code",
        "outputId": "3e80945a-79fe-4e65-ea67-956d85390f40",
        "colab": {
          "base_uri": "https://localhost:8080/",
          "height": 67
        }
      },
      "source": [
        "prsadata.columns"
      ],
      "execution_count": 5,
      "outputs": [
        {
          "output_type": "execute_result",
          "data": {
            "text/plain": [
              "Index(['No', 'year', 'month', 'day', 'hour', 'pm2.5', 'DEWP', 'TEMP', 'PRES',\n",
              "       'cbwd', 'Iws', 'Is', 'Ir'],\n",
              "      dtype='object')"
            ]
          },
          "metadata": {
            "tags": []
          },
          "execution_count": 5
        }
      ]
    },
    {
      "cell_type": "code",
      "metadata": {
        "id": "eb9LlH4wpfT4",
        "colab_type": "code",
        "outputId": "02b74d48-845e-4e00-df79-dab398e5f4d2",
        "colab": {
          "base_uri": "https://localhost:8080/",
          "height": 318
        }
      },
      "source": [
        "prsadata.info()"
      ],
      "execution_count": 6,
      "outputs": [
        {
          "output_type": "stream",
          "text": [
            "<class 'pandas.core.frame.DataFrame'>\n",
            "RangeIndex: 43824 entries, 0 to 43823\n",
            "Data columns (total 13 columns):\n",
            "No       43824 non-null int64\n",
            "year     43824 non-null int64\n",
            "month    43824 non-null int64\n",
            "day      43824 non-null int64\n",
            "hour     43824 non-null int64\n",
            "pm2.5    41757 non-null float64\n",
            "DEWP     43824 non-null int64\n",
            "TEMP     43824 non-null float64\n",
            "PRES     43824 non-null float64\n",
            "cbwd     43824 non-null object\n",
            "Iws      43824 non-null float64\n",
            "Is       43824 non-null int64\n",
            "Ir       43824 non-null int64\n",
            "dtypes: float64(4), int64(8), object(1)\n",
            "memory usage: 4.3+ MB\n"
          ],
          "name": "stdout"
        }
      ]
    },
    {
      "cell_type": "code",
      "metadata": {
        "id": "sq8uxXTrpkEo",
        "colab_type": "code",
        "outputId": "934808d2-e0a4-4dcd-feaa-0bd9d9561b4d",
        "colab": {
          "base_uri": "https://localhost:8080/",
          "height": 100
        }
      },
      "source": [
        "prsadata[\"cbwd\"].value_counts()"
      ],
      "execution_count": 8,
      "outputs": [
        {
          "output_type": "execute_result",
          "data": {
            "text/plain": [
              "SE    15290\n",
              "NW    14150\n",
              "cv     9387\n",
              "NE     4997\n",
              "Name: cbwd, dtype: int64"
            ]
          },
          "metadata": {
            "tags": []
          },
          "execution_count": 8
        }
      ]
    },
    {
      "cell_type": "code",
      "metadata": {
        "id": "Bj_yWGy2psMP",
        "colab_type": "code",
        "outputId": "2c26e6a2-5d17-4edc-fba5-225f6245b711",
        "colab": {
          "base_uri": "https://localhost:8080/",
          "height": 306
        }
      },
      "source": [
        "prsadata.describe()"
      ],
      "execution_count": 9,
      "outputs": [
        {
          "output_type": "execute_result",
          "data": {
            "text/html": [
              "<div>\n",
              "<style scoped>\n",
              "    .dataframe tbody tr th:only-of-type {\n",
              "        vertical-align: middle;\n",
              "    }\n",
              "\n",
              "    .dataframe tbody tr th {\n",
              "        vertical-align: top;\n",
              "    }\n",
              "\n",
              "    .dataframe thead th {\n",
              "        text-align: right;\n",
              "    }\n",
              "</style>\n",
              "<table border=\"1\" class=\"dataframe\">\n",
              "  <thead>\n",
              "    <tr style=\"text-align: right;\">\n",
              "      <th></th>\n",
              "      <th>No</th>\n",
              "      <th>year</th>\n",
              "      <th>month</th>\n",
              "      <th>day</th>\n",
              "      <th>hour</th>\n",
              "      <th>pm2.5</th>\n",
              "      <th>DEWP</th>\n",
              "      <th>TEMP</th>\n",
              "      <th>PRES</th>\n",
              "      <th>Iws</th>\n",
              "      <th>Is</th>\n",
              "      <th>Ir</th>\n",
              "    </tr>\n",
              "  </thead>\n",
              "  <tbody>\n",
              "    <tr>\n",
              "      <th>count</th>\n",
              "      <td>43824.000000</td>\n",
              "      <td>43824.000000</td>\n",
              "      <td>43824.000000</td>\n",
              "      <td>43824.000000</td>\n",
              "      <td>43824.000000</td>\n",
              "      <td>41757.000000</td>\n",
              "      <td>43824.000000</td>\n",
              "      <td>43824.000000</td>\n",
              "      <td>43824.000000</td>\n",
              "      <td>43824.000000</td>\n",
              "      <td>43824.000000</td>\n",
              "      <td>43824.000000</td>\n",
              "    </tr>\n",
              "    <tr>\n",
              "      <th>mean</th>\n",
              "      <td>21912.500000</td>\n",
              "      <td>2012.000000</td>\n",
              "      <td>6.523549</td>\n",
              "      <td>15.727820</td>\n",
              "      <td>11.500000</td>\n",
              "      <td>98.613215</td>\n",
              "      <td>1.817246</td>\n",
              "      <td>12.448521</td>\n",
              "      <td>1016.447654</td>\n",
              "      <td>23.889140</td>\n",
              "      <td>0.052734</td>\n",
              "      <td>0.194916</td>\n",
              "    </tr>\n",
              "    <tr>\n",
              "      <th>std</th>\n",
              "      <td>12651.043435</td>\n",
              "      <td>1.413842</td>\n",
              "      <td>3.448572</td>\n",
              "      <td>8.799425</td>\n",
              "      <td>6.922266</td>\n",
              "      <td>92.050387</td>\n",
              "      <td>14.433440</td>\n",
              "      <td>12.198613</td>\n",
              "      <td>10.268698</td>\n",
              "      <td>50.010635</td>\n",
              "      <td>0.760375</td>\n",
              "      <td>1.415867</td>\n",
              "    </tr>\n",
              "    <tr>\n",
              "      <th>min</th>\n",
              "      <td>1.000000</td>\n",
              "      <td>2010.000000</td>\n",
              "      <td>1.000000</td>\n",
              "      <td>1.000000</td>\n",
              "      <td>0.000000</td>\n",
              "      <td>0.000000</td>\n",
              "      <td>-40.000000</td>\n",
              "      <td>-19.000000</td>\n",
              "      <td>991.000000</td>\n",
              "      <td>0.450000</td>\n",
              "      <td>0.000000</td>\n",
              "      <td>0.000000</td>\n",
              "    </tr>\n",
              "    <tr>\n",
              "      <th>25%</th>\n",
              "      <td>10956.750000</td>\n",
              "      <td>2011.000000</td>\n",
              "      <td>4.000000</td>\n",
              "      <td>8.000000</td>\n",
              "      <td>5.750000</td>\n",
              "      <td>29.000000</td>\n",
              "      <td>-10.000000</td>\n",
              "      <td>2.000000</td>\n",
              "      <td>1008.000000</td>\n",
              "      <td>1.790000</td>\n",
              "      <td>0.000000</td>\n",
              "      <td>0.000000</td>\n",
              "    </tr>\n",
              "    <tr>\n",
              "      <th>50%</th>\n",
              "      <td>21912.500000</td>\n",
              "      <td>2012.000000</td>\n",
              "      <td>7.000000</td>\n",
              "      <td>16.000000</td>\n",
              "      <td>11.500000</td>\n",
              "      <td>72.000000</td>\n",
              "      <td>2.000000</td>\n",
              "      <td>14.000000</td>\n",
              "      <td>1016.000000</td>\n",
              "      <td>5.370000</td>\n",
              "      <td>0.000000</td>\n",
              "      <td>0.000000</td>\n",
              "    </tr>\n",
              "    <tr>\n",
              "      <th>75%</th>\n",
              "      <td>32868.250000</td>\n",
              "      <td>2013.000000</td>\n",
              "      <td>10.000000</td>\n",
              "      <td>23.000000</td>\n",
              "      <td>17.250000</td>\n",
              "      <td>137.000000</td>\n",
              "      <td>15.000000</td>\n",
              "      <td>23.000000</td>\n",
              "      <td>1025.000000</td>\n",
              "      <td>21.910000</td>\n",
              "      <td>0.000000</td>\n",
              "      <td>0.000000</td>\n",
              "    </tr>\n",
              "    <tr>\n",
              "      <th>max</th>\n",
              "      <td>43824.000000</td>\n",
              "      <td>2014.000000</td>\n",
              "      <td>12.000000</td>\n",
              "      <td>31.000000</td>\n",
              "      <td>23.000000</td>\n",
              "      <td>994.000000</td>\n",
              "      <td>28.000000</td>\n",
              "      <td>42.000000</td>\n",
              "      <td>1046.000000</td>\n",
              "      <td>585.600000</td>\n",
              "      <td>27.000000</td>\n",
              "      <td>36.000000</td>\n",
              "    </tr>\n",
              "  </tbody>\n",
              "</table>\n",
              "</div>"
            ],
            "text/plain": [
              "                 No          year  ...            Is            Ir\n",
              "count  43824.000000  43824.000000  ...  43824.000000  43824.000000\n",
              "mean   21912.500000   2012.000000  ...      0.052734      0.194916\n",
              "std    12651.043435      1.413842  ...      0.760375      1.415867\n",
              "min        1.000000   2010.000000  ...      0.000000      0.000000\n",
              "25%    10956.750000   2011.000000  ...      0.000000      0.000000\n",
              "50%    21912.500000   2012.000000  ...      0.000000      0.000000\n",
              "75%    32868.250000   2013.000000  ...      0.000000      0.000000\n",
              "max    43824.000000   2014.000000  ...     27.000000     36.000000\n",
              "\n",
              "[8 rows x 12 columns]"
            ]
          },
          "metadata": {
            "tags": []
          },
          "execution_count": 9
        }
      ]
    },
    {
      "cell_type": "code",
      "metadata": {
        "id": "OXoLYeHD99ld",
        "colab_type": "code",
        "colab": {}
      },
      "source": [
        "prsadata=prsadata.drop(\"No\", axis=1)"
      ],
      "execution_count": 0,
      "outputs": []
    },
    {
      "cell_type": "markdown",
      "metadata": {
        "id": "DmtN88ZLEr9_",
        "colab_type": "text"
      },
      "source": [
        "a) PLOT THE CLASSIFICATION DATA FOR EACH ATTRIBUTE"
      ]
    },
    {
      "cell_type": "code",
      "metadata": {
        "id": "HssBTgsVpy_8",
        "colab_type": "code",
        "outputId": "b3d7dfc9-3f8e-44ce-81ed-e753c4b8d8d5",
        "colab": {
          "base_uri": "https://localhost:8080/",
          "height": 879
        }
      },
      "source": [
        "%matplotlib inline\n",
        "import matplotlib.pyplot as plt\n",
        "prsadata.hist(bins=50, figsize=(15,15))\n",
        "plt.show()"
      ],
      "execution_count": 15,
      "outputs": [
        {
          "output_type": "display_data",
          "data": {
            "image/png": "[encoded data removed]",
            "text/plain": [
              "<Figure size 1080x1080 with 12 Axes>"
            ]
          },
          "metadata": {
            "tags": []
          }
        }
      ]
    },
    {
      "cell_type": "code",
      "metadata": {
        "id": "d0DeTNtvB9E9",
        "colab_type": "code",
        "colab": {
          "base_uri": "https://localhost:8080/",
          "height": 33
        },
        "outputId": "a2f5373b-3588-4a86-f3a0-0e6c37c0c9bd"
      },
      "source": [
        "train_set, test_set = split_train_test(prsadata, 0.2)\n",
        "len(train_set)"
      ],
      "execution_count": 18,
      "outputs": [
        {
          "output_type": "execute_result",
          "data": {
            "text/plain": [
              "35060"
            ]
          },
          "metadata": {
            "tags": []
          },
          "execution_count": 18
        }
      ]
    },
    {
      "cell_type": "code",
      "metadata": {
        "id": "GTzC_VeqCCsc",
        "colab_type": "code",
        "colab": {
          "base_uri": "https://localhost:8080/",
          "height": 33
        },
        "outputId": "9219be31-4d87-41e2-f710-104c5d18db9e"
      },
      "source": [
        "len(test_set)"
      ],
      "execution_count": 19,
      "outputs": [
        {
          "output_type": "execute_result",
          "data": {
            "text/plain": [
              "8764"
            ]
          },
          "metadata": {
            "tags": []
          },
          "execution_count": 19
        }
      ]
    },
    {
      "cell_type": "code",
      "metadata": {
        "id": "_dqmjb0gEC9Q",
        "colab_type": "code",
        "colab": {}
      },
      "source": [
        "median = prsadata[\"pm2.5\"].median()\n",
        "prsadata[\"pm2.5\"].fillna(median, inplace=True) "
      ],
      "execution_count": 0,
      "outputs": []
    },
    {
      "cell_type": "code",
      "metadata": {
        "id": "hVnbVr5FFy9q",
        "colab_type": "code",
        "colab": {
          "base_uri": "https://localhost:8080/",
          "height": 306
        },
        "outputId": "ab5ace33-dfd0-4849-b89f-586c4292b3dc"
      },
      "source": [
        "prsadata.describe()"
      ],
      "execution_count": 21,
      "outputs": [
        {
          "output_type": "execute_result",
          "data": {
            "text/html": [
              "<div>\n",
              "<style scoped>\n",
              "    .dataframe tbody tr th:only-of-type {\n",
              "        vertical-align: middle;\n",
              "    }\n",
              "\n",
              "    .dataframe tbody tr th {\n",
              "        vertical-align: top;\n",
              "    }\n",
              "\n",
              "    .dataframe thead th {\n",
              "        text-align: right;\n",
              "    }\n",
              "</style>\n",
              "<table border=\"1\" class=\"dataframe\">\n",
              "  <thead>\n",
              "    <tr style=\"text-align: right;\">\n",
              "      <th></th>\n",
              "      <th>year</th>\n",
              "      <th>month</th>\n",
              "      <th>day</th>\n",
              "      <th>hour</th>\n",
              "      <th>pm2.5</th>\n",
              "      <th>DEWP</th>\n",
              "      <th>TEMP</th>\n",
              "      <th>PRES</th>\n",
              "      <th>Iws</th>\n",
              "      <th>Is</th>\n",
              "      <th>Ir</th>\n",
              "    </tr>\n",
              "  </thead>\n",
              "  <tbody>\n",
              "    <tr>\n",
              "      <th>count</th>\n",
              "      <td>43824.000000</td>\n",
              "      <td>43824.000000</td>\n",
              "      <td>43824.000000</td>\n",
              "      <td>43824.000000</td>\n",
              "      <td>43824.000000</td>\n",
              "      <td>43824.000000</td>\n",
              "      <td>43824.000000</td>\n",
              "      <td>43824.000000</td>\n",
              "      <td>43824.000000</td>\n",
              "      <td>43824.000000</td>\n",
              "      <td>43824.000000</td>\n",
              "    </tr>\n",
              "    <tr>\n",
              "      <th>mean</th>\n",
              "      <td>2012.000000</td>\n",
              "      <td>6.523549</td>\n",
              "      <td>15.727820</td>\n",
              "      <td>11.500000</td>\n",
              "      <td>97.357977</td>\n",
              "      <td>1.817246</td>\n",
              "      <td>12.448521</td>\n",
              "      <td>1016.447654</td>\n",
              "      <td>23.889140</td>\n",
              "      <td>0.052734</td>\n",
              "      <td>0.194916</td>\n",
              "    </tr>\n",
              "    <tr>\n",
              "      <th>std</th>\n",
              "      <td>1.413842</td>\n",
              "      <td>3.448572</td>\n",
              "      <td>8.799425</td>\n",
              "      <td>6.922266</td>\n",
              "      <td>90.030249</td>\n",
              "      <td>14.433440</td>\n",
              "      <td>12.198613</td>\n",
              "      <td>10.268698</td>\n",
              "      <td>50.010635</td>\n",
              "      <td>0.760375</td>\n",
              "      <td>1.415867</td>\n",
              "    </tr>\n",
              "    <tr>\n",
              "      <th>min</th>\n",
              "      <td>2010.000000</td>\n",
              "      <td>1.000000</td>\n",
              "      <td>1.000000</td>\n",
              "      <td>0.000000</td>\n",
              "      <td>0.000000</td>\n",
              "      <td>-40.000000</td>\n",
              "      <td>-19.000000</td>\n",
              "      <td>991.000000</td>\n",
              "      <td>0.450000</td>\n",
              "      <td>0.000000</td>\n",
              "      <td>0.000000</td>\n",
              "    </tr>\n",
              "    <tr>\n",
              "      <th>25%</th>\n",
              "      <td>2011.000000</td>\n",
              "      <td>4.000000</td>\n",
              "      <td>8.000000</td>\n",
              "      <td>5.750000</td>\n",
              "      <td>31.000000</td>\n",
              "      <td>-10.000000</td>\n",
              "      <td>2.000000</td>\n",
              "      <td>1008.000000</td>\n",
              "      <td>1.790000</td>\n",
              "      <td>0.000000</td>\n",
              "      <td>0.000000</td>\n",
              "    </tr>\n",
              "    <tr>\n",
              "      <th>50%</th>\n",
              "      <td>2012.000000</td>\n",
              "      <td>7.000000</td>\n",
              "      <td>16.000000</td>\n",
              "      <td>11.500000</td>\n",
              "      <td>72.000000</td>\n",
              "      <td>2.000000</td>\n",
              "      <td>14.000000</td>\n",
              "      <td>1016.000000</td>\n",
              "      <td>5.370000</td>\n",
              "      <td>0.000000</td>\n",
              "      <td>0.000000</td>\n",
              "    </tr>\n",
              "    <tr>\n",
              "      <th>75%</th>\n",
              "      <td>2013.000000</td>\n",
              "      <td>10.000000</td>\n",
              "      <td>23.000000</td>\n",
              "      <td>17.250000</td>\n",
              "      <td>132.000000</td>\n",
              "      <td>15.000000</td>\n",
              "      <td>23.000000</td>\n",
              "      <td>1025.000000</td>\n",
              "      <td>21.910000</td>\n",
              "      <td>0.000000</td>\n",
              "      <td>0.000000</td>\n",
              "    </tr>\n",
              "    <tr>\n",
              "      <th>max</th>\n",
              "      <td>2014.000000</td>\n",
              "      <td>12.000000</td>\n",
              "      <td>31.000000</td>\n",
              "      <td>23.000000</td>\n",
              "      <td>994.000000</td>\n",
              "      <td>28.000000</td>\n",
              "      <td>42.000000</td>\n",
              "      <td>1046.000000</td>\n",
              "      <td>585.600000</td>\n",
              "      <td>27.000000</td>\n",
              "      <td>36.000000</td>\n",
              "    </tr>\n",
              "  </tbody>\n",
              "</table>\n",
              "</div>"
            ],
            "text/plain": [
              "               year         month  ...            Is            Ir\n",
              "count  43824.000000  43824.000000  ...  43824.000000  43824.000000\n",
              "mean    2012.000000      6.523549  ...      0.052734      0.194916\n",
              "std        1.413842      3.448572  ...      0.760375      1.415867\n",
              "min     2010.000000      1.000000  ...      0.000000      0.000000\n",
              "25%     2011.000000      4.000000  ...      0.000000      0.000000\n",
              "50%     2012.000000      7.000000  ...      0.000000      0.000000\n",
              "75%     2013.000000     10.000000  ...      0.000000      0.000000\n",
              "max     2014.000000     12.000000  ...     27.000000     36.000000\n",
              "\n",
              "[8 rows x 11 columns]"
            ]
          },
          "metadata": {
            "tags": []
          },
          "execution_count": 21
        }
      ]
    },
    {
      "cell_type": "code",
      "metadata": {
        "id": "sfPRx3aiF4yN",
        "colab_type": "code",
        "colab": {
          "base_uri": "https://localhost:8080/",
          "height": 301
        },
        "outputId": "e114efc9-c9bb-4b2f-bc57-d7539c888aa6"
      },
      "source": [
        "prsadata.info()"
      ],
      "execution_count": 22,
      "outputs": [
        {
          "output_type": "stream",
          "text": [
            "<class 'pandas.core.frame.DataFrame'>\n",
            "RangeIndex: 43824 entries, 0 to 43823\n",
            "Data columns (total 12 columns):\n",
            "year     43824 non-null int64\n",
            "month    43824 non-null int64\n",
            "day      43824 non-null int64\n",
            "hour     43824 non-null int64\n",
            "pm2.5    43824 non-null float64\n",
            "DEWP     43824 non-null int64\n",
            "TEMP     43824 non-null float64\n",
            "PRES     43824 non-null float64\n",
            "cbwd     43824 non-null object\n",
            "Iws      43824 non-null float64\n",
            "Is       43824 non-null int64\n",
            "Ir       43824 non-null int64\n",
            "dtypes: float64(4), int64(7), object(1)\n",
            "memory usage: 4.0+ MB\n"
          ],
          "name": "stdout"
        }
      ]
    },
    {
      "cell_type": "code",
      "metadata": {
        "id": "YAhSyCNJYEMY",
        "colab_type": "code",
        "colab": {}
      },
      "source": [
        "# to make this notebook's output identical at every run\n",
        "import numpy as np\n",
        "\n",
        "np.random.seed(42)"
      ],
      "execution_count": 0,
      "outputs": []
    },
    {
      "cell_type": "code",
      "metadata": {
        "id": "uPp7bfp_bfxO",
        "colab_type": "code",
        "colab": {}
      },
      "source": [
        "# For illustration only. Sklearn has train_test_split()\n",
        "def split_train_test(prsadata, test_ratio):\n",
        "    shuffled_indices = np.random.permutation(len(prsadata))\n",
        "    test_set_size = int(len(prsadata) * test_ratio)\n",
        "    test_indices = shuffled_indices[:test_set_size]\n",
        "    train_indices = shuffled_indices[test_set_size:]\n",
        "    return prsadata.iloc[train_indices], prsadata.iloc[test_indices]"
      ],
      "execution_count": 0,
      "outputs": []
    },
    {
      "cell_type": "code",
      "metadata": {
        "id": "4bj3h_zXbuHX",
        "colab_type": "code",
        "outputId": "d24e47f7-3c1c-4f82-ca91-85123c8267b0",
        "colab": {
          "base_uri": "https://localhost:8080/",
          "height": 33
        }
      },
      "source": [
        "train_set, test_set = split_train_test(prsadata, 0.2)\n",
        "len(train_set)"
      ],
      "execution_count": 26,
      "outputs": [
        {
          "output_type": "execute_result",
          "data": {
            "text/plain": [
              "35060"
            ]
          },
          "metadata": {
            "tags": []
          },
          "execution_count": 26
        }
      ]
    },
    {
      "cell_type": "code",
      "metadata": {
        "id": "t4VAsYYnHSAF",
        "colab_type": "code",
        "colab": {
          "base_uri": "https://localhost:8080/",
          "height": 196
        },
        "outputId": "66b35238-b4df-4343-ef63-b87f1d7da31d"
      },
      "source": [
        "train_set.head()"
      ],
      "execution_count": 28,
      "outputs": [
        {
          "output_type": "execute_result",
          "data": {
            "text/html": [
              "<div>\n",
              "<style scoped>\n",
              "    .dataframe tbody tr th:only-of-type {\n",
              "        vertical-align: middle;\n",
              "    }\n",
              "\n",
              "    .dataframe tbody tr th {\n",
              "        vertical-align: top;\n",
              "    }\n",
              "\n",
              "    .dataframe thead th {\n",
              "        text-align: right;\n",
              "    }\n",
              "</style>\n",
              "<table border=\"1\" class=\"dataframe\">\n",
              "  <thead>\n",
              "    <tr style=\"text-align: right;\">\n",
              "      <th></th>\n",
              "      <th>year</th>\n",
              "      <th>month</th>\n",
              "      <th>day</th>\n",
              "      <th>hour</th>\n",
              "      <th>pm2.5</th>\n",
              "      <th>DEWP</th>\n",
              "      <th>TEMP</th>\n",
              "      <th>PRES</th>\n",
              "      <th>cbwd</th>\n",
              "      <th>Iws</th>\n",
              "      <th>Is</th>\n",
              "      <th>Ir</th>\n",
              "    </tr>\n",
              "  </thead>\n",
              "  <tbody>\n",
              "    <tr>\n",
              "      <th>15079</th>\n",
              "      <td>2011</td>\n",
              "      <td>9</td>\n",
              "      <td>21</td>\n",
              "      <td>7</td>\n",
              "      <td>58.0</td>\n",
              "      <td>8</td>\n",
              "      <td>12.0</td>\n",
              "      <td>1017.0</td>\n",
              "      <td>NW</td>\n",
              "      <td>14.76</td>\n",
              "      <td>0</td>\n",
              "      <td>0</td>\n",
              "    </tr>\n",
              "    <tr>\n",
              "      <th>6670</th>\n",
              "      <td>2010</td>\n",
              "      <td>10</td>\n",
              "      <td>5</td>\n",
              "      <td>22</td>\n",
              "      <td>152.0</td>\n",
              "      <td>13</td>\n",
              "      <td>16.0</td>\n",
              "      <td>1013.0</td>\n",
              "      <td>SE</td>\n",
              "      <td>1.79</td>\n",
              "      <td>0</td>\n",
              "      <td>0</td>\n",
              "    </tr>\n",
              "    <tr>\n",
              "      <th>23445</th>\n",
              "      <td>2012</td>\n",
              "      <td>9</td>\n",
              "      <td>3</td>\n",
              "      <td>21</td>\n",
              "      <td>9.0</td>\n",
              "      <td>8</td>\n",
              "      <td>16.0</td>\n",
              "      <td>1015.0</td>\n",
              "      <td>NW</td>\n",
              "      <td>66.15</td>\n",
              "      <td>0</td>\n",
              "      <td>0</td>\n",
              "    </tr>\n",
              "    <tr>\n",
              "      <th>24928</th>\n",
              "      <td>2012</td>\n",
              "      <td>11</td>\n",
              "      <td>4</td>\n",
              "      <td>16</td>\n",
              "      <td>23.0</td>\n",
              "      <td>0</td>\n",
              "      <td>4.0</td>\n",
              "      <td>1013.0</td>\n",
              "      <td>NW</td>\n",
              "      <td>200.74</td>\n",
              "      <td>0</td>\n",
              "      <td>31</td>\n",
              "    </tr>\n",
              "    <tr>\n",
              "      <th>1588</th>\n",
              "      <td>2010</td>\n",
              "      <td>3</td>\n",
              "      <td>8</td>\n",
              "      <td>4</td>\n",
              "      <td>63.0</td>\n",
              "      <td>-5</td>\n",
              "      <td>-4.0</td>\n",
              "      <td>1038.0</td>\n",
              "      <td>SE</td>\n",
              "      <td>10.29</td>\n",
              "      <td>3</td>\n",
              "      <td>0</td>\n",
              "    </tr>\n",
              "  </tbody>\n",
              "</table>\n",
              "</div>"
            ],
            "text/plain": [
              "       year  month  day  hour  pm2.5  DEWP  TEMP    PRES cbwd     Iws  Is  Ir\n",
              "15079  2011      9   21     7   58.0     8  12.0  1017.0   NW   14.76   0   0\n",
              "6670   2010     10    5    22  152.0    13  16.0  1013.0   SE    1.79   0   0\n",
              "23445  2012      9    3    21    9.0     8  16.0  1015.0   NW   66.15   0   0\n",
              "24928  2012     11    4    16   23.0     0   4.0  1013.0   NW  200.74   0  31\n",
              "1588   2010      3    8     4   63.0    -5  -4.0  1038.0   SE   10.29   3   0"
            ]
          },
          "metadata": {
            "tags": []
          },
          "execution_count": 28
        }
      ]
    },
    {
      "cell_type": "code",
      "metadata": {
        "id": "hAQFDTH_b-t-",
        "colab_type": "code",
        "outputId": "847be67e-fd19-4222-fc16-9a1f7e16e79b",
        "colab": {
          "base_uri": "https://localhost:8080/",
          "height": 33
        }
      },
      "source": [
        "len(test_set)"
      ],
      "execution_count": 29,
      "outputs": [
        {
          "output_type": "execute_result",
          "data": {
            "text/plain": [
              "8764"
            ]
          },
          "metadata": {
            "tags": []
          },
          "execution_count": 29
        }
      ]
    },
    {
      "cell_type": "code",
      "metadata": {
        "id": "zX1ohcWlc7xI",
        "colab_type": "code",
        "outputId": "550f08fa-3710-4b9a-ac2d-dcd75cf55087",
        "colab": {
          "base_uri": "https://localhost:8080/",
          "height": 196
        }
      },
      "source": [
        "test_set.head()"
      ],
      "execution_count": 32,
      "outputs": [
        {
          "output_type": "execute_result",
          "data": {
            "text/html": [
              "<div>\n",
              "<style scoped>\n",
              "    .dataframe tbody tr th:only-of-type {\n",
              "        vertical-align: middle;\n",
              "    }\n",
              "\n",
              "    .dataframe tbody tr th {\n",
              "        vertical-align: top;\n",
              "    }\n",
              "\n",
              "    .dataframe thead th {\n",
              "        text-align: right;\n",
              "    }\n",
              "</style>\n",
              "<table border=\"1\" class=\"dataframe\">\n",
              "  <thead>\n",
              "    <tr style=\"text-align: right;\">\n",
              "      <th></th>\n",
              "      <th>year</th>\n",
              "      <th>month</th>\n",
              "      <th>day</th>\n",
              "      <th>hour</th>\n",
              "      <th>pm2.5</th>\n",
              "      <th>DEWP</th>\n",
              "      <th>TEMP</th>\n",
              "      <th>PRES</th>\n",
              "      <th>cbwd</th>\n",
              "      <th>Iws</th>\n",
              "      <th>Is</th>\n",
              "      <th>Ir</th>\n",
              "    </tr>\n",
              "  </thead>\n",
              "  <tbody>\n",
              "    <tr>\n",
              "      <th>21656</th>\n",
              "      <td>2012</td>\n",
              "      <td>6</td>\n",
              "      <td>21</td>\n",
              "      <td>8</td>\n",
              "      <td>193.0</td>\n",
              "      <td>19</td>\n",
              "      <td>25.0</td>\n",
              "      <td>1005.0</td>\n",
              "      <td>cv</td>\n",
              "      <td>1.78</td>\n",
              "      <td>0</td>\n",
              "      <td>0</td>\n",
              "    </tr>\n",
              "    <tr>\n",
              "      <th>1570</th>\n",
              "      <td>2010</td>\n",
              "      <td>3</td>\n",
              "      <td>7</td>\n",
              "      <td>10</td>\n",
              "      <td>57.0</td>\n",
              "      <td>-10</td>\n",
              "      <td>-2.0</td>\n",
              "      <td>1035.0</td>\n",
              "      <td>SE</td>\n",
              "      <td>4.92</td>\n",
              "      <td>0</td>\n",
              "      <td>0</td>\n",
              "    </tr>\n",
              "    <tr>\n",
              "      <th>35359</th>\n",
              "      <td>2014</td>\n",
              "      <td>1</td>\n",
              "      <td>13</td>\n",
              "      <td>7</td>\n",
              "      <td>106.0</td>\n",
              "      <td>-19</td>\n",
              "      <td>-11.0</td>\n",
              "      <td>1033.0</td>\n",
              "      <td>NW</td>\n",
              "      <td>1.79</td>\n",
              "      <td>0</td>\n",
              "      <td>0</td>\n",
              "    </tr>\n",
              "    <tr>\n",
              "      <th>22943</th>\n",
              "      <td>2012</td>\n",
              "      <td>8</td>\n",
              "      <td>13</td>\n",
              "      <td>23</td>\n",
              "      <td>47.0</td>\n",
              "      <td>19</td>\n",
              "      <td>20.0</td>\n",
              "      <td>1009.0</td>\n",
              "      <td>SE</td>\n",
              "      <td>4.47</td>\n",
              "      <td>0</td>\n",
              "      <td>0</td>\n",
              "    </tr>\n",
              "    <tr>\n",
              "      <th>32622</th>\n",
              "      <td>2013</td>\n",
              "      <td>9</td>\n",
              "      <td>21</td>\n",
              "      <td>6</td>\n",
              "      <td>34.0</td>\n",
              "      <td>15</td>\n",
              "      <td>18.0</td>\n",
              "      <td>1016.0</td>\n",
              "      <td>cv</td>\n",
              "      <td>0.45</td>\n",
              "      <td>0</td>\n",
              "      <td>0</td>\n",
              "    </tr>\n",
              "  </tbody>\n",
              "</table>\n",
              "</div>"
            ],
            "text/plain": [
              "       year  month  day  hour  pm2.5  DEWP  TEMP    PRES cbwd   Iws  Is  Ir\n",
              "21656  2012      6   21     8  193.0    19  25.0  1005.0   cv  1.78   0   0\n",
              "1570   2010      3    7    10   57.0   -10  -2.0  1035.0   SE  4.92   0   0\n",
              "35359  2014      1   13     7  106.0   -19 -11.0  1033.0   NW  1.79   0   0\n",
              "22943  2012      8   13    23   47.0    19  20.0  1009.0   SE  4.47   0   0\n",
              "32622  2013      9   21     6   34.0    15  18.0  1016.0   cv  0.45   0   0"
            ]
          },
          "metadata": {
            "tags": []
          },
          "execution_count": 32
        }
      ]
    },
    {
      "cell_type": "code",
      "metadata": {
        "id": "NHc22QoDdEdm",
        "colab_type": "code",
        "colab": {}
      },
      "source": [
        "from sklearn.model_selection import train_test_split\n",
        "\n",
        "train_set, test_set = train_test_split(prsadata, test_size=0.2, random_state=42)"
      ],
      "execution_count": 0,
      "outputs": []
    },
    {
      "cell_type": "code",
      "metadata": {
        "id": "2vbJRnENIEPH",
        "colab_type": "code",
        "colab": {
          "base_uri": "https://localhost:8080/",
          "height": 33
        },
        "outputId": "ce3de7fe-a6b4-4562-9200-72f172987942"
      },
      "source": [
        "len(test_set)"
      ],
      "execution_count": 35,
      "outputs": [
        {
          "output_type": "execute_result",
          "data": {
            "text/plain": [
              "8765"
            ]
          },
          "metadata": {
            "tags": []
          },
          "execution_count": 35
        }
      ]
    },
    {
      "cell_type": "code",
      "metadata": {
        "id": "hL04P5-EIJ0A",
        "colab_type": "code",
        "colab": {
          "base_uri": "https://localhost:8080/",
          "height": 33
        },
        "outputId": "0efe1c98-9c2d-4605-fa82-888314c5e7d9"
      },
      "source": [
        "len(train_set)"
      ],
      "execution_count": 36,
      "outputs": [
        {
          "output_type": "execute_result",
          "data": {
            "text/plain": [
              "35059"
            ]
          },
          "metadata": {
            "tags": []
          },
          "execution_count": 36
        }
      ]
    },
    {
      "cell_type": "code",
      "metadata": {
        "id": "3ZPXynCmdNVo",
        "colab_type": "code",
        "outputId": "8ccb31de-b507-40b5-fba6-0d375be3f00f",
        "colab": {
          "base_uri": "https://localhost:8080/",
          "height": 196
        }
      },
      "source": [
        "test_set.head()"
      ],
      "execution_count": 37,
      "outputs": [
        {
          "output_type": "execute_result",
          "data": {
            "text/html": [
              "<div>\n",
              "<style scoped>\n",
              "    .dataframe tbody tr th:only-of-type {\n",
              "        vertical-align: middle;\n",
              "    }\n",
              "\n",
              "    .dataframe tbody tr th {\n",
              "        vertical-align: top;\n",
              "    }\n",
              "\n",
              "    .dataframe thead th {\n",
              "        text-align: right;\n",
              "    }\n",
              "</style>\n",
              "<table border=\"1\" class=\"dataframe\">\n",
              "  <thead>\n",
              "    <tr style=\"text-align: right;\">\n",
              "      <th></th>\n",
              "      <th>year</th>\n",
              "      <th>month</th>\n",
              "      <th>day</th>\n",
              "      <th>hour</th>\n",
              "      <th>pm2.5</th>\n",
              "      <th>DEWP</th>\n",
              "      <th>TEMP</th>\n",
              "      <th>PRES</th>\n",
              "      <th>cbwd</th>\n",
              "      <th>Iws</th>\n",
              "      <th>Is</th>\n",
              "      <th>Ir</th>\n",
              "    </tr>\n",
              "  </thead>\n",
              "  <tbody>\n",
              "    <tr>\n",
              "      <th>21656</th>\n",
              "      <td>2012</td>\n",
              "      <td>6</td>\n",
              "      <td>21</td>\n",
              "      <td>8</td>\n",
              "      <td>193.0</td>\n",
              "      <td>19</td>\n",
              "      <td>25.0</td>\n",
              "      <td>1005.0</td>\n",
              "      <td>cv</td>\n",
              "      <td>1.78</td>\n",
              "      <td>0</td>\n",
              "      <td>0</td>\n",
              "    </tr>\n",
              "    <tr>\n",
              "      <th>1570</th>\n",
              "      <td>2010</td>\n",
              "      <td>3</td>\n",
              "      <td>7</td>\n",
              "      <td>10</td>\n",
              "      <td>57.0</td>\n",
              "      <td>-10</td>\n",
              "      <td>-2.0</td>\n",
              "      <td>1035.0</td>\n",
              "      <td>SE</td>\n",
              "      <td>4.92</td>\n",
              "      <td>0</td>\n",
              "      <td>0</td>\n",
              "    </tr>\n",
              "    <tr>\n",
              "      <th>35359</th>\n",
              "      <td>2014</td>\n",
              "      <td>1</td>\n",
              "      <td>13</td>\n",
              "      <td>7</td>\n",
              "      <td>106.0</td>\n",
              "      <td>-19</td>\n",
              "      <td>-11.0</td>\n",
              "      <td>1033.0</td>\n",
              "      <td>NW</td>\n",
              "      <td>1.79</td>\n",
              "      <td>0</td>\n",
              "      <td>0</td>\n",
              "    </tr>\n",
              "    <tr>\n",
              "      <th>22943</th>\n",
              "      <td>2012</td>\n",
              "      <td>8</td>\n",
              "      <td>13</td>\n",
              "      <td>23</td>\n",
              "      <td>47.0</td>\n",
              "      <td>19</td>\n",
              "      <td>20.0</td>\n",
              "      <td>1009.0</td>\n",
              "      <td>SE</td>\n",
              "      <td>4.47</td>\n",
              "      <td>0</td>\n",
              "      <td>0</td>\n",
              "    </tr>\n",
              "    <tr>\n",
              "      <th>32622</th>\n",
              "      <td>2013</td>\n",
              "      <td>9</td>\n",
              "      <td>21</td>\n",
              "      <td>6</td>\n",
              "      <td>34.0</td>\n",
              "      <td>15</td>\n",
              "      <td>18.0</td>\n",
              "      <td>1016.0</td>\n",
              "      <td>cv</td>\n",
              "      <td>0.45</td>\n",
              "      <td>0</td>\n",
              "      <td>0</td>\n",
              "    </tr>\n",
              "  </tbody>\n",
              "</table>\n",
              "</div>"
            ],
            "text/plain": [
              "       year  month  day  hour  pm2.5  DEWP  TEMP    PRES cbwd   Iws  Is  Ir\n",
              "21656  2012      6   21     8  193.0    19  25.0  1005.0   cv  1.78   0   0\n",
              "1570   2010      3    7    10   57.0   -10  -2.0  1035.0   SE  4.92   0   0\n",
              "35359  2014      1   13     7  106.0   -19 -11.0  1033.0   NW  1.79   0   0\n",
              "22943  2012      8   13    23   47.0    19  20.0  1009.0   SE  4.47   0   0\n",
              "32622  2013      9   21     6   34.0    15  18.0  1016.0   cv  0.45   0   0"
            ]
          },
          "metadata": {
            "tags": []
          },
          "execution_count": 37
        }
      ]
    },
    {
      "cell_type": "code",
      "metadata": {
        "id": "DCo8mNowj4R_",
        "colab_type": "code",
        "outputId": "b08897eb-cca8-4409-f55d-5d13c9676cee",
        "colab": {
          "base_uri": "https://localhost:8080/",
          "height": 100
        }
      },
      "source": [
        "prsadata[\"cbwd\"].value_counts()"
      ],
      "execution_count": 39,
      "outputs": [
        {
          "output_type": "execute_result",
          "data": {
            "text/plain": [
              "SE    15290\n",
              "NW    14150\n",
              "cv     9387\n",
              "NE     4997\n",
              "Name: cbwd, dtype: int64"
            ]
          },
          "metadata": {
            "tags": []
          },
          "execution_count": 39
        }
      ]
    },
    {
      "cell_type": "markdown",
      "metadata": {
        "id": "EeBlxfiEtNZK",
        "colab_type": "text"
      },
      "source": [
        "**Prepare the data for Machine Learning algorithms**"
      ]
    },
    {
      "cell_type": "code",
      "metadata": {
        "id": "noNo5SVnzrQn",
        "colab_type": "code",
        "colab": {}
      },
      "source": [
        "from sklearn.impute import SimpleImputer\n",
        "imputer = SimpleImputer(strategy=\"median\")"
      ],
      "execution_count": 0,
      "outputs": []
    },
    {
      "cell_type": "code",
      "metadata": {
        "id": "Hh0_uamwzMsq",
        "colab_type": "code",
        "colab": {}
      },
      "source": [
        "from sklearn.pipeline import Pipeline\n",
        "from sklearn.preprocessing import StandardScaler\n",
        "\n",
        "num_pipeline = Pipeline([\n",
        "        ('imputer', SimpleImputer(strategy=\"median\")),\n",
        "        ('std_scaler', StandardScaler()),\n",
        "    ])\n",
        "\n",
        "winedata_tr = num_pipeline.fit_transform(winedata)"
      ],
      "execution_count": 0,
      "outputs": []
    },
    {
      "cell_type": "code",
      "metadata": {
        "id": "ZjthhXw_0jXi",
        "colab_type": "code",
        "outputId": "cb0f55d9-9312-4d44-9e39-1b36ea4afa96",
        "colab": {
          "base_uri": "https://localhost:8080/",
          "height": 235
        }
      },
      "source": [
        "winedata_tr"
      ],
      "execution_count": 0,
      "outputs": [
        {
          "output_type": "execute_result",
          "data": {
            "text/plain": [
              "array([[ 0.08219607, -0.89731569, -0.81914347, ...,  1.24351186,\n",
              "         0.177971  , -1.08540137],\n",
              "       [ 1.37906732,  0.5044177 ,  1.46878676, ..., -1.18139104,\n",
              "        -1.47141066, -0.00878267],\n",
              "       [ 0.08219607, -1.06148266, -0.63610905, ...,  1.70104071,\n",
              "        -0.49296391, -0.86138443],\n",
              "       ...,\n",
              "       [-1.21467519,  1.52730423,  1.58775913, ..., -0.403592  ,\n",
              "         1.00266183,  1.09458432],\n",
              "       [ 1.37906732, -0.16487842,  2.10940723, ..., -1.91343721,\n",
              "        -1.05207634, -0.42672471],\n",
              "       [-1.21467519, -0.08910905,  1.36811783, ...,  0.32845416,\n",
              "         1.26824023,  0.05808806]])"
            ]
          },
          "metadata": {
            "tags": []
          },
          "execution_count": 175
        }
      ]
    },
    {
      "cell_type": "code",
      "metadata": {
        "id": "18kB3pi50vxe",
        "colab_type": "code",
        "colab": {}
      },
      "source": [
        "from sklearn.compose import ColumnTransformer\n",
        "\n",
        "num_attribs = list(winedata)\n",
        "\n",
        "full_pipeline = ColumnTransformer([\n",
        "        (\"num\", num_pipeline, num_attribs),\n",
        "    ])\n",
        "\n",
        "winedata_prepared = full_pipeline.fit_transform(winedata)"
      ],
      "execution_count": 0,
      "outputs": []
    },
    {
      "cell_type": "code",
      "metadata": {
        "id": "QcUgdJo10-ih",
        "colab_type": "code",
        "outputId": "642f28b0-e667-413c-8cdf-fee9e566bf8b",
        "colab": {
          "base_uri": "https://localhost:8080/",
          "height": 235
        }
      },
      "source": [
        "winedata_prepared"
      ],
      "execution_count": 0,
      "outputs": [
        {
          "output_type": "execute_result",
          "data": {
            "text/plain": [
              "array([[ 0.08219607, -0.89731569, -0.81914347, ...,  1.24351186,\n",
              "         0.177971  , -1.08540137],\n",
              "       [ 1.37906732,  0.5044177 ,  1.46878676, ..., -1.18139104,\n",
              "        -1.47141066, -0.00878267],\n",
              "       [ 0.08219607, -1.06148266, -0.63610905, ...,  1.70104071,\n",
              "        -0.49296391, -0.86138443],\n",
              "       ...,\n",
              "       [-1.21467519,  1.52730423,  1.58775913, ..., -0.403592  ,\n",
              "         1.00266183,  1.09458432],\n",
              "       [ 1.37906732, -0.16487842,  2.10940723, ..., -1.91343721,\n",
              "        -1.05207634, -0.42672471],\n",
              "       [-1.21467519, -0.08910905,  1.36811783, ...,  0.32845416,\n",
              "         1.26824023,  0.05808806]])"
            ]
          },
          "metadata": {
            "tags": []
          },
          "execution_count": 87
        }
      ]
    },
    {
      "cell_type": "code",
      "metadata": {
        "id": "WkWiX_lR1FVj",
        "colab_type": "code",
        "outputId": "ced82558-be7d-49c4-abd8-71650794260f",
        "colab": {
          "base_uri": "https://localhost:8080/",
          "height": 34
        }
      },
      "source": [
        "winedata_prepared.shape"
      ],
      "execution_count": 0,
      "outputs": [
        {
          "output_type": "execute_result",
          "data": {
            "text/plain": [
              "(142, 14)"
            ]
          },
          "metadata": {
            "tags": []
          },
          "execution_count": 88
        }
      ]
    },
    {
      "cell_type": "code",
      "metadata": {
        "id": "XfOM3taF1bDY",
        "colab_type": "code",
        "colab": {}
      },
      "source": [
        "from sklearn.base import BaseEstimator, TransformerMixin\n",
        "\n",
        "# Create a class to select numerical or categorical columns \n",
        "class OldDataFrameSelector(BaseEstimator, TransformerMixin):\n",
        "    def __init__(self, attribute_names):\n",
        "        self.attribute_names = attribute_names\n",
        "    def fit(self, X, y=None):\n",
        "        return self\n",
        "    def transform(self, X):\n",
        "        return X[self.attribute_names].values"
      ],
      "execution_count": 0,
      "outputs": []
    },
    {
      "cell_type": "code",
      "metadata": {
        "id": "NWfkfOic1dWC",
        "colab_type": "code",
        "colab": {}
      },
      "source": [
        "num_attribs = list(winedata)\n",
        "\n",
        "old_num_pipeline = Pipeline([\n",
        "        ('selector', OldDataFrameSelector(num_attribs)),\n",
        "        ('imputer', SimpleImputer(strategy=\"median\")),\n",
        "        ('std_scaler', StandardScaler()),\n",
        "    ])"
      ],
      "execution_count": 0,
      "outputs": []
    },
    {
      "cell_type": "code",
      "metadata": {
        "id": "cFgDFpma1r7q",
        "colab_type": "code",
        "colab": {}
      },
      "source": [
        "from sklearn.pipeline import FeatureUnion\n",
        "\n",
        "old_full_pipeline = FeatureUnion(transformer_list=[\n",
        "        (\"num_pipeline\", old_num_pipeline)\n",
        "    ])"
      ],
      "execution_count": 0,
      "outputs": []
    },
    {
      "cell_type": "code",
      "metadata": {
        "id": "zznyvW6Y1yB_",
        "colab_type": "code",
        "outputId": "089843d9-bcd2-4229-b196-4e2c0d79d0da",
        "colab": {
          "base_uri": "https://localhost:8080/",
          "height": 235
        }
      },
      "source": [
        "old_housing_prepared = old_full_pipeline.fit_transform(winedata)\n",
        "old_housing_prepared"
      ],
      "execution_count": 0,
      "outputs": [
        {
          "output_type": "execute_result",
          "data": {
            "text/plain": [
              "array([[ 0.08219607, -0.89731569, -0.81914347, ...,  1.24351186,\n",
              "         0.177971  , -1.08540137],\n",
              "       [ 1.37906732,  0.5044177 ,  1.46878676, ..., -1.18139104,\n",
              "        -1.47141066, -0.00878267],\n",
              "       [ 0.08219607, -1.06148266, -0.63610905, ...,  1.70104071,\n",
              "        -0.49296391, -0.86138443],\n",
              "       ...,\n",
              "       [-1.21467519,  1.52730423,  1.58775913, ..., -0.403592  ,\n",
              "         1.00266183,  1.09458432],\n",
              "       [ 1.37906732, -0.16487842,  2.10940723, ..., -1.91343721,\n",
              "        -1.05207634, -0.42672471],\n",
              "       [-1.21467519, -0.08910905,  1.36811783, ...,  0.32845416,\n",
              "         1.26824023,  0.05808806]])"
            ]
          },
          "metadata": {
            "tags": []
          },
          "execution_count": 92
        }
      ]
    },
    {
      "cell_type": "code",
      "metadata": {
        "id": "e4ktka_82HkM",
        "colab_type": "code",
        "outputId": "d10e79eb-d1e3-46df-acb6-90740ebcd4d3",
        "colab": {
          "base_uri": "https://localhost:8080/",
          "height": 34
        }
      },
      "source": [
        "np.allclose(winedata_prepared, old_housing_prepared)"
      ],
      "execution_count": 0,
      "outputs": [
        {
          "output_type": "execute_result",
          "data": {
            "text/plain": [
              "True"
            ]
          },
          "metadata": {
            "tags": []
          },
          "execution_count": 93
        }
      ]
    },
    {
      "cell_type": "markdown",
      "metadata": {
        "id": "Izry-PFs2ae6",
        "colab_type": "text"
      },
      "source": [
        "**Select and train a model**"
      ]
    },
    {
      "cell_type": "code",
      "metadata": {
        "id": "qz1rDcoQ2eAS",
        "colab_type": "code",
        "colab": {}
      },
      "source": [
        "housing = strat_train_set.drop(\"Flavanoids\", axis=1) # drop labels for training set\n",
        "housing_labels = strat_train_set[\"Flavanoids\"].copy()"
      ],
      "execution_count": 0,
      "outputs": []
    },
    {
      "cell_type": "code",
      "metadata": {
        "id": "7i6xZTsI24Gy",
        "colab_type": "code",
        "outputId": "1c5e5cec-73c4-471d-97cc-9166c08b39a2",
        "colab": {
          "base_uri": "https://localhost:8080/",
          "height": 34
        }
      },
      "source": [
        "from sklearn.linear_model import LinearRegression\n",
        "\n",
        "lin_reg = LinearRegression()\n",
        "lin_reg.fit(winedata_prepared, housing_labels)"
      ],
      "execution_count": 0,
      "outputs": [
        {
          "output_type": "execute_result",
          "data": {
            "text/plain": [
              "LinearRegression(copy_X=True, fit_intercept=True, n_jobs=None, normalize=False)"
            ]
          },
          "metadata": {
            "tags": []
          },
          "execution_count": 95
        }
      ]
    },
    {
      "cell_type": "code",
      "metadata": {
        "id": "DDJJ0uD-3GJN",
        "colab_type": "code",
        "outputId": "ffa5bbdd-baa3-4019-db5b-3c366637fe1d",
        "colab": {
          "base_uri": "https://localhost:8080/",
          "height": 34
        }
      },
      "source": [
        "some_data = winedata.iloc[:5]\n",
        "some_labels = housing_labels.iloc[:5]\n",
        "some_data_prepared = full_pipeline.transform(some_data)\n",
        "\n",
        "print(\"Predictions:\", lin_reg.predict(some_data_prepared))"
      ],
      "execution_count": 0,
      "outputs": [
        {
          "output_type": "stream",
          "text": [
            "Predictions: [2.5  0.75 1.69 0.55 5.08]\n"
          ],
          "name": "stdout"
        }
      ]
    },
    {
      "cell_type": "code",
      "metadata": {
        "id": "BDkcvl3w3YUg",
        "colab_type": "code",
        "outputId": "2c8ff64e-cac7-444f-b78d-ac58dcb817aa",
        "colab": {
          "base_uri": "https://localhost:8080/",
          "height": 34
        }
      },
      "source": [
        "print(\"Labels:\", list(some_labels))"
      ],
      "execution_count": 0,
      "outputs": [
        {
          "output_type": "stream",
          "text": [
            "Labels: [2.5, 0.75, 1.69, 0.55, 5.08]\n"
          ],
          "name": "stdout"
        }
      ]
    },
    {
      "cell_type": "code",
      "metadata": {
        "id": "lR6ck1uk3dbV",
        "colab_type": "code",
        "outputId": "09b21739-2283-4a08-bc3e-7e1c02e33f73",
        "colab": {
          "base_uri": "https://localhost:8080/",
          "height": 269
        }
      },
      "source": [
        "some_data_prepared"
      ],
      "execution_count": 0,
      "outputs": [
        {
          "output_type": "execute_result",
          "data": {
            "text/plain": [
              "array([[ 0.08219607, -0.89731569, -0.81914347, -1.35145288, -1.0484339 ,\n",
              "        -1.02005748,  0.43052704,  0.48249593, -0.53570808,  0.3030777 ,\n",
              "        -0.95039067,  1.24351186,  0.177971  , -1.08540137],\n",
              "       [ 1.37906732,  0.5044177 ,  1.46878676,  0.3843133 ,  1.0805616 ,\n",
              "         0.12100775, -0.76165002, -1.27068784,  0.58533156, -0.30641608,\n",
              "         1.00458429, -1.18139104, -1.47141066, -0.00878267],\n",
              "       [ 0.08219607, -1.06148266, -0.63610905, -0.2058472 ,  1.01973316,\n",
              "        -0.68445006, -0.79344141, -0.3289777 ,  0.58533156, -0.05246034,\n",
              "        -1.15033129,  1.70104071, -0.49296391, -0.86138443],\n",
              "       [ 1.37906732,  0.20134021,  1.15762825, -0.76129238,  0.47227717,\n",
              "         0.12100775, -1.23852084, -1.4710517 ,  0.58533156, -0.49265029,\n",
              "        -0.46164693, -1.6389199 , -1.30367693,  0.25870024],\n",
              "       [ 0.08219607, -1.81917639, -0.23343333,  2.98796256,  2.75334377,\n",
              "         1.26207297,  1.43195577,  3.0671897 ,  0.9056286 ,  0.47238152,\n",
              "         0.42697805, -0.12907469,  1.50586301, -0.96169052]])"
            ]
          },
          "metadata": {
            "tags": []
          },
          "execution_count": 98
        }
      ]
    },
    {
      "cell_type": "code",
      "metadata": {
        "id": "4rIqvlut3kzg",
        "colab_type": "code",
        "outputId": "a97e730a-9ef9-4ddd-d7b5-513b97f9a4c4",
        "colab": {
          "base_uri": "https://localhost:8080/",
          "height": 34
        }
      },
      "source": [
        "from sklearn.metrics import mean_squared_error\n",
        "\n",
        "housing_predictions = lin_reg.predict(winedata_prepared)\n",
        "lin_mse = mean_squared_error(housing_labels, housing_predictions)\n",
        "lin_rmse = np.sqrt(lin_mse)\n",
        "lin_rmse"
      ],
      "execution_count": 0,
      "outputs": [
        {
          "output_type": "execute_result",
          "data": {
            "text/plain": [
              "8.025965219944837e-16"
            ]
          },
          "metadata": {
            "tags": []
          },
          "execution_count": 99
        }
      ]
    },
    {
      "cell_type": "code",
      "metadata": {
        "id": "EtOVej3a3seu",
        "colab_type": "code",
        "outputId": "017f8abb-d7c2-40da-f1ec-d03c1ca817f5",
        "colab": {
          "base_uri": "https://localhost:8080/",
          "height": 34
        }
      },
      "source": [
        "from sklearn.metrics import mean_absolute_error\n",
        "\n",
        "lin_mae = mean_absolute_error(housing_labels, housing_predictions)\n",
        "lin_mae"
      ],
      "execution_count": 0,
      "outputs": [
        {
          "output_type": "execute_result",
          "data": {
            "text/plain": [
              "6.528424123676096e-16"
            ]
          },
          "metadata": {
            "tags": []
          },
          "execution_count": 100
        }
      ]
    },
    {
      "cell_type": "code",
      "metadata": {
        "id": "LfR-8gkX3yF0",
        "colab_type": "code",
        "outputId": "f9a5f6d7-c32b-4225-825f-b9d548135476",
        "colab": {
          "base_uri": "https://localhost:8080/",
          "height": 118
        }
      },
      "source": [
        "from sklearn.tree import DecisionTreeRegressor\n",
        "\n",
        "tree_reg = DecisionTreeRegressor(random_state=42)\n",
        "tree_reg.fit(winedata_prepared, housing_labels)"
      ],
      "execution_count": 0,
      "outputs": [
        {
          "output_type": "execute_result",
          "data": {
            "text/plain": [
              "DecisionTreeRegressor(ccp_alpha=0.0, criterion='mse', max_depth=None,\n",
              "                      max_features=None, max_leaf_nodes=None,\n",
              "                      min_impurity_decrease=0.0, min_impurity_split=None,\n",
              "                      min_samples_leaf=1, min_samples_split=2,\n",
              "                      min_weight_fraction_leaf=0.0, presort='deprecated',\n",
              "                      random_state=42, splitter='best')"
            ]
          },
          "metadata": {
            "tags": []
          },
          "execution_count": 101
        }
      ]
    },
    {
      "cell_type": "code",
      "metadata": {
        "id": "tn8aQF4u337V",
        "colab_type": "code",
        "outputId": "4548dd95-8a5b-4dc7-9dba-fab81ea28c07",
        "colab": {
          "base_uri": "https://localhost:8080/",
          "height": 34
        }
      },
      "source": [
        "housing_predictions = tree_reg.predict(winedata_prepared)\n",
        "tree_mse = mean_squared_error(housing_labels, housing_predictions)\n",
        "tree_rmse = np.sqrt(tree_mse)\n",
        "tree_rmse"
      ],
      "execution_count": 0,
      "outputs": [
        {
          "output_type": "execute_result",
          "data": {
            "text/plain": [
              "0.0"
            ]
          },
          "metadata": {
            "tags": []
          },
          "execution_count": 102
        }
      ]
    },
    {
      "cell_type": "markdown",
      "metadata": {
        "id": "tp4ouKhh6ynH",
        "colab_type": "text"
      },
      "source": [
        "**Fine-tune your model**"
      ]
    },
    {
      "cell_type": "code",
      "metadata": {
        "id": "9xijTtnk8sWG",
        "colab_type": "code",
        "colab": {}
      },
      "source": [
        "from sklearn.model_selection import cross_val_score\n",
        "\n",
        "scores = cross_val_score(tree_reg, winedata_prepared, housing_labels,\n",
        "                         scoring=\"neg_mean_squared_error\", cv=10)\n",
        "tree_rmse_scores = np.sqrt(-scores)"
      ],
      "execution_count": 0,
      "outputs": []
    },
    {
      "cell_type": "code",
      "metadata": {
        "id": "azBdKox68yya",
        "colab_type": "code",
        "outputId": "2bf18983-fe4b-4af4-ef83-44a6d732e1a0",
        "colab": {
          "base_uri": "https://localhost:8080/",
          "height": 84
        }
      },
      "source": [
        "def display_scores(scores):\n",
        "    print(\"Scores:\", scores)\n",
        "    print(\"Mean:\", scores.mean())\n",
        "    print(\"Standard deviation:\", scores.std())\n",
        "\n",
        "display_scores(tree_rmse_scores)"
      ],
      "execution_count": 0,
      "outputs": [
        {
          "output_type": "stream",
          "text": [
            "Scores: [0.34903677 0.08274459 0.04157609 0.03741657 0.04605897 0.06296257\n",
            " 0.04342481 0.05070926 0.54960375 0.05867587]\n",
            "Mean: 0.13222092505522864\n",
            "Standard deviation: 0.16523564220146356\n"
          ],
          "name": "stdout"
        }
      ]
    },
    {
      "cell_type": "code",
      "metadata": {
        "id": "VKBlnZXN833v",
        "colab_type": "code",
        "outputId": "d4846828-5f68-40f4-ae81-8ab706a05076",
        "colab": {
          "base_uri": "https://localhost:8080/",
          "height": 101
        }
      },
      "source": [
        "lin_scores = cross_val_score(lin_reg, winedata_prepared, housing_labels,\n",
        "                             scoring=\"neg_mean_squared_error\", cv=10)\n",
        "lin_rmse_scores = np.sqrt(-lin_scores)\n",
        "display_scores(lin_rmse_scores)"
      ],
      "execution_count": 0,
      "outputs": [
        {
          "output_type": "stream",
          "text": [
            "Scores: [6.81981849e-16 5.27014969e-16 7.33443758e-16 1.01233139e-15\n",
            " 8.88673917e-16 5.50332845e-16 6.88235943e-16 1.57065311e-15\n",
            " 7.62286414e-16 6.42588033e-16]\n",
            "Mean: 8.057542220497919e-16\n",
            "Standard deviation: 2.899012520785639e-16\n"
          ],
          "name": "stdout"
        }
      ]
    },
    {
      "cell_type": "markdown",
      "metadata": {
        "id": "GhXgcpFq9OwD",
        "colab_type": "text"
      },
      "source": [
        "Note: we specify n_estimators=100 to be future-proof since the default value is going to change to 100 in Scikit-Learn 0.22 (for simplicity, this is not shown in the book).\n"
      ]
    },
    {
      "cell_type": "code",
      "metadata": {
        "id": "L7RqisLD9TCR",
        "colab_type": "code",
        "outputId": "f6071c61-c1ed-4266-bc98-035e1aedbcd2",
        "colab": {
          "base_uri": "https://localhost:8080/",
          "height": 134
        }
      },
      "source": [
        "from sklearn.ensemble import RandomForestRegressor\n",
        "\n",
        "forest_reg = RandomForestRegressor(n_estimators=100, random_state=42)\n",
        "forest_reg.fit(winedata_prepared, housing_labels)"
      ],
      "execution_count": 0,
      "outputs": [
        {
          "output_type": "execute_result",
          "data": {
            "text/plain": [
              "RandomForestRegressor(bootstrap=True, ccp_alpha=0.0, criterion='mse',\n",
              "                      max_depth=None, max_features='auto', max_leaf_nodes=None,\n",
              "                      max_samples=None, min_impurity_decrease=0.0,\n",
              "                      min_impurity_split=None, min_samples_leaf=1,\n",
              "                      min_samples_split=2, min_weight_fraction_leaf=0.0,\n",
              "                      n_estimators=100, n_jobs=None, oob_score=False,\n",
              "                      random_state=42, verbose=0, warm_start=False)"
            ]
          },
          "metadata": {
            "tags": []
          },
          "execution_count": 106
        }
      ]
    },
    {
      "cell_type": "code",
      "metadata": {
        "id": "WNV18u2U9dIF",
        "colab_type": "code",
        "outputId": "9dc016a5-667c-433c-86c0-4fac9c1c6b5a",
        "colab": {
          "base_uri": "https://localhost:8080/",
          "height": 34
        }
      },
      "source": [
        "winedata_predictions = forest_reg.predict(winedata_prepared)\n",
        "forest_mse = mean_squared_error(housing_labels, winedata_predictions)\n",
        "forest_rmse = np.sqrt(forest_mse)\n",
        "forest_rmse"
      ],
      "execution_count": 0,
      "outputs": [
        {
          "output_type": "execute_result",
          "data": {
            "text/plain": [
              "0.05431765075091705"
            ]
          },
          "metadata": {
            "tags": []
          },
          "execution_count": 107
        }
      ]
    },
    {
      "cell_type": "code",
      "metadata": {
        "id": "LA1t3vh-9oVT",
        "colab_type": "code",
        "outputId": "446f82e7-3b14-4d02-8bf3-3e881b5a05a1",
        "colab": {
          "base_uri": "https://localhost:8080/",
          "height": 84
        }
      },
      "source": [
        "from sklearn.model_selection import cross_val_score\n",
        "\n",
        "forest_scores = cross_val_score(forest_reg, winedata_prepared, housing_labels,\n",
        "                                scoring=\"neg_mean_squared_error\", cv=10)\n",
        "forest_rmse_scores = np.sqrt(-forest_scores)\n",
        "display_scores(forest_rmse_scores)"
      ],
      "execution_count": 0,
      "outputs": [
        {
          "output_type": "stream",
          "text": [
            "Scores: [0.38943195 0.04930446 0.05815842 0.03187366 0.12260187 0.04116015\n",
            " 0.03115978 0.02402482 0.11940137 0.05872933]\n",
            "Mean: 0.0925845814724964\n",
            "Standard deviation: 0.10428172559279168\n"
          ],
          "name": "stdout"
        }
      ]
    },
    {
      "cell_type": "code",
      "metadata": {
        "id": "5RBH7URX9yct",
        "colab_type": "code",
        "outputId": "214458b5-43be-4b9b-888e-90e8a1b3f52e",
        "colab": {
          "base_uri": "https://localhost:8080/",
          "height": 168
        }
      },
      "source": [
        "scores = cross_val_score(lin_reg, winedata_prepared, housing_labels, scoring=\"neg_mean_squared_error\", cv=10)\n",
        "pd.Series(np.sqrt(-scores)).describe()"
      ],
      "execution_count": 0,
      "outputs": [
        {
          "output_type": "execute_result",
          "data": {
            "text/plain": [
              "count    1.000000e+01\n",
              "mean     8.057542e-16\n",
              "std      3.055828e-16\n",
              "min      5.270150e-16\n",
              "25%      6.524365e-16\n",
              "50%      7.108399e-16\n",
              "75%      8.570770e-16\n",
              "max      1.570653e-15\n",
              "dtype: float64"
            ]
          },
          "metadata": {
            "tags": []
          },
          "execution_count": 109
        }
      ]
    },
    {
      "cell_type": "code",
      "metadata": {
        "id": "Q2L5pD4P94c4",
        "colab_type": "code",
        "outputId": "df694792-c606-47af-f96c-fd9967a05ebd",
        "colab": {
          "base_uri": "https://localhost:8080/",
          "height": 34
        }
      },
      "source": [
        "from sklearn.svm import SVR\n",
        "\n",
        "svm_reg = SVR(kernel=\"linear\")\n",
        "svm_reg.fit(winedata_prepared, housing_labels)\n",
        "housing_predictions = svm_reg.predict(winedata_prepared)\n",
        "svm_mse = mean_squared_error(housing_labels, winedata_predictions)\n",
        "svm_rmse = np.sqrt(svm_mse)\n",
        "svm_rmse"
      ],
      "execution_count": 0,
      "outputs": [
        {
          "output_type": "execute_result",
          "data": {
            "text/plain": [
              "0.05431765075091705"
            ]
          },
          "metadata": {
            "tags": []
          },
          "execution_count": 110
        }
      ]
    },
    {
      "cell_type": "code",
      "metadata": {
        "id": "MbCQ80B5-EqV",
        "colab_type": "code",
        "outputId": "1fc27617-41ec-4354-8149-912d956d4389",
        "colab": {
          "base_uri": "https://localhost:8080/",
          "height": 370
        }
      },
      "source": [
        "from sklearn.model_selection import GridSearchCV\n",
        "\n",
        "param_grid = [\n",
        "    # try 12 (3×4) combinations of hyperparameters\n",
        "    {'n_estimators': [3, 10, 30], 'max_features': [2, 4, 6, 8]},\n",
        "    # then try 6 (2×3) combinations with bootstrap set as False\n",
        "    {'bootstrap': [False], 'n_estimators': [3, 10], 'max_features': [2, 3, 4]},\n",
        "  ]\n",
        "\n",
        "forest_reg = RandomForestRegressor(random_state=42)\n",
        "# train across 5 folds, that's a total of (12+6)*5=90 rounds of training \n",
        "grid_search = GridSearchCV(forest_reg, param_grid, cv=5,\n",
        "                           scoring='neg_mean_squared_error',\n",
        "                           return_train_score=True)\n",
        "grid_search.fit(winedata_prepared, housing_labels)"
      ],
      "execution_count": 0,
      "outputs": [
        {
          "output_type": "execute_result",
          "data": {
            "text/plain": [
              "GridSearchCV(cv=5, error_score=nan,\n",
              "             estimator=RandomForestRegressor(bootstrap=True, ccp_alpha=0.0,\n",
              "                                             criterion='mse', max_depth=None,\n",
              "                                             max_features='auto',\n",
              "                                             max_leaf_nodes=None,\n",
              "                                             max_samples=None,\n",
              "                                             min_impurity_decrease=0.0,\n",
              "                                             min_impurity_split=None,\n",
              "                                             min_samples_leaf=1,\n",
              "                                             min_samples_split=2,\n",
              "                                             min_weight_fraction_leaf=0.0,\n",
              "                                             n_estimators=100, n_jobs=None,\n",
              "                                             oob_score=False, random_state=42,\n",
              "                                             verbose=0, warm_start=False),\n",
              "             iid='deprecated', n_jobs=None,\n",
              "             param_grid=[{'max_features': [2, 4, 6, 8],\n",
              "                          'n_estimators': [3, 10, 30]},\n",
              "                         {'bootstrap': [False], 'max_features': [2, 3, 4],\n",
              "                          'n_estimators': [3, 10]}],\n",
              "             pre_dispatch='2*n_jobs', refit=True, return_train_score=True,\n",
              "             scoring='neg_mean_squared_error', verbose=0)"
            ]
          },
          "metadata": {
            "tags": []
          },
          "execution_count": 111
        }
      ]
    },
    {
      "cell_type": "code",
      "metadata": {
        "id": "SFNFYvuL-M20",
        "colab_type": "code",
        "outputId": "23df1bdb-ca28-4e9a-b68a-b2b7a57ad0f7",
        "colab": {
          "base_uri": "https://localhost:8080/",
          "height": 34
        }
      },
      "source": [
        "grid_search.best_params_"
      ],
      "execution_count": 0,
      "outputs": [
        {
          "output_type": "execute_result",
          "data": {
            "text/plain": [
              "{'max_features': 8, 'n_estimators': 30}"
            ]
          },
          "metadata": {
            "tags": []
          },
          "execution_count": 112
        }
      ]
    },
    {
      "cell_type": "code",
      "metadata": {
        "id": "IQsR1yRE-QuS",
        "colab_type": "code",
        "outputId": "1b4ea805-78b3-40af-e0e0-753db807c873",
        "colab": {
          "base_uri": "https://localhost:8080/",
          "height": 134
        }
      },
      "source": [
        "grid_search.best_estimator_"
      ],
      "execution_count": 0,
      "outputs": [
        {
          "output_type": "execute_result",
          "data": {
            "text/plain": [
              "RandomForestRegressor(bootstrap=True, ccp_alpha=0.0, criterion='mse',\n",
              "                      max_depth=None, max_features=8, max_leaf_nodes=None,\n",
              "                      max_samples=None, min_impurity_decrease=0.0,\n",
              "                      min_impurity_split=None, min_samples_leaf=1,\n",
              "                      min_samples_split=2, min_weight_fraction_leaf=0.0,\n",
              "                      n_estimators=30, n_jobs=None, oob_score=False,\n",
              "                      random_state=42, verbose=0, warm_start=False)"
            ]
          },
          "metadata": {
            "tags": []
          },
          "execution_count": 113
        }
      ]
    },
    {
      "cell_type": "code",
      "metadata": {
        "id": "JguLDe6g-Vuu",
        "colab_type": "code",
        "outputId": "6777be42-c24d-4a3c-aa90-9724595a4702",
        "colab": {
          "base_uri": "https://localhost:8080/",
          "height": 319
        }
      },
      "source": [
        "cvres = grid_search.cv_results_\n",
        "for mean_score, params in zip(cvres[\"mean_test_score\"], cvres[\"params\"]):\n",
        "    print(np.sqrt(-mean_score), params)"
      ],
      "execution_count": 0,
      "outputs": [
        {
          "output_type": "stream",
          "text": [
            "0.4035984214832298 {'max_features': 2, 'n_estimators': 3}\n",
            "0.3219468766416446 {'max_features': 2, 'n_estimators': 10}\n",
            "0.29225345589906715 {'max_features': 2, 'n_estimators': 30}\n",
            "0.30754907138236565 {'max_features': 4, 'n_estimators': 3}\n",
            "0.27338156494039806 {'max_features': 4, 'n_estimators': 10}\n",
            "0.24242768748998228 {'max_features': 4, 'n_estimators': 30}\n",
            "0.25425219024663426 {'max_features': 6, 'n_estimators': 3}\n",
            "0.2189263687318373 {'max_features': 6, 'n_estimators': 10}\n",
            "0.20058411848361504 {'max_features': 6, 'n_estimators': 30}\n",
            "0.19901465676428462 {'max_features': 8, 'n_estimators': 3}\n",
            "0.1982405788268286 {'max_features': 8, 'n_estimators': 10}\n",
            "0.18691259764148624 {'max_features': 8, 'n_estimators': 30}\n",
            "0.363136461629291 {'bootstrap': False, 'max_features': 2, 'n_estimators': 3}\n",
            "0.30556014984355173 {'bootstrap': False, 'max_features': 2, 'n_estimators': 10}\n",
            "0.37258383083762775 {'bootstrap': False, 'max_features': 3, 'n_estimators': 3}\n",
            "0.2741164017787661 {'bootstrap': False, 'max_features': 3, 'n_estimators': 10}\n",
            "0.2879127079897712 {'bootstrap': False, 'max_features': 4, 'n_estimators': 3}\n",
            "0.26877214698527424 {'bootstrap': False, 'max_features': 4, 'n_estimators': 10}\n"
          ],
          "name": "stdout"
        }
      ]
    },
    {
      "cell_type": "code",
      "metadata": {
        "id": "N0h383DG-bpD",
        "colab_type": "code",
        "outputId": "0ba3e5b1-3438-4343-fee0-df02e641b749",
        "colab": {
          "base_uri": "https://localhost:8080/",
          "height": 1000
        }
      },
      "source": [
        "pd.DataFrame(grid_search.cv_results_)"
      ],
      "execution_count": 0,
      "outputs": [
        {
          "output_type": "execute_result",
          "data": {
            "text/html": [
              "<div>\n",
              "<style scoped>\n",
              "    .dataframe tbody tr th:only-of-type {\n",
              "        vertical-align: middle;\n",
              "    }\n",
              "\n",
              "    .dataframe tbody tr th {\n",
              "        vertical-align: top;\n",
              "    }\n",
              "\n",
              "    .dataframe thead th {\n",
              "        text-align: right;\n",
              "    }\n",
              "</style>\n",
              "<table border=\"1\" class=\"dataframe\">\n",
              "  <thead>\n",
              "    <tr style=\"text-align: right;\">\n",
              "      <th></th>\n",
              "      <th>mean_fit_time</th>\n",
              "      <th>std_fit_time</th>\n",
              "      <th>mean_score_time</th>\n",
              "      <th>std_score_time</th>\n",
              "      <th>param_max_features</th>\n",
              "      <th>param_n_estimators</th>\n",
              "      <th>param_bootstrap</th>\n",
              "      <th>params</th>\n",
              "      <th>split0_test_score</th>\n",
              "      <th>split1_test_score</th>\n",
              "      <th>split2_test_score</th>\n",
              "      <th>split3_test_score</th>\n",
              "      <th>split4_test_score</th>\n",
              "      <th>mean_test_score</th>\n",
              "      <th>std_test_score</th>\n",
              "      <th>rank_test_score</th>\n",
              "      <th>split0_train_score</th>\n",
              "      <th>split1_train_score</th>\n",
              "      <th>split2_train_score</th>\n",
              "      <th>split3_train_score</th>\n",
              "      <th>split4_train_score</th>\n",
              "      <th>mean_train_score</th>\n",
              "      <th>std_train_score</th>\n",
              "    </tr>\n",
              "  </thead>\n",
              "  <tbody>\n",
              "    <tr>\n",
              "      <th>0</th>\n",
              "      <td>0.006631</td>\n",
              "      <td>0.001711</td>\n",
              "      <td>0.001114</td>\n",
              "      <td>0.000151</td>\n",
              "      <td>2</td>\n",
              "      <td>3</td>\n",
              "      <td>NaN</td>\n",
              "      <td>{'max_features': 2, 'n_estimators': 3}</td>\n",
              "      <td>-0.405308</td>\n",
              "      <td>-0.126600</td>\n",
              "      <td>-0.095976</td>\n",
              "      <td>-0.108740</td>\n",
              "      <td>-0.077834</td>\n",
              "      <td>-0.162892</td>\n",
              "      <td>0.122252</td>\n",
              "      <td>18</td>\n",
              "      <td>-5.084002e-02</td>\n",
              "      <td>-8.723913e-02</td>\n",
              "      <td>-5.367378e-02</td>\n",
              "      <td>-7.456462e-02</td>\n",
              "      <td>-5.825302e-02</td>\n",
              "      <td>-6.491412e-02</td>\n",
              "      <td>1.385882e-02</td>\n",
              "    </tr>\n",
              "    <tr>\n",
              "      <th>1</th>\n",
              "      <td>0.014291</td>\n",
              "      <td>0.000318</td>\n",
              "      <td>0.001408</td>\n",
              "      <td>0.000038</td>\n",
              "      <td>2</td>\n",
              "      <td>10</td>\n",
              "      <td>NaN</td>\n",
              "      <td>{'max_features': 2, 'n_estimators': 10}</td>\n",
              "      <td>-0.249986</td>\n",
              "      <td>-0.045310</td>\n",
              "      <td>-0.078234</td>\n",
              "      <td>-0.073421</td>\n",
              "      <td>-0.071298</td>\n",
              "      <td>-0.103650</td>\n",
              "      <td>0.074060</td>\n",
              "      <td>15</td>\n",
              "      <td>-1.405427e-02</td>\n",
              "      <td>-2.716675e-02</td>\n",
              "      <td>-2.802001e-02</td>\n",
              "      <td>-3.694154e-02</td>\n",
              "      <td>-2.573738e-02</td>\n",
              "      <td>-2.638399e-02</td>\n",
              "      <td>7.310147e-03</td>\n",
              "    </tr>\n",
              "    <tr>\n",
              "      <th>2</th>\n",
              "      <td>0.040924</td>\n",
              "      <td>0.001080</td>\n",
              "      <td>0.002646</td>\n",
              "      <td>0.000253</td>\n",
              "      <td>2</td>\n",
              "      <td>30</td>\n",
              "      <td>NaN</td>\n",
              "      <td>{'max_features': 2, 'n_estimators': 30}</td>\n",
              "      <td>-0.210152</td>\n",
              "      <td>-0.033079</td>\n",
              "      <td>-0.052797</td>\n",
              "      <td>-0.054579</td>\n",
              "      <td>-0.076453</td>\n",
              "      <td>-0.085412</td>\n",
              "      <td>0.063865</td>\n",
              "      <td>12</td>\n",
              "      <td>-7.821824e-03</td>\n",
              "      <td>-1.910477e-02</td>\n",
              "      <td>-1.683253e-02</td>\n",
              "      <td>-1.661111e-02</td>\n",
              "      <td>-1.787638e-02</td>\n",
              "      <td>-1.564932e-02</td>\n",
              "      <td>4.012347e-03</td>\n",
              "    </tr>\n",
              "    <tr>\n",
              "      <th>3</th>\n",
              "      <td>0.005315</td>\n",
              "      <td>0.000341</td>\n",
              "      <td>0.000919</td>\n",
              "      <td>0.000072</td>\n",
              "      <td>4</td>\n",
              "      <td>3</td>\n",
              "      <td>NaN</td>\n",
              "      <td>{'max_features': 4, 'n_estimators': 3}</td>\n",
              "      <td>-0.124206</td>\n",
              "      <td>-0.054716</td>\n",
              "      <td>-0.130094</td>\n",
              "      <td>-0.043871</td>\n",
              "      <td>-0.120045</td>\n",
              "      <td>-0.094586</td>\n",
              "      <td>0.037277</td>\n",
              "      <td>14</td>\n",
              "      <td>-1.779990e-02</td>\n",
              "      <td>-4.774484e-02</td>\n",
              "      <td>-3.069932e-02</td>\n",
              "      <td>-4.981842e-02</td>\n",
              "      <td>-3.227632e-02</td>\n",
              "      <td>-3.566776e-02</td>\n",
              "      <td>1.184521e-02</td>\n",
              "    </tr>\n",
              "    <tr>\n",
              "      <th>4</th>\n",
              "      <td>0.015159</td>\n",
              "      <td>0.000706</td>\n",
              "      <td>0.001392</td>\n",
              "      <td>0.000046</td>\n",
              "      <td>4</td>\n",
              "      <td>10</td>\n",
              "      <td>NaN</td>\n",
              "      <td>{'max_features': 4, 'n_estimators': 10}</td>\n",
              "      <td>-0.150765</td>\n",
              "      <td>-0.023758</td>\n",
              "      <td>-0.070996</td>\n",
              "      <td>-0.039862</td>\n",
              "      <td>-0.088307</td>\n",
              "      <td>-0.074737</td>\n",
              "      <td>0.044257</td>\n",
              "      <td>9</td>\n",
              "      <td>-9.733850e-03</td>\n",
              "      <td>-2.124605e-02</td>\n",
              "      <td>-2.009383e-02</td>\n",
              "      <td>-2.465362e-02</td>\n",
              "      <td>-2.248399e-02</td>\n",
              "      <td>-1.964227e-02</td>\n",
              "      <td>5.179611e-03</td>\n",
              "    </tr>\n",
              "    <tr>\n",
              "      <th>5</th>\n",
              "      <td>0.041487</td>\n",
              "      <td>0.000494</td>\n",
              "      <td>0.002590</td>\n",
              "      <td>0.000245</td>\n",
              "      <td>4</td>\n",
              "      <td>30</td>\n",
              "      <td>NaN</td>\n",
              "      <td>{'max_features': 4, 'n_estimators': 30}</td>\n",
              "      <td>-0.153061</td>\n",
              "      <td>-0.024061</td>\n",
              "      <td>-0.040365</td>\n",
              "      <td>-0.028534</td>\n",
              "      <td>-0.047836</td>\n",
              "      <td>-0.058771</td>\n",
              "      <td>0.047892</td>\n",
              "      <td>6</td>\n",
              "      <td>-5.392163e-03</td>\n",
              "      <td>-1.201626e-02</td>\n",
              "      <td>-9.731857e-03</td>\n",
              "      <td>-1.318561e-02</td>\n",
              "      <td>-1.175891e-02</td>\n",
              "      <td>-1.041696e-02</td>\n",
              "      <td>2.747434e-03</td>\n",
              "    </tr>\n",
              "    <tr>\n",
              "      <th>6</th>\n",
              "      <td>0.005369</td>\n",
              "      <td>0.000208</td>\n",
              "      <td>0.000919</td>\n",
              "      <td>0.000102</td>\n",
              "      <td>6</td>\n",
              "      <td>3</td>\n",
              "      <td>NaN</td>\n",
              "      <td>{'max_features': 6, 'n_estimators': 3}</td>\n",
              "      <td>-0.123548</td>\n",
              "      <td>-0.042934</td>\n",
              "      <td>-0.043290</td>\n",
              "      <td>-0.047019</td>\n",
              "      <td>-0.066430</td>\n",
              "      <td>-0.064644</td>\n",
              "      <td>0.030695</td>\n",
              "      <td>7</td>\n",
              "      <td>-7.144346e-03</td>\n",
              "      <td>-2.407178e-02</td>\n",
              "      <td>-2.813967e-02</td>\n",
              "      <td>-3.039230e-02</td>\n",
              "      <td>-3.441150e-02</td>\n",
              "      <td>-2.483192e-02</td>\n",
              "      <td>9.455744e-03</td>\n",
              "    </tr>\n",
              "    <tr>\n",
              "      <th>7</th>\n",
              "      <td>0.015278</td>\n",
              "      <td>0.000310</td>\n",
              "      <td>0.001492</td>\n",
              "      <td>0.000115</td>\n",
              "      <td>6</td>\n",
              "      <td>10</td>\n",
              "      <td>NaN</td>\n",
              "      <td>{'max_features': 6, 'n_estimators': 10}</td>\n",
              "      <td>-0.112287</td>\n",
              "      <td>-0.027414</td>\n",
              "      <td>-0.026630</td>\n",
              "      <td>-0.017142</td>\n",
              "      <td>-0.056171</td>\n",
              "      <td>-0.047929</td>\n",
              "      <td>0.034734</td>\n",
              "      <td>5</td>\n",
              "      <td>-5.379540e-03</td>\n",
              "      <td>-1.436319e-02</td>\n",
              "      <td>-1.458581e-02</td>\n",
              "      <td>-1.464510e-02</td>\n",
              "      <td>-1.808799e-02</td>\n",
              "      <td>-1.341232e-02</td>\n",
              "      <td>4.247079e-03</td>\n",
              "    </tr>\n",
              "    <tr>\n",
              "      <th>8</th>\n",
              "      <td>0.043703</td>\n",
              "      <td>0.000924</td>\n",
              "      <td>0.003016</td>\n",
              "      <td>0.000236</td>\n",
              "      <td>6</td>\n",
              "      <td>30</td>\n",
              "      <td>NaN</td>\n",
              "      <td>{'max_features': 6, 'n_estimators': 30}</td>\n",
              "      <td>-0.111005</td>\n",
              "      <td>-0.011339</td>\n",
              "      <td>-0.021871</td>\n",
              "      <td>-0.012429</td>\n",
              "      <td>-0.044525</td>\n",
              "      <td>-0.040234</td>\n",
              "      <td>0.037342</td>\n",
              "      <td>4</td>\n",
              "      <td>-2.454443e-03</td>\n",
              "      <td>-8.568170e-03</td>\n",
              "      <td>-7.305417e-03</td>\n",
              "      <td>-7.606689e-03</td>\n",
              "      <td>-1.025536e-02</td>\n",
              "      <td>-7.238017e-03</td>\n",
              "      <td>2.603718e-03</td>\n",
              "    </tr>\n",
              "    <tr>\n",
              "      <th>9</th>\n",
              "      <td>0.005326</td>\n",
              "      <td>0.000267</td>\n",
              "      <td>0.000870</td>\n",
              "      <td>0.000031</td>\n",
              "      <td>8</td>\n",
              "      <td>3</td>\n",
              "      <td>NaN</td>\n",
              "      <td>{'max_features': 8, 'n_estimators': 3}</td>\n",
              "      <td>-0.102432</td>\n",
              "      <td>-0.022378</td>\n",
              "      <td>-0.013221</td>\n",
              "      <td>-0.014453</td>\n",
              "      <td>-0.045550</td>\n",
              "      <td>-0.039607</td>\n",
              "      <td>0.033490</td>\n",
              "      <td>3</td>\n",
              "      <td>-3.713274e-03</td>\n",
              "      <td>-3.008240e-02</td>\n",
              "      <td>-2.097349e-02</td>\n",
              "      <td>-2.193519e-02</td>\n",
              "      <td>-1.799201e-02</td>\n",
              "      <td>-1.893927e-02</td>\n",
              "      <td>8.602455e-03</td>\n",
              "    </tr>\n",
              "    <tr>\n",
              "      <th>10</th>\n",
              "      <td>0.015014</td>\n",
              "      <td>0.000422</td>\n",
              "      <td>0.001329</td>\n",
              "      <td>0.000027</td>\n",
              "      <td>8</td>\n",
              "      <td>10</td>\n",
              "      <td>NaN</td>\n",
              "      <td>{'max_features': 8, 'n_estimators': 10}</td>\n",
              "      <td>-0.107608</td>\n",
              "      <td>-0.009443</td>\n",
              "      <td>-0.019809</td>\n",
              "      <td>-0.005947</td>\n",
              "      <td>-0.053689</td>\n",
              "      <td>-0.039299</td>\n",
              "      <td>0.038097</td>\n",
              "      <td>2</td>\n",
              "      <td>-3.368637e-03</td>\n",
              "      <td>-9.696646e-03</td>\n",
              "      <td>-8.455675e-03</td>\n",
              "      <td>-1.218249e-02</td>\n",
              "      <td>-1.333643e-02</td>\n",
              "      <td>-9.407976e-03</td>\n",
              "      <td>3.481221e-03</td>\n",
              "    </tr>\n",
              "    <tr>\n",
              "      <th>11</th>\n",
              "      <td>0.042188</td>\n",
              "      <td>0.000938</td>\n",
              "      <td>0.002392</td>\n",
              "      <td>0.000039</td>\n",
              "      <td>8</td>\n",
              "      <td>30</td>\n",
              "      <td>NaN</td>\n",
              "      <td>{'max_features': 8, 'n_estimators': 30}</td>\n",
              "      <td>-0.105270</td>\n",
              "      <td>-0.010467</td>\n",
              "      <td>-0.013582</td>\n",
              "      <td>-0.011518</td>\n",
              "      <td>-0.033845</td>\n",
              "      <td>-0.034936</td>\n",
              "      <td>0.036197</td>\n",
              "      <td>1</td>\n",
              "      <td>-2.421297e-03</td>\n",
              "      <td>-6.552045e-03</td>\n",
              "      <td>-6.176596e-03</td>\n",
              "      <td>-7.968696e-03</td>\n",
              "      <td>-9.000860e-03</td>\n",
              "      <td>-6.423899e-03</td>\n",
              "      <td>2.241675e-03</td>\n",
              "    </tr>\n",
              "    <tr>\n",
              "      <th>12</th>\n",
              "      <td>0.004060</td>\n",
              "      <td>0.000220</td>\n",
              "      <td>0.000848</td>\n",
              "      <td>0.000050</td>\n",
              "      <td>2</td>\n",
              "      <td>3</td>\n",
              "      <td>False</td>\n",
              "      <td>{'bootstrap': False, 'max_features': 2, 'n_est...</td>\n",
              "      <td>-0.247822</td>\n",
              "      <td>-0.091279</td>\n",
              "      <td>-0.142267</td>\n",
              "      <td>-0.074131</td>\n",
              "      <td>-0.103842</td>\n",
              "      <td>-0.131868</td>\n",
              "      <td>0.062161</td>\n",
              "      <td>16</td>\n",
              "      <td>-8.726337e-33</td>\n",
              "      <td>-7.199228e-33</td>\n",
              "      <td>-1.102848e-32</td>\n",
              "      <td>-9.298525e-33</td>\n",
              "      <td>-8.433546e-33</td>\n",
              "      <td>-8.937224e-33</td>\n",
              "      <td>1.250815e-33</td>\n",
              "    </tr>\n",
              "    <tr>\n",
              "      <th>13</th>\n",
              "      <td>0.010112</td>\n",
              "      <td>0.000063</td>\n",
              "      <td>0.001365</td>\n",
              "      <td>0.000035</td>\n",
              "      <td>2</td>\n",
              "      <td>10</td>\n",
              "      <td>False</td>\n",
              "      <td>{'bootstrap': False, 'max_features': 2, 'n_est...</td>\n",
              "      <td>-0.216637</td>\n",
              "      <td>-0.053095</td>\n",
              "      <td>-0.069399</td>\n",
              "      <td>-0.041829</td>\n",
              "      <td>-0.085875</td>\n",
              "      <td>-0.093367</td>\n",
              "      <td>0.063410</td>\n",
              "      <td>13</td>\n",
              "      <td>-9.435352e-32</td>\n",
              "      <td>-9.882577e-32</td>\n",
              "      <td>-1.067168e-31</td>\n",
              "      <td>-9.060656e-32</td>\n",
              "      <td>-8.433546e-32</td>\n",
              "      <td>-9.496762e-32</td>\n",
              "      <td>7.554697e-33</td>\n",
              "    </tr>\n",
              "    <tr>\n",
              "      <th>14</th>\n",
              "      <td>0.004197</td>\n",
              "      <td>0.000297</td>\n",
              "      <td>0.000894</td>\n",
              "      <td>0.000050</td>\n",
              "      <td>3</td>\n",
              "      <td>3</td>\n",
              "      <td>False</td>\n",
              "      <td>{'bootstrap': False, 'max_features': 3, 'n_est...</td>\n",
              "      <td>-0.173586</td>\n",
              "      <td>-0.083361</td>\n",
              "      <td>-0.212062</td>\n",
              "      <td>-0.057403</td>\n",
              "      <td>-0.167681</td>\n",
              "      <td>-0.138819</td>\n",
              "      <td>0.058499</td>\n",
              "      <td>17</td>\n",
              "      <td>-8.726337e-33</td>\n",
              "      <td>-7.199228e-33</td>\n",
              "      <td>-1.102848e-32</td>\n",
              "      <td>-9.298525e-33</td>\n",
              "      <td>-8.433546e-33</td>\n",
              "      <td>-8.937224e-33</td>\n",
              "      <td>1.250815e-33</td>\n",
              "    </tr>\n",
              "    <tr>\n",
              "      <th>15</th>\n",
              "      <td>0.010826</td>\n",
              "      <td>0.000347</td>\n",
              "      <td>0.001381</td>\n",
              "      <td>0.000067</td>\n",
              "      <td>3</td>\n",
              "      <td>10</td>\n",
              "      <td>False</td>\n",
              "      <td>{'bootstrap': False, 'max_features': 3, 'n_est...</td>\n",
              "      <td>-0.138544</td>\n",
              "      <td>-0.030580</td>\n",
              "      <td>-0.099080</td>\n",
              "      <td>-0.036625</td>\n",
              "      <td>-0.070871</td>\n",
              "      <td>-0.075140</td>\n",
              "      <td>0.040201</td>\n",
              "      <td>10</td>\n",
              "      <td>-9.435352e-32</td>\n",
              "      <td>-9.882577e-32</td>\n",
              "      <td>-1.067168e-31</td>\n",
              "      <td>-9.060656e-32</td>\n",
              "      <td>-8.433546e-32</td>\n",
              "      <td>-9.496762e-32</td>\n",
              "      <td>7.554697e-33</td>\n",
              "    </tr>\n",
              "    <tr>\n",
              "      <th>16</th>\n",
              "      <td>0.004139</td>\n",
              "      <td>0.000061</td>\n",
              "      <td>0.000820</td>\n",
              "      <td>0.000020</td>\n",
              "      <td>4</td>\n",
              "      <td>3</td>\n",
              "      <td>False</td>\n",
              "      <td>{'bootstrap': False, 'max_features': 4, 'n_est...</td>\n",
              "      <td>-0.131926</td>\n",
              "      <td>-0.072597</td>\n",
              "      <td>-0.086337</td>\n",
              "      <td>-0.035406</td>\n",
              "      <td>-0.088203</td>\n",
              "      <td>-0.082894</td>\n",
              "      <td>0.031001</td>\n",
              "      <td>11</td>\n",
              "      <td>-8.726337e-33</td>\n",
              "      <td>-7.199228e-33</td>\n",
              "      <td>-1.102848e-32</td>\n",
              "      <td>-9.298525e-33</td>\n",
              "      <td>-8.433546e-33</td>\n",
              "      <td>-8.937224e-33</td>\n",
              "      <td>1.250815e-33</td>\n",
              "    </tr>\n",
              "    <tr>\n",
              "      <th>17</th>\n",
              "      <td>0.011550</td>\n",
              "      <td>0.000438</td>\n",
              "      <td>0.001430</td>\n",
              "      <td>0.000133</td>\n",
              "      <td>4</td>\n",
              "      <td>10</td>\n",
              "      <td>False</td>\n",
              "      <td>{'bootstrap': False, 'max_features': 4, 'n_est...</td>\n",
              "      <td>-0.148212</td>\n",
              "      <td>-0.039721</td>\n",
              "      <td>-0.079303</td>\n",
              "      <td>-0.040183</td>\n",
              "      <td>-0.053772</td>\n",
              "      <td>-0.072238</td>\n",
              "      <td>0.040615</td>\n",
              "      <td>8</td>\n",
              "      <td>-9.435352e-32</td>\n",
              "      <td>-9.882577e-32</td>\n",
              "      <td>-1.067168e-31</td>\n",
              "      <td>-9.060656e-32</td>\n",
              "      <td>-8.433546e-32</td>\n",
              "      <td>-9.496762e-32</td>\n",
              "      <td>7.554697e-33</td>\n",
              "    </tr>\n",
              "  </tbody>\n",
              "</table>\n",
              "</div>"
            ],
            "text/plain": [
              "    mean_fit_time  std_fit_time  ...  mean_train_score  std_train_score\n",
              "0        0.006631      0.001711  ...     -6.491412e-02     1.385882e-02\n",
              "1        0.014291      0.000318  ...     -2.638399e-02     7.310147e-03\n",
              "2        0.040924      0.001080  ...     -1.564932e-02     4.012347e-03\n",
              "3        0.005315      0.000341  ...     -3.566776e-02     1.184521e-02\n",
              "4        0.015159      0.000706  ...     -1.964227e-02     5.179611e-03\n",
              "5        0.041487      0.000494  ...     -1.041696e-02     2.747434e-03\n",
              "6        0.005369      0.000208  ...     -2.483192e-02     9.455744e-03\n",
              "7        0.015278      0.000310  ...     -1.341232e-02     4.247079e-03\n",
              "8        0.043703      0.000924  ...     -7.238017e-03     2.603718e-03\n",
              "9        0.005326      0.000267  ...     -1.893927e-02     8.602455e-03\n",
              "10       0.015014      0.000422  ...     -9.407976e-03     3.481221e-03\n",
              "11       0.042188      0.000938  ...     -6.423899e-03     2.241675e-03\n",
              "12       0.004060      0.000220  ...     -8.937224e-33     1.250815e-33\n",
              "13       0.010112      0.000063  ...     -9.496762e-32     7.554697e-33\n",
              "14       0.004197      0.000297  ...     -8.937224e-33     1.250815e-33\n",
              "15       0.010826      0.000347  ...     -9.496762e-32     7.554697e-33\n",
              "16       0.004139      0.000061  ...     -8.937224e-33     1.250815e-33\n",
              "17       0.011550      0.000438  ...     -9.496762e-32     7.554697e-33\n",
              "\n",
              "[18 rows x 23 columns]"
            ]
          },
          "metadata": {
            "tags": []
          },
          "execution_count": 115
        }
      ]
    },
    {
      "cell_type": "code",
      "metadata": {
        "id": "ehajaqiM-lkp",
        "colab_type": "code",
        "outputId": "184306ba-d31e-493c-fe8a-682a26a2a481",
        "colab": {
          "base_uri": "https://localhost:8080/",
          "height": 386
        }
      },
      "source": [
        "from sklearn.model_selection import RandomizedSearchCV\n",
        "from scipy.stats import randint\n",
        "\n",
        "param_distribs = {\n",
        "        'n_estimators': randint(low=1, high=200),\n",
        "        'max_features': randint(low=1, high=8),\n",
        "    }\n",
        "\n",
        "forest_reg = RandomForestRegressor(random_state=42)\n",
        "rnd_search = RandomizedSearchCV(forest_reg, param_distributions=param_distribs,\n",
        "                                n_iter=10, cv=5, scoring='neg_mean_squared_error', random_state=42)\n",
        "rnd_search.fit(winedata_prepared, housing_labels)"
      ],
      "execution_count": 0,
      "outputs": [
        {
          "output_type": "execute_result",
          "data": {
            "text/plain": [
              "RandomizedSearchCV(cv=5, error_score=nan,\n",
              "                   estimator=RandomForestRegressor(bootstrap=True,\n",
              "                                                   ccp_alpha=0.0,\n",
              "                                                   criterion='mse',\n",
              "                                                   max_depth=None,\n",
              "                                                   max_features='auto',\n",
              "                                                   max_leaf_nodes=None,\n",
              "                                                   max_samples=None,\n",
              "                                                   min_impurity_decrease=0.0,\n",
              "                                                   min_impurity_split=None,\n",
              "                                                   min_samples_leaf=1,\n",
              "                                                   min_samples_split=2,\n",
              "                                                   min_weight_fraction_leaf=0.0,\n",
              "                                                   n_estimators=100,\n",
              "                                                   n_jobs=None, oob_score=Fals...\n",
              "                                                   warm_start=False),\n",
              "                   iid='deprecated', n_iter=10, n_jobs=None,\n",
              "                   param_distributions={'max_features': <scipy.stats._distn_infrastructure.rv_frozen object at 0x7f63817fb710>,\n",
              "                                        'n_estimators': <scipy.stats._distn_infrastructure.rv_frozen object at 0x7f63817fb9b0>},\n",
              "                   pre_dispatch='2*n_jobs', random_state=42, refit=True,\n",
              "                   return_train_score=False, scoring='neg_mean_squared_error',\n",
              "                   verbose=0)"
            ]
          },
          "metadata": {
            "tags": []
          },
          "execution_count": 116
        }
      ]
    },
    {
      "cell_type": "code",
      "metadata": {
        "id": "_VMTawHh-syY",
        "colab_type": "code",
        "outputId": "c0609982-26da-4533-a285-e253876a7eb1",
        "colab": {
          "base_uri": "https://localhost:8080/",
          "height": 185
        }
      },
      "source": [
        "cvres = rnd_search.cv_results_\n",
        "for mean_score, params in zip(cvres[\"mean_test_score\"], cvres[\"params\"]):\n",
        "    print(np.sqrt(-mean_score), params)"
      ],
      "execution_count": 0,
      "outputs": [
        {
          "output_type": "stream",
          "text": [
            "0.18785784827752094 {'max_features': 7, 'n_estimators': 180}\n",
            "0.23346774664755146 {'max_features': 5, 'n_estimators': 15}\n",
            "0.2713070349657712 {'max_features': 3, 'n_estimators': 72}\n",
            "0.22504055525790223 {'max_features': 5, 'n_estimators': 21}\n",
            "0.18653016142964665 {'max_features': 7, 'n_estimators': 122}\n",
            "0.27022803412678 {'max_features': 3, 'n_estimators': 75}\n",
            "0.26918273627096817 {'max_features': 3, 'n_estimators': 88}\n",
            "0.2157510309812173 {'max_features': 5, 'n_estimators': 100}\n",
            "0.2635228806460146 {'max_features': 3, 'n_estimators': 150}\n",
            "0.3127504119854111 {'max_features': 5, 'n_estimators': 2}\n"
          ],
          "name": "stdout"
        }
      ]
    },
    {
      "cell_type": "code",
      "metadata": {
        "id": "1_dL7QM1-yLk",
        "colab_type": "code",
        "outputId": "023d31d8-7c30-4596-8d7e-64c0e77b6c5e",
        "colab": {
          "base_uri": "https://localhost:8080/",
          "height": 67
        }
      },
      "source": [
        "feature_importances = grid_search.best_estimator_.feature_importances_\n",
        "feature_importances"
      ],
      "execution_count": 0,
      "outputs": [
        {
          "output_type": "execute_result",
          "data": {
            "text/plain": [
              "array([0.01473305, 0.00686358, 0.00542174, 0.00685226, 0.00558596,\n",
              "       0.00099254, 0.2015306 , 0.62808672, 0.00761491, 0.00659284,\n",
              "       0.01732684, 0.00303285, 0.09143866, 0.00392744])"
            ]
          },
          "metadata": {
            "tags": []
          },
          "execution_count": 118
        }
      ]
    }
  ]
}