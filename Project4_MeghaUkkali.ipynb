{
  "nbformat": 4,
  "nbformat_minor": 0,
  "metadata": {
    "colab": {
      "name": "Welcome To Colaboratory",
      "provenance": [],
      "collapsed_sections": [],
      "toc_visible": true,
      "include_colab_link": true
    },
    "kernelspec": {
      "display_name": "Python 3",
      "name": "python3"
    }
  },
  "cells": [
    {
      "cell_type": "markdown",
      "metadata": {
        "id": "view-in-github",
        "colab_type": "text"
      },
      "source": [
        "<a href=\"https://colab.research.google.com/github/MeghaUkkali9/Advanced-Machine-Learing/blob/master/Project4_MeghaUkkali.ipynb\" target=\"_parent\"><img src=\"https://colab.research.google.com/assets/colab-badge.svg\" alt=\"Open In Colab\"/></a>"
      ]
    },
    {
      "cell_type": "markdown",
      "metadata": {
        "id": "Sw47KELgC_tR",
        "colab_type": "text"
      },
      "source": [
        "Project#: 1\n",
        "Name: Megha Ukkali\n",
        "Course: Advanced Machine Learning\n",
        "Submission Date: 01/29/2020"
      ]
    },
    {
      "cell_type": "markdown",
      "metadata": {
        "id": "pjvcuoLalNXo",
        "colab_type": "text"
      },
      "source": [
        "Project 1\n",
        "3) Download the Wine data set from https://archive.ics.uci.edu/ml/datasets/Wine (Links to an external site.) and create a new Jupytor notebook to perform the following tasks:\n",
        "a) --Plot the classification data against each of the attributes\n",
        "\n",
        "b) -- Which attribute has the highest correlation with the classification  label?\n",
        "\n",
        "c) -- Repeat all the experiments in 02_end_to_end_machine_learning_project.ipynb but use the Wine data set instead the housing data"
      ]
    },
    {
      "cell_type": "markdown",
      "metadata": {
        "id": "ugGJg-_CD1eU",
        "colab_type": "text"
      },
      "source": [
        "Upload the wine dataset from the git hub"
      ]
    },
    {
      "cell_type": "code",
      "metadata": {
        "id": "ZFUwM2_baoeM",
        "colab_type": "code",
        "colab": {}
      },
      "source": [
        "# Python ≥3.5 is required\n",
        "import sys\n",
        "assert sys.version_info >= (3, 5)\n",
        "\n",
        "# Scikit-Learn ≥0.20 is required\n",
        "import sklearn\n",
        "assert sklearn.__version__ >= \"0.20\"\n",
        "\n",
        "# Common imports\n",
        "import numpy as np\n",
        "import os\n",
        "\n",
        "# To plot pretty figures\n",
        "%matplotlib inline\n",
        "import matplotlib as mpl\n",
        "import matplotlib.pyplot as plt\n",
        "mpl.rc('axes', labelsize=14)\n",
        "mpl.rc('xtick', labelsize=12)\n",
        "mpl.rc('ytick', labelsize=12)\n",
        "\n",
        "# Where to save the figures\n",
        "PROJECT_ROOT_DIR = \".\"\n",
        "CHAPTER_ID = \"end_to_end_project\"\n",
        "IMAGES_PATH = os.path.join(PROJECT_ROOT_DIR, \"images\", CHAPTER_ID)\n",
        "os.makedirs(IMAGES_PATH, exist_ok=True)\n",
        "\n",
        "def save_fig(fig_id, tight_layout=True, fig_extension=\"png\", resolution=300):\n",
        "    path = os.path.join(IMAGES_PATH, fig_id + \".\" + fig_extension)\n",
        "    print(\"Saving figure\", fig_id)\n",
        "    if tight_layout:\n",
        "        plt.tight_layout()\n",
        "    plt.savefig(path, format=fig_extension, dpi=resolution)\n",
        "\n",
        "# Ignore useless warnings (see SciPy issue #5998)\n",
        "import warnings\n",
        "warnings.filterwarnings(action=\"ignore\", message=\"^internal gelsd\")"
      ],
      "execution_count": 0,
      "outputs": []
    },
    {
      "cell_type": "code",
      "metadata": {
        "id": "yt88UxaODAc-",
        "colab_type": "code",
        "colab": {}
      },
      "source": [
        "import os\n",
        "import urllib\n",
        "\n",
        "\n",
        "DOWNLOAD_ROOT = \"https://raw.githubusercontent.com/MeghaUkkali9/Advanced-Machine-Learing/master/\"\n",
        "PRSA_PATH = os.path.join(\"datasets\", \"PRSA\")\n",
        "PRSA_URL = DOWNLOAD_ROOT + \"datasets/PRSA/PRSA_data_2010.1.1-2014.12.31.csv\"\n",
        "\n",
        "def fetch_prsadata_data(prsadata_url=PRSA_URL, prsadata_path=PRSA_PATH):\n",
        "    if not os.path.isdir(prsadata_path):\n",
        "        os.makedirs(prsadata_path)\n",
        "    tgz_path = os.path.join(prsadata_path, \"PRSA_data_2010.1.1-2014.12.31.csv\")\n",
        "    urllib.request.urlretrieve(prsadata_url, tgz_path)"
      ],
      "execution_count": 0,
      "outputs": []
    },
    {
      "cell_type": "code",
      "metadata": {
        "id": "7JltCOSkmAJJ",
        "colab_type": "code",
        "colab": {}
      },
      "source": [
        "fetch_prsadata_data()"
      ],
      "execution_count": 0,
      "outputs": []
    },
    {
      "cell_type": "markdown",
      "metadata": {
        "id": "k7CeuIrqbbt-",
        "colab_type": "text"
      },
      "source": [
        "# Import Dataset"
      ]
    },
    {
      "cell_type": "markdown",
      "metadata": {
        "id": "n7QdIX6cGnt9",
        "colab_type": "text"
      },
      "source": [
        "Load the .csv file of prsa dataset"
      ]
    },
    {
      "cell_type": "code",
      "metadata": {
        "id": "qCwAmqInmF5o",
        "colab_type": "code",
        "colab": {}
      },
      "source": [
        "import pandas as pd\n",
        "\n",
        "def load_prsadata_data(prsadata_path=PRSA_PATH):\n",
        "    csv_path = os.path.join(prsadata_path, \"PRSA_data_2010.1.1-2014.12.31.csv\")\n",
        "    return pd.read_csv(csv_path)"
      ],
      "execution_count": 0,
      "outputs": []
    },
    {
      "cell_type": "markdown",
      "metadata": {
        "id": "NiNfdGu-blHg",
        "colab_type": "text"
      },
      "source": [
        "# Explore Dataset"
      ]
    },
    {
      "cell_type": "code",
      "metadata": {
        "id": "W62HxiVgmI45",
        "colab_type": "code",
        "outputId": "25abb263-f5ce-40af-8b22-c55086a7169b",
        "colab": {
          "base_uri": "https://localhost:8080/",
          "height": 343
        }
      },
      "source": [
        "prsadata = load_prsadata_data()\n",
        "prsadata.head(10)"
      ],
      "execution_count": 5,
      "outputs": [
        {
          "output_type": "execute_result",
          "data": {
            "text/html": [
              "<div>\n",
              "<style scoped>\n",
              "    .dataframe tbody tr th:only-of-type {\n",
              "        vertical-align: middle;\n",
              "    }\n",
              "\n",
              "    .dataframe tbody tr th {\n",
              "        vertical-align: top;\n",
              "    }\n",
              "\n",
              "    .dataframe thead th {\n",
              "        text-align: right;\n",
              "    }\n",
              "</style>\n",
              "<table border=\"1\" class=\"dataframe\">\n",
              "  <thead>\n",
              "    <tr style=\"text-align: right;\">\n",
              "      <th></th>\n",
              "      <th>No</th>\n",
              "      <th>year</th>\n",
              "      <th>month</th>\n",
              "      <th>day</th>\n",
              "      <th>hour</th>\n",
              "      <th>pm2.5</th>\n",
              "      <th>DEWP</th>\n",
              "      <th>TEMP</th>\n",
              "      <th>PRES</th>\n",
              "      <th>cbwd</th>\n",
              "      <th>Iws</th>\n",
              "      <th>Is</th>\n",
              "      <th>Ir</th>\n",
              "    </tr>\n",
              "  </thead>\n",
              "  <tbody>\n",
              "    <tr>\n",
              "      <th>0</th>\n",
              "      <td>1</td>\n",
              "      <td>2010</td>\n",
              "      <td>1</td>\n",
              "      <td>1</td>\n",
              "      <td>0</td>\n",
              "      <td>NaN</td>\n",
              "      <td>-21</td>\n",
              "      <td>-11.0</td>\n",
              "      <td>1021.0</td>\n",
              "      <td>NW</td>\n",
              "      <td>1.79</td>\n",
              "      <td>0</td>\n",
              "      <td>0</td>\n",
              "    </tr>\n",
              "    <tr>\n",
              "      <th>1</th>\n",
              "      <td>2</td>\n",
              "      <td>2010</td>\n",
              "      <td>1</td>\n",
              "      <td>1</td>\n",
              "      <td>1</td>\n",
              "      <td>NaN</td>\n",
              "      <td>-21</td>\n",
              "      <td>-12.0</td>\n",
              "      <td>1020.0</td>\n",
              "      <td>NW</td>\n",
              "      <td>4.92</td>\n",
              "      <td>0</td>\n",
              "      <td>0</td>\n",
              "    </tr>\n",
              "    <tr>\n",
              "      <th>2</th>\n",
              "      <td>3</td>\n",
              "      <td>2010</td>\n",
              "      <td>1</td>\n",
              "      <td>1</td>\n",
              "      <td>2</td>\n",
              "      <td>NaN</td>\n",
              "      <td>-21</td>\n",
              "      <td>-11.0</td>\n",
              "      <td>1019.0</td>\n",
              "      <td>NW</td>\n",
              "      <td>6.71</td>\n",
              "      <td>0</td>\n",
              "      <td>0</td>\n",
              "    </tr>\n",
              "    <tr>\n",
              "      <th>3</th>\n",
              "      <td>4</td>\n",
              "      <td>2010</td>\n",
              "      <td>1</td>\n",
              "      <td>1</td>\n",
              "      <td>3</td>\n",
              "      <td>NaN</td>\n",
              "      <td>-21</td>\n",
              "      <td>-14.0</td>\n",
              "      <td>1019.0</td>\n",
              "      <td>NW</td>\n",
              "      <td>9.84</td>\n",
              "      <td>0</td>\n",
              "      <td>0</td>\n",
              "    </tr>\n",
              "    <tr>\n",
              "      <th>4</th>\n",
              "      <td>5</td>\n",
              "      <td>2010</td>\n",
              "      <td>1</td>\n",
              "      <td>1</td>\n",
              "      <td>4</td>\n",
              "      <td>NaN</td>\n",
              "      <td>-20</td>\n",
              "      <td>-12.0</td>\n",
              "      <td>1018.0</td>\n",
              "      <td>NW</td>\n",
              "      <td>12.97</td>\n",
              "      <td>0</td>\n",
              "      <td>0</td>\n",
              "    </tr>\n",
              "    <tr>\n",
              "      <th>5</th>\n",
              "      <td>6</td>\n",
              "      <td>2010</td>\n",
              "      <td>1</td>\n",
              "      <td>1</td>\n",
              "      <td>5</td>\n",
              "      <td>NaN</td>\n",
              "      <td>-19</td>\n",
              "      <td>-10.0</td>\n",
              "      <td>1017.0</td>\n",
              "      <td>NW</td>\n",
              "      <td>16.10</td>\n",
              "      <td>0</td>\n",
              "      <td>0</td>\n",
              "    </tr>\n",
              "    <tr>\n",
              "      <th>6</th>\n",
              "      <td>7</td>\n",
              "      <td>2010</td>\n",
              "      <td>1</td>\n",
              "      <td>1</td>\n",
              "      <td>6</td>\n",
              "      <td>NaN</td>\n",
              "      <td>-19</td>\n",
              "      <td>-9.0</td>\n",
              "      <td>1017.0</td>\n",
              "      <td>NW</td>\n",
              "      <td>19.23</td>\n",
              "      <td>0</td>\n",
              "      <td>0</td>\n",
              "    </tr>\n",
              "    <tr>\n",
              "      <th>7</th>\n",
              "      <td>8</td>\n",
              "      <td>2010</td>\n",
              "      <td>1</td>\n",
              "      <td>1</td>\n",
              "      <td>7</td>\n",
              "      <td>NaN</td>\n",
              "      <td>-19</td>\n",
              "      <td>-9.0</td>\n",
              "      <td>1017.0</td>\n",
              "      <td>NW</td>\n",
              "      <td>21.02</td>\n",
              "      <td>0</td>\n",
              "      <td>0</td>\n",
              "    </tr>\n",
              "    <tr>\n",
              "      <th>8</th>\n",
              "      <td>9</td>\n",
              "      <td>2010</td>\n",
              "      <td>1</td>\n",
              "      <td>1</td>\n",
              "      <td>8</td>\n",
              "      <td>NaN</td>\n",
              "      <td>-19</td>\n",
              "      <td>-9.0</td>\n",
              "      <td>1017.0</td>\n",
              "      <td>NW</td>\n",
              "      <td>24.15</td>\n",
              "      <td>0</td>\n",
              "      <td>0</td>\n",
              "    </tr>\n",
              "    <tr>\n",
              "      <th>9</th>\n",
              "      <td>10</td>\n",
              "      <td>2010</td>\n",
              "      <td>1</td>\n",
              "      <td>1</td>\n",
              "      <td>9</td>\n",
              "      <td>NaN</td>\n",
              "      <td>-20</td>\n",
              "      <td>-8.0</td>\n",
              "      <td>1017.0</td>\n",
              "      <td>NW</td>\n",
              "      <td>27.28</td>\n",
              "      <td>0</td>\n",
              "      <td>0</td>\n",
              "    </tr>\n",
              "  </tbody>\n",
              "</table>\n",
              "</div>"
            ],
            "text/plain": [
              "   No  year  month  day  hour  pm2.5  DEWP  TEMP    PRES cbwd    Iws  Is  Ir\n",
              "0   1  2010      1    1     0    NaN   -21 -11.0  1021.0   NW   1.79   0   0\n",
              "1   2  2010      1    1     1    NaN   -21 -12.0  1020.0   NW   4.92   0   0\n",
              "2   3  2010      1    1     2    NaN   -21 -11.0  1019.0   NW   6.71   0   0\n",
              "3   4  2010      1    1     3    NaN   -21 -14.0  1019.0   NW   9.84   0   0\n",
              "4   5  2010      1    1     4    NaN   -20 -12.0  1018.0   NW  12.97   0   0\n",
              "5   6  2010      1    1     5    NaN   -19 -10.0  1017.0   NW  16.10   0   0\n",
              "6   7  2010      1    1     6    NaN   -19  -9.0  1017.0   NW  19.23   0   0\n",
              "7   8  2010      1    1     7    NaN   -19  -9.0  1017.0   NW  21.02   0   0\n",
              "8   9  2010      1    1     8    NaN   -19  -9.0  1017.0   NW  24.15   0   0\n",
              "9  10  2010      1    1     9    NaN   -20  -8.0  1017.0   NW  27.28   0   0"
            ]
          },
          "metadata": {
            "tags": []
          },
          "execution_count": 5
        }
      ]
    },
    {
      "cell_type": "code",
      "metadata": {
        "id": "Zz8X8j5JmZUj",
        "colab_type": "code",
        "outputId": "ea647596-605b-409e-ea9d-2613aaff6596",
        "colab": {
          "base_uri": "https://localhost:8080/",
          "height": 67
        }
      },
      "source": [
        "prsadata.columns"
      ],
      "execution_count": 6,
      "outputs": [
        {
          "output_type": "execute_result",
          "data": {
            "text/plain": [
              "Index(['No', 'year', 'month', 'day', 'hour', 'pm2.5', 'DEWP', 'TEMP', 'PRES',\n",
              "       'cbwd', 'Iws', 'Is', 'Ir'],\n",
              "      dtype='object')"
            ]
          },
          "metadata": {
            "tags": []
          },
          "execution_count": 6
        }
      ]
    },
    {
      "cell_type": "code",
      "metadata": {
        "id": "eb9LlH4wpfT4",
        "colab_type": "code",
        "outputId": "f2cdfd8d-a0dd-4cef-9b8f-bdfbb799d52f",
        "colab": {
          "base_uri": "https://localhost:8080/",
          "height": 319
        }
      },
      "source": [
        "prsadata.info()"
      ],
      "execution_count": 7,
      "outputs": [
        {
          "output_type": "stream",
          "text": [
            "<class 'pandas.core.frame.DataFrame'>\n",
            "RangeIndex: 43824 entries, 0 to 43823\n",
            "Data columns (total 13 columns):\n",
            "No       43824 non-null int64\n",
            "year     43824 non-null int64\n",
            "month    43824 non-null int64\n",
            "day      43824 non-null int64\n",
            "hour     43824 non-null int64\n",
            "pm2.5    41757 non-null float64\n",
            "DEWP     43824 non-null int64\n",
            "TEMP     43824 non-null float64\n",
            "PRES     43824 non-null float64\n",
            "cbwd     43824 non-null object\n",
            "Iws      43824 non-null float64\n",
            "Is       43824 non-null int64\n",
            "Ir       43824 non-null int64\n",
            "dtypes: float64(4), int64(8), object(1)\n",
            "memory usage: 4.3+ MB\n"
          ],
          "name": "stdout"
        }
      ]
    },
    {
      "cell_type": "code",
      "metadata": {
        "id": "Bj_yWGy2psMP",
        "colab_type": "code",
        "outputId": "9aced226-f710-4ec3-b6d6-d921c5d31908",
        "colab": {
          "base_uri": "https://localhost:8080/",
          "height": 304
        }
      },
      "source": [
        "prsadata.describe()"
      ],
      "execution_count": 8,
      "outputs": [
        {
          "output_type": "execute_result",
          "data": {
            "text/html": [
              "<div>\n",
              "<style scoped>\n",
              "    .dataframe tbody tr th:only-of-type {\n",
              "        vertical-align: middle;\n",
              "    }\n",
              "\n",
              "    .dataframe tbody tr th {\n",
              "        vertical-align: top;\n",
              "    }\n",
              "\n",
              "    .dataframe thead th {\n",
              "        text-align: right;\n",
              "    }\n",
              "</style>\n",
              "<table border=\"1\" class=\"dataframe\">\n",
              "  <thead>\n",
              "    <tr style=\"text-align: right;\">\n",
              "      <th></th>\n",
              "      <th>No</th>\n",
              "      <th>year</th>\n",
              "      <th>month</th>\n",
              "      <th>day</th>\n",
              "      <th>hour</th>\n",
              "      <th>pm2.5</th>\n",
              "      <th>DEWP</th>\n",
              "      <th>TEMP</th>\n",
              "      <th>PRES</th>\n",
              "      <th>Iws</th>\n",
              "      <th>Is</th>\n",
              "      <th>Ir</th>\n",
              "    </tr>\n",
              "  </thead>\n",
              "  <tbody>\n",
              "    <tr>\n",
              "      <th>count</th>\n",
              "      <td>43824.000000</td>\n",
              "      <td>43824.000000</td>\n",
              "      <td>43824.000000</td>\n",
              "      <td>43824.000000</td>\n",
              "      <td>43824.000000</td>\n",
              "      <td>41757.000000</td>\n",
              "      <td>43824.000000</td>\n",
              "      <td>43824.000000</td>\n",
              "      <td>43824.000000</td>\n",
              "      <td>43824.000000</td>\n",
              "      <td>43824.000000</td>\n",
              "      <td>43824.000000</td>\n",
              "    </tr>\n",
              "    <tr>\n",
              "      <th>mean</th>\n",
              "      <td>21912.500000</td>\n",
              "      <td>2012.000000</td>\n",
              "      <td>6.523549</td>\n",
              "      <td>15.727820</td>\n",
              "      <td>11.500000</td>\n",
              "      <td>98.613215</td>\n",
              "      <td>1.817246</td>\n",
              "      <td>12.448521</td>\n",
              "      <td>1016.447654</td>\n",
              "      <td>23.889140</td>\n",
              "      <td>0.052734</td>\n",
              "      <td>0.194916</td>\n",
              "    </tr>\n",
              "    <tr>\n",
              "      <th>std</th>\n",
              "      <td>12651.043435</td>\n",
              "      <td>1.413842</td>\n",
              "      <td>3.448572</td>\n",
              "      <td>8.799425</td>\n",
              "      <td>6.922266</td>\n",
              "      <td>92.050387</td>\n",
              "      <td>14.433440</td>\n",
              "      <td>12.198613</td>\n",
              "      <td>10.268698</td>\n",
              "      <td>50.010635</td>\n",
              "      <td>0.760375</td>\n",
              "      <td>1.415867</td>\n",
              "    </tr>\n",
              "    <tr>\n",
              "      <th>min</th>\n",
              "      <td>1.000000</td>\n",
              "      <td>2010.000000</td>\n",
              "      <td>1.000000</td>\n",
              "      <td>1.000000</td>\n",
              "      <td>0.000000</td>\n",
              "      <td>0.000000</td>\n",
              "      <td>-40.000000</td>\n",
              "      <td>-19.000000</td>\n",
              "      <td>991.000000</td>\n",
              "      <td>0.450000</td>\n",
              "      <td>0.000000</td>\n",
              "      <td>0.000000</td>\n",
              "    </tr>\n",
              "    <tr>\n",
              "      <th>25%</th>\n",
              "      <td>10956.750000</td>\n",
              "      <td>2011.000000</td>\n",
              "      <td>4.000000</td>\n",
              "      <td>8.000000</td>\n",
              "      <td>5.750000</td>\n",
              "      <td>29.000000</td>\n",
              "      <td>-10.000000</td>\n",
              "      <td>2.000000</td>\n",
              "      <td>1008.000000</td>\n",
              "      <td>1.790000</td>\n",
              "      <td>0.000000</td>\n",
              "      <td>0.000000</td>\n",
              "    </tr>\n",
              "    <tr>\n",
              "      <th>50%</th>\n",
              "      <td>21912.500000</td>\n",
              "      <td>2012.000000</td>\n",
              "      <td>7.000000</td>\n",
              "      <td>16.000000</td>\n",
              "      <td>11.500000</td>\n",
              "      <td>72.000000</td>\n",
              "      <td>2.000000</td>\n",
              "      <td>14.000000</td>\n",
              "      <td>1016.000000</td>\n",
              "      <td>5.370000</td>\n",
              "      <td>0.000000</td>\n",
              "      <td>0.000000</td>\n",
              "    </tr>\n",
              "    <tr>\n",
              "      <th>75%</th>\n",
              "      <td>32868.250000</td>\n",
              "      <td>2013.000000</td>\n",
              "      <td>10.000000</td>\n",
              "      <td>23.000000</td>\n",
              "      <td>17.250000</td>\n",
              "      <td>137.000000</td>\n",
              "      <td>15.000000</td>\n",
              "      <td>23.000000</td>\n",
              "      <td>1025.000000</td>\n",
              "      <td>21.910000</td>\n",
              "      <td>0.000000</td>\n",
              "      <td>0.000000</td>\n",
              "    </tr>\n",
              "    <tr>\n",
              "      <th>max</th>\n",
              "      <td>43824.000000</td>\n",
              "      <td>2014.000000</td>\n",
              "      <td>12.000000</td>\n",
              "      <td>31.000000</td>\n",
              "      <td>23.000000</td>\n",
              "      <td>994.000000</td>\n",
              "      <td>28.000000</td>\n",
              "      <td>42.000000</td>\n",
              "      <td>1046.000000</td>\n",
              "      <td>585.600000</td>\n",
              "      <td>27.000000</td>\n",
              "      <td>36.000000</td>\n",
              "    </tr>\n",
              "  </tbody>\n",
              "</table>\n",
              "</div>"
            ],
            "text/plain": [
              "                 No          year  ...            Is            Ir\n",
              "count  43824.000000  43824.000000  ...  43824.000000  43824.000000\n",
              "mean   21912.500000   2012.000000  ...      0.052734      0.194916\n",
              "std    12651.043435      1.413842  ...      0.760375      1.415867\n",
              "min        1.000000   2010.000000  ...      0.000000      0.000000\n",
              "25%    10956.750000   2011.000000  ...      0.000000      0.000000\n",
              "50%    21912.500000   2012.000000  ...      0.000000      0.000000\n",
              "75%    32868.250000   2013.000000  ...      0.000000      0.000000\n",
              "max    43824.000000   2014.000000  ...     27.000000     36.000000\n",
              "\n",
              "[8 rows x 12 columns]"
            ]
          },
          "metadata": {
            "tags": []
          },
          "execution_count": 8
        }
      ]
    },
    {
      "cell_type": "markdown",
      "metadata": {
        "id": "h0YML3pnoDyj",
        "colab_type": "text"
      },
      "source": [
        "Dropping the number feature. This is not neccessary for predicting PM2.5."
      ]
    },
    {
      "cell_type": "code",
      "metadata": {
        "id": "OXoLYeHD99ld",
        "colab_type": "code",
        "colab": {}
      },
      "source": [
        "prsadata=prsadata.drop(\"No\", axis=1)"
      ],
      "execution_count": 0,
      "outputs": []
    },
    {
      "cell_type": "markdown",
      "metadata": {
        "id": "DmtN88ZLEr9_",
        "colab_type": "text"
      },
      "source": [
        "# PLOT THE CLASSIFICATION DATA FOR EACH ATTRIBUTE"
      ]
    },
    {
      "cell_type": "code",
      "metadata": {
        "id": "HssBTgsVpy_8",
        "colab_type": "code",
        "outputId": "d7db5106-30bb-4b65-fb4c-1de0a247b180",
        "colab": {
          "base_uri": "https://localhost:8080/",
          "height": 879
        }
      },
      "source": [
        "%matplotlib inline\n",
        "import matplotlib.pyplot as plt\n",
        "prsadata.hist(bins=50, figsize=(15,15))\n",
        "plt.show()"
      ],
      "execution_count": 10,
      "outputs": [
        {
          "output_type": "display_data",
          "data": {
            "image/png": "[encoded data removed]",
            "text/plain": [
              "<Figure size 1080x1080 with 12 Axes>"
            ]
          },
          "metadata": {
            "tags": []
          }
        }
      ]
    },
    {
      "cell_type": "code",
      "metadata": {
        "id": "tkz4UT5gc5Eg",
        "colab_type": "code",
        "colab": {
          "base_uri": "https://localhost:8080/",
          "height": 282
        },
        "outputId": "2ff59d39-03cc-4a60-a061-2147c1ad5079"
      },
      "source": [
        "prsadata[\"pm2.5\"].hist()\n"
      ],
      "execution_count": 11,
      "outputs": [
        {
          "output_type": "execute_result",
          "data": {
            "text/plain": [
              "<matplotlib.axes._subplots.AxesSubplot at 0x7fb541c38ba8>"
            ]
          },
          "metadata": {
            "tags": []
          },
          "execution_count": 11
        },
        {
          "output_type": "display_data",
          "data": {
            "image/png": "[encoded data removed]",
            "text/plain": [
              "<Figure size 432x288 with 1 Axes>"
            ]
          },
          "metadata": {
            "tags": []
          }
        }
      ]
    },
    {
      "cell_type": "code",
      "metadata": {
        "id": "sq8uxXTrpkEo",
        "colab_type": "code",
        "outputId": "c79bb8f4-1497-4295-efc2-1656e810fc51",
        "colab": {
          "base_uri": "https://localhost:8080/",
          "height": 101
        }
      },
      "source": [
        "prsadata[\"cbwd\"].value_counts()"
      ],
      "execution_count": 12,
      "outputs": [
        {
          "output_type": "execute_result",
          "data": {
            "text/plain": [
              "SE    15290\n",
              "NW    14150\n",
              "cv     9387\n",
              "NE     4997\n",
              "Name: cbwd, dtype: int64"
            ]
          },
          "metadata": {
            "tags": []
          },
          "execution_count": 12
        }
      ]
    },
    {
      "cell_type": "code",
      "metadata": {
        "id": "qzYYHPg6cEih",
        "colab_type": "code",
        "colab": {
          "base_uri": "https://localhost:8080/",
          "height": 286
        },
        "outputId": "02e428b0-e562-4b96-90cc-a2cf74d8b5d9"
      },
      "source": [
        "prsadata[\"cbwd\"].hist()"
      ],
      "execution_count": 13,
      "outputs": [
        {
          "output_type": "execute_result",
          "data": {
            "text/plain": [
              "<matplotlib.axes._subplots.AxesSubplot at 0x7fb5408a7978>"
            ]
          },
          "metadata": {
            "tags": []
          },
          "execution_count": 13
        },
        {
          "output_type": "display_data",
          "data": {
            "image/png": "[encoded data removed]",
            "text/plain": [
              "<Figure size 432x288 with 1 Axes>"
            ]
          },
          "metadata": {
            "tags": []
          }
        }
      ]
    },
    {
      "cell_type": "code",
      "metadata": {
        "id": "HhBaAxFgflBU",
        "colab_type": "code",
        "colab": {
          "base_uri": "https://localhost:8080/",
          "height": 195
        },
        "outputId": "78c68303-2690-4532-a97d-a9b4cf2c9807"
      },
      "source": [
        "from sklearn.preprocessing import LabelEncoder\n",
        "encoder = LabelEncoder()\n",
        "prsadata['cbwd'] = encoder.fit_transform(prsadata['cbwd'].astype('str')) \n",
        "prsadata.head()\n"
      ],
      "execution_count": 14,
      "outputs": [
        {
          "output_type": "execute_result",
          "data": {
            "text/html": [
              "<div>\n",
              "<style scoped>\n",
              "    .dataframe tbody tr th:only-of-type {\n",
              "        vertical-align: middle;\n",
              "    }\n",
              "\n",
              "    .dataframe tbody tr th {\n",
              "        vertical-align: top;\n",
              "    }\n",
              "\n",
              "    .dataframe thead th {\n",
              "        text-align: right;\n",
              "    }\n",
              "</style>\n",
              "<table border=\"1\" class=\"dataframe\">\n",
              "  <thead>\n",
              "    <tr style=\"text-align: right;\">\n",
              "      <th></th>\n",
              "      <th>year</th>\n",
              "      <th>month</th>\n",
              "      <th>day</th>\n",
              "      <th>hour</th>\n",
              "      <th>pm2.5</th>\n",
              "      <th>DEWP</th>\n",
              "      <th>TEMP</th>\n",
              "      <th>PRES</th>\n",
              "      <th>cbwd</th>\n",
              "      <th>Iws</th>\n",
              "      <th>Is</th>\n",
              "      <th>Ir</th>\n",
              "    </tr>\n",
              "  </thead>\n",
              "  <tbody>\n",
              "    <tr>\n",
              "      <th>0</th>\n",
              "      <td>2010</td>\n",
              "      <td>1</td>\n",
              "      <td>1</td>\n",
              "      <td>0</td>\n",
              "      <td>NaN</td>\n",
              "      <td>-21</td>\n",
              "      <td>-11.0</td>\n",
              "      <td>1021.0</td>\n",
              "      <td>1</td>\n",
              "      <td>1.79</td>\n",
              "      <td>0</td>\n",
              "      <td>0</td>\n",
              "    </tr>\n",
              "    <tr>\n",
              "      <th>1</th>\n",
              "      <td>2010</td>\n",
              "      <td>1</td>\n",
              "      <td>1</td>\n",
              "      <td>1</td>\n",
              "      <td>NaN</td>\n",
              "      <td>-21</td>\n",
              "      <td>-12.0</td>\n",
              "      <td>1020.0</td>\n",
              "      <td>1</td>\n",
              "      <td>4.92</td>\n",
              "      <td>0</td>\n",
              "      <td>0</td>\n",
              "    </tr>\n",
              "    <tr>\n",
              "      <th>2</th>\n",
              "      <td>2010</td>\n",
              "      <td>1</td>\n",
              "      <td>1</td>\n",
              "      <td>2</td>\n",
              "      <td>NaN</td>\n",
              "      <td>-21</td>\n",
              "      <td>-11.0</td>\n",
              "      <td>1019.0</td>\n",
              "      <td>1</td>\n",
              "      <td>6.71</td>\n",
              "      <td>0</td>\n",
              "      <td>0</td>\n",
              "    </tr>\n",
              "    <tr>\n",
              "      <th>3</th>\n",
              "      <td>2010</td>\n",
              "      <td>1</td>\n",
              "      <td>1</td>\n",
              "      <td>3</td>\n",
              "      <td>NaN</td>\n",
              "      <td>-21</td>\n",
              "      <td>-14.0</td>\n",
              "      <td>1019.0</td>\n",
              "      <td>1</td>\n",
              "      <td>9.84</td>\n",
              "      <td>0</td>\n",
              "      <td>0</td>\n",
              "    </tr>\n",
              "    <tr>\n",
              "      <th>4</th>\n",
              "      <td>2010</td>\n",
              "      <td>1</td>\n",
              "      <td>1</td>\n",
              "      <td>4</td>\n",
              "      <td>NaN</td>\n",
              "      <td>-20</td>\n",
              "      <td>-12.0</td>\n",
              "      <td>1018.0</td>\n",
              "      <td>1</td>\n",
              "      <td>12.97</td>\n",
              "      <td>0</td>\n",
              "      <td>0</td>\n",
              "    </tr>\n",
              "  </tbody>\n",
              "</table>\n",
              "</div>"
            ],
            "text/plain": [
              "   year  month  day  hour  pm2.5  DEWP  TEMP    PRES  cbwd    Iws  Is  Ir\n",
              "0  2010      1    1     0    NaN   -21 -11.0  1021.0     1   1.79   0   0\n",
              "1  2010      1    1     1    NaN   -21 -12.0  1020.0     1   4.92   0   0\n",
              "2  2010      1    1     2    NaN   -21 -11.0  1019.0     1   6.71   0   0\n",
              "3  2010      1    1     3    NaN   -21 -14.0  1019.0     1   9.84   0   0\n",
              "4  2010      1    1     4    NaN   -20 -12.0  1018.0     1  12.97   0   0"
            ]
          },
          "metadata": {
            "tags": []
          },
          "execution_count": 14
        }
      ]
    },
    {
      "cell_type": "code",
      "metadata": {
        "id": "DCjOqZ7vgDbg",
        "colab_type": "code",
        "colab": {
          "base_uri": "https://localhost:8080/",
          "height": 286
        },
        "outputId": "e16aeb44-a900-4ce7-bc01-30ad808d5cd2"
      },
      "source": [
        "prsadata[\"cbwd\"].hist()"
      ],
      "execution_count": 15,
      "outputs": [
        {
          "output_type": "execute_result",
          "data": {
            "text/plain": [
              "<matplotlib.axes._subplots.AxesSubplot at 0x7fb5409db080>"
            ]
          },
          "metadata": {
            "tags": []
          },
          "execution_count": 15
        },
        {
          "output_type": "display_data",
          "data": {
            "image/png": "[encoded data removed]",
            "text/plain": [
              "<Figure size 432x288 with 1 Axes>"
            ]
          },
          "metadata": {
            "tags": []
          }
        }
      ]
    },
    {
      "cell_type": "markdown",
      "metadata": {
        "id": "cT_hXAnJAsss",
        "colab_type": "text"
      },
      "source": [
        "#Data Scrubbing"
      ]
    },
    {
      "cell_type": "code",
      "metadata": {
        "id": "Eo_9kmBGAqrl",
        "colab_type": "code",
        "colab": {}
      },
      "source": [
        "median = prsadata[\"pm2.5\"].median()\n",
        "prsadata[\"pm2.5\"].fillna(median, inplace=True) "
      ],
      "execution_count": 0,
      "outputs": []
    },
    {
      "cell_type": "code",
      "metadata": {
        "id": "Olhkl5AGA12j",
        "colab_type": "code",
        "colab": {
          "base_uri": "https://localhost:8080/",
          "height": 304
        },
        "outputId": "6a8828bc-28b5-472a-fdee-3d1ed5e45c54"
      },
      "source": [
        "prsadata.describe()"
      ],
      "execution_count": 23,
      "outputs": [
        {
          "output_type": "execute_result",
          "data": {
            "text/html": [
              "<div>\n",
              "<style scoped>\n",
              "    .dataframe tbody tr th:only-of-type {\n",
              "        vertical-align: middle;\n",
              "    }\n",
              "\n",
              "    .dataframe tbody tr th {\n",
              "        vertical-align: top;\n",
              "    }\n",
              "\n",
              "    .dataframe thead th {\n",
              "        text-align: right;\n",
              "    }\n",
              "</style>\n",
              "<table border=\"1\" class=\"dataframe\">\n",
              "  <thead>\n",
              "    <tr style=\"text-align: right;\">\n",
              "      <th></th>\n",
              "      <th>year</th>\n",
              "      <th>month</th>\n",
              "      <th>day</th>\n",
              "      <th>hour</th>\n",
              "      <th>pm2.5</th>\n",
              "      <th>DEWP</th>\n",
              "      <th>TEMP</th>\n",
              "      <th>PRES</th>\n",
              "      <th>cbwd</th>\n",
              "      <th>Iws</th>\n",
              "      <th>Is</th>\n",
              "      <th>Ir</th>\n",
              "    </tr>\n",
              "  </thead>\n",
              "  <tbody>\n",
              "    <tr>\n",
              "      <th>count</th>\n",
              "      <td>43824.000000</td>\n",
              "      <td>43824.000000</td>\n",
              "      <td>43824.000000</td>\n",
              "      <td>43824.000000</td>\n",
              "      <td>43824.000000</td>\n",
              "      <td>43824.000000</td>\n",
              "      <td>43824.000000</td>\n",
              "      <td>43824.000000</td>\n",
              "      <td>43824.000000</td>\n",
              "      <td>43824.000000</td>\n",
              "      <td>43824.000000</td>\n",
              "      <td>43824.000000</td>\n",
              "    </tr>\n",
              "    <tr>\n",
              "      <th>mean</th>\n",
              "      <td>2012.000000</td>\n",
              "      <td>6.523549</td>\n",
              "      <td>15.727820</td>\n",
              "      <td>11.500000</td>\n",
              "      <td>97.357977</td>\n",
              "      <td>1.817246</td>\n",
              "      <td>12.448521</td>\n",
              "      <td>1016.447654</td>\n",
              "      <td>1.663267</td>\n",
              "      <td>23.889140</td>\n",
              "      <td>0.052734</td>\n",
              "      <td>0.194916</td>\n",
              "    </tr>\n",
              "    <tr>\n",
              "      <th>std</th>\n",
              "      <td>1.413842</td>\n",
              "      <td>3.448572</td>\n",
              "      <td>8.799425</td>\n",
              "      <td>6.922266</td>\n",
              "      <td>90.030249</td>\n",
              "      <td>14.433440</td>\n",
              "      <td>12.198613</td>\n",
              "      <td>10.268698</td>\n",
              "      <td>0.937981</td>\n",
              "      <td>50.010635</td>\n",
              "      <td>0.760375</td>\n",
              "      <td>1.415867</td>\n",
              "    </tr>\n",
              "    <tr>\n",
              "      <th>min</th>\n",
              "      <td>2010.000000</td>\n",
              "      <td>1.000000</td>\n",
              "      <td>1.000000</td>\n",
              "      <td>0.000000</td>\n",
              "      <td>0.000000</td>\n",
              "      <td>-40.000000</td>\n",
              "      <td>-19.000000</td>\n",
              "      <td>991.000000</td>\n",
              "      <td>0.000000</td>\n",
              "      <td>0.450000</td>\n",
              "      <td>0.000000</td>\n",
              "      <td>0.000000</td>\n",
              "    </tr>\n",
              "    <tr>\n",
              "      <th>25%</th>\n",
              "      <td>2011.000000</td>\n",
              "      <td>4.000000</td>\n",
              "      <td>8.000000</td>\n",
              "      <td>5.750000</td>\n",
              "      <td>31.000000</td>\n",
              "      <td>-10.000000</td>\n",
              "      <td>2.000000</td>\n",
              "      <td>1008.000000</td>\n",
              "      <td>1.000000</td>\n",
              "      <td>1.790000</td>\n",
              "      <td>0.000000</td>\n",
              "      <td>0.000000</td>\n",
              "    </tr>\n",
              "    <tr>\n",
              "      <th>50%</th>\n",
              "      <td>2012.000000</td>\n",
              "      <td>7.000000</td>\n",
              "      <td>16.000000</td>\n",
              "      <td>11.500000</td>\n",
              "      <td>72.000000</td>\n",
              "      <td>2.000000</td>\n",
              "      <td>14.000000</td>\n",
              "      <td>1016.000000</td>\n",
              "      <td>2.000000</td>\n",
              "      <td>5.370000</td>\n",
              "      <td>0.000000</td>\n",
              "      <td>0.000000</td>\n",
              "    </tr>\n",
              "    <tr>\n",
              "      <th>75%</th>\n",
              "      <td>2013.000000</td>\n",
              "      <td>10.000000</td>\n",
              "      <td>23.000000</td>\n",
              "      <td>17.250000</td>\n",
              "      <td>132.000000</td>\n",
              "      <td>15.000000</td>\n",
              "      <td>23.000000</td>\n",
              "      <td>1025.000000</td>\n",
              "      <td>2.000000</td>\n",
              "      <td>21.910000</td>\n",
              "      <td>0.000000</td>\n",
              "      <td>0.000000</td>\n",
              "    </tr>\n",
              "    <tr>\n",
              "      <th>max</th>\n",
              "      <td>2014.000000</td>\n",
              "      <td>12.000000</td>\n",
              "      <td>31.000000</td>\n",
              "      <td>23.000000</td>\n",
              "      <td>994.000000</td>\n",
              "      <td>28.000000</td>\n",
              "      <td>42.000000</td>\n",
              "      <td>1046.000000</td>\n",
              "      <td>3.000000</td>\n",
              "      <td>585.600000</td>\n",
              "      <td>27.000000</td>\n",
              "      <td>36.000000</td>\n",
              "    </tr>\n",
              "  </tbody>\n",
              "</table>\n",
              "</div>"
            ],
            "text/plain": [
              "               year         month  ...            Is            Ir\n",
              "count  43824.000000  43824.000000  ...  43824.000000  43824.000000\n",
              "mean    2012.000000      6.523549  ...      0.052734      0.194916\n",
              "std        1.413842      3.448572  ...      0.760375      1.415867\n",
              "min     2010.000000      1.000000  ...      0.000000      0.000000\n",
              "25%     2011.000000      4.000000  ...      0.000000      0.000000\n",
              "50%     2012.000000      7.000000  ...      0.000000      0.000000\n",
              "75%     2013.000000     10.000000  ...      0.000000      0.000000\n",
              "max     2014.000000     12.000000  ...     27.000000     36.000000\n",
              "\n",
              "[8 rows x 12 columns]"
            ]
          },
          "metadata": {
            "tags": []
          },
          "execution_count": 23
        }
      ]
    },
    {
      "cell_type": "code",
      "metadata": {
        "id": "zeHlhoSkA9rc",
        "colab_type": "code",
        "colab": {
          "base_uri": "https://localhost:8080/",
          "height": 302
        },
        "outputId": "2563b4b7-e20a-4ddf-961d-a373e0b1118c"
      },
      "source": [
        "prsadata.info()"
      ],
      "execution_count": 24,
      "outputs": [
        {
          "output_type": "stream",
          "text": [
            "<class 'pandas.core.frame.DataFrame'>\n",
            "RangeIndex: 43824 entries, 0 to 43823\n",
            "Data columns (total 12 columns):\n",
            "year     43824 non-null int64\n",
            "month    43824 non-null int64\n",
            "day      43824 non-null int64\n",
            "hour     43824 non-null int64\n",
            "pm2.5    43824 non-null float64\n",
            "DEWP     43824 non-null int64\n",
            "TEMP     43824 non-null float64\n",
            "PRES     43824 non-null float64\n",
            "cbwd     43824 non-null int64\n",
            "Iws      43824 non-null float64\n",
            "Is       43824 non-null int64\n",
            "Ir       43824 non-null int64\n",
            "dtypes: float64(4), int64(8)\n",
            "memory usage: 4.0 MB\n"
          ],
          "name": "stdout"
        }
      ]
    },
    {
      "cell_type": "code",
      "metadata": {
        "id": "3mkQBpmYBDf0",
        "colab_type": "code",
        "colab": {
          "base_uri": "https://localhost:8080/",
          "height": 235
        },
        "outputId": "f45d09f4-4881-4517-e857-dc4edfcfec63"
      },
      "source": [
        "prsadata.isnull().sum()"
      ],
      "execution_count": 25,
      "outputs": [
        {
          "output_type": "execute_result",
          "data": {
            "text/plain": [
              "year     0\n",
              "month    0\n",
              "day      0\n",
              "hour     0\n",
              "pm2.5    0\n",
              "DEWP     0\n",
              "TEMP     0\n",
              "PRES     0\n",
              "cbwd     0\n",
              "Iws      0\n",
              "Is       0\n",
              "Ir       0\n",
              "dtype: int64"
            ]
          },
          "metadata": {
            "tags": []
          },
          "execution_count": 25
        }
      ]
    },
    {
      "cell_type": "code",
      "metadata": {
        "id": "NFpzuza6BLPL",
        "colab_type": "code",
        "colab": {
          "base_uri": "https://localhost:8080/",
          "height": 34
        },
        "outputId": "58c072d4-b468-4afb-9d43-6d05173357ac"
      },
      "source": [
        "prsadata.isnull().values.any()"
      ],
      "execution_count": 26,
      "outputs": [
        {
          "output_type": "execute_result",
          "data": {
            "text/plain": [
              "False"
            ]
          },
          "metadata": {
            "tags": []
          },
          "execution_count": 26
        }
      ]
    },
    {
      "cell_type": "code",
      "metadata": {
        "id": "SL6xJHc-BQby",
        "colab_type": "code",
        "colab": {
          "base_uri": "https://localhost:8080/",
          "height": 47
        },
        "outputId": "d31e43e5-fa14-4d2a-ec43-21d4ae28a6f0"
      },
      "source": [
        "prsadata[prsadata[\"pm2.5\"].isnull()]"
      ],
      "execution_count": 27,
      "outputs": [
        {
          "output_type": "execute_result",
          "data": {
            "text/html": [
              "<div>\n",
              "<style scoped>\n",
              "    .dataframe tbody tr th:only-of-type {\n",
              "        vertical-align: middle;\n",
              "    }\n",
              "\n",
              "    .dataframe tbody tr th {\n",
              "        vertical-align: top;\n",
              "    }\n",
              "\n",
              "    .dataframe thead th {\n",
              "        text-align: right;\n",
              "    }\n",
              "</style>\n",
              "<table border=\"1\" class=\"dataframe\">\n",
              "  <thead>\n",
              "    <tr style=\"text-align: right;\">\n",
              "      <th></th>\n",
              "      <th>year</th>\n",
              "      <th>month</th>\n",
              "      <th>day</th>\n",
              "      <th>hour</th>\n",
              "      <th>pm2.5</th>\n",
              "      <th>DEWP</th>\n",
              "      <th>TEMP</th>\n",
              "      <th>PRES</th>\n",
              "      <th>cbwd</th>\n",
              "      <th>Iws</th>\n",
              "      <th>Is</th>\n",
              "      <th>Ir</th>\n",
              "    </tr>\n",
              "  </thead>\n",
              "  <tbody>\n",
              "  </tbody>\n",
              "</table>\n",
              "</div>"
            ],
            "text/plain": [
              "Empty DataFrame\n",
              "Columns: [year, month, day, hour, pm2.5, DEWP, TEMP, PRES, cbwd, Iws, Is, Ir]\n",
              "Index: []"
            ]
          },
          "metadata": {
            "tags": []
          },
          "execution_count": 27
        }
      ]
    },
    {
      "cell_type": "code",
      "metadata": {
        "id": "yK7Jn3fjBX6H",
        "colab_type": "code",
        "colab": {
          "base_uri": "https://localhost:8080/",
          "height": 34
        },
        "outputId": "2d6345b0-a408-41bc-e34d-24f23c986269"
      },
      "source": [
        "prsadata.shape"
      ],
      "execution_count": 29,
      "outputs": [
        {
          "output_type": "execute_result",
          "data": {
            "text/plain": [
              "(43824, 12)"
            ]
          },
          "metadata": {
            "tags": []
          },
          "execution_count": 29
        }
      ]
    },
    {
      "cell_type": "code",
      "metadata": {
        "id": "Uke4yUyVBWZw",
        "colab_type": "code",
        "colab": {
          "base_uri": "https://localhost:8080/",
          "height": 282
        },
        "outputId": "63414770-c59f-44a6-edd5-d26108dfa5de"
      },
      "source": [
        "prsadata[\"pm2.5\"].hist()"
      ],
      "execution_count": 28,
      "outputs": [
        {
          "output_type": "execute_result",
          "data": {
            "text/plain": [
              "<matplotlib.axes._subplots.AxesSubplot at 0x7fb5409e7eb8>"
            ]
          },
          "metadata": {
            "tags": []
          },
          "execution_count": 28
        },
        {
          "output_type": "display_data",
          "data": {
            "image/png": "[encoded data removed]",
            "text/plain": [
              "<Figure size 432x288 with 1 Axes>"
            ]
          },
          "metadata": {
            "tags": []
          }
        }
      ]
    },
    {
      "cell_type": "code",
      "metadata": {
        "id": "ZNXJzTcDBec7",
        "colab_type": "code",
        "colab": {
          "base_uri": "https://localhost:8080/",
          "height": 309
        },
        "outputId": "66edf892-c0f5-49c4-de1b-b9d9fc40450a"
      },
      "source": [
        "import seaborn as sns\n",
        "corr = prsadata.corr()\n",
        "sns.heatmap(corr, \n",
        "            xticklabels=corr.columns.values,\n",
        "            yticklabels=corr.columns.values)"
      ],
      "execution_count": 30,
      "outputs": [
        {
          "output_type": "execute_result",
          "data": {
            "text/plain": [
              "<matplotlib.axes._subplots.AxesSubplot at 0x7fb5413ec2b0>"
            ]
          },
          "metadata": {
            "tags": []
          },
          "execution_count": 30
        },
        {
          "output_type": "display_data",
          "data": {
            "image/png": "[encoded data removed]",
            "text/plain": [
              "<Figure size 432x288 with 2 Axes>"
            ]
          },
          "metadata": {
            "tags": []
          }
        }
      ]
    },
    {
      "cell_type": "markdown",
      "metadata": {
        "id": "YGEHH83Je54Q",
        "colab_type": "text"
      },
      "source": [
        "# VISUALIZING FEATURE"
      ]
    },
    {
      "cell_type": "code",
      "metadata": {
        "id": "AOH9X5Kre9qq",
        "colab_type": "code",
        "colab": {
          "base_uri": "https://localhost:8080/",
          "height": 295
        },
        "outputId": "3cfea667-10c6-444d-fdc7-d045c621915a"
      },
      "source": [
        "x = prsadata['month']\n",
        "y = prsadata['pm2.5']\n",
        "plt.scatter(x,y)\n",
        "plt.xlabel('Month')\n",
        "plt.ylabel('PM2.5 Level')\n",
        "plt.title('PM2.5 by Month')\n",
        "plt.show()"
      ],
      "execution_count": 31,
      "outputs": [
        {
          "output_type": "display_data",
          "data": {
            "image/png": "[encoded data removed]",
            "text/plain": [
              "<Figure size 432x288 with 1 Axes>"
            ]
          },
          "metadata": {
            "tags": []
          }
        }
      ]
    },
    {
      "cell_type": "markdown",
      "metadata": {
        "id": "lSCQBnaTkWid",
        "colab_type": "text"
      },
      "source": [
        "When plotting the PM2.5 concentration by month you can clearly see that winter months have a much larger variation in pollution levels, including some very high levels."
      ]
    },
    {
      "cell_type": "code",
      "metadata": {
        "id": "ukUnloDKhsNg",
        "colab_type": "code",
        "colab": {
          "base_uri": "https://localhost:8080/",
          "height": 295
        },
        "outputId": "cd3b69f8-e1fa-4963-b35f-c0266fb03c76"
      },
      "source": [
        "x = prsadata['hour']\n",
        "y = prsadata['pm2.5']\n",
        "plt.scatter(x,y)\n",
        "plt.xlabel('Hour')\n",
        "plt.ylabel('PM2.5 Level')\n",
        "plt.title('PM2.5 by Hour')\n",
        "plt.show()"
      ],
      "execution_count": 32,
      "outputs": [
        {
          "output_type": "display_data",
          "data": {
            "image/png": "[encoded data removed]",
            "text/plain": [
              "<Figure size 432x288 with 1 Axes>"
            ]
          },
          "metadata": {
            "tags": []
          }
        }
      ]
    },
    {
      "cell_type": "code",
      "metadata": {
        "id": "Xkqt0xa1h1mO",
        "colab_type": "code",
        "colab": {
          "base_uri": "https://localhost:8080/",
          "height": 295
        },
        "outputId": "a7cb9b55-fd34-45f3-e5b0-7a6c84268323"
      },
      "source": [
        "x = prsadata['Iws']\n",
        "y = prsadata['pm2.5']\n",
        "plt.scatter(x,y)\n",
        "plt.xlabel('Wind Speed')\n",
        "plt.ylabel('PM2.5 Level')\n",
        "plt.title('PM2.5 by Wind Speed')\n",
        "plt.show()"
      ],
      "execution_count": 33,
      "outputs": [
        {
          "output_type": "display_data",
          "data": {
            "image/png": "[encoded data removed]",
            "text/plain": [
              "<Figure size 432x288 with 1 Axes>"
            ]
          },
          "metadata": {
            "tags": []
          }
        }
      ]
    },
    {
      "cell_type": "markdown",
      "metadata": {
        "id": "uNK4DRUCiF4S",
        "colab_type": "text"
      },
      "source": [
        "There is drop in the PM2.5 levels at higher snow. I think snow may be a good feature to predict PM2.5\n",
        "\n"
      ]
    },
    {
      "cell_type": "code",
      "metadata": {
        "id": "doP8uKMSlVQI",
        "colab_type": "code",
        "colab": {
          "base_uri": "https://localhost:8080/",
          "height": 295
        },
        "outputId": "bbcc2d04-0b37-48d6-9cc6-eed3f03bfa5f"
      },
      "source": [
        "x = prsadata['DEWP']\n",
        "y = prsadata['pm2.5']\n",
        "plt.scatter(x,y)\n",
        "plt.xlabel('DEW Point')\n",
        "plt.ylabel('PM2.5 Level')\n",
        "plt.title('PM2.5 by DEW Point')\n",
        "plt.show()"
      ],
      "execution_count": 34,
      "outputs": [
        {
          "output_type": "display_data",
          "data": {
            "image/png": "[encoded data removed]",
            "text/plain": [
              "<Figure size 432x288 with 1 Axes>"
            ]
          },
          "metadata": {
            "tags": []
          }
        }
      ]
    },
    {
      "cell_type": "code",
      "metadata": {
        "id": "Vxz0kPHzljfS",
        "colab_type": "code",
        "colab": {
          "base_uri": "https://localhost:8080/",
          "height": 295
        },
        "outputId": "0eaa6b06-a931-439a-809b-0752fb471e5a"
      },
      "source": [
        "x = prsadata['TEMP']\n",
        "y = prsadata['pm2.5']\n",
        "plt.scatter(x,y)\n",
        "plt.xlabel('Temperature')\n",
        "plt.ylabel('PM2.5 Level')\n",
        "plt.title('PM2.5 by Temperature')\n",
        "plt.show()"
      ],
      "execution_count": 35,
      "outputs": [
        {
          "output_type": "display_data",
          "data": {
            "image/png": "[encoded data removed]",
            "text/plain": [
              "<Figure size 432x288 with 1 Axes>"
            ]
          },
          "metadata": {
            "tags": []
          }
        }
      ]
    },
    {
      "cell_type": "code",
      "metadata": {
        "id": "HzxncjRBmVs6",
        "colab_type": "code",
        "colab": {
          "base_uri": "https://localhost:8080/",
          "height": 295
        },
        "outputId": "345dd66e-d8cd-41d3-f700-47f9d2f0ae52"
      },
      "source": [
        "x = prsadata['Is']\n",
        "y = prsadata['pm2.5']\n",
        "plt.scatter(x,y)\n",
        "plt.xlabel('Cumulated hours of snow')\n",
        "plt.ylabel('PM2.5 Level')\n",
        "plt.title('PM2.5 by Cumulated hours of Snow')\n",
        "plt.show()"
      ],
      "execution_count": 36,
      "outputs": [
        {
          "output_type": "display_data",
          "data": {
            "image/png": "[encoded data removed]",
            "text/plain": [
              "<Figure size 432x288 with 1 Axes>"
            ]
          },
          "metadata": {
            "tags": []
          }
        }
      ]
    },
    {
      "cell_type": "markdown",
      "metadata": {
        "id": "TgmBlo3VmmxC",
        "colab_type": "text"
      },
      "source": [
        "There is drop in the PM2.5 levels at higher snow. I think snow may be a good feature."
      ]
    },
    {
      "cell_type": "code",
      "metadata": {
        "id": "s4OyGy2wlzTn",
        "colab_type": "code",
        "colab": {
          "base_uri": "https://localhost:8080/",
          "height": 295
        },
        "outputId": "347e5e7e-ac08-45cc-afc1-e7a46be1af14"
      },
      "source": [
        "x = prsadata['Ir']\n",
        "y = prsadata['pm2.5']\n",
        "plt.scatter(x,y)\n",
        "plt.xlabel('Cumulated hours of rain')\n",
        "plt.ylabel('PM2.5 Level')\n",
        "plt.title('PM2.5 by Cumulated hours of rain')\n",
        "plt.show()"
      ],
      "execution_count": 37,
      "outputs": [
        {
          "output_type": "display_data",
          "data": {
            "image/png": "[encoded data removed]",
            "text/plain": [
              "<Figure size 432x288 with 1 Axes>"
            ]
          },
          "metadata": {
            "tags": []
          }
        }
      ]
    },
    {
      "cell_type": "markdown",
      "metadata": {
        "id": "iwgCiDDDmt_e",
        "colab_type": "text"
      },
      "source": [
        "There is drop in the PM2.5 levels at higher rain. It seems rain may be a good feature."
      ]
    },
    {
      "cell_type": "markdown",
      "metadata": {
        "id": "WVcW7fwWkp_W",
        "colab_type": "text"
      },
      "source": [
        "There are spikes which are seen at all times of day that have a high variance. This does not seem predictive.\n",
        "Winter months are a large predictor for PM2.5level. Month is also a good predictor.\n",
        "It is clear that at higher windspeed,rain,and snow lower the PM2.5 level. Wind speed,rain and snow are a good predictor.\n",
        "\n",
        "\n"
      ]
    },
    {
      "cell_type": "markdown",
      "metadata": {
        "id": "Gse_2Rvds9eL",
        "colab_type": "text"
      },
      "source": [
        "# Split dataset"
      ]
    },
    {
      "cell_type": "code",
      "metadata": {
        "id": "YAhSyCNJYEMY",
        "colab_type": "code",
        "colab": {}
      },
      "source": [
        "# to make this notebook's output identical at every run\n",
        "import numpy as np\n",
        "\n",
        "np.random.seed(42)"
      ],
      "execution_count": 0,
      "outputs": []
    },
    {
      "cell_type": "code",
      "metadata": {
        "id": "CHoRZJwKwhed",
        "colab_type": "code",
        "colab": {}
      },
      "source": [
        "X = prsadata.drop(\"pm2.5\", axis=1) \n",
        "y = prsadata[\"pm2.5\"].copy()"
      ],
      "execution_count": 0,
      "outputs": []
    },
    {
      "cell_type": "code",
      "metadata": {
        "id": "ymlxREtLyIS7",
        "colab_type": "code",
        "colab": {
          "base_uri": "https://localhost:8080/",
          "height": 67
        },
        "outputId": "df41a019-b8f0-475a-e9df-f1e5be36323e"
      },
      "source": [
        "X.columns"
      ],
      "execution_count": 41,
      "outputs": [
        {
          "output_type": "execute_result",
          "data": {
            "text/plain": [
              "Index(['year', 'month', 'day', 'hour', 'DEWP', 'TEMP', 'PRES', 'cbwd', 'Iws',\n",
              "       'Is', 'Ir'],\n",
              "      dtype='object')"
            ]
          },
          "metadata": {
            "tags": []
          },
          "execution_count": 41
        }
      ]
    },
    {
      "cell_type": "code",
      "metadata": {
        "id": "tsfaAPizxcOJ",
        "colab_type": "code",
        "colab": {
          "base_uri": "https://localhost:8080/",
          "height": 34
        },
        "outputId": "00a6177c-587b-45ee-dfb2-59c87c316a8a"
      },
      "source": [
        "X.shape"
      ],
      "execution_count": 42,
      "outputs": [
        {
          "output_type": "execute_result",
          "data": {
            "text/plain": [
              "(43824, 11)"
            ]
          },
          "metadata": {
            "tags": []
          },
          "execution_count": 42
        }
      ]
    },
    {
      "cell_type": "code",
      "metadata": {
        "id": "6G7yTqH9xhSH",
        "colab_type": "code",
        "colab": {
          "base_uri": "https://localhost:8080/",
          "height": 34
        },
        "outputId": "61ae161f-a3d1-44db-b6b1-d246de48dc32"
      },
      "source": [
        "y.shape"
      ],
      "execution_count": 43,
      "outputs": [
        {
          "output_type": "execute_result",
          "data": {
            "text/plain": [
              "(43824,)"
            ]
          },
          "metadata": {
            "tags": []
          },
          "execution_count": 43
        }
      ]
    },
    {
      "cell_type": "code",
      "metadata": {
        "id": "NHc22QoDdEdm",
        "colab_type": "code",
        "colab": {}
      },
      "source": [
        "from sklearn.model_selection import train_test_split\n",
        "\n",
        "X_train, X_test, y_train, y_test = train_test_split(X, y, test_size=0.2, random_state=42)"
      ],
      "execution_count": 0,
      "outputs": []
    },
    {
      "cell_type": "code",
      "metadata": {
        "id": "2vbJRnENIEPH",
        "colab_type": "code",
        "outputId": "c0f094cf-4f85-4d75-913c-7fc039e9394a",
        "colab": {
          "base_uri": "https://localhost:8080/",
          "height": 34
        }
      },
      "source": [
        "len(X_train)"
      ],
      "execution_count": 45,
      "outputs": [
        {
          "output_type": "execute_result",
          "data": {
            "text/plain": [
              "35059"
            ]
          },
          "metadata": {
            "tags": []
          },
          "execution_count": 45
        }
      ]
    },
    {
      "cell_type": "code",
      "metadata": {
        "id": "hL04P5-EIJ0A",
        "colab_type": "code",
        "outputId": "447eddf2-4cd3-4890-e7fa-9982e1a3e0bf",
        "colab": {
          "base_uri": "https://localhost:8080/",
          "height": 34
        }
      },
      "source": [
        "len(X_test)"
      ],
      "execution_count": 46,
      "outputs": [
        {
          "output_type": "execute_result",
          "data": {
            "text/plain": [
              "8765"
            ]
          },
          "metadata": {
            "tags": []
          },
          "execution_count": 46
        }
      ]
    },
    {
      "cell_type": "code",
      "metadata": {
        "id": "3ZPXynCmdNVo",
        "colab_type": "code",
        "outputId": "e6c1ad89-0f3c-47f2-ef93-0ba40ff32ef1",
        "colab": {
          "base_uri": "https://localhost:8080/",
          "height": 195
        }
      },
      "source": [
        "X_train.head()"
      ],
      "execution_count": 47,
      "outputs": [
        {
          "output_type": "execute_result",
          "data": {
            "text/html": [
              "<div>\n",
              "<style scoped>\n",
              "    .dataframe tbody tr th:only-of-type {\n",
              "        vertical-align: middle;\n",
              "    }\n",
              "\n",
              "    .dataframe tbody tr th {\n",
              "        vertical-align: top;\n",
              "    }\n",
              "\n",
              "    .dataframe thead th {\n",
              "        text-align: right;\n",
              "    }\n",
              "</style>\n",
              "<table border=\"1\" class=\"dataframe\">\n",
              "  <thead>\n",
              "    <tr style=\"text-align: right;\">\n",
              "      <th></th>\n",
              "      <th>year</th>\n",
              "      <th>month</th>\n",
              "      <th>day</th>\n",
              "      <th>hour</th>\n",
              "      <th>DEWP</th>\n",
              "      <th>TEMP</th>\n",
              "      <th>PRES</th>\n",
              "      <th>cbwd</th>\n",
              "      <th>Iws</th>\n",
              "      <th>Is</th>\n",
              "      <th>Ir</th>\n",
              "    </tr>\n",
              "  </thead>\n",
              "  <tbody>\n",
              "    <tr>\n",
              "      <th>6670</th>\n",
              "      <td>2010</td>\n",
              "      <td>10</td>\n",
              "      <td>5</td>\n",
              "      <td>22</td>\n",
              "      <td>13</td>\n",
              "      <td>16.0</td>\n",
              "      <td>1013.0</td>\n",
              "      <td>2</td>\n",
              "      <td>1.79</td>\n",
              "      <td>0</td>\n",
              "      <td>0</td>\n",
              "    </tr>\n",
              "    <tr>\n",
              "      <th>23445</th>\n",
              "      <td>2012</td>\n",
              "      <td>9</td>\n",
              "      <td>3</td>\n",
              "      <td>21</td>\n",
              "      <td>8</td>\n",
              "      <td>16.0</td>\n",
              "      <td>1015.0</td>\n",
              "      <td>1</td>\n",
              "      <td>66.15</td>\n",
              "      <td>0</td>\n",
              "      <td>0</td>\n",
              "    </tr>\n",
              "    <tr>\n",
              "      <th>24928</th>\n",
              "      <td>2012</td>\n",
              "      <td>11</td>\n",
              "      <td>4</td>\n",
              "      <td>16</td>\n",
              "      <td>0</td>\n",
              "      <td>4.0</td>\n",
              "      <td>1013.0</td>\n",
              "      <td>1</td>\n",
              "      <td>200.74</td>\n",
              "      <td>0</td>\n",
              "      <td>31</td>\n",
              "    </tr>\n",
              "    <tr>\n",
              "      <th>1588</th>\n",
              "      <td>2010</td>\n",
              "      <td>3</td>\n",
              "      <td>8</td>\n",
              "      <td>4</td>\n",
              "      <td>-5</td>\n",
              "      <td>-4.0</td>\n",
              "      <td>1038.0</td>\n",
              "      <td>2</td>\n",
              "      <td>10.29</td>\n",
              "      <td>3</td>\n",
              "      <td>0</td>\n",
              "    </tr>\n",
              "    <tr>\n",
              "      <th>9737</th>\n",
              "      <td>2011</td>\n",
              "      <td>2</td>\n",
              "      <td>10</td>\n",
              "      <td>17</td>\n",
              "      <td>-4</td>\n",
              "      <td>-3.0</td>\n",
              "      <td>1027.0</td>\n",
              "      <td>2</td>\n",
              "      <td>87.19</td>\n",
              "      <td>19</td>\n",
              "      <td>0</td>\n",
              "    </tr>\n",
              "  </tbody>\n",
              "</table>\n",
              "</div>"
            ],
            "text/plain": [
              "       year  month  day  hour  DEWP  TEMP    PRES  cbwd     Iws  Is  Ir\n",
              "6670   2010     10    5    22    13  16.0  1013.0     2    1.79   0   0\n",
              "23445  2012      9    3    21     8  16.0  1015.0     1   66.15   0   0\n",
              "24928  2012     11    4    16     0   4.0  1013.0     1  200.74   0  31\n",
              "1588   2010      3    8     4    -5  -4.0  1038.0     2   10.29   3   0\n",
              "9737   2011      2   10    17    -4  -3.0  1027.0     2   87.19  19   0"
            ]
          },
          "metadata": {
            "tags": []
          },
          "execution_count": 47
        }
      ]
    },
    {
      "cell_type": "markdown",
      "metadata": {
        "id": "EeBlxfiEtNZK",
        "colab_type": "text"
      },
      "source": [
        "**Prepare the data for Machine Learning algorithms**"
      ]
    },
    {
      "cell_type": "code",
      "metadata": {
        "id": "VfhZL-W_UWB_",
        "colab_type": "code",
        "colab": {}
      },
      "source": [
        "from sklearn.decomposition import PCA\n",
        "\n",
        "pca = PCA(n_components=0.95)\n",
        "X_train_reduced = pca.fit_transform(X_train)"
      ],
      "execution_count": 0,
      "outputs": []
    },
    {
      "cell_type": "code",
      "metadata": {
        "id": "KAYp1hFyWM8I",
        "colab_type": "code",
        "outputId": "b7620189-8a70-48a3-9262-683d551f9234",
        "colab": {
          "base_uri": "https://localhost:8080/",
          "height": 34
        }
      },
      "source": [
        "X_train_reduced.shape"
      ],
      "execution_count": 49,
      "outputs": [
        {
          "output_type": "execute_result",
          "data": {
            "text/plain": [
              "(35059, 3)"
            ]
          },
          "metadata": {
            "tags": []
          },
          "execution_count": 49
        }
      ]
    },
    {
      "cell_type": "code",
      "metadata": {
        "id": "BYhS611QWS_j",
        "colab_type": "code",
        "colab": {}
      },
      "source": [
        "cumsum = np.cumsum(pca.explained_variance_ratio_)\n",
        "d = np.argmax(cumsum >= 0.95) + 1"
      ],
      "execution_count": 0,
      "outputs": []
    },
    {
      "cell_type": "code",
      "metadata": {
        "id": "Lle8hhC5WW69",
        "colab_type": "code",
        "outputId": "d29c81cf-d8fb-4bde-97c0-3a290571fa98",
        "colab": {
          "base_uri": "https://localhost:8080/",
          "height": 34
        }
      },
      "source": [
        "d"
      ],
      "execution_count": 140,
      "outputs": [
        {
          "output_type": "execute_result",
          "data": {
            "text/plain": [
              "3"
            ]
          },
          "metadata": {
            "tags": []
          },
          "execution_count": 140
        }
      ]
    },
    {
      "cell_type": "code",
      "metadata": {
        "id": "x7532-zbWbBM",
        "colab_type": "code",
        "outputId": "feb8f131-7f2c-4926-de4c-8d6265cc9353",
        "colab": {
          "base_uri": "https://localhost:8080/",
          "height": 291
        }
      },
      "source": [
        "import matplotlib.pyplot as plt\n",
        "plt.figure(figsize=(6,4))\n",
        "plt.plot(cumsum, linewidth=3)\n",
        "plt.axis([0, 8, 0, 1])\n",
        "plt.xlabel(\"Dimensions\")\n",
        "plt.ylabel(\"Explained Variance\")\n",
        "plt.plot([d, d], [0, 0.95], \"k:\")\n",
        "plt.plot([0, d], [0.95, 0.95], \"k:\")\n",
        "plt.plot(d, 0.95, \"ko\")\n",
        "plt.annotate(\"Elbow\", xy=(1, 0.85), xytext=(4, 0.7),\n",
        "             arrowprops=dict(arrowstyle=\"->\"), fontsize=16)\n",
        "plt.grid(True)\n",
        "\n",
        "plt.show()"
      ],
      "execution_count": 141,
      "outputs": [
        {
          "output_type": "display_data",
          "data": {
            "image/png": "[encoded data removed]",
            "text/plain": [
              "<Figure size 432x288 with 1 Axes>"
            ]
          },
          "metadata": {
            "tags": []
          }
        }
      ]
    },
    {
      "cell_type": "code",
      "metadata": {
        "id": "hktV1Q4rYcop",
        "colab_type": "code",
        "outputId": "904142a8-e5b8-4c9e-c11d-2a0c281b1857",
        "colab": {
          "base_uri": "https://localhost:8080/",
          "height": 34
        }
      },
      "source": [
        "np.sum(pca.explained_variance_ratio_)"
      ],
      "execution_count": 142,
      "outputs": [
        {
          "output_type": "execute_result",
          "data": {
            "text/plain": [
              "0.9618904263828616"
            ]
          },
          "metadata": {
            "tags": []
          },
          "execution_count": 142
        }
      ]
    },
    {
      "cell_type": "markdown",
      "metadata": {
        "id": "fuoHE5JyfDwe",
        "colab_type": "text"
      },
      "source": [
        "#Linear Regression"
      ]
    },
    {
      "cell_type": "code",
      "metadata": {
        "id": "hH3nkKAR0AIl",
        "colab_type": "code",
        "colab": {}
      },
      "source": [
        "from sklearn.preprocessing import StandardScaler\n",
        "scaler = StandardScaler()\n",
        "X_train_scaled = scaler.fit_transform(X_train.astype(np.float32))\n"
      ],
      "execution_count": 0,
      "outputs": []
    },
    {
      "cell_type": "code",
      "metadata": {
        "id": "Gyxtfm1HfHTs",
        "colab_type": "code",
        "colab": {
          "base_uri": "https://localhost:8080/",
          "height": 34
        },
        "outputId": "15cff7c9-73ad-41be-fd42-54db70fff128"
      },
      "source": [
        "from sklearn.linear_model import LinearRegression\n",
        "from sklearn.metrics import mean_squared_error, mean_absolute_error, r2_score\n",
        "\n",
        "# Create linear regression object\n",
        "regressor = LinearRegression()\n",
        "# Train the model using the training sets\n",
        "regressor.fit(X_train, y_train)"
      ],
      "execution_count": 52,
      "outputs": [
        {
          "output_type": "execute_result",
          "data": {
            "text/plain": [
              "LinearRegression(copy_X=True, fit_intercept=True, n_jobs=None, normalize=False)"
            ]
          },
          "metadata": {
            "tags": []
          },
          "execution_count": 52
        }
      ]
    },
    {
      "cell_type": "code",
      "metadata": {
        "id": "UKbb5xc4FCvr",
        "colab_type": "code",
        "colab": {
          "base_uri": "https://localhost:8080/",
          "height": 84
        },
        "outputId": "e2d1fcce-c61d-48ae-ff8c-fe385b16b765"
      },
      "source": [
        "regressor.intercept_, regressor.coef_"
      ],
      "execution_count": 89,
      "outputs": [
        {
          "output_type": "execute_result",
          "data": {
            "text/plain": [
              "(97.312874,\n",
              " array([  1.350833 ,  -4.9312954,   5.984777 ,   9.97661  ,  63.12402  ,\n",
              "        -76.04509  , -14.687136 ,  10.346989 , -10.513228 ,  -2.2126834,\n",
              "         -9.217285 ], dtype=float32))"
            ]
          },
          "metadata": {
            "tags": []
          },
          "execution_count": 89
        }
      ]
    },
    {
      "cell_type": "code",
      "metadata": {
        "id": "PkDpEmqW0Ra5",
        "colab_type": "code",
        "colab": {}
      },
      "source": [
        "# Make predictions using the testing set\n",
        "lin_pred = regressor.predict(X_test)"
      ],
      "execution_count": 0,
      "outputs": []
    },
    {
      "cell_type": "code",
      "metadata": {
        "id": "_F-n3MR50ar4",
        "colab_type": "code",
        "colab": {
          "base_uri": "https://localhost:8080/",
          "height": 34
        },
        "outputId": "80f29da9-2eec-4a9f-d601-ca83a23eb313"
      },
      "source": [
        "linear_regression_score = regressor.score(X_test, y_test)\n",
        "linear_regression_score"
      ],
      "execution_count": 54,
      "outputs": [
        {
          "output_type": "execute_result",
          "data": {
            "text/plain": [
              "0.2545974516973225"
            ]
          },
          "metadata": {
            "tags": []
          },
          "execution_count": 54
        }
      ]
    },
    {
      "cell_type": "markdown",
      "metadata": {
        "id": "r0Mi-NJx0y2l",
        "colab_type": "text"
      },
      "source": [
        "After applying scaling to Linear"
      ]
    },
    {
      "cell_type": "code",
      "metadata": {
        "id": "ZUKnEdF70oQ3",
        "colab_type": "code",
        "colab": {
          "base_uri": "https://localhost:8080/",
          "height": 34
        },
        "outputId": "44a056bf-3a30-4a2a-9a58-9082cce6e63a"
      },
      "source": [
        "regressor.fit(X_train_scaled, y_train)\n",
        "lin_pred_sc=regressor.predict(X_test)\n",
        "regressor.score(X_test, y_test)"
      ],
      "execution_count": 55,
      "outputs": [
        {
          "output_type": "execute_result",
          "data": {
            "text/plain": [
              "-21607.325568550124"
            ]
          },
          "metadata": {
            "tags": []
          },
          "execution_count": 55
        }
      ]
    },
    {
      "cell_type": "code",
      "metadata": {
        "id": "EkBAViPW-Xbx",
        "colab_type": "code",
        "colab": {
          "base_uri": "https://localhost:8080/",
          "height": 34
        },
        "outputId": "1d2aec36-8fdc-4cd8-fa29-f322bfd86737"
      },
      "source": [
        "from sklearn.metrics import mean_squared_error\n",
        "\n",
        "lin_mse = mean_squared_error(y_test, lin_pred)\n",
        "lin_rmse = np.sqrt(lin_mse)\n",
        "lin_rmse"
      ],
      "execution_count": 56,
      "outputs": [
        {
          "output_type": "execute_result",
          "data": {
            "text/plain": [
              "77.07947712845619"
            ]
          },
          "metadata": {
            "tags": []
          },
          "execution_count": 56
        }
      ]
    },
    {
      "cell_type": "code",
      "metadata": {
        "id": "01dpwbEt2G7O",
        "colab_type": "code",
        "colab": {
          "base_uri": "https://localhost:8080/",
          "height": 84
        },
        "outputId": "8c1a0267-5bbc-4679-e808-9d8f317d1408"
      },
      "source": [
        "print(\"Root Mean Squared Error(RMSE) : \", lin_rmse)\n",
        "print(\"Mean Absolute Error(MAE) : \", mean_absolute_error(y_test, lin_pred))\n",
        "print(\"Mean Squred Error(MSE) : \", mean_squared_error(y_test, lin_pred))\n",
        "print(\"R-squared:\", r2_score(y_test, lin_pred))"
      ],
      "execution_count": 57,
      "outputs": [
        {
          "output_type": "stream",
          "text": [
            "Root Mean Squared Error(RMSE) :  77.07947712845619\n",
            "Mean Absolute Error(MAE) :  56.048105361124634\n",
            "Mean Squred Error(MSE) :  5941.245794396202\n",
            "R-squared: 0.2545974516973225\n"
          ],
          "name": "stdout"
        }
      ]
    },
    {
      "cell_type": "code",
      "metadata": {
        "id": "36-_pQwf4IJ2",
        "colab_type": "code",
        "colab": {
          "base_uri": "https://localhost:8080/",
          "height": 373
        },
        "outputId": "d6fd0a83-b845-4abc-c774-959e627cd4b8"
      },
      "source": [
        "import pandas as pd\n",
        "\n",
        "coef = pd.DataFrame(regressor.coef_, X.columns, columns=['Coefficient'])\n",
        "coef"
      ],
      "execution_count": 58,
      "outputs": [
        {
          "output_type": "execute_result",
          "data": {
            "text/html": [
              "<div>\n",
              "<style scoped>\n",
              "    .dataframe tbody tr th:only-of-type {\n",
              "        vertical-align: middle;\n",
              "    }\n",
              "\n",
              "    .dataframe tbody tr th {\n",
              "        vertical-align: top;\n",
              "    }\n",
              "\n",
              "    .dataframe thead th {\n",
              "        text-align: right;\n",
              "    }\n",
              "</style>\n",
              "<table border=\"1\" class=\"dataframe\">\n",
              "  <thead>\n",
              "    <tr style=\"text-align: right;\">\n",
              "      <th></th>\n",
              "      <th>Coefficient</th>\n",
              "    </tr>\n",
              "  </thead>\n",
              "  <tbody>\n",
              "    <tr>\n",
              "      <th>year</th>\n",
              "      <td>1.350833</td>\n",
              "    </tr>\n",
              "    <tr>\n",
              "      <th>month</th>\n",
              "      <td>-4.931295</td>\n",
              "    </tr>\n",
              "    <tr>\n",
              "      <th>day</th>\n",
              "      <td>5.984777</td>\n",
              "    </tr>\n",
              "    <tr>\n",
              "      <th>hour</th>\n",
              "      <td>9.976610</td>\n",
              "    </tr>\n",
              "    <tr>\n",
              "      <th>DEWP</th>\n",
              "      <td>63.124020</td>\n",
              "    </tr>\n",
              "    <tr>\n",
              "      <th>TEMP</th>\n",
              "      <td>-76.045090</td>\n",
              "    </tr>\n",
              "    <tr>\n",
              "      <th>PRES</th>\n",
              "      <td>-14.687136</td>\n",
              "    </tr>\n",
              "    <tr>\n",
              "      <th>cbwd</th>\n",
              "      <td>10.346989</td>\n",
              "    </tr>\n",
              "    <tr>\n",
              "      <th>Iws</th>\n",
              "      <td>-10.513228</td>\n",
              "    </tr>\n",
              "    <tr>\n",
              "      <th>Is</th>\n",
              "      <td>-2.212683</td>\n",
              "    </tr>\n",
              "    <tr>\n",
              "      <th>Ir</th>\n",
              "      <td>-9.217285</td>\n",
              "    </tr>\n",
              "  </tbody>\n",
              "</table>\n",
              "</div>"
            ],
            "text/plain": [
              "       Coefficient\n",
              "year      1.350833\n",
              "month    -4.931295\n",
              "day       5.984777\n",
              "hour      9.976610\n",
              "DEWP     63.124020\n",
              "TEMP    -76.045090\n",
              "PRES    -14.687136\n",
              "cbwd     10.346989\n",
              "Iws     -10.513228\n",
              "Is       -2.212683\n",
              "Ir       -9.217285"
            ]
          },
          "metadata": {
            "tags": []
          },
          "execution_count": 58
        }
      ]
    },
    {
      "cell_type": "code",
      "metadata": {
        "id": "1lzIOPih4oGN",
        "colab_type": "code",
        "colab": {
          "base_uri": "https://localhost:8080/",
          "height": 295
        },
        "outputId": "4346cef2-d124-409b-f31c-dcdf0a2a43b2"
      },
      "source": [
        "plt.scatter(y_test, lin_pred)\n",
        "plt.xlabel('Measured')\n",
        "plt.ylabel('Predicted')\n",
        "plt.title('Linear Regression Predicted vs Actual')\n",
        "plt.show()"
      ],
      "execution_count": 59,
      "outputs": [
        {
          "output_type": "display_data",
          "data": {
            "image/png": "[encoded data removed]",
            "text/plain": [
              "<Figure size 432x288 with 1 Axes>"
            ]
          },
          "metadata": {
            "tags": []
          }
        }
      ]
    },
    {
      "cell_type": "code",
      "metadata": {
        "id": "jjNMdMPvI8Rs",
        "colab_type": "code",
        "colab": {
          "base_uri": "https://localhost:8080/",
          "height": 212
        },
        "outputId": "b816b1f1-bd3b-4d38-f35b-c6d76f90afbd"
      },
      "source": [
        "plot_learning_curves(regressor, X_train, y_train)\n",
        "plt.axis([0, 80, 0, 3])                         # not shown in the book\n",
        "save_fig(\"underfitting_learning_curves_plot\")   # not shown\n",
        "plt.show() "
      ],
      "execution_count": 97,
      "outputs": [
        {
          "output_type": "error",
          "ename": "NameError",
          "evalue": "ignored",
          "traceback": [
            "\u001b[0;31m---------------------------------------------------------------------------\u001b[0m",
            "\u001b[0;31mNameError\u001b[0m                                 Traceback (most recent call last)",
            "\u001b[0;32m<ipython-input-97-70e2634260c1>\u001b[0m in \u001b[0;36m<module>\u001b[0;34m()\u001b[0m\n\u001b[0;32m----> 1\u001b[0;31m \u001b[0mplot_learning_curves\u001b[0m\u001b[0;34m(\u001b[0m\u001b[0mregressor\u001b[0m\u001b[0;34m,\u001b[0m \u001b[0mX_train\u001b[0m\u001b[0;34m,\u001b[0m \u001b[0my_train\u001b[0m\u001b[0;34m)\u001b[0m\u001b[0;34m\u001b[0m\u001b[0;34m\u001b[0m\u001b[0m\n\u001b[0m\u001b[1;32m      2\u001b[0m \u001b[0mplt\u001b[0m\u001b[0;34m.\u001b[0m\u001b[0maxis\u001b[0m\u001b[0;34m(\u001b[0m\u001b[0;34m[\u001b[0m\u001b[0;36m0\u001b[0m\u001b[0;34m,\u001b[0m \u001b[0;36m80\u001b[0m\u001b[0;34m,\u001b[0m \u001b[0;36m0\u001b[0m\u001b[0;34m,\u001b[0m \u001b[0;36m3\u001b[0m\u001b[0;34m]\u001b[0m\u001b[0;34m)\u001b[0m                         \u001b[0;31m# not shown in the book\u001b[0m\u001b[0;34m\u001b[0m\u001b[0;34m\u001b[0m\u001b[0m\n\u001b[1;32m      3\u001b[0m \u001b[0msave_fig\u001b[0m\u001b[0;34m(\u001b[0m\u001b[0;34m\"underfitting_learning_curves_plot\"\u001b[0m\u001b[0;34m)\u001b[0m   \u001b[0;31m# not shown\u001b[0m\u001b[0;34m\u001b[0m\u001b[0;34m\u001b[0m\u001b[0m\n\u001b[1;32m      4\u001b[0m \u001b[0mplt\u001b[0m\u001b[0;34m.\u001b[0m\u001b[0mshow\u001b[0m\u001b[0;34m(\u001b[0m\u001b[0;34m)\u001b[0m\u001b[0;34m\u001b[0m\u001b[0;34m\u001b[0m\u001b[0m\n",
            "\u001b[0;31mNameError\u001b[0m: name 'plot_learning_curves' is not defined"
          ]
        }
      ]
    },
    {
      "cell_type": "markdown",
      "metadata": {
        "id": "HKohUtvo5bq8",
        "colab_type": "text"
      },
      "source": [
        "# Lasso Regression"
      ]
    },
    {
      "cell_type": "code",
      "metadata": {
        "id": "UUk4tKo55fqB",
        "colab_type": "code",
        "colab": {
          "base_uri": "https://localhost:8080/",
          "height": 67
        },
        "outputId": "e14d9497-3ed5-47b5-fbe3-de1e34d12760"
      },
      "source": [
        "from sklearn.linear_model import Lasso\n",
        "\n",
        "lasso_reg = Lasso(alpha=0.1)\n",
        "lasso_reg.fit(X_train, y_train)"
      ],
      "execution_count": 63,
      "outputs": [
        {
          "output_type": "execute_result",
          "data": {
            "text/plain": [
              "Lasso(alpha=0.1, copy_X=True, fit_intercept=True, max_iter=1000,\n",
              "      normalize=False, positive=False, precompute=False, random_state=None,\n",
              "      selection='cyclic', tol=0.0001, warm_start=False)"
            ]
          },
          "metadata": {
            "tags": []
          },
          "execution_count": 63
        }
      ]
    },
    {
      "cell_type": "code",
      "metadata": {
        "id": "TZN5K-M66S7b",
        "colab_type": "code",
        "colab": {
          "base_uri": "https://localhost:8080/",
          "height": 34
        },
        "outputId": "c14a896e-37a8-4727-e553-ca0c5ad9c477"
      },
      "source": [
        "lasso_score = lasso_reg.score(X_test, y_test)\n",
        "lasso_score"
      ],
      "execution_count": 65,
      "outputs": [
        {
          "output_type": "execute_result",
          "data": {
            "text/plain": [
              "0.25467760417582863"
            ]
          },
          "metadata": {
            "tags": []
          },
          "execution_count": 65
        }
      ]
    },
    {
      "cell_type": "code",
      "metadata": {
        "id": "Nwi9OP5f6cwR",
        "colab_type": "code",
        "colab": {}
      },
      "source": [
        "# Make predictions using the testing set\n",
        "lasso_pred = lasso_reg.predict(X_test)"
      ],
      "execution_count": 0,
      "outputs": []
    },
    {
      "cell_type": "code",
      "metadata": {
        "id": "OYmgAjhl6k6R",
        "colab_type": "code",
        "colab": {
          "base_uri": "https://localhost:8080/",
          "height": 50
        },
        "outputId": "961e36e9-35d7-474a-8a08-a3f3f200b264"
      },
      "source": [
        "mse_lasso = mean_squared_error(y_test, lasso_pred)\n",
        "rmse_lasso = np.sqrt(mse_lasso)\n",
        "\n",
        "print(\"Root Mean Squared Error:\",rmse_lasso)\n",
        "print(\"Mean Absolute Error:\", mean_absolute_error(y_test, lasso_pred))"
      ],
      "execution_count": 67,
      "outputs": [
        {
          "output_type": "stream",
          "text": [
            "Root Mean Squared Error: 77.07533287295391\n",
            "Mean Absolute Error: 56.04520017117027\n"
          ],
          "name": "stdout"
        }
      ]
    },
    {
      "cell_type": "code",
      "metadata": {
        "id": "j09EzBaM7Gn2",
        "colab_type": "code",
        "colab": {
          "base_uri": "https://localhost:8080/",
          "height": 295
        },
        "outputId": "5b5a90dc-3f6e-4ad7-b2c7-b9f294a4ee4e"
      },
      "source": [
        "plt.scatter(y_test, lasso_pred)\n",
        "plt.xlabel('Measured')\n",
        "plt.ylabel('Predicted')\n",
        "plt.title('Lasso Predicted vs Actual')\n",
        "plt.show()"
      ],
      "execution_count": 68,
      "outputs": [
        {
          "output_type": "display_data",
          "data": {
            "image/png": "[encoded data removed]",
            "text/plain": [
              "<Figure size 432x288 with 1 Axes>"
            ]
          },
          "metadata": {
            "tags": []
          }
        }
      ]
    },
    {
      "cell_type": "markdown",
      "metadata": {
        "id": "VmebsTfBCb2S",
        "colab_type": "text"
      },
      "source": [
        "Applying scaling "
      ]
    },
    {
      "cell_type": "code",
      "metadata": {
        "id": "vIaNDTkFCQpI",
        "colab_type": "code",
        "colab": {
          "base_uri": "https://localhost:8080/",
          "height": 34
        },
        "outputId": "4682c039-ac2c-4c9f-ba3f-04acd0c63615"
      },
      "source": [
        "lasso_reg.fit(X_train_scaled, y_train)\n",
        "lasso_reg_pred_sc=lasso_reg.predict(X_test)\n",
        "lasso_reg.score(X_test, y_test)"
      ],
      "execution_count": 69,
      "outputs": [
        {
          "output_type": "execute_result",
          "data": {
            "text/plain": [
              "-20949.320469068833"
            ]
          },
          "metadata": {
            "tags": []
          },
          "execution_count": 69
        }
      ]
    },
    {
      "cell_type": "markdown",
      "metadata": {
        "id": "w5_YJYt07c4h",
        "colab_type": "text"
      },
      "source": [
        "# Elastic Net Regression"
      ]
    },
    {
      "cell_type": "code",
      "metadata": {
        "id": "FabmvsX07f5b",
        "colab_type": "code",
        "colab": {
          "base_uri": "https://localhost:8080/",
          "height": 67
        },
        "outputId": "7247e8cc-8416-4794-d337-6970a5d6f257"
      },
      "source": [
        "from sklearn.linear_model import ElasticNet\n",
        "\n",
        "elasticnet_reg = ElasticNet(alpha=0.1)\n",
        "elasticnet_reg.fit(X_train, y_train)"
      ],
      "execution_count": 70,
      "outputs": [
        {
          "output_type": "execute_result",
          "data": {
            "text/plain": [
              "ElasticNet(alpha=0.1, copy_X=True, fit_intercept=True, l1_ratio=0.5,\n",
              "           max_iter=1000, normalize=False, positive=False, precompute=False,\n",
              "           random_state=None, selection='cyclic', tol=0.0001, warm_start=False)"
            ]
          },
          "metadata": {
            "tags": []
          },
          "execution_count": 70
        }
      ]
    },
    {
      "cell_type": "code",
      "metadata": {
        "id": "ghBOHNb77zhM",
        "colab_type": "code",
        "colab": {
          "base_uri": "https://localhost:8080/",
          "height": 34
        },
        "outputId": "744fe366-1812-481c-8bbc-df7219df5483"
      },
      "source": [
        "elasticnet_score = elasticnet_reg.score(X_test, y_test)\n",
        "elasticnet_score"
      ],
      "execution_count": 71,
      "outputs": [
        {
          "output_type": "execute_result",
          "data": {
            "text/plain": [
              "0.2548335290863256"
            ]
          },
          "metadata": {
            "tags": []
          },
          "execution_count": 71
        }
      ]
    },
    {
      "cell_type": "code",
      "metadata": {
        "id": "2bvh7K9w760m",
        "colab_type": "code",
        "colab": {}
      },
      "source": [
        "elasticnet_pred = elasticnet_reg.predict(X_test)"
      ],
      "execution_count": 0,
      "outputs": []
    },
    {
      "cell_type": "code",
      "metadata": {
        "id": "mhHZcg4h8IiF",
        "colab_type": "code",
        "colab": {
          "base_uri": "https://localhost:8080/",
          "height": 50
        },
        "outputId": "211b232c-87de-4576-fd2d-f8500d29b2f5"
      },
      "source": [
        "mse_elasticnet = mean_squared_error(y_test, elasticnet_pred)\n",
        "rmse_elasticnet = np.sqrt(mse_elasticnet)\n",
        "\n",
        "print(\"Root Mean Squared Error:\", rmse_elasticnet)\n",
        "print(\"Mean Absolute Error:\", mean_absolute_error(y_test, elasticnet_pred))"
      ],
      "execution_count": 73,
      "outputs": [
        {
          "output_type": "stream",
          "text": [
            "Root Mean Squared Error: 77.06727019224934\n",
            "Mean Absolute Error: 56.04287832582857\n"
          ],
          "name": "stdout"
        }
      ]
    },
    {
      "cell_type": "code",
      "metadata": {
        "id": "K_PDxPhu_ERf",
        "colab_type": "code",
        "colab": {
          "base_uri": "https://localhost:8080/",
          "height": 295
        },
        "outputId": "43190f53-9a00-4d4a-f989-7c350de0607a"
      },
      "source": [
        "plt.scatter(y_test, elasticnet_pred)\n",
        "plt.xlabel('Measured')\n",
        "plt.ylabel('Predicted')\n",
        "plt.title('Elastic Regression Predicted vs Actual')\n",
        "plt.show()"
      ],
      "execution_count": 74,
      "outputs": [
        {
          "output_type": "display_data",
          "data": {
            "image/png": "[encoded data removed]",
            "text/plain": [
              "<Figure size 432x288 with 1 Axes>"
            ]
          },
          "metadata": {
            "tags": []
          }
        }
      ]
    },
    {
      "cell_type": "markdown",
      "metadata": {
        "id": "UIVjw6KGC30v",
        "colab_type": "text"
      },
      "source": [
        "After Applying Scaling "
      ]
    },
    {
      "cell_type": "code",
      "metadata": {
        "id": "9xnQnH8OCl4c",
        "colab_type": "code",
        "colab": {
          "base_uri": "https://localhost:8080/",
          "height": 34
        },
        "outputId": "85ee539e-ea32-47c8-82de-0d9c4774cca2"
      },
      "source": [
        "elasticnet_reg.fit(X_train_scaled, y_train)\n",
        "elasticnet_reg_pred_sc=elasticnet_reg.predict(X_test)\n",
        "elasticnet_reg.score(X_test, y_test)"
      ],
      "execution_count": 75,
      "outputs": [
        {
          "output_type": "execute_result",
          "data": {
            "text/plain": [
              "-11847.675680895993"
            ]
          },
          "metadata": {
            "tags": []
          },
          "execution_count": 75
        }
      ]
    },
    {
      "cell_type": "markdown",
      "metadata": {
        "id": "87bidH-C9O6r",
        "colab_type": "text"
      },
      "source": [
        "# Random Forest Regression"
      ]
    },
    {
      "cell_type": "code",
      "metadata": {
        "id": "i1hXTvIK9OPm",
        "colab_type": "code",
        "colab": {
          "base_uri": "https://localhost:8080/",
          "height": 134
        },
        "outputId": "53cc65d7-86a7-42ae-b8dc-c69107576989"
      },
      "source": [
        "from sklearn.ensemble import RandomForestRegressor\n",
        "\n",
        "rnd_clf = RandomForestRegressor(n_estimators=100, random_state=42)\n",
        "rnd_clf.fit(X_train, y_train)"
      ],
      "execution_count": 76,
      "outputs": [
        {
          "output_type": "execute_result",
          "data": {
            "text/plain": [
              "RandomForestRegressor(bootstrap=True, ccp_alpha=0.0, criterion='mse',\n",
              "                      max_depth=None, max_features='auto', max_leaf_nodes=None,\n",
              "                      max_samples=None, min_impurity_decrease=0.0,\n",
              "                      min_impurity_split=None, min_samples_leaf=1,\n",
              "                      min_samples_split=2, min_weight_fraction_leaf=0.0,\n",
              "                      n_estimators=100, n_jobs=None, oob_score=False,\n",
              "                      random_state=42, verbose=0, warm_start=False)"
            ]
          },
          "metadata": {
            "tags": []
          },
          "execution_count": 76
        }
      ]
    },
    {
      "cell_type": "code",
      "metadata": {
        "id": "uMP_ZtiU94R3",
        "colab_type": "code",
        "colab": {
          "base_uri": "https://localhost:8080/",
          "height": 34
        },
        "outputId": "6621f37e-e78b-41cb-c29a-f3f3881b6c7d"
      },
      "source": [
        "rnd_clf_score = rnd_clf.score(X_test, y_test)\n",
        "rnd_clf_score"
      ],
      "execution_count": 77,
      "outputs": [
        {
          "output_type": "execute_result",
          "data": {
            "text/plain": [
              "0.8353029015260123"
            ]
          },
          "metadata": {
            "tags": []
          },
          "execution_count": 77
        }
      ]
    },
    {
      "cell_type": "code",
      "metadata": {
        "id": "6YFVGK1m-Cy4",
        "colab_type": "code",
        "colab": {}
      },
      "source": [
        "rnd_clf_pred = rnd_clf.predict(X_test)"
      ],
      "execution_count": 0,
      "outputs": []
    },
    {
      "cell_type": "code",
      "metadata": {
        "id": "qndFmk9P-WhE",
        "colab_type": "code",
        "colab": {
          "base_uri": "https://localhost:8080/",
          "height": 67
        },
        "outputId": "15f9810a-b616-4ae4-f0fe-ee98b6d0366b"
      },
      "source": [
        "mse_rnd = mean_squared_error(y_test, rnd_clf_pred)\n",
        "rmse_rnd = np.sqrt(mse_rnd)\n",
        "\n",
        "print(\"Root Mean Squared Error:\",rmse_rnd)\n",
        "print(\"Mean Absolute Error:\", mean_absolute_error(y_test, rnd_clf_pred))\n",
        "# variance score: 1 is perfect prediction\n",
        "print(\"R-squared:\", r2_score(y_test, rnd_clf_pred))"
      ],
      "execution_count": 79,
      "outputs": [
        {
          "output_type": "stream",
          "text": [
            "Root Mean Squared Error: 36.23149858523503\n",
            "Mean Absolute Error: 22.337895037079292\n",
            "R-squared: 0.8353029015260123\n"
          ],
          "name": "stdout"
        }
      ]
    },
    {
      "cell_type": "code",
      "metadata": {
        "id": "XcIBRSJU-32s",
        "colab_type": "code",
        "colab": {
          "base_uri": "https://localhost:8080/",
          "height": 295
        },
        "outputId": "2d3695b4-7209-4c30-a1d2-019b022c6d6b"
      },
      "source": [
        "plt.scatter(y_test, rnd_clf_pred)\n",
        "plt.xlabel('Measured')\n",
        "plt.ylabel('Predicted')\n",
        "plt.title('Random Forest Regression Predicted vs Actual')\n",
        "plt.show()"
      ],
      "execution_count": 80,
      "outputs": [
        {
          "output_type": "display_data",
          "data": {
            "image/png": "[encoded data removed]",
            "text/plain": [
              "<Figure size 432x288 with 1 Axes>"
            ]
          },
          "metadata": {
            "tags": []
          }
        }
      ]
    },
    {
      "cell_type": "code",
      "metadata": {
        "id": "16C5I2XC_qAg",
        "colab_type": "code",
        "colab": {}
      },
      "source": [
        "from sklearn.model_selection import cross_val_predict\n",
        "y_train_pred_sc = cross_val_predict(rnd_clf, X_train, y_train, cv=3)"
      ],
      "execution_count": 0,
      "outputs": []
    },
    {
      "cell_type": "code",
      "metadata": {
        "id": "W7EDIqRODNo9",
        "colab_type": "code",
        "colab": {
          "base_uri": "https://localhost:8080/",
          "height": 34
        },
        "outputId": "ceafefa6-c4bb-4b34-b772-1c58cb4773ed"
      },
      "source": [
        "rnd_clf.fit(X_train_scaled, y_train)\n",
        "rnd_clf_pred_sc=rnd_clf.predict(X_test)\n",
        "rnd_clf.score(X_test, y_test)\n"
      ],
      "execution_count": 83,
      "outputs": [
        {
          "output_type": "execute_result",
          "data": {
            "text/plain": [
              "-1.6141703588345648"
            ]
          },
          "metadata": {
            "tags": []
          },
          "execution_count": 83
        }
      ]
    },
    {
      "cell_type": "code",
      "metadata": {
        "id": "mS84NvnFDsrq",
        "colab_type": "code",
        "colab": {
          "base_uri": "https://localhost:8080/",
          "height": 320
        },
        "outputId": "8b182eb2-0d29-41bc-f7d7-7d4070582928"
      },
      "source": [
        "from sklearn.model_selection import cross_val_score\n",
        "scale_scores = cross_val_score(rnd_clf, X_train_scaled, y_train, cv=3, scoring=\"accuracy\")"
      ],
      "execution_count": 86,
      "outputs": [
        {
          "output_type": "error",
          "ename": "ValueError",
          "evalue": "ignored",
          "traceback": [
            "\u001b[0;31m---------------------------------------------------------------------------\u001b[0m",
            "\u001b[0;31mValueError\u001b[0m                                Traceback (most recent call last)",
            "\u001b[0;32m<ipython-input-86-99a0f79ac94c>\u001b[0m in \u001b[0;36m<module>\u001b[0;34m()\u001b[0m\n\u001b[1;32m      1\u001b[0m \u001b[0;32mfrom\u001b[0m \u001b[0msklearn\u001b[0m\u001b[0;34m.\u001b[0m\u001b[0mmodel_selection\u001b[0m \u001b[0;32mimport\u001b[0m \u001b[0mcross_val_score\u001b[0m\u001b[0;34m\u001b[0m\u001b[0;34m\u001b[0m\u001b[0m\n\u001b[0;32m----> 2\u001b[0;31m \u001b[0mscale_scores\u001b[0m \u001b[0;34m=\u001b[0m \u001b[0mcross_val_score\u001b[0m\u001b[0;34m(\u001b[0m\u001b[0mrnd_clf\u001b[0m\u001b[0;34m,\u001b[0m \u001b[0mX_train_scaled\u001b[0m\u001b[0;34m,\u001b[0m \u001b[0my_train\u001b[0m\u001b[0;34m,\u001b[0m \u001b[0mcv\u001b[0m\u001b[0;34m=\u001b[0m\u001b[0;36m3\u001b[0m\u001b[0;34m,\u001b[0m \u001b[0mscoring\u001b[0m\u001b[0;34m=\u001b[0m\u001b[0;34m\"accuracy\"\u001b[0m\u001b[0;34m)\u001b[0m\u001b[0;34m\u001b[0m\u001b[0;34m\u001b[0m\u001b[0m\n\u001b[0m",
            "\u001b[0;32m/usr/local/lib/python3.6/dist-packages/sklearn/model_selection/_validation.py\u001b[0m in \u001b[0;36mcross_val_score\u001b[0;34m(estimator, X, y, groups, scoring, cv, n_jobs, verbose, fit_params, pre_dispatch, error_score)\u001b[0m\n\u001b[1;32m    388\u001b[0m                                 \u001b[0mfit_params\u001b[0m\u001b[0;34m=\u001b[0m\u001b[0mfit_params\u001b[0m\u001b[0;34m,\u001b[0m\u001b[0;34m\u001b[0m\u001b[0;34m\u001b[0m\u001b[0m\n\u001b[1;32m    389\u001b[0m                                 \u001b[0mpre_dispatch\u001b[0m\u001b[0;34m=\u001b[0m\u001b[0mpre_dispatch\u001b[0m\u001b[0;34m,\u001b[0m\u001b[0;34m\u001b[0m\u001b[0;34m\u001b[0m\u001b[0m\n\u001b[0;32m--> 390\u001b[0;31m                                 error_score=error_score)\n\u001b[0m\u001b[1;32m    391\u001b[0m     \u001b[0;32mreturn\u001b[0m \u001b[0mcv_results\u001b[0m\u001b[0;34m[\u001b[0m\u001b[0;34m'test_score'\u001b[0m\u001b[0;34m]\u001b[0m\u001b[0;34m\u001b[0m\u001b[0;34m\u001b[0m\u001b[0m\n\u001b[1;32m    392\u001b[0m \u001b[0;34m\u001b[0m\u001b[0m\n",
            "\u001b[0;32m/usr/local/lib/python3.6/dist-packages/sklearn/model_selection/_validation.py\u001b[0m in \u001b[0;36mcross_validate\u001b[0;34m(estimator, X, y, groups, scoring, cv, n_jobs, verbose, fit_params, pre_dispatch, return_train_score, return_estimator, error_score)\u001b[0m\n\u001b[1;32m    234\u001b[0m             \u001b[0mreturn_times\u001b[0m\u001b[0;34m=\u001b[0m\u001b[0;32mTrue\u001b[0m\u001b[0;34m,\u001b[0m \u001b[0mreturn_estimator\u001b[0m\u001b[0;34m=\u001b[0m\u001b[0mreturn_estimator\u001b[0m\u001b[0;34m,\u001b[0m\u001b[0;34m\u001b[0m\u001b[0;34m\u001b[0m\u001b[0m\n\u001b[1;32m    235\u001b[0m             error_score=error_score)\n\u001b[0;32m--> 236\u001b[0;31m         for train, test in cv.split(X, y, groups))\n\u001b[0m\u001b[1;32m    237\u001b[0m \u001b[0;34m\u001b[0m\u001b[0m\n\u001b[1;32m    238\u001b[0m     \u001b[0mzipped_scores\u001b[0m \u001b[0;34m=\u001b[0m \u001b[0mlist\u001b[0m\u001b[0;34m(\u001b[0m\u001b[0mzip\u001b[0m\u001b[0;34m(\u001b[0m\u001b[0;34m*\u001b[0m\u001b[0mscores\u001b[0m\u001b[0;34m)\u001b[0m\u001b[0;34m)\u001b[0m\u001b[0;34m\u001b[0m\u001b[0;34m\u001b[0m\u001b[0m\n",
            "\u001b[0;32m/usr/local/lib/python3.6/dist-packages/joblib/parallel.py\u001b[0m in \u001b[0;36m__call__\u001b[0;34m(self, iterable)\u001b[0m\n\u001b[1;32m   1002\u001b[0m             \u001b[0;31m# remaining jobs.\u001b[0m\u001b[0;34m\u001b[0m\u001b[0;34m\u001b[0m\u001b[0;34m\u001b[0m\u001b[0m\n\u001b[1;32m   1003\u001b[0m             \u001b[0mself\u001b[0m\u001b[0;34m.\u001b[0m\u001b[0m_iterating\u001b[0m \u001b[0;34m=\u001b[0m \u001b[0;32mFalse\u001b[0m\u001b[0;34m\u001b[0m\u001b[0;34m\u001b[0m\u001b[0m\n\u001b[0;32m-> 1004\u001b[0;31m             \u001b[0;32mif\u001b[0m \u001b[0mself\u001b[0m\u001b[0;34m.\u001b[0m\u001b[0mdispatch_one_batch\u001b[0m\u001b[0;34m(\u001b[0m\u001b[0miterator\u001b[0m\u001b[0;34m)\u001b[0m\u001b[0;34m:\u001b[0m\u001b[0;34m\u001b[0m\u001b[0;34m\u001b[0m\u001b[0m\n\u001b[0m\u001b[1;32m   1005\u001b[0m                 \u001b[0mself\u001b[0m\u001b[0;34m.\u001b[0m\u001b[0m_iterating\u001b[0m \u001b[0;34m=\u001b[0m \u001b[0mself\u001b[0m\u001b[0;34m.\u001b[0m\u001b[0m_original_iterator\u001b[0m \u001b[0;32mis\u001b[0m \u001b[0;32mnot\u001b[0m \u001b[0;32mNone\u001b[0m\u001b[0;34m\u001b[0m\u001b[0;34m\u001b[0m\u001b[0m\n\u001b[1;32m   1006\u001b[0m \u001b[0;34m\u001b[0m\u001b[0m\n",
            "\u001b[0;32m/usr/local/lib/python3.6/dist-packages/joblib/parallel.py\u001b[0m in \u001b[0;36mdispatch_one_batch\u001b[0;34m(self, iterator)\u001b[0m\n\u001b[1;32m    833\u001b[0m                 \u001b[0;32mreturn\u001b[0m \u001b[0;32mFalse\u001b[0m\u001b[0;34m\u001b[0m\u001b[0;34m\u001b[0m\u001b[0m\n\u001b[1;32m    834\u001b[0m             \u001b[0;32melse\u001b[0m\u001b[0;34m:\u001b[0m\u001b[0;34m\u001b[0m\u001b[0;34m\u001b[0m\u001b[0m\n\u001b[0;32m--> 835\u001b[0;31m                 \u001b[0mself\u001b[0m\u001b[0;34m.\u001b[0m\u001b[0m_dispatch\u001b[0m\u001b[0;34m(\u001b[0m\u001b[0mtasks\u001b[0m\u001b[0;34m)\u001b[0m\u001b[0;34m\u001b[0m\u001b[0;34m\u001b[0m\u001b[0m\n\u001b[0m\u001b[1;32m    836\u001b[0m                 \u001b[0;32mreturn\u001b[0m \u001b[0;32mTrue\u001b[0m\u001b[0;34m\u001b[0m\u001b[0;34m\u001b[0m\u001b[0m\n\u001b[1;32m    837\u001b[0m \u001b[0;34m\u001b[0m\u001b[0m\n",
            "\u001b[0;32m/usr/local/lib/python3.6/dist-packages/joblib/parallel.py\u001b[0m in \u001b[0;36m_dispatch\u001b[0;34m(self, batch)\u001b[0m\n\u001b[1;32m    752\u001b[0m         \u001b[0;32mwith\u001b[0m \u001b[0mself\u001b[0m\u001b[0;34m.\u001b[0m\u001b[0m_lock\u001b[0m\u001b[0;34m:\u001b[0m\u001b[0;34m\u001b[0m\u001b[0;34m\u001b[0m\u001b[0m\n\u001b[1;32m    753\u001b[0m             \u001b[0mjob_idx\u001b[0m \u001b[0;34m=\u001b[0m \u001b[0mlen\u001b[0m\u001b[0;34m(\u001b[0m\u001b[0mself\u001b[0m\u001b[0;34m.\u001b[0m\u001b[0m_jobs\u001b[0m\u001b[0;34m)\u001b[0m\u001b[0;34m\u001b[0m\u001b[0;34m\u001b[0m\u001b[0m\n\u001b[0;32m--> 754\u001b[0;31m             \u001b[0mjob\u001b[0m \u001b[0;34m=\u001b[0m \u001b[0mself\u001b[0m\u001b[0;34m.\u001b[0m\u001b[0m_backend\u001b[0m\u001b[0;34m.\u001b[0m\u001b[0mapply_async\u001b[0m\u001b[0;34m(\u001b[0m\u001b[0mbatch\u001b[0m\u001b[0;34m,\u001b[0m \u001b[0mcallback\u001b[0m\u001b[0;34m=\u001b[0m\u001b[0mcb\u001b[0m\u001b[0;34m)\u001b[0m\u001b[0;34m\u001b[0m\u001b[0;34m\u001b[0m\u001b[0m\n\u001b[0m\u001b[1;32m    755\u001b[0m             \u001b[0;31m# A job can complete so quickly than its callback is\u001b[0m\u001b[0;34m\u001b[0m\u001b[0;34m\u001b[0m\u001b[0;34m\u001b[0m\u001b[0m\n\u001b[1;32m    756\u001b[0m             \u001b[0;31m# called before we get here, causing self._jobs to\u001b[0m\u001b[0;34m\u001b[0m\u001b[0;34m\u001b[0m\u001b[0;34m\u001b[0m\u001b[0m\n",
            "\u001b[0;32m/usr/local/lib/python3.6/dist-packages/joblib/_parallel_backends.py\u001b[0m in \u001b[0;36mapply_async\u001b[0;34m(self, func, callback)\u001b[0m\n\u001b[1;32m    207\u001b[0m     \u001b[0;32mdef\u001b[0m \u001b[0mapply_async\u001b[0m\u001b[0;34m(\u001b[0m\u001b[0mself\u001b[0m\u001b[0;34m,\u001b[0m \u001b[0mfunc\u001b[0m\u001b[0;34m,\u001b[0m \u001b[0mcallback\u001b[0m\u001b[0;34m=\u001b[0m\u001b[0;32mNone\u001b[0m\u001b[0;34m)\u001b[0m\u001b[0;34m:\u001b[0m\u001b[0;34m\u001b[0m\u001b[0;34m\u001b[0m\u001b[0m\n\u001b[1;32m    208\u001b[0m         \u001b[0;34m\"\"\"Schedule a func to be run\"\"\"\u001b[0m\u001b[0;34m\u001b[0m\u001b[0;34m\u001b[0m\u001b[0m\n\u001b[0;32m--> 209\u001b[0;31m         \u001b[0mresult\u001b[0m \u001b[0;34m=\u001b[0m \u001b[0mImmediateResult\u001b[0m\u001b[0;34m(\u001b[0m\u001b[0mfunc\u001b[0m\u001b[0;34m)\u001b[0m\u001b[0;34m\u001b[0m\u001b[0;34m\u001b[0m\u001b[0m\n\u001b[0m\u001b[1;32m    210\u001b[0m         \u001b[0;32mif\u001b[0m \u001b[0mcallback\u001b[0m\u001b[0;34m:\u001b[0m\u001b[0;34m\u001b[0m\u001b[0;34m\u001b[0m\u001b[0m\n\u001b[1;32m    211\u001b[0m             \u001b[0mcallback\u001b[0m\u001b[0;34m(\u001b[0m\u001b[0mresult\u001b[0m\u001b[0;34m)\u001b[0m\u001b[0;34m\u001b[0m\u001b[0;34m\u001b[0m\u001b[0m\n",
            "\u001b[0;32m/usr/local/lib/python3.6/dist-packages/joblib/_parallel_backends.py\u001b[0m in \u001b[0;36m__init__\u001b[0;34m(self, batch)\u001b[0m\n\u001b[1;32m    588\u001b[0m         \u001b[0;31m# Don't delay the application, to avoid keeping the input\u001b[0m\u001b[0;34m\u001b[0m\u001b[0;34m\u001b[0m\u001b[0;34m\u001b[0m\u001b[0m\n\u001b[1;32m    589\u001b[0m         \u001b[0;31m# arguments in memory\u001b[0m\u001b[0;34m\u001b[0m\u001b[0;34m\u001b[0m\u001b[0;34m\u001b[0m\u001b[0m\n\u001b[0;32m--> 590\u001b[0;31m         \u001b[0mself\u001b[0m\u001b[0;34m.\u001b[0m\u001b[0mresults\u001b[0m \u001b[0;34m=\u001b[0m \u001b[0mbatch\u001b[0m\u001b[0;34m(\u001b[0m\u001b[0;34m)\u001b[0m\u001b[0;34m\u001b[0m\u001b[0;34m\u001b[0m\u001b[0m\n\u001b[0m\u001b[1;32m    591\u001b[0m \u001b[0;34m\u001b[0m\u001b[0m\n\u001b[1;32m    592\u001b[0m     \u001b[0;32mdef\u001b[0m \u001b[0mget\u001b[0m\u001b[0;34m(\u001b[0m\u001b[0mself\u001b[0m\u001b[0;34m)\u001b[0m\u001b[0;34m:\u001b[0m\u001b[0;34m\u001b[0m\u001b[0;34m\u001b[0m\u001b[0m\n",
            "\u001b[0;32m/usr/local/lib/python3.6/dist-packages/joblib/parallel.py\u001b[0m in \u001b[0;36m__call__\u001b[0;34m(self)\u001b[0m\n\u001b[1;32m    254\u001b[0m         \u001b[0;32mwith\u001b[0m \u001b[0mparallel_backend\u001b[0m\u001b[0;34m(\u001b[0m\u001b[0mself\u001b[0m\u001b[0;34m.\u001b[0m\u001b[0m_backend\u001b[0m\u001b[0;34m,\u001b[0m \u001b[0mn_jobs\u001b[0m\u001b[0;34m=\u001b[0m\u001b[0mself\u001b[0m\u001b[0;34m.\u001b[0m\u001b[0m_n_jobs\u001b[0m\u001b[0;34m)\u001b[0m\u001b[0;34m:\u001b[0m\u001b[0;34m\u001b[0m\u001b[0;34m\u001b[0m\u001b[0m\n\u001b[1;32m    255\u001b[0m             return [func(*args, **kwargs)\n\u001b[0;32m--> 256\u001b[0;31m                     for func, args, kwargs in self.items]\n\u001b[0m\u001b[1;32m    257\u001b[0m \u001b[0;34m\u001b[0m\u001b[0m\n\u001b[1;32m    258\u001b[0m     \u001b[0;32mdef\u001b[0m \u001b[0m__len__\u001b[0m\u001b[0;34m(\u001b[0m\u001b[0mself\u001b[0m\u001b[0;34m)\u001b[0m\u001b[0;34m:\u001b[0m\u001b[0;34m\u001b[0m\u001b[0;34m\u001b[0m\u001b[0m\n",
            "\u001b[0;32m/usr/local/lib/python3.6/dist-packages/joblib/parallel.py\u001b[0m in \u001b[0;36m<listcomp>\u001b[0;34m(.0)\u001b[0m\n\u001b[1;32m    254\u001b[0m         \u001b[0;32mwith\u001b[0m \u001b[0mparallel_backend\u001b[0m\u001b[0;34m(\u001b[0m\u001b[0mself\u001b[0m\u001b[0;34m.\u001b[0m\u001b[0m_backend\u001b[0m\u001b[0;34m,\u001b[0m \u001b[0mn_jobs\u001b[0m\u001b[0;34m=\u001b[0m\u001b[0mself\u001b[0m\u001b[0;34m.\u001b[0m\u001b[0m_n_jobs\u001b[0m\u001b[0;34m)\u001b[0m\u001b[0;34m:\u001b[0m\u001b[0;34m\u001b[0m\u001b[0;34m\u001b[0m\u001b[0m\n\u001b[1;32m    255\u001b[0m             return [func(*args, **kwargs)\n\u001b[0;32m--> 256\u001b[0;31m                     for func, args, kwargs in self.items]\n\u001b[0m\u001b[1;32m    257\u001b[0m \u001b[0;34m\u001b[0m\u001b[0m\n\u001b[1;32m    258\u001b[0m     \u001b[0;32mdef\u001b[0m \u001b[0m__len__\u001b[0m\u001b[0;34m(\u001b[0m\u001b[0mself\u001b[0m\u001b[0;34m)\u001b[0m\u001b[0;34m:\u001b[0m\u001b[0;34m\u001b[0m\u001b[0;34m\u001b[0m\u001b[0m\n",
            "\u001b[0;32m/usr/local/lib/python3.6/dist-packages/sklearn/model_selection/_validation.py\u001b[0m in \u001b[0;36m_fit_and_score\u001b[0;34m(estimator, X, y, scorer, train, test, verbose, parameters, fit_params, return_train_score, return_parameters, return_n_test_samples, return_times, return_estimator, error_score)\u001b[0m\n\u001b[1;32m    542\u001b[0m     \u001b[0;32melse\u001b[0m\u001b[0;34m:\u001b[0m\u001b[0;34m\u001b[0m\u001b[0;34m\u001b[0m\u001b[0m\n\u001b[1;32m    543\u001b[0m         \u001b[0mfit_time\u001b[0m \u001b[0;34m=\u001b[0m \u001b[0mtime\u001b[0m\u001b[0;34m.\u001b[0m\u001b[0mtime\u001b[0m\u001b[0;34m(\u001b[0m\u001b[0;34m)\u001b[0m \u001b[0;34m-\u001b[0m \u001b[0mstart_time\u001b[0m\u001b[0;34m\u001b[0m\u001b[0;34m\u001b[0m\u001b[0m\n\u001b[0;32m--> 544\u001b[0;31m         \u001b[0mtest_scores\u001b[0m \u001b[0;34m=\u001b[0m \u001b[0m_score\u001b[0m\u001b[0;34m(\u001b[0m\u001b[0mestimator\u001b[0m\u001b[0;34m,\u001b[0m \u001b[0mX_test\u001b[0m\u001b[0;34m,\u001b[0m \u001b[0my_test\u001b[0m\u001b[0;34m,\u001b[0m \u001b[0mscorer\u001b[0m\u001b[0;34m)\u001b[0m\u001b[0;34m\u001b[0m\u001b[0;34m\u001b[0m\u001b[0m\n\u001b[0m\u001b[1;32m    545\u001b[0m         \u001b[0mscore_time\u001b[0m \u001b[0;34m=\u001b[0m \u001b[0mtime\u001b[0m\u001b[0;34m.\u001b[0m\u001b[0mtime\u001b[0m\u001b[0;34m(\u001b[0m\u001b[0;34m)\u001b[0m \u001b[0;34m-\u001b[0m \u001b[0mstart_time\u001b[0m \u001b[0;34m-\u001b[0m \u001b[0mfit_time\u001b[0m\u001b[0;34m\u001b[0m\u001b[0;34m\u001b[0m\u001b[0m\n\u001b[1;32m    546\u001b[0m         \u001b[0;32mif\u001b[0m \u001b[0mreturn_train_score\u001b[0m\u001b[0;34m:\u001b[0m\u001b[0;34m\u001b[0m\u001b[0;34m\u001b[0m\u001b[0m\n",
            "\u001b[0;32m/usr/local/lib/python3.6/dist-packages/sklearn/model_selection/_validation.py\u001b[0m in \u001b[0;36m_score\u001b[0;34m(estimator, X_test, y_test, scorer)\u001b[0m\n\u001b[1;32m    589\u001b[0m         \u001b[0mscores\u001b[0m \u001b[0;34m=\u001b[0m \u001b[0mscorer\u001b[0m\u001b[0;34m(\u001b[0m\u001b[0mestimator\u001b[0m\u001b[0;34m,\u001b[0m \u001b[0mX_test\u001b[0m\u001b[0;34m)\u001b[0m\u001b[0;34m\u001b[0m\u001b[0;34m\u001b[0m\u001b[0m\n\u001b[1;32m    590\u001b[0m     \u001b[0;32melse\u001b[0m\u001b[0;34m:\u001b[0m\u001b[0;34m\u001b[0m\u001b[0;34m\u001b[0m\u001b[0m\n\u001b[0;32m--> 591\u001b[0;31m         \u001b[0mscores\u001b[0m \u001b[0;34m=\u001b[0m \u001b[0mscorer\u001b[0m\u001b[0;34m(\u001b[0m\u001b[0mestimator\u001b[0m\u001b[0;34m,\u001b[0m \u001b[0mX_test\u001b[0m\u001b[0;34m,\u001b[0m \u001b[0my_test\u001b[0m\u001b[0;34m)\u001b[0m\u001b[0;34m\u001b[0m\u001b[0;34m\u001b[0m\u001b[0m\n\u001b[0m\u001b[1;32m    592\u001b[0m \u001b[0;34m\u001b[0m\u001b[0m\n\u001b[1;32m    593\u001b[0m     error_msg = (\"scoring must return a number, got %s (%s) \"\n",
            "\u001b[0;32m/usr/local/lib/python3.6/dist-packages/sklearn/metrics/_scorer.py\u001b[0m in \u001b[0;36m__call__\u001b[0;34m(self, estimator, *args, **kwargs)\u001b[0m\n\u001b[1;32m     85\u001b[0m             \u001b[0;32mif\u001b[0m \u001b[0misinstance\u001b[0m\u001b[0;34m(\u001b[0m\u001b[0mscorer\u001b[0m\u001b[0;34m,\u001b[0m \u001b[0m_BaseScorer\u001b[0m\u001b[0;34m)\u001b[0m\u001b[0;34m:\u001b[0m\u001b[0;34m\u001b[0m\u001b[0;34m\u001b[0m\u001b[0m\n\u001b[1;32m     86\u001b[0m                 score = scorer._score(cached_call, estimator,\n\u001b[0;32m---> 87\u001b[0;31m                                       *args, **kwargs)\n\u001b[0m\u001b[1;32m     88\u001b[0m             \u001b[0;32melse\u001b[0m\u001b[0;34m:\u001b[0m\u001b[0;34m\u001b[0m\u001b[0;34m\u001b[0m\u001b[0m\n\u001b[1;32m     89\u001b[0m                 \u001b[0mscore\u001b[0m \u001b[0;34m=\u001b[0m \u001b[0mscorer\u001b[0m\u001b[0;34m(\u001b[0m\u001b[0mestimator\u001b[0m\u001b[0;34m,\u001b[0m \u001b[0;34m*\u001b[0m\u001b[0margs\u001b[0m\u001b[0;34m,\u001b[0m \u001b[0;34m**\u001b[0m\u001b[0mkwargs\u001b[0m\u001b[0;34m)\u001b[0m\u001b[0;34m\u001b[0m\u001b[0;34m\u001b[0m\u001b[0m\n",
            "\u001b[0;32m/usr/local/lib/python3.6/dist-packages/sklearn/metrics/_scorer.py\u001b[0m in \u001b[0;36m_score\u001b[0;34m(self, method_caller, estimator, X, y_true, sample_weight)\u001b[0m\n\u001b[1;32m    210\u001b[0m         \u001b[0;32melse\u001b[0m\u001b[0;34m:\u001b[0m\u001b[0;34m\u001b[0m\u001b[0;34m\u001b[0m\u001b[0m\n\u001b[1;32m    211\u001b[0m             return self._sign * self._score_func(y_true, y_pred,\n\u001b[0;32m--> 212\u001b[0;31m                                                  **self._kwargs)\n\u001b[0m\u001b[1;32m    213\u001b[0m \u001b[0;34m\u001b[0m\u001b[0m\n\u001b[1;32m    214\u001b[0m \u001b[0;34m\u001b[0m\u001b[0m\n",
            "\u001b[0;32m/usr/local/lib/python3.6/dist-packages/sklearn/metrics/_classification.py\u001b[0m in \u001b[0;36maccuracy_score\u001b[0;34m(y_true, y_pred, normalize, sample_weight)\u001b[0m\n\u001b[1;32m    183\u001b[0m \u001b[0;34m\u001b[0m\u001b[0m\n\u001b[1;32m    184\u001b[0m     \u001b[0;31m# Compute accuracy for each possible representation\u001b[0m\u001b[0;34m\u001b[0m\u001b[0;34m\u001b[0m\u001b[0;34m\u001b[0m\u001b[0m\n\u001b[0;32m--> 185\u001b[0;31m     \u001b[0my_type\u001b[0m\u001b[0;34m,\u001b[0m \u001b[0my_true\u001b[0m\u001b[0;34m,\u001b[0m \u001b[0my_pred\u001b[0m \u001b[0;34m=\u001b[0m \u001b[0m_check_targets\u001b[0m\u001b[0;34m(\u001b[0m\u001b[0my_true\u001b[0m\u001b[0;34m,\u001b[0m \u001b[0my_pred\u001b[0m\u001b[0;34m)\u001b[0m\u001b[0;34m\u001b[0m\u001b[0;34m\u001b[0m\u001b[0m\n\u001b[0m\u001b[1;32m    186\u001b[0m     \u001b[0mcheck_consistent_length\u001b[0m\u001b[0;34m(\u001b[0m\u001b[0my_true\u001b[0m\u001b[0;34m,\u001b[0m \u001b[0my_pred\u001b[0m\u001b[0;34m,\u001b[0m \u001b[0msample_weight\u001b[0m\u001b[0;34m)\u001b[0m\u001b[0;34m\u001b[0m\u001b[0;34m\u001b[0m\u001b[0m\n\u001b[1;32m    187\u001b[0m     \u001b[0;32mif\u001b[0m \u001b[0my_type\u001b[0m\u001b[0;34m.\u001b[0m\u001b[0mstartswith\u001b[0m\u001b[0;34m(\u001b[0m\u001b[0;34m'multilabel'\u001b[0m\u001b[0;34m)\u001b[0m\u001b[0;34m:\u001b[0m\u001b[0;34m\u001b[0m\u001b[0;34m\u001b[0m\u001b[0m\n",
            "\u001b[0;32m/usr/local/lib/python3.6/dist-packages/sklearn/metrics/_classification.py\u001b[0m in \u001b[0;36m_check_targets\u001b[0;34m(y_true, y_pred)\u001b[0m\n\u001b[1;32m     88\u001b[0m     \u001b[0;32mif\u001b[0m \u001b[0mlen\u001b[0m\u001b[0;34m(\u001b[0m\u001b[0my_type\u001b[0m\u001b[0;34m)\u001b[0m \u001b[0;34m>\u001b[0m \u001b[0;36m1\u001b[0m\u001b[0;34m:\u001b[0m\u001b[0;34m\u001b[0m\u001b[0;34m\u001b[0m\u001b[0m\n\u001b[1;32m     89\u001b[0m         raise ValueError(\"Classification metrics can't handle a mix of {0} \"\n\u001b[0;32m---> 90\u001b[0;31m                          \"and {1} targets\".format(type_true, type_pred))\n\u001b[0m\u001b[1;32m     91\u001b[0m \u001b[0;34m\u001b[0m\u001b[0m\n\u001b[1;32m     92\u001b[0m     \u001b[0;31m# We can't have more than one value on y_type => The set is no more needed\u001b[0m\u001b[0;34m\u001b[0m\u001b[0;34m\u001b[0m\u001b[0;34m\u001b[0m\u001b[0m\n",
            "\u001b[0;31mValueError\u001b[0m: Classification metrics can't handle a mix of multiclass and continuous targets"
          ]
        }
      ]
    },
    {
      "cell_type": "markdown",
      "metadata": {
        "id": "B6vSP_knHj7u",
        "colab_type": "text"
      },
      "source": [
        "# Polynomial regression"
      ]
    },
    {
      "cell_type": "code",
      "metadata": {
        "id": "6VQi-iaJHiGJ",
        "colab_type": "code",
        "colab": {}
      },
      "source": [
        "import numpy as np\n",
        "\n",
        "np.random.seed(42)"
      ],
      "execution_count": 0,
      "outputs": []
    },
    {
      "cell_type": "code",
      "metadata": {
        "id": "4k4HMBzYHx7X",
        "colab_type": "code",
        "colab": {
          "base_uri": "https://localhost:8080/",
          "height": 291
        },
        "outputId": "9af6313d-e782-49c4-dfb5-799b3f2289a3"
      },
      "source": [
        "plt.plot(X_train, y_train, \"b.\")\n",
        "plt.xlabel(\"$x_1$\", fontsize=18)\n",
        "plt.ylabel(\"$y$\", rotation=0, fontsize=18)\n",
        "plt.axis([-3, 3, 0, 10])\n",
        "plt.show()"
      ],
      "execution_count": 124,
      "outputs": [
        {
          "output_type": "display_data",
          "data": {
            "image/png": "[encoded data removed]",
            "text/plain": [
              "<Figure size 432x288 with 1 Axes>"
            ]
          },
          "metadata": {
            "tags": []
          }
        }
      ]
    },
    {
      "cell_type": "code",
      "metadata": {
        "id": "IoKiRXQAIFDq",
        "colab_type": "code",
        "colab": {}
      },
      "source": [
        "from sklearn.preprocessing import PolynomialFeatures\n",
        "\n",
        "poly_features = PolynomialFeatures(degree=2, include_bias=False)"
      ],
      "execution_count": 0,
      "outputs": []
    },
    {
      "cell_type": "code",
      "metadata": {
        "id": "ukCMoP5wRrt0",
        "colab_type": "code",
        "colab": {}
      },
      "source": [
        "X_poly = poly_features.fit_transform(X_train)"
      ],
      "execution_count": 0,
      "outputs": []
    },
    {
      "cell_type": "code",
      "metadata": {
        "id": "yz60w3w_PMHV",
        "colab_type": "code",
        "colab": {
          "base_uri": "https://localhost:8080/",
          "height": 353
        },
        "outputId": "9b1be1d6-615c-4944-827f-3fcb3f5aa3b0"
      },
      "source": [
        "X_poly[0]"
      ],
      "execution_count": 155,
      "outputs": [
        {
          "output_type": "execute_result",
          "data": {
            "text/plain": [
              "array([2.010000e+03, 1.000000e+01, 5.000000e+00, 2.200000e+01,\n",
              "       1.300000e+01, 1.600000e+01, 1.013000e+03, 2.000000e+00,\n",
              "       1.790000e+00, 0.000000e+00, 0.000000e+00, 4.040100e+06,\n",
              "       2.010000e+04, 1.005000e+04, 4.422000e+04, 2.613000e+04,\n",
              "       3.216000e+04, 2.036130e+06, 4.020000e+03, 3.597900e+03,\n",
              "       0.000000e+00, 0.000000e+00, 1.000000e+02, 5.000000e+01,\n",
              "       2.200000e+02, 1.300000e+02, 1.600000e+02, 1.013000e+04,\n",
              "       2.000000e+01, 1.790000e+01, 0.000000e+00, 0.000000e+00,\n",
              "       2.500000e+01, 1.100000e+02, 6.500000e+01, 8.000000e+01,\n",
              "       5.065000e+03, 1.000000e+01, 8.950000e+00, 0.000000e+00,\n",
              "       0.000000e+00, 4.840000e+02, 2.860000e+02, 3.520000e+02,\n",
              "       2.228600e+04, 4.400000e+01, 3.938000e+01, 0.000000e+00,\n",
              "       0.000000e+00, 1.690000e+02, 2.080000e+02, 1.316900e+04,\n",
              "       2.600000e+01, 2.327000e+01, 0.000000e+00, 0.000000e+00,\n",
              "       2.560000e+02, 1.620800e+04, 3.200000e+01, 2.864000e+01,\n",
              "       0.000000e+00, 0.000000e+00, 1.026169e+06, 2.026000e+03,\n",
              "       1.813270e+03, 0.000000e+00, 0.000000e+00, 4.000000e+00,\n",
              "       3.580000e+00, 0.000000e+00, 0.000000e+00, 3.204100e+00,\n",
              "       0.000000e+00, 0.000000e+00, 0.000000e+00, 0.000000e+00,\n",
              "       0.000000e+00])"
            ]
          },
          "metadata": {
            "tags": []
          },
          "execution_count": 155
        }
      ]
    },
    {
      "cell_type": "code",
      "metadata": {
        "id": "e15OuSvSPQJY",
        "colab_type": "code",
        "colab": {
          "base_uri": "https://localhost:8080/",
          "height": 470
        },
        "outputId": "92fff705-11b4-4905-d9a3-8a5ffca9e0e0"
      },
      "source": [
        "lin_reg = LinearRegression()\n",
        "lin_reg.fit(X_poly, y_train)\n",
        "lin_reg.intercept_, lin_reg.coef_"
      ],
      "execution_count": 156,
      "outputs": [
        {
          "output_type": "execute_result",
          "data": {
            "text/plain": [
              "(array([8319846.18423209]),\n",
              " array([[-7.98007571e+03,  1.27623366e+03, -6.08292049e+01,\n",
              "         -2.28576978e+02, -4.60755821e+01,  4.44454448e+02,\n",
              "         -5.81443315e+02, -4.53530434e+02,  5.78313965e+01,\n",
              "         -2.53901474e+03, -3.84323632e+02,  1.90097578e+00,\n",
              "         -7.07150223e-01,  3.44324422e-02,  1.44364653e-01,\n",
              "          5.64478159e-02, -2.79184484e-01,  3.30107763e-01,\n",
              "          1.93109537e-01, -3.20778992e-02,  1.14330062e+00,\n",
              "          9.12438001e-02,  6.25659137e+00,  2.60805889e-01,\n",
              "          9.59857400e-02,  3.20847363e-02, -3.04008951e-01,\n",
              "          5.35136382e-02,  2.01896943e-01,  2.86297964e-03,\n",
              "          8.89418335e-01, -3.45936496e-01, -4.52229228e-02,\n",
              "          1.49851100e-02,  5.72226497e-02, -7.21497891e-02,\n",
              "         -7.57540717e-03, -1.18874357e-02, -3.51675748e-03,\n",
              "          1.14557238e-01, -1.15993475e-01,  7.39759500e-03,\n",
              "          4.32296585e-02, -1.06850261e-01, -6.00710763e-02,\n",
              "          1.53679339e-01, -8.37538881e-03,  2.32876626e-01,\n",
              "         -1.24872435e-01,  9.17119647e-02, -3.83205939e-01,\n",
              "         -5.61041886e-02,  1.22348772e-01, -2.62046256e-02,\n",
              "          1.77338951e+00,  2.66186027e-02,  2.49193400e-01,\n",
              "          1.09594839e-01,  1.13987763e-01,  2.95275887e-02,\n",
              "         -1.88696722e+00,  4.12504376e-01, -4.16779741e-02,\n",
              "          6.71630129e-02,  5.68380347e-03,  2.13400663e-01,\n",
              "          1.84430211e-01, -6.43283934e-01,  2.73424043e-01,\n",
              "          6.19131101e-01, -1.85165805e-01,  6.17892729e-04,\n",
              "          2.33201990e-02,  4.49354223e-02,  4.80386661e-01,\n",
              "          0.00000000e+00,  3.60845138e-01]]))"
            ]
          },
          "metadata": {
            "tags": []
          },
          "execution_count": 156
        }
      ]
    },
    {
      "cell_type": "code",
      "metadata": {
        "id": "5fyTjiPQPdGn",
        "colab_type": "code",
        "colab": {
          "base_uri": "https://localhost:8080/",
          "height": 291
        },
        "outputId": "5374f5bb-77c7-4ace-bba0-bde89b6efcd8"
      },
      "source": [
        "X_new_poly = poly_features.transform(X_test)\n",
        "y_new = lin_reg.predict(X_new_poly)\n",
        "plt.plot(X_train, y_train, \"b.\")\n",
        "plt.plot(X_test, y_new, \"r-\", linewidth=2, label=\"Predictions\")\n",
        "plt.xlabel(\"$x_1$\", fontsize=18)\n",
        "plt.ylabel(\"$y$\", rotation=0, fontsize=18)\n",
        "plt.legend(loc=\"upper left\", fontsize=14)\n",
        "plt.axis([-3, 1, 0, 1])\n",
        "plt.show()"
      ],
      "execution_count": 157,
      "outputs": [
        {
          "output_type": "display_data",
          "data": {
            "image/png": "[encoded data removed]",
            "text/plain": [
              "<Figure size 432x288 with 1 Axes>"
            ]
          },
          "metadata": {
            "tags": []
          }
        }
      ]
    }
  ]
}