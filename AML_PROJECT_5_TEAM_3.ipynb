{
  "nbformat": 4,
  "nbformat_minor": 0,
  "metadata": {
    "colab": {
      "name": "AML PROJECT 5  TEAM 3.ipynb",
      "provenance": []
    },
    "kernelspec": {
      "name": "python3",
      "display_name": "Python 3"
    }
  },
  "cells": [
    {
      "cell_type": "markdown",
      "metadata": {
        "id": "6sBQ6BVA8gKc",
        "colab_type": "text"
      },
      "source": [
        "# **Project 5**\n",
        "\n",
        "***Team 3***\n",
        "**-SAGAR**\n",
        "**-MEGHA**\n",
        "\n",
        "\n",
        "\n",
        "\n",
        "In this project, you will work in groups to prepare a report on the data set  that has been prepared to analyze factors relating to readmission as well as other outcomes pertaining to patients with diabetes:(https://archive.ics.uci.edu/ml/datasets/Diabetes+130-US+hospitals+for+years+1999-2008 (Links to an external site.))\n",
        "\n",
        " \n",
        "\n",
        "# **Data Set Information:**\n",
        "\n",
        "The dataset represents 10 years (1999-2008) of clinical care at 130 US hospitals and integrated delivery networks. It includes over 50 features representing patient and hospital outcomes. Information was extracted from the database for encounters that satisfied the following criteria.\n",
        "\n",
        "1. It is an inpatient encounter (a hospital admission). It is a diabetic encounter, that is, one during which any kind of diabetes was entered to the system as a diagnosis.\n",
        "2. The length of stay was at least 1 day and at most 14 days. Laboratory tests were performed during the encounter.\n",
        "3. Medications were administered during the encounter.\n",
        "4. The data contains such attributes as patient number, race, gender, age, admission type, time in hospital, medical specialty of admitting physician, number of lab test performed, HbA1c test result, diagnosis, number of medication, diabetic medications, number of outpatient, inpatient, and emergency visits in the year before the hospitalization, etc.\n",
        " \n",
        "\n",
        "**Requirements**\n",
        "\n",
        "1. Read this background paper (Links to an external site.) to familiarize yourself with the problem.\n",
        "2. Perform data scrubbing to deal with missing data, and then scale the data. \n",
        "Find out which features have most influence on patients with diabetes or being readmitted, e.g., age, race, weight, blood pressure, etc.\n",
        "3. Use RF and SVM (linear as well as nonlinear kernels , as necessary) to learn classification of diabetic patients and those being readmitted.\n",
        "4. If using a LinearSVC, also use SVC and SGDClassifier to see if you can get them to roughly produce the same model.\n",
        "5. Calculate and present performance parameters (e.g. accuracy, etc.) of each model using appropriate graphs such as bar charts."
      ]
    },
    {
      "cell_type": "code",
      "metadata": {
        "id": "FGi1Toir9bxn",
        "colab_type": "code",
        "colab": {}
      },
      "source": [
        "# Python ≥3.5 is required\n",
        "import sys\n",
        "assert sys.version_info >= (3, 5)\n",
        "# Scikit-Learn ≥0.20 is required\n",
        "import sklearn\n",
        "assert sklearn.__version__ >= \"0.20\"\n",
        "\n",
        "# Common imports\n",
        "import numpy as np\n",
        "import os\n",
        "\n",
        "# to make this notebook's output stable across runs\n",
        "np.random.seed(42)\n",
        "\n",
        "# To plot pretty figures\n",
        "%matplotlib inline\n",
        "import matplotlib as mpl\n",
        "import matplotlib.pyplot as plt\n",
        "mpl.rc('axes', labelsize=14)\n",
        "mpl.rc('xtick', labelsize=12)\n",
        "mpl.rc('ytick', labelsize=12)\n",
        "\n",
        "def save_fig(fig_id, tight_layout=True, fig_extension=\"png\", resolution=300):\n",
        "    path = os.path.join(IMAGES_PATH, fig_id + \".\" + fig_extension)\n",
        "    print(\"Saving figure\", fig_id)\n",
        "    if tight_layout:\n",
        "        plt.tight_layout()\n",
        "    plt.savefig(path, format=fig_extension, dpi=resolution)\n",
        "\n",
        "# Ignore useless warnings (see SciPy issue #5998)\n",
        "import warnings\n",
        "warnings.filterwarnings(action=\"ignore\", message=\"^internal gelsd\")"
      ],
      "execution_count": 0,
      "outputs": []
    },
    {
      "cell_type": "code",
      "metadata": {
        "id": "0GKbxRa1-aEx",
        "colab_type": "code",
        "colab": {}
      },
      "source": [
        "\n",
        "import numpy as np\n",
        "import matplotlib.pyplot as plt\n",
        "import time"
      ],
      "execution_count": 0,
      "outputs": []
    },
    {
      "cell_type": "markdown",
      "metadata": {
        "id": "KtLeImMyEUPU",
        "colab_type": "text"
      },
      "source": [
        "# **Imports the CSV dataset using pandas**"
      ]
    },
    {
      "cell_type": "code",
      "metadata": {
        "id": "4ht8gF_iCLgy",
        "colab_type": "code",
        "colab": {
          "base_uri": "https://localhost:8080/",
          "height": 326
        },
        "outputId": "a56747d1-ea25-457f-c86e-84788e2dd84b"
      },
      "source": [
        "#Download the data\n",
        "import pandas as pd\n",
        "url = 'https://raw.githubusercontent.com/pandyasagar323/Advance-Machine-Learning-/master/Project%205/diabetic_data.csv'\n",
        "diabetic_data = pd.read_csv(url)\n",
        "diabetic_data.head(5)"
      ],
      "execution_count": 40,
      "outputs": [
        {
          "output_type": "execute_result",
          "data": {
            "text/html": [
              "<div>\n",
              "<style scoped>\n",
              "    .dataframe tbody tr th:only-of-type {\n",
              "        vertical-align: middle;\n",
              "    }\n",
              "\n",
              "    .dataframe tbody tr th {\n",
              "        vertical-align: top;\n",
              "    }\n",
              "\n",
              "    .dataframe thead th {\n",
              "        text-align: right;\n",
              "    }\n",
              "</style>\n",
              "<table border=\"1\" class=\"dataframe\">\n",
              "  <thead>\n",
              "    <tr style=\"text-align: right;\">\n",
              "      <th></th>\n",
              "      <th>encounter_id</th>\n",
              "      <th>patient_nbr</th>\n",
              "      <th>race</th>\n",
              "      <th>gender</th>\n",
              "      <th>age</th>\n",
              "      <th>weight</th>\n",
              "      <th>admission_type_id</th>\n",
              "      <th>discharge_disposition_id</th>\n",
              "      <th>admission_source_id</th>\n",
              "      <th>time_in_hospital</th>\n",
              "      <th>payer_code</th>\n",
              "      <th>medical_specialty</th>\n",
              "      <th>num_lab_procedures</th>\n",
              "      <th>num_procedures</th>\n",
              "      <th>num_medications</th>\n",
              "      <th>number_outpatient</th>\n",
              "      <th>number_emergency</th>\n",
              "      <th>number_inpatient</th>\n",
              "      <th>diag_1</th>\n",
              "      <th>diag_2</th>\n",
              "      <th>diag_3</th>\n",
              "      <th>number_diagnoses</th>\n",
              "      <th>max_glu_serum</th>\n",
              "      <th>A1Cresult</th>\n",
              "      <th>metformin</th>\n",
              "      <th>repaglinide</th>\n",
              "      <th>nateglinide</th>\n",
              "      <th>chlorpropamide</th>\n",
              "      <th>glimepiride</th>\n",
              "      <th>acetohexamide</th>\n",
              "      <th>glipizide</th>\n",
              "      <th>glyburide</th>\n",
              "      <th>tolbutamide</th>\n",
              "      <th>pioglitazone</th>\n",
              "      <th>rosiglitazone</th>\n",
              "      <th>acarbose</th>\n",
              "      <th>miglitol</th>\n",
              "      <th>troglitazone</th>\n",
              "      <th>tolazamide</th>\n",
              "      <th>examide</th>\n",
              "      <th>citoglipton</th>\n",
              "      <th>insulin</th>\n",
              "      <th>glyburide-metformin</th>\n",
              "      <th>glipizide-metformin</th>\n",
              "      <th>glimepiride-pioglitazone</th>\n",
              "      <th>metformin-rosiglitazone</th>\n",
              "      <th>metformin-pioglitazone</th>\n",
              "      <th>change</th>\n",
              "      <th>diabetesMed</th>\n",
              "      <th>readmitted</th>\n",
              "    </tr>\n",
              "  </thead>\n",
              "  <tbody>\n",
              "    <tr>\n",
              "      <th>0</th>\n",
              "      <td>2278392</td>\n",
              "      <td>8222157</td>\n",
              "      <td>Caucasian</td>\n",
              "      <td>Female</td>\n",
              "      <td>[0-10)</td>\n",
              "      <td>?</td>\n",
              "      <td>6</td>\n",
              "      <td>25</td>\n",
              "      <td>1</td>\n",
              "      <td>1</td>\n",
              "      <td>?</td>\n",
              "      <td>Pediatrics-Endocrinology</td>\n",
              "      <td>41</td>\n",
              "      <td>0</td>\n",
              "      <td>1</td>\n",
              "      <td>0</td>\n",
              "      <td>0</td>\n",
              "      <td>0</td>\n",
              "      <td>250.83</td>\n",
              "      <td>?</td>\n",
              "      <td>?</td>\n",
              "      <td>1</td>\n",
              "      <td>None</td>\n",
              "      <td>None</td>\n",
              "      <td>No</td>\n",
              "      <td>No</td>\n",
              "      <td>No</td>\n",
              "      <td>No</td>\n",
              "      <td>No</td>\n",
              "      <td>No</td>\n",
              "      <td>No</td>\n",
              "      <td>No</td>\n",
              "      <td>No</td>\n",
              "      <td>No</td>\n",
              "      <td>No</td>\n",
              "      <td>No</td>\n",
              "      <td>No</td>\n",
              "      <td>No</td>\n",
              "      <td>No</td>\n",
              "      <td>No</td>\n",
              "      <td>No</td>\n",
              "      <td>No</td>\n",
              "      <td>No</td>\n",
              "      <td>No</td>\n",
              "      <td>No</td>\n",
              "      <td>No</td>\n",
              "      <td>No</td>\n",
              "      <td>No</td>\n",
              "      <td>No</td>\n",
              "      <td>NO</td>\n",
              "    </tr>\n",
              "    <tr>\n",
              "      <th>1</th>\n",
              "      <td>149190</td>\n",
              "      <td>55629189</td>\n",
              "      <td>Caucasian</td>\n",
              "      <td>Female</td>\n",
              "      <td>[10-20)</td>\n",
              "      <td>?</td>\n",
              "      <td>1</td>\n",
              "      <td>1</td>\n",
              "      <td>7</td>\n",
              "      <td>3</td>\n",
              "      <td>?</td>\n",
              "      <td>?</td>\n",
              "      <td>59</td>\n",
              "      <td>0</td>\n",
              "      <td>18</td>\n",
              "      <td>0</td>\n",
              "      <td>0</td>\n",
              "      <td>0</td>\n",
              "      <td>276</td>\n",
              "      <td>250.01</td>\n",
              "      <td>255</td>\n",
              "      <td>9</td>\n",
              "      <td>None</td>\n",
              "      <td>None</td>\n",
              "      <td>No</td>\n",
              "      <td>No</td>\n",
              "      <td>No</td>\n",
              "      <td>No</td>\n",
              "      <td>No</td>\n",
              "      <td>No</td>\n",
              "      <td>No</td>\n",
              "      <td>No</td>\n",
              "      <td>No</td>\n",
              "      <td>No</td>\n",
              "      <td>No</td>\n",
              "      <td>No</td>\n",
              "      <td>No</td>\n",
              "      <td>No</td>\n",
              "      <td>No</td>\n",
              "      <td>No</td>\n",
              "      <td>No</td>\n",
              "      <td>Up</td>\n",
              "      <td>No</td>\n",
              "      <td>No</td>\n",
              "      <td>No</td>\n",
              "      <td>No</td>\n",
              "      <td>No</td>\n",
              "      <td>Ch</td>\n",
              "      <td>Yes</td>\n",
              "      <td>&gt;30</td>\n",
              "    </tr>\n",
              "    <tr>\n",
              "      <th>2</th>\n",
              "      <td>64410</td>\n",
              "      <td>86047875</td>\n",
              "      <td>AfricanAmerican</td>\n",
              "      <td>Female</td>\n",
              "      <td>[20-30)</td>\n",
              "      <td>?</td>\n",
              "      <td>1</td>\n",
              "      <td>1</td>\n",
              "      <td>7</td>\n",
              "      <td>2</td>\n",
              "      <td>?</td>\n",
              "      <td>?</td>\n",
              "      <td>11</td>\n",
              "      <td>5</td>\n",
              "      <td>13</td>\n",
              "      <td>2</td>\n",
              "      <td>0</td>\n",
              "      <td>1</td>\n",
              "      <td>648</td>\n",
              "      <td>250</td>\n",
              "      <td>V27</td>\n",
              "      <td>6</td>\n",
              "      <td>None</td>\n",
              "      <td>None</td>\n",
              "      <td>No</td>\n",
              "      <td>No</td>\n",
              "      <td>No</td>\n",
              "      <td>No</td>\n",
              "      <td>No</td>\n",
              "      <td>No</td>\n",
              "      <td>Steady</td>\n",
              "      <td>No</td>\n",
              "      <td>No</td>\n",
              "      <td>No</td>\n",
              "      <td>No</td>\n",
              "      <td>No</td>\n",
              "      <td>No</td>\n",
              "      <td>No</td>\n",
              "      <td>No</td>\n",
              "      <td>No</td>\n",
              "      <td>No</td>\n",
              "      <td>No</td>\n",
              "      <td>No</td>\n",
              "      <td>No</td>\n",
              "      <td>No</td>\n",
              "      <td>No</td>\n",
              "      <td>No</td>\n",
              "      <td>No</td>\n",
              "      <td>Yes</td>\n",
              "      <td>NO</td>\n",
              "    </tr>\n",
              "    <tr>\n",
              "      <th>3</th>\n",
              "      <td>500364</td>\n",
              "      <td>82442376</td>\n",
              "      <td>Caucasian</td>\n",
              "      <td>Male</td>\n",
              "      <td>[30-40)</td>\n",
              "      <td>?</td>\n",
              "      <td>1</td>\n",
              "      <td>1</td>\n",
              "      <td>7</td>\n",
              "      <td>2</td>\n",
              "      <td>?</td>\n",
              "      <td>?</td>\n",
              "      <td>44</td>\n",
              "      <td>1</td>\n",
              "      <td>16</td>\n",
              "      <td>0</td>\n",
              "      <td>0</td>\n",
              "      <td>0</td>\n",
              "      <td>8</td>\n",
              "      <td>250.43</td>\n",
              "      <td>403</td>\n",
              "      <td>7</td>\n",
              "      <td>None</td>\n",
              "      <td>None</td>\n",
              "      <td>No</td>\n",
              "      <td>No</td>\n",
              "      <td>No</td>\n",
              "      <td>No</td>\n",
              "      <td>No</td>\n",
              "      <td>No</td>\n",
              "      <td>No</td>\n",
              "      <td>No</td>\n",
              "      <td>No</td>\n",
              "      <td>No</td>\n",
              "      <td>No</td>\n",
              "      <td>No</td>\n",
              "      <td>No</td>\n",
              "      <td>No</td>\n",
              "      <td>No</td>\n",
              "      <td>No</td>\n",
              "      <td>No</td>\n",
              "      <td>Up</td>\n",
              "      <td>No</td>\n",
              "      <td>No</td>\n",
              "      <td>No</td>\n",
              "      <td>No</td>\n",
              "      <td>No</td>\n",
              "      <td>Ch</td>\n",
              "      <td>Yes</td>\n",
              "      <td>NO</td>\n",
              "    </tr>\n",
              "    <tr>\n",
              "      <th>4</th>\n",
              "      <td>16680</td>\n",
              "      <td>42519267</td>\n",
              "      <td>Caucasian</td>\n",
              "      <td>Male</td>\n",
              "      <td>[40-50)</td>\n",
              "      <td>?</td>\n",
              "      <td>1</td>\n",
              "      <td>1</td>\n",
              "      <td>7</td>\n",
              "      <td>1</td>\n",
              "      <td>?</td>\n",
              "      <td>?</td>\n",
              "      <td>51</td>\n",
              "      <td>0</td>\n",
              "      <td>8</td>\n",
              "      <td>0</td>\n",
              "      <td>0</td>\n",
              "      <td>0</td>\n",
              "      <td>197</td>\n",
              "      <td>157</td>\n",
              "      <td>250</td>\n",
              "      <td>5</td>\n",
              "      <td>None</td>\n",
              "      <td>None</td>\n",
              "      <td>No</td>\n",
              "      <td>No</td>\n",
              "      <td>No</td>\n",
              "      <td>No</td>\n",
              "      <td>No</td>\n",
              "      <td>No</td>\n",
              "      <td>Steady</td>\n",
              "      <td>No</td>\n",
              "      <td>No</td>\n",
              "      <td>No</td>\n",
              "      <td>No</td>\n",
              "      <td>No</td>\n",
              "      <td>No</td>\n",
              "      <td>No</td>\n",
              "      <td>No</td>\n",
              "      <td>No</td>\n",
              "      <td>No</td>\n",
              "      <td>Steady</td>\n",
              "      <td>No</td>\n",
              "      <td>No</td>\n",
              "      <td>No</td>\n",
              "      <td>No</td>\n",
              "      <td>No</td>\n",
              "      <td>Ch</td>\n",
              "      <td>Yes</td>\n",
              "      <td>NO</td>\n",
              "    </tr>\n",
              "  </tbody>\n",
              "</table>\n",
              "</div>"
            ],
            "text/plain": [
              "   encounter_id  patient_nbr             race  ... change diabetesMed readmitted\n",
              "0       2278392      8222157        Caucasian  ...     No          No         NO\n",
              "1        149190     55629189        Caucasian  ...     Ch         Yes        >30\n",
              "2         64410     86047875  AfricanAmerican  ...     No         Yes         NO\n",
              "3        500364     82442376        Caucasian  ...     Ch         Yes         NO\n",
              "4         16680     42519267        Caucasian  ...     Ch         Yes         NO\n",
              "\n",
              "[5 rows x 50 columns]"
            ]
          },
          "metadata": {
            "tags": []
          },
          "execution_count": 40
        }
      ]
    },
    {
      "cell_type": "code",
      "metadata": {
        "id": "g8E9LnnzEDBu",
        "colab_type": "code",
        "colab": {
          "base_uri": "https://localhost:8080/",
          "height": 985
        },
        "outputId": "810e5134-9823-4a99-844b-564091a9418b"
      },
      "source": [
        "diabetic_data.info()\n"
      ],
      "execution_count": 41,
      "outputs": [
        {
          "output_type": "stream",
          "text": [
            "<class 'pandas.core.frame.DataFrame'>\n",
            "RangeIndex: 101766 entries, 0 to 101765\n",
            "Data columns (total 50 columns):\n",
            "encounter_id                101766 non-null int64\n",
            "patient_nbr                 101766 non-null int64\n",
            "race                        101766 non-null object\n",
            "gender                      101766 non-null object\n",
            "age                         101766 non-null object\n",
            "weight                      101766 non-null object\n",
            "admission_type_id           101766 non-null int64\n",
            "discharge_disposition_id    101766 non-null int64\n",
            "admission_source_id         101766 non-null int64\n",
            "time_in_hospital            101766 non-null int64\n",
            "payer_code                  101766 non-null object\n",
            "medical_specialty           101766 non-null object\n",
            "num_lab_procedures          101766 non-null int64\n",
            "num_procedures              101766 non-null int64\n",
            "num_medications             101766 non-null int64\n",
            "number_outpatient           101766 non-null int64\n",
            "number_emergency            101766 non-null int64\n",
            "number_inpatient            101766 non-null int64\n",
            "diag_1                      101766 non-null object\n",
            "diag_2                      101766 non-null object\n",
            "diag_3                      101766 non-null object\n",
            "number_diagnoses            101766 non-null int64\n",
            "max_glu_serum               101766 non-null object\n",
            "A1Cresult                   101766 non-null object\n",
            "metformin                   101766 non-null object\n",
            "repaglinide                 101766 non-null object\n",
            "nateglinide                 101766 non-null object\n",
            "chlorpropamide              101766 non-null object\n",
            "glimepiride                 101766 non-null object\n",
            "acetohexamide               101766 non-null object\n",
            "glipizide                   101766 non-null object\n",
            "glyburide                   101766 non-null object\n",
            "tolbutamide                 101766 non-null object\n",
            "pioglitazone                101766 non-null object\n",
            "rosiglitazone               101766 non-null object\n",
            "acarbose                    101766 non-null object\n",
            "miglitol                    101766 non-null object\n",
            "troglitazone                101766 non-null object\n",
            "tolazamide                  101766 non-null object\n",
            "examide                     101766 non-null object\n",
            "citoglipton                 101766 non-null object\n",
            "insulin                     101766 non-null object\n",
            "glyburide-metformin         101766 non-null object\n",
            "glipizide-metformin         101766 non-null object\n",
            "glimepiride-pioglitazone    101766 non-null object\n",
            "metformin-rosiglitazone     101766 non-null object\n",
            "metformin-pioglitazone      101766 non-null object\n",
            "change                      101766 non-null object\n",
            "diabetesMed                 101766 non-null object\n",
            "readmitted                  101766 non-null object\n",
            "dtypes: int64(13), object(37)\n",
            "memory usage: 38.8+ MB\n"
          ],
          "name": "stdout"
        }
      ]
    },
    {
      "cell_type": "code",
      "metadata": {
        "id": "YwKOcJogFodm",
        "colab_type": "code",
        "colab": {
          "base_uri": "https://localhost:8080/",
          "height": 315
        },
        "outputId": "44c57b6e-a68b-4957-b971-d62c3b04272f"
      },
      "source": [
        "diabetic_data.describe()"
      ],
      "execution_count": 42,
      "outputs": [
        {
          "output_type": "execute_result",
          "data": {
            "text/html": [
              "<div>\n",
              "<style scoped>\n",
              "    .dataframe tbody tr th:only-of-type {\n",
              "        vertical-align: middle;\n",
              "    }\n",
              "\n",
              "    .dataframe tbody tr th {\n",
              "        vertical-align: top;\n",
              "    }\n",
              "\n",
              "    .dataframe thead th {\n",
              "        text-align: right;\n",
              "    }\n",
              "</style>\n",
              "<table border=\"1\" class=\"dataframe\">\n",
              "  <thead>\n",
              "    <tr style=\"text-align: right;\">\n",
              "      <th></th>\n",
              "      <th>encounter_id</th>\n",
              "      <th>patient_nbr</th>\n",
              "      <th>admission_type_id</th>\n",
              "      <th>discharge_disposition_id</th>\n",
              "      <th>admission_source_id</th>\n",
              "      <th>time_in_hospital</th>\n",
              "      <th>num_lab_procedures</th>\n",
              "      <th>num_procedures</th>\n",
              "      <th>num_medications</th>\n",
              "      <th>number_outpatient</th>\n",
              "      <th>number_emergency</th>\n",
              "      <th>number_inpatient</th>\n",
              "      <th>number_diagnoses</th>\n",
              "    </tr>\n",
              "  </thead>\n",
              "  <tbody>\n",
              "    <tr>\n",
              "      <th>count</th>\n",
              "      <td>1.017660e+05</td>\n",
              "      <td>1.017660e+05</td>\n",
              "      <td>101766.000000</td>\n",
              "      <td>101766.000000</td>\n",
              "      <td>101766.000000</td>\n",
              "      <td>101766.000000</td>\n",
              "      <td>101766.000000</td>\n",
              "      <td>101766.000000</td>\n",
              "      <td>101766.000000</td>\n",
              "      <td>101766.000000</td>\n",
              "      <td>101766.000000</td>\n",
              "      <td>101766.000000</td>\n",
              "      <td>101766.000000</td>\n",
              "    </tr>\n",
              "    <tr>\n",
              "      <th>mean</th>\n",
              "      <td>1.652016e+08</td>\n",
              "      <td>5.433040e+07</td>\n",
              "      <td>2.024006</td>\n",
              "      <td>3.715642</td>\n",
              "      <td>5.754437</td>\n",
              "      <td>4.395987</td>\n",
              "      <td>43.095641</td>\n",
              "      <td>1.339730</td>\n",
              "      <td>16.021844</td>\n",
              "      <td>0.369357</td>\n",
              "      <td>0.197836</td>\n",
              "      <td>0.635566</td>\n",
              "      <td>7.422607</td>\n",
              "    </tr>\n",
              "    <tr>\n",
              "      <th>std</th>\n",
              "      <td>1.026403e+08</td>\n",
              "      <td>3.869636e+07</td>\n",
              "      <td>1.445403</td>\n",
              "      <td>5.280166</td>\n",
              "      <td>4.064081</td>\n",
              "      <td>2.985108</td>\n",
              "      <td>19.674362</td>\n",
              "      <td>1.705807</td>\n",
              "      <td>8.127566</td>\n",
              "      <td>1.267265</td>\n",
              "      <td>0.930472</td>\n",
              "      <td>1.262863</td>\n",
              "      <td>1.933600</td>\n",
              "    </tr>\n",
              "    <tr>\n",
              "      <th>min</th>\n",
              "      <td>1.252200e+04</td>\n",
              "      <td>1.350000e+02</td>\n",
              "      <td>1.000000</td>\n",
              "      <td>1.000000</td>\n",
              "      <td>1.000000</td>\n",
              "      <td>1.000000</td>\n",
              "      <td>1.000000</td>\n",
              "      <td>0.000000</td>\n",
              "      <td>1.000000</td>\n",
              "      <td>0.000000</td>\n",
              "      <td>0.000000</td>\n",
              "      <td>0.000000</td>\n",
              "      <td>1.000000</td>\n",
              "    </tr>\n",
              "    <tr>\n",
              "      <th>25%</th>\n",
              "      <td>8.496119e+07</td>\n",
              "      <td>2.341322e+07</td>\n",
              "      <td>1.000000</td>\n",
              "      <td>1.000000</td>\n",
              "      <td>1.000000</td>\n",
              "      <td>2.000000</td>\n",
              "      <td>31.000000</td>\n",
              "      <td>0.000000</td>\n",
              "      <td>10.000000</td>\n",
              "      <td>0.000000</td>\n",
              "      <td>0.000000</td>\n",
              "      <td>0.000000</td>\n",
              "      <td>6.000000</td>\n",
              "    </tr>\n",
              "    <tr>\n",
              "      <th>50%</th>\n",
              "      <td>1.523890e+08</td>\n",
              "      <td>4.550514e+07</td>\n",
              "      <td>1.000000</td>\n",
              "      <td>1.000000</td>\n",
              "      <td>7.000000</td>\n",
              "      <td>4.000000</td>\n",
              "      <td>44.000000</td>\n",
              "      <td>1.000000</td>\n",
              "      <td>15.000000</td>\n",
              "      <td>0.000000</td>\n",
              "      <td>0.000000</td>\n",
              "      <td>0.000000</td>\n",
              "      <td>8.000000</td>\n",
              "    </tr>\n",
              "    <tr>\n",
              "      <th>75%</th>\n",
              "      <td>2.302709e+08</td>\n",
              "      <td>8.754595e+07</td>\n",
              "      <td>3.000000</td>\n",
              "      <td>4.000000</td>\n",
              "      <td>7.000000</td>\n",
              "      <td>6.000000</td>\n",
              "      <td>57.000000</td>\n",
              "      <td>2.000000</td>\n",
              "      <td>20.000000</td>\n",
              "      <td>0.000000</td>\n",
              "      <td>0.000000</td>\n",
              "      <td>1.000000</td>\n",
              "      <td>9.000000</td>\n",
              "    </tr>\n",
              "    <tr>\n",
              "      <th>max</th>\n",
              "      <td>4.438672e+08</td>\n",
              "      <td>1.895026e+08</td>\n",
              "      <td>8.000000</td>\n",
              "      <td>28.000000</td>\n",
              "      <td>25.000000</td>\n",
              "      <td>14.000000</td>\n",
              "      <td>132.000000</td>\n",
              "      <td>6.000000</td>\n",
              "      <td>81.000000</td>\n",
              "      <td>42.000000</td>\n",
              "      <td>76.000000</td>\n",
              "      <td>21.000000</td>\n",
              "      <td>16.000000</td>\n",
              "    </tr>\n",
              "  </tbody>\n",
              "</table>\n",
              "</div>"
            ],
            "text/plain": [
              "       encounter_id   patient_nbr  ...  number_inpatient  number_diagnoses\n",
              "count  1.017660e+05  1.017660e+05  ...     101766.000000     101766.000000\n",
              "mean   1.652016e+08  5.433040e+07  ...          0.635566          7.422607\n",
              "std    1.026403e+08  3.869636e+07  ...          1.262863          1.933600\n",
              "min    1.252200e+04  1.350000e+02  ...          0.000000          1.000000\n",
              "25%    8.496119e+07  2.341322e+07  ...          0.000000          6.000000\n",
              "50%    1.523890e+08  4.550514e+07  ...          0.000000          8.000000\n",
              "75%    2.302709e+08  8.754595e+07  ...          1.000000          9.000000\n",
              "max    4.438672e+08  1.895026e+08  ...         21.000000         16.000000\n",
              "\n",
              "[8 rows x 13 columns]"
            ]
          },
          "metadata": {
            "tags": []
          },
          "execution_count": 42
        }
      ]
    },
    {
      "cell_type": "markdown",
      "metadata": {
        "id": "NJKw8usqEoLA",
        "colab_type": "text"
      },
      "source": [
        "# **Data Scrubbing **"
      ]
    },
    {
      "cell_type": "code",
      "metadata": {
        "id": "JnjuXo-pFwOl",
        "colab_type": "code",
        "colab": {}
      },
      "source": [
        "diabetic_data = diabetic_data.drop(\"weight\", axis=1)\n",
        "diabetic_data = diabetic_data.drop(\"payer_code\", axis=1)\n",
        "diabetic_data = diabetic_data.drop(\"medical_specialty\", axis=1)"
      ],
      "execution_count": 0,
      "outputs": []
    },
    {
      "cell_type": "code",
      "metadata": {
        "id": "lSix3-I-GAeq",
        "colab_type": "code",
        "colab": {
          "base_uri": "https://localhost:8080/",
          "height": 932
        },
        "outputId": "3c0a52bd-a076-495a-925e-5f39ed622545"
      },
      "source": [
        "diabetic_data.info()"
      ],
      "execution_count": 47,
      "outputs": [
        {
          "output_type": "stream",
          "text": [
            "<class 'pandas.core.frame.DataFrame'>\n",
            "RangeIndex: 101766 entries, 0 to 101765\n",
            "Data columns (total 47 columns):\n",
            "encounter_id                101766 non-null int64\n",
            "patient_nbr                 101766 non-null int64\n",
            "race                        101766 non-null object\n",
            "gender                      101766 non-null object\n",
            "age                         101766 non-null object\n",
            "admission_type_id           101766 non-null int64\n",
            "discharge_disposition_id    101766 non-null int64\n",
            "admission_source_id         101766 non-null int64\n",
            "time_in_hospital            101766 non-null int64\n",
            "num_lab_procedures          101766 non-null int64\n",
            "num_procedures              101766 non-null int64\n",
            "num_medications             101766 non-null int64\n",
            "number_outpatient           101766 non-null int64\n",
            "number_emergency            101766 non-null int64\n",
            "number_inpatient            101766 non-null int64\n",
            "diag_1                      101766 non-null object\n",
            "diag_2                      101766 non-null object\n",
            "diag_3                      101766 non-null object\n",
            "number_diagnoses            101766 non-null int64\n",
            "max_glu_serum               101766 non-null object\n",
            "A1Cresult                   101766 non-null object\n",
            "metformin                   101766 non-null object\n",
            "repaglinide                 101766 non-null object\n",
            "nateglinide                 101766 non-null object\n",
            "chlorpropamide              101766 non-null object\n",
            "glimepiride                 101766 non-null object\n",
            "acetohexamide               101766 non-null object\n",
            "glipizide                   101766 non-null object\n",
            "glyburide                   101766 non-null object\n",
            "tolbutamide                 101766 non-null object\n",
            "pioglitazone                101766 non-null object\n",
            "rosiglitazone               101766 non-null object\n",
            "acarbose                    101766 non-null object\n",
            "miglitol                    101766 non-null object\n",
            "troglitazone                101766 non-null object\n",
            "tolazamide                  101766 non-null object\n",
            "examide                     101766 non-null object\n",
            "citoglipton                 101766 non-null object\n",
            "insulin                     101766 non-null object\n",
            "glyburide-metformin         101766 non-null object\n",
            "glipizide-metformin         101766 non-null object\n",
            "glimepiride-pioglitazone    101766 non-null object\n",
            "metformin-rosiglitazone     101766 non-null object\n",
            "metformin-pioglitazone      101766 non-null object\n",
            "change                      101766 non-null object\n",
            "diabetesMed                 101766 non-null object\n",
            "readmitted                  101766 non-null object\n",
            "dtypes: int64(13), object(34)\n",
            "memory usage: 36.5+ MB\n"
          ],
          "name": "stdout"
        }
      ]
    },
    {
      "cell_type": "code",
      "metadata": {
        "id": "Tt0BOYcCGEco",
        "colab_type": "code",
        "colab": {}
      },
      "source": [
        "diabetic_data = diabetic_data.replace({\"readmitted\": \">30\"}, \"No\")\n",
        "diabetic_data = diabetic_data.replace({\"readmitted\": \"<30\"}, \"Yes\")"
      ],
      "execution_count": 0,
      "outputs": []
    },
    {
      "cell_type": "code",
      "metadata": {
        "id": "sAC-LB8nGVze",
        "colab_type": "code",
        "colab": {
          "base_uri": "https://localhost:8080/",
          "height": 387
        },
        "outputId": "4fa6dcf6-fe50-4ca1-f745-02471175014e"
      },
      "source": [
        "diabetic_data[\"readmitted\"][:20]"
      ],
      "execution_count": 51,
      "outputs": [
        {
          "output_type": "execute_result",
          "data": {
            "text/plain": [
              "0      NO\n",
              "1      No\n",
              "2      NO\n",
              "3      NO\n",
              "4      NO\n",
              "5      No\n",
              "6      NO\n",
              "7      No\n",
              "8      NO\n",
              "9      NO\n",
              "10     No\n",
              "11    Yes\n",
              "12    Yes\n",
              "13     NO\n",
              "14     No\n",
              "15     NO\n",
              "16    Yes\n",
              "17     NO\n",
              "18     No\n",
              "19     NO\n",
              "Name: readmitted, dtype: object"
            ]
          },
          "metadata": {
            "tags": []
          },
          "execution_count": 51
        }
      ]
    },
    {
      "cell_type": "code",
      "metadata": {
        "id": "qbtZRlccGe0E",
        "colab_type": "code",
        "colab": {}
      },
      "source": [
        "diabetic_data = diabetic_data.drop_duplicates(subset=[\"patient_nbr\"])"
      ],
      "execution_count": 0,
      "outputs": []
    },
    {
      "cell_type": "code",
      "metadata": {
        "id": "QHVOtohtGm1x",
        "colab_type": "code",
        "colab": {
          "base_uri": "https://localhost:8080/",
          "height": 35
        },
        "outputId": "527cfeb4-5038-436e-e870-51561ed53e69"
      },
      "source": [
        "diabetic_data[\"encounter_id\"].count()"
      ],
      "execution_count": 55,
      "outputs": [
        {
          "output_type": "execute_result",
          "data": {
            "text/plain": [
              "71518"
            ]
          },
          "metadata": {
            "tags": []
          },
          "execution_count": 55
        }
      ]
    },
    {
      "cell_type": "code",
      "metadata": {
        "id": "P5dRQ0blGwtR",
        "colab_type": "code",
        "colab": {}
      },
      "source": [
        "diabetic_data = diabetic_data[diabetic_data.discharge_disposition_id != 11 ]"
      ],
      "execution_count": 0,
      "outputs": []
    },
    {
      "cell_type": "code",
      "metadata": {
        "id": "gHEJ3H5vHeLl",
        "colab_type": "code",
        "colab": {
          "base_uri": "https://localhost:8080/",
          "height": 35
        },
        "outputId": "932d9a55-392d-4848-f953-815a7b1036af"
      },
      "source": [
        "diabetic_data[\"encounter_id\"].count()"
      ],
      "execution_count": 60,
      "outputs": [
        {
          "output_type": "execute_result",
          "data": {
            "text/plain": [
              "70441"
            ]
          },
          "metadata": {
            "tags": []
          },
          "execution_count": 60
        }
      ]
    },
    {
      "cell_type": "code",
      "metadata": {
        "id": "EAQBFexNHhs7",
        "colab_type": "code",
        "colab": {
          "base_uri": "https://localhost:8080/",
          "height": 475
        },
        "outputId": "76079482-20b8-44a0-8f19-f95491a4f789"
      },
      "source": [
        "diabetic_data[\"race\"][:25]"
      ],
      "execution_count": 62,
      "outputs": [
        {
          "output_type": "execute_result",
          "data": {
            "text/plain": [
              "0           Caucasian\n",
              "1           Caucasian\n",
              "2     AfricanAmerican\n",
              "3           Caucasian\n",
              "4           Caucasian\n",
              "5           Caucasian\n",
              "6           Caucasian\n",
              "7           Caucasian\n",
              "8           Caucasian\n",
              "9           Caucasian\n",
              "10    AfricanAmerican\n",
              "11    AfricanAmerican\n",
              "12          Caucasian\n",
              "13          Caucasian\n",
              "14    AfricanAmerican\n",
              "15    AfricanAmerican\n",
              "16    AfricanAmerican\n",
              "17          Caucasian\n",
              "18    AfricanAmerican\n",
              "19                  ?\n",
              "20                  ?\n",
              "21                  ?\n",
              "22    AfricanAmerican\n",
              "23          Caucasian\n",
              "24    AfricanAmerican\n",
              "Name: race, dtype: object"
            ]
          },
          "metadata": {
            "tags": []
          },
          "execution_count": 62
        }
      ]
    },
    {
      "cell_type": "code",
      "metadata": {
        "id": "tN5q79lJH0S3",
        "colab_type": "code",
        "colab": {}
      },
      "source": [
        "diabetic_data[\"race\"].replace(\"?\",\"Other\",inplace = True)"
      ],
      "execution_count": 0,
      "outputs": []
    },
    {
      "cell_type": "code",
      "metadata": {
        "id": "FIxY_GFpID39",
        "colab_type": "code",
        "colab": {
          "base_uri": "https://localhost:8080/",
          "height": 475
        },
        "outputId": "fea72573-09c4-4286-fcd9-a077d63e7fd4"
      },
      "source": [
        "diabetic_data[\"race\"][:25]"
      ],
      "execution_count": 66,
      "outputs": [
        {
          "output_type": "execute_result",
          "data": {
            "text/plain": [
              "0           Caucasian\n",
              "1           Caucasian\n",
              "2     AfricanAmerican\n",
              "3           Caucasian\n",
              "4           Caucasian\n",
              "5           Caucasian\n",
              "6           Caucasian\n",
              "7           Caucasian\n",
              "8           Caucasian\n",
              "9           Caucasian\n",
              "10    AfricanAmerican\n",
              "11    AfricanAmerican\n",
              "12          Caucasian\n",
              "13          Caucasian\n",
              "14    AfricanAmerican\n",
              "15    AfricanAmerican\n",
              "16    AfricanAmerican\n",
              "17          Caucasian\n",
              "18    AfricanAmerican\n",
              "19              Other\n",
              "20              Other\n",
              "21              Other\n",
              "22    AfricanAmerican\n",
              "23          Caucasian\n",
              "24    AfricanAmerican\n",
              "Name: race, dtype: object"
            ]
          },
          "metadata": {
            "tags": []
          },
          "execution_count": 66
        }
      ]
    },
    {
      "cell_type": "code",
      "metadata": {
        "id": "ZcLRTPQDITHF",
        "colab_type": "code",
        "colab": {
          "base_uri": "https://localhost:8080/",
          "height": 299
        },
        "outputId": "6170f9e6-78a1-430d-f08d-862410464a96"
      },
      "source": [
        "diabetic_data[\"diag_1\"][0:15]"
      ],
      "execution_count": 68,
      "outputs": [
        {
          "output_type": "execute_result",
          "data": {
            "text/plain": [
              "0     250.83\n",
              "1        276\n",
              "2        648\n",
              "3          8\n",
              "4        197\n",
              "5        414\n",
              "6        414\n",
              "7        428\n",
              "8        398\n",
              "9        434\n",
              "10     250.7\n",
              "11       157\n",
              "12       428\n",
              "13       428\n",
              "14       518\n",
              "Name: diag_1, dtype: object"
            ]
          },
          "metadata": {
            "tags": []
          },
          "execution_count": 68
        }
      ]
    },
    {
      "cell_type": "code",
      "metadata": {
        "id": "MXe4p6v1IjpI",
        "colab_type": "code",
        "colab": {}
      },
      "source": [
        "diabetic_data[\"diag_1\"].replace(\"^(?!250).*\",\"No\",inplace = True,regex=True)\n",
        "diabetic_data[\"diag_1\"].replace(\"^250.*\",\"Yes\",inplace = True,regex=True)"
      ],
      "execution_count": 0,
      "outputs": []
    },
    {
      "cell_type": "code",
      "metadata": {
        "id": "NvOUqJbDI4Bk",
        "colab_type": "code",
        "colab": {
          "base_uri": "https://localhost:8080/",
          "height": 299
        },
        "outputId": "1b5f225b-5187-46b4-800d-878902f26fcc"
      },
      "source": [
        "diabetic_data[\"diag_1\"][0:15]"
      ],
      "execution_count": 71,
      "outputs": [
        {
          "output_type": "execute_result",
          "data": {
            "text/plain": [
              "0     Yes\n",
              "1      No\n",
              "2      No\n",
              "3      No\n",
              "4      No\n",
              "5      No\n",
              "6      No\n",
              "7      No\n",
              "8      No\n",
              "9      No\n",
              "10    Yes\n",
              "11     No\n",
              "12     No\n",
              "13     No\n",
              "14     No\n",
              "Name: diag_1, dtype: object"
            ]
          },
          "metadata": {
            "tags": []
          },
          "execution_count": 71
        }
      ]
    },
    {
      "cell_type": "code",
      "metadata": {
        "id": "cXnQ_vaOJE5z",
        "colab_type": "code",
        "colab": {}
      },
      "source": [
        "diabetic_data[\"diag_2\"].replace(\"^(?!250).*\",\"No\",inplace = True,regex=True)\n",
        "diabetic_data[\"diag_2\"].replace(\"^250.*\",\"Yes\",inplace = True,regex=True)\n",
        "diabetic_data[\"diag_3\"].replace(\"^(?!250).*\",\"No\",inplace = True,regex=True)\n",
        "diabetic_data[\"diag_3\"].replace(\"^250.*\",\"Yes\",inplace = True,regex=True)"
      ],
      "execution_count": 0,
      "outputs": []
    },
    {
      "cell_type": "code",
      "metadata": {
        "id": "uc7ApzCIJl0Q",
        "colab_type": "code",
        "colab": {
          "base_uri": "https://localhost:8080/",
          "height": 299
        },
        "outputId": "4d49a2e2-5421-4f1b-f986-cb41ca3a2ddd"
      },
      "source": [
        "diabetic_data[\"diag_2\"][0:15]"
      ],
      "execution_count": 74,
      "outputs": [
        {
          "output_type": "execute_result",
          "data": {
            "text/plain": [
              "0      No\n",
              "1     Yes\n",
              "2     Yes\n",
              "3     Yes\n",
              "4      No\n",
              "5      No\n",
              "6      No\n",
              "7      No\n",
              "8      No\n",
              "9      No\n",
              "10     No\n",
              "11     No\n",
              "12    Yes\n",
              "13     No\n",
              "14     No\n",
              "Name: diag_2, dtype: object"
            ]
          },
          "metadata": {
            "tags": []
          },
          "execution_count": 74
        }
      ]
    },
    {
      "cell_type": "code",
      "metadata": {
        "id": "5eMgpmg-J5J7",
        "colab_type": "code",
        "colab": {}
      },
      "source": [
        "diabetic_data[\"Cons_diag\"] = 0"
      ],
      "execution_count": 0,
      "outputs": []
    },
    {
      "cell_type": "code",
      "metadata": {
        "id": "GMAeudOKKJlm",
        "colab_type": "code",
        "colab": {
          "base_uri": "https://localhost:8080/",
          "height": 281
        },
        "outputId": "0962d4d7-3f74-4fd9-9791-d35e9b6c07ce"
      },
      "source": [
        "diabetic_data[\"Cons_diag\"][diabetic_data.diag_1==\"Yes\"] = 1\n",
        "diabetic_data[\"Cons_diag\"][diabetic_data.diag_2==\"Yes\"] = 1\n",
        "diabetic_data[\"Cons_diag\"][diabetic_data.diag_3==\"Yes\"] = 1"
      ],
      "execution_count": 78,
      "outputs": [
        {
          "output_type": "stream",
          "text": [
            "/usr/local/lib/python3.6/dist-packages/ipykernel_launcher.py:1: SettingWithCopyWarning: \n",
            "A value is trying to be set on a copy of a slice from a DataFrame\n",
            "\n",
            "See the caveats in the documentation: http://pandas.pydata.org/pandas-docs/stable/user_guide/indexing.html#returning-a-view-versus-a-copy\n",
            "  \"\"\"Entry point for launching an IPython kernel.\n",
            "/usr/local/lib/python3.6/dist-packages/ipykernel_launcher.py:2: SettingWithCopyWarning: \n",
            "A value is trying to be set on a copy of a slice from a DataFrame\n",
            "\n",
            "See the caveats in the documentation: http://pandas.pydata.org/pandas-docs/stable/user_guide/indexing.html#returning-a-view-versus-a-copy\n",
            "  \n",
            "/usr/local/lib/python3.6/dist-packages/ipykernel_launcher.py:3: SettingWithCopyWarning: \n",
            "A value is trying to be set on a copy of a slice from a DataFrame\n",
            "\n",
            "See the caveats in the documentation: http://pandas.pydata.org/pandas-docs/stable/user_guide/indexing.html#returning-a-view-versus-a-copy\n",
            "  This is separate from the ipykernel package so we can avoid doing imports until\n"
          ],
          "name": "stderr"
        }
      ]
    },
    {
      "cell_type": "code",
      "metadata": {
        "id": "fmrfwuC_KZW1",
        "colab_type": "code",
        "colab": {
          "base_uri": "https://localhost:8080/",
          "height": 475
        },
        "outputId": "a064ee4c-ac2d-45cc-f67b-3ec7506bb70f"
      },
      "source": [
        "diabetic_data[\"Cons_diag\"][:25]"
      ],
      "execution_count": 81,
      "outputs": [
        {
          "output_type": "execute_result",
          "data": {
            "text/plain": [
              "0     1\n",
              "1     1\n",
              "2     1\n",
              "3     1\n",
              "4     1\n",
              "5     1\n",
              "6     0\n",
              "7     1\n",
              "8     0\n",
              "9     0\n",
              "10    1\n",
              "11    0\n",
              "12    1\n",
              "13    0\n",
              "14    0\n",
              "15    0\n",
              "16    0\n",
              "17    1\n",
              "18    0\n",
              "19    0\n",
              "20    0\n",
              "21    0\n",
              "22    0\n",
              "23    0\n",
              "24    0\n",
              "Name: Cons_diag, dtype: int64"
            ]
          },
          "metadata": {
            "tags": []
          },
          "execution_count": 81
        }
      ]
    },
    {
      "cell_type": "code",
      "metadata": {
        "id": "YlaRmjQ_KivW",
        "colab_type": "code",
        "colab": {
          "base_uri": "https://localhost:8080/",
          "height": 70
        },
        "outputId": "24f9d253-bba4-4ec4-d677-c99a31e5dcc2"
      },
      "source": [
        "diabetic_data[\"Cons_diag\"].value_counts()"
      ],
      "execution_count": 82,
      "outputs": [
        {
          "output_type": "execute_result",
          "data": {
            "text/plain": [
              "0    42806\n",
              "1    27635\n",
              "Name: Cons_diag, dtype: int64"
            ]
          },
          "metadata": {
            "tags": []
          },
          "execution_count": 82
        }
      ]
    },
    {
      "cell_type": "code",
      "metadata": {
        "id": "WQYDAm8jKxJd",
        "colab_type": "code",
        "colab": {}
      },
      "source": [
        "diabetic_data = diabetic_data.drop(\"diag_1\",axis=1)\n",
        "diabetic_data = diabetic_data.drop(\"diag_2\",axis=1)\n",
        "diabetic_data = diabetic_data.drop(\"diag_3\",axis=1)"
      ],
      "execution_count": 0,
      "outputs": []
    },
    {
      "cell_type": "code",
      "metadata": {
        "id": "5mTNByYqK6P9",
        "colab_type": "code",
        "colab": {
          "base_uri": "https://localhost:8080/",
          "height": 897
        },
        "outputId": "0ccc4a05-12de-4c8c-850f-e0a4b6e0b0d5"
      },
      "source": [
        "diabetic_data.info()"
      ],
      "execution_count": 87,
      "outputs": [
        {
          "output_type": "stream",
          "text": [
            "<class 'pandas.core.frame.DataFrame'>\n",
            "Int64Index: 70441 entries, 0 to 101765\n",
            "Data columns (total 45 columns):\n",
            "encounter_id                70441 non-null int64\n",
            "patient_nbr                 70441 non-null int64\n",
            "race                        70441 non-null object\n",
            "gender                      70441 non-null object\n",
            "age                         70441 non-null object\n",
            "admission_type_id           70441 non-null int64\n",
            "discharge_disposition_id    70441 non-null int64\n",
            "admission_source_id         70441 non-null int64\n",
            "time_in_hospital            70441 non-null int64\n",
            "num_lab_procedures          70441 non-null int64\n",
            "num_procedures              70441 non-null int64\n",
            "num_medications             70441 non-null int64\n",
            "number_outpatient           70441 non-null int64\n",
            "number_emergency            70441 non-null int64\n",
            "number_inpatient            70441 non-null int64\n",
            "number_diagnoses            70441 non-null int64\n",
            "max_glu_serum               70441 non-null object\n",
            "A1Cresult                   70441 non-null object\n",
            "metformin                   70441 non-null object\n",
            "repaglinide                 70441 non-null object\n",
            "nateglinide                 70441 non-null object\n",
            "chlorpropamide              70441 non-null object\n",
            "glimepiride                 70441 non-null object\n",
            "acetohexamide               70441 non-null object\n",
            "glipizide                   70441 non-null object\n",
            "glyburide                   70441 non-null object\n",
            "tolbutamide                 70441 non-null object\n",
            "pioglitazone                70441 non-null object\n",
            "rosiglitazone               70441 non-null object\n",
            "acarbose                    70441 non-null object\n",
            "miglitol                    70441 non-null object\n",
            "troglitazone                70441 non-null object\n",
            "tolazamide                  70441 non-null object\n",
            "examide                     70441 non-null object\n",
            "citoglipton                 70441 non-null object\n",
            "insulin                     70441 non-null object\n",
            "glyburide-metformin         70441 non-null object\n",
            "glipizide-metformin         70441 non-null object\n",
            "glimepiride-pioglitazone    70441 non-null object\n",
            "metformin-rosiglitazone     70441 non-null object\n",
            "metformin-pioglitazone      70441 non-null object\n",
            "change                      70441 non-null object\n",
            "diabetesMed                 70441 non-null object\n",
            "readmitted                  70441 non-null object\n",
            "Cons_diag                   70441 non-null int64\n",
            "dtypes: int64(14), object(31)\n",
            "memory usage: 24.7+ MB\n"
          ],
          "name": "stdout"
        }
      ]
    },
    {
      "cell_type": "code",
      "metadata": {
        "id": "-SCZZpVLK_ai",
        "colab_type": "code",
        "colab": {}
      },
      "source": [
        "diabetic_data[\"re_ad\"] = 0"
      ],
      "execution_count": 0,
      "outputs": []
    },
    {
      "cell_type": "code",
      "metadata": {
        "id": "f-2F6dYzLIwo",
        "colab_type": "code",
        "colab": {
          "base_uri": "https://localhost:8080/",
          "height": 105
        },
        "outputId": "6e3eb11b-caac-47f4-c109-58a9d10d858d"
      },
      "source": [
        "diabetic_data[\"re_ad\"][diabetic_data.readmitted==\"Yes\"] = 1"
      ],
      "execution_count": 89,
      "outputs": [
        {
          "output_type": "stream",
          "text": [
            "/usr/local/lib/python3.6/dist-packages/ipykernel_launcher.py:1: SettingWithCopyWarning: \n",
            "A value is trying to be set on a copy of a slice from a DataFrame\n",
            "\n",
            "See the caveats in the documentation: http://pandas.pydata.org/pandas-docs/stable/user_guide/indexing.html#returning-a-view-versus-a-copy\n",
            "  \"\"\"Entry point for launching an IPython kernel.\n"
          ],
          "name": "stderr"
        }
      ]
    },
    {
      "cell_type": "code",
      "metadata": {
        "id": "q_iV1NBeLOp2",
        "colab_type": "code",
        "colab": {
          "base_uri": "https://localhost:8080/",
          "height": 387
        },
        "outputId": "0d965677-197b-47eb-f826-63ce4c890d96"
      },
      "source": [
        "diabetic_data[\"re_ad\"][:20]"
      ],
      "execution_count": 91,
      "outputs": [
        {
          "output_type": "execute_result",
          "data": {
            "text/plain": [
              "0     0\n",
              "1     0\n",
              "2     0\n",
              "3     0\n",
              "4     0\n",
              "5     0\n",
              "6     0\n",
              "7     0\n",
              "8     0\n",
              "9     0\n",
              "10    0\n",
              "11    1\n",
              "12    1\n",
              "13    0\n",
              "14    0\n",
              "15    0\n",
              "16    1\n",
              "17    0\n",
              "18    0\n",
              "19    0\n",
              "Name: re_ad, dtype: int64"
            ]
          },
          "metadata": {
            "tags": []
          },
          "execution_count": 91
        }
      ]
    },
    {
      "cell_type": "code",
      "metadata": {
        "id": "JS7cR0BrLWBv",
        "colab_type": "code",
        "colab": {
          "base_uri": "https://localhost:8080/",
          "height": 387
        },
        "outputId": "e51eb481-db85-460b-ff2b-c27af74062e4"
      },
      "source": [
        "diabetic_data[\"readmitted\"][:20]"
      ],
      "execution_count": 93,
      "outputs": [
        {
          "output_type": "execute_result",
          "data": {
            "text/plain": [
              "0      NO\n",
              "1      No\n",
              "2      NO\n",
              "3      NO\n",
              "4      NO\n",
              "5      No\n",
              "6      NO\n",
              "7      No\n",
              "8      NO\n",
              "9      NO\n",
              "10     No\n",
              "11    Yes\n",
              "12    Yes\n",
              "13     NO\n",
              "14     No\n",
              "15     NO\n",
              "16    Yes\n",
              "17     NO\n",
              "18     No\n",
              "19     NO\n",
              "Name: readmitted, dtype: object"
            ]
          },
          "metadata": {
            "tags": []
          },
          "execution_count": 93
        }
      ]
    },
    {
      "cell_type": "code",
      "metadata": {
        "id": "1hKvQDZ8LgZK",
        "colab_type": "code",
        "colab": {}
      },
      "source": [
        "diabetic_data = diabetic_data.drop(\"readmitted\",axis=1)"
      ],
      "execution_count": 0,
      "outputs": []
    },
    {
      "cell_type": "code",
      "metadata": {
        "id": "qx-Mx-2TLnWI",
        "colab_type": "code",
        "colab": {
          "base_uri": "https://localhost:8080/",
          "height": 897
        },
        "outputId": "95bd61c9-fd5c-4469-e1d2-1523b5de1d9e"
      },
      "source": [
        "diabetic_data.info()"
      ],
      "execution_count": 95,
      "outputs": [
        {
          "output_type": "stream",
          "text": [
            "<class 'pandas.core.frame.DataFrame'>\n",
            "Int64Index: 70441 entries, 0 to 101765\n",
            "Data columns (total 45 columns):\n",
            "encounter_id                70441 non-null int64\n",
            "patient_nbr                 70441 non-null int64\n",
            "race                        70441 non-null object\n",
            "gender                      70441 non-null object\n",
            "age                         70441 non-null object\n",
            "admission_type_id           70441 non-null int64\n",
            "discharge_disposition_id    70441 non-null int64\n",
            "admission_source_id         70441 non-null int64\n",
            "time_in_hospital            70441 non-null int64\n",
            "num_lab_procedures          70441 non-null int64\n",
            "num_procedures              70441 non-null int64\n",
            "num_medications             70441 non-null int64\n",
            "number_outpatient           70441 non-null int64\n",
            "number_emergency            70441 non-null int64\n",
            "number_inpatient            70441 non-null int64\n",
            "number_diagnoses            70441 non-null int64\n",
            "max_glu_serum               70441 non-null object\n",
            "A1Cresult                   70441 non-null object\n",
            "metformin                   70441 non-null object\n",
            "repaglinide                 70441 non-null object\n",
            "nateglinide                 70441 non-null object\n",
            "chlorpropamide              70441 non-null object\n",
            "glimepiride                 70441 non-null object\n",
            "acetohexamide               70441 non-null object\n",
            "glipizide                   70441 non-null object\n",
            "glyburide                   70441 non-null object\n",
            "tolbutamide                 70441 non-null object\n",
            "pioglitazone                70441 non-null object\n",
            "rosiglitazone               70441 non-null object\n",
            "acarbose                    70441 non-null object\n",
            "miglitol                    70441 non-null object\n",
            "troglitazone                70441 non-null object\n",
            "tolazamide                  70441 non-null object\n",
            "examide                     70441 non-null object\n",
            "citoglipton                 70441 non-null object\n",
            "insulin                     70441 non-null object\n",
            "glyburide-metformin         70441 non-null object\n",
            "glipizide-metformin         70441 non-null object\n",
            "glimepiride-pioglitazone    70441 non-null object\n",
            "metformin-rosiglitazone     70441 non-null object\n",
            "metformin-pioglitazone      70441 non-null object\n",
            "change                      70441 non-null object\n",
            "diabetesMed                 70441 non-null object\n",
            "Cons_diag                   70441 non-null int64\n",
            "re_ad                       70441 non-null int64\n",
            "dtypes: int64(15), object(30)\n",
            "memory usage: 24.7+ MB\n"
          ],
          "name": "stdout"
        }
      ]
    },
    {
      "cell_type": "code",
      "metadata": {
        "id": "sHbdZ76zLsLR",
        "colab_type": "code",
        "colab": {
          "base_uri": "https://localhost:8080/",
          "height": 281
        },
        "outputId": "2621cf5e-ff9d-408f-c19d-148c7c4568da"
      },
      "source": [
        "diabetic_data[\"HbA1c\"] = 0\n",
        "diabetic_data[\"HbA1c\"][diabetic_data.A1Cresult==\"Norm\"] = 1\n",
        "diabetic_data[\"HbA1c\"][diabetic_data.A1Cresult==\">7\"] = 2\n",
        "diabetic_data[\"HbA1c\"][diabetic_data.A1Cresult==\">8\"] = 3"
      ],
      "execution_count": 97,
      "outputs": [
        {
          "output_type": "stream",
          "text": [
            "/usr/local/lib/python3.6/dist-packages/ipykernel_launcher.py:2: SettingWithCopyWarning: \n",
            "A value is trying to be set on a copy of a slice from a DataFrame\n",
            "\n",
            "See the caveats in the documentation: http://pandas.pydata.org/pandas-docs/stable/user_guide/indexing.html#returning-a-view-versus-a-copy\n",
            "  \n",
            "/usr/local/lib/python3.6/dist-packages/ipykernel_launcher.py:3: SettingWithCopyWarning: \n",
            "A value is trying to be set on a copy of a slice from a DataFrame\n",
            "\n",
            "See the caveats in the documentation: http://pandas.pydata.org/pandas-docs/stable/user_guide/indexing.html#returning-a-view-versus-a-copy\n",
            "  This is separate from the ipykernel package so we can avoid doing imports until\n",
            "/usr/local/lib/python3.6/dist-packages/ipykernel_launcher.py:4: SettingWithCopyWarning: \n",
            "A value is trying to be set on a copy of a slice from a DataFrame\n",
            "\n",
            "See the caveats in the documentation: http://pandas.pydata.org/pandas-docs/stable/user_guide/indexing.html#returning-a-view-versus-a-copy\n",
            "  after removing the cwd from sys.path.\n"
          ],
          "name": "stderr"
        }
      ]
    },
    {
      "cell_type": "code",
      "metadata": {
        "id": "39a9Xf61L_g4",
        "colab_type": "code",
        "colab": {
          "base_uri": "https://localhost:8080/",
          "height": 563
        },
        "outputId": "4629b02d-ac56-473b-a134-7e2763e2ae5e"
      },
      "source": [
        "diabetic_data[\"A1Cresult\"][70:100]"
      ],
      "execution_count": 98,
      "outputs": [
        {
          "output_type": "execute_result",
          "data": {
            "text/plain": [
              "73     None\n",
              "74       >7\n",
              "75     None\n",
              "76     None\n",
              "77     None\n",
              "80     None\n",
              "82     None\n",
              "83     None\n",
              "84     None\n",
              "85     None\n",
              "86     None\n",
              "87     None\n",
              "88     None\n",
              "89     None\n",
              "90     None\n",
              "91     None\n",
              "92     None\n",
              "93     None\n",
              "94     None\n",
              "95     None\n",
              "96     None\n",
              "97     None\n",
              "98       >8\n",
              "99     None\n",
              "102    None\n",
              "103    Norm\n",
              "104    None\n",
              "105    None\n",
              "106    None\n",
              "107    Norm\n",
              "Name: A1Cresult, dtype: object"
            ]
          },
          "metadata": {
            "tags": []
          },
          "execution_count": 98
        }
      ]
    },
    {
      "cell_type": "code",
      "metadata": {
        "id": "u2oArE-TMDZ1",
        "colab_type": "code",
        "colab": {
          "base_uri": "https://localhost:8080/",
          "height": 563
        },
        "outputId": "fd8f815b-9559-434e-cd83-9ace21de6345"
      },
      "source": [
        "diabetic_data[\"HbA1c\"][70:100]"
      ],
      "execution_count": 99,
      "outputs": [
        {
          "output_type": "execute_result",
          "data": {
            "text/plain": [
              "73     0\n",
              "74     2\n",
              "75     0\n",
              "76     0\n",
              "77     0\n",
              "80     0\n",
              "82     0\n",
              "83     0\n",
              "84     0\n",
              "85     0\n",
              "86     0\n",
              "87     0\n",
              "88     0\n",
              "89     0\n",
              "90     0\n",
              "91     0\n",
              "92     0\n",
              "93     0\n",
              "94     0\n",
              "95     0\n",
              "96     0\n",
              "97     0\n",
              "98     3\n",
              "99     0\n",
              "102    0\n",
              "103    1\n",
              "104    0\n",
              "105    0\n",
              "106    0\n",
              "107    1\n",
              "Name: HbA1c, dtype: int64"
            ]
          },
          "metadata": {
            "tags": []
          },
          "execution_count": 99
        }
      ]
    },
    {
      "cell_type": "code",
      "metadata": {
        "id": "cm-sYbOeML9M",
        "colab_type": "code",
        "colab": {}
      },
      "source": [
        "diabetic_data = diabetic_data.drop(\"A1Cresult\",axis=1)"
      ],
      "execution_count": 0,
      "outputs": []
    },
    {
      "cell_type": "markdown",
      "metadata": {
        "id": "WRAYoojjMZ46",
        "colab_type": "text"
      },
      "source": [
        "## **Data Preparation**"
      ]
    },
    {
      "cell_type": "code",
      "metadata": {
        "id": "Tp94bqx9Mjca",
        "colab_type": "code",
        "colab": {}
      },
      "source": [
        "# For illustration only. Sklearn has train_test_split()\n",
        "def split_train_test(data, test_ratio):\n",
        "    shuffled_indices = np.random.permutation(len(data))\n",
        "    test_set_size = int(len(data) * test_ratio)\n",
        "    test_indices = shuffled_indices[:test_set_size]\n",
        "    train_indices = shuffled_indices[test_set_size:]\n",
        "    return data.iloc[train_indices], data.iloc[test_indices]"
      ],
      "execution_count": 0,
      "outputs": []
    },
    {
      "cell_type": "code",
      "metadata": {
        "id": "BjoQzJbDMpEs",
        "colab_type": "code",
        "colab": {
          "base_uri": "https://localhost:8080/",
          "height": 35
        },
        "outputId": "a563bf11-2194-45fd-dd03-363f5de26f8a"
      },
      "source": [
        "train_set, test_set = split_train_test(diabetic_data, 0.2)\n",
        "len(train_set)"
      ],
      "execution_count": 103,
      "outputs": [
        {
          "output_type": "execute_result",
          "data": {
            "text/plain": [
              "56353"
            ]
          },
          "metadata": {
            "tags": []
          },
          "execution_count": 103
        }
      ]
    },
    {
      "cell_type": "code",
      "metadata": {
        "id": "UhFHGfpzMu9V",
        "colab_type": "code",
        "colab": {
          "base_uri": "https://localhost:8080/",
          "height": 35
        },
        "outputId": "cc1b8d82-f0f7-4987-b488-56c64fb0c823"
      },
      "source": [
        "len(test_set)"
      ],
      "execution_count": 104,
      "outputs": [
        {
          "output_type": "execute_result",
          "data": {
            "text/plain": [
              "14088"
            ]
          },
          "metadata": {
            "tags": []
          },
          "execution_count": 104
        }
      ]
    },
    {
      "cell_type": "code",
      "metadata": {
        "id": "7Klq24GMMxtz",
        "colab_type": "code",
        "colab": {
          "base_uri": "https://localhost:8080/",
          "height": 897
        },
        "outputId": "33d95a8f-21a0-43dc-8e09-6f6cec8f1a43"
      },
      "source": [
        "train_set.info()"
      ],
      "execution_count": 105,
      "outputs": [
        {
          "output_type": "stream",
          "text": [
            "<class 'pandas.core.frame.DataFrame'>\n",
            "Int64Index: 56353 entries, 36563 to 21161\n",
            "Data columns (total 45 columns):\n",
            "encounter_id                56353 non-null int64\n",
            "patient_nbr                 56353 non-null int64\n",
            "race                        56353 non-null object\n",
            "gender                      56353 non-null object\n",
            "age                         56353 non-null object\n",
            "admission_type_id           56353 non-null int64\n",
            "discharge_disposition_id    56353 non-null int64\n",
            "admission_source_id         56353 non-null int64\n",
            "time_in_hospital            56353 non-null int64\n",
            "num_lab_procedures          56353 non-null int64\n",
            "num_procedures              56353 non-null int64\n",
            "num_medications             56353 non-null int64\n",
            "number_outpatient           56353 non-null int64\n",
            "number_emergency            56353 non-null int64\n",
            "number_inpatient            56353 non-null int64\n",
            "number_diagnoses            56353 non-null int64\n",
            "max_glu_serum               56353 non-null object\n",
            "metformin                   56353 non-null object\n",
            "repaglinide                 56353 non-null object\n",
            "nateglinide                 56353 non-null object\n",
            "chlorpropamide              56353 non-null object\n",
            "glimepiride                 56353 non-null object\n",
            "acetohexamide               56353 non-null object\n",
            "glipizide                   56353 non-null object\n",
            "glyburide                   56353 non-null object\n",
            "tolbutamide                 56353 non-null object\n",
            "pioglitazone                56353 non-null object\n",
            "rosiglitazone               56353 non-null object\n",
            "acarbose                    56353 non-null object\n",
            "miglitol                    56353 non-null object\n",
            "troglitazone                56353 non-null object\n",
            "tolazamide                  56353 non-null object\n",
            "examide                     56353 non-null object\n",
            "citoglipton                 56353 non-null object\n",
            "insulin                     56353 non-null object\n",
            "glyburide-metformin         56353 non-null object\n",
            "glipizide-metformin         56353 non-null object\n",
            "glimepiride-pioglitazone    56353 non-null object\n",
            "metformin-rosiglitazone     56353 non-null object\n",
            "metformin-pioglitazone      56353 non-null object\n",
            "change                      56353 non-null object\n",
            "diabetesMed                 56353 non-null object\n",
            "Cons_diag                   56353 non-null int64\n",
            "re_ad                       56353 non-null int64\n",
            "HbA1c                       56353 non-null int64\n",
            "dtypes: int64(16), object(29)\n",
            "memory usage: 19.8+ MB\n"
          ],
          "name": "stdout"
        }
      ]
    },
    {
      "cell_type": "code",
      "metadata": {
        "id": "IoDwi-klM2pp",
        "colab_type": "code",
        "colab": {}
      },
      "source": [
        "diabetic_num = train_set.drop(['race','gender','age', \n",
        "                              'max_glu_serum', 'metformin', 'repaglinide', 'nateglinide',\n",
        "                              'chlorpropamide','glimepiride','acetohexamide','glipizide',\n",
        "                              'glyburide','tolbutamide','pioglitazone','rosiglitazone','acarbose',\n",
        "                              'miglitol','troglitazone','tolazamide','examide','citoglipton',\n",
        "                              'insulin','glyburide-metformin','glipizide-metformin',\n",
        "                              'glimepiride-pioglitazone','metformin-rosiglitazone',\n",
        "                              'metformin-pioglitazone','change','diabetesMed'],axis=1)"
      ],
      "execution_count": 0,
      "outputs": []
    },
    {
      "cell_type": "code",
      "metadata": {
        "id": "MO9K5x0GM_Bw",
        "colab_type": "code",
        "colab": {
          "base_uri": "https://localhost:8080/",
          "height": 387
        },
        "outputId": "0f9dbd68-0b4f-4855-e71f-9865ebf1bb89"
      },
      "source": [
        "diabetic_num.info()"
      ],
      "execution_count": 107,
      "outputs": [
        {
          "output_type": "stream",
          "text": [
            "<class 'pandas.core.frame.DataFrame'>\n",
            "Int64Index: 56353 entries, 36563 to 21161\n",
            "Data columns (total 16 columns):\n",
            "encounter_id                56353 non-null int64\n",
            "patient_nbr                 56353 non-null int64\n",
            "admission_type_id           56353 non-null int64\n",
            "discharge_disposition_id    56353 non-null int64\n",
            "admission_source_id         56353 non-null int64\n",
            "time_in_hospital            56353 non-null int64\n",
            "num_lab_procedures          56353 non-null int64\n",
            "num_procedures              56353 non-null int64\n",
            "num_medications             56353 non-null int64\n",
            "number_outpatient           56353 non-null int64\n",
            "number_emergency            56353 non-null int64\n",
            "number_inpatient            56353 non-null int64\n",
            "number_diagnoses            56353 non-null int64\n",
            "Cons_diag                   56353 non-null int64\n",
            "re_ad                       56353 non-null int64\n",
            "HbA1c                       56353 non-null int64\n",
            "dtypes: int64(16)\n",
            "memory usage: 7.3 MB\n"
          ],
          "name": "stdout"
        }
      ]
    },
    {
      "cell_type": "code",
      "metadata": {
        "id": "BDI3MRk1NDgU",
        "colab_type": "code",
        "colab": {
          "base_uri": "https://localhost:8080/",
          "height": 316
        },
        "outputId": "b7dd2933-06c6-4e8c-8d2d-7c7f8dc1d9d2"
      },
      "source": [
        "corr_matrix = diabetic_num.corr()\n",
        "corr_matrix[\"Cons_diag\"].sort_values(ascending=False)"
      ],
      "execution_count": 108,
      "outputs": [
        {
          "output_type": "execute_result",
          "data": {
            "text/plain": [
              "Cons_diag                   1.000000\n",
              "HbA1c                       0.122487\n",
              "admission_type_id           0.027587\n",
              "number_emergency            0.007634\n",
              "re_ad                      -0.008505\n",
              "admission_source_id        -0.021116\n",
              "number_inpatient           -0.023964\n",
              "discharge_disposition_id   -0.025603\n",
              "number_outpatient          -0.027760\n",
              "num_lab_procedures         -0.068278\n",
              "num_procedures             -0.093211\n",
              "patient_nbr                -0.094782\n",
              "encounter_id               -0.105173\n",
              "time_in_hospital           -0.138743\n",
              "num_medications            -0.143921\n",
              "number_diagnoses           -0.417879\n",
              "Name: Cons_diag, dtype: float64"
            ]
          },
          "metadata": {
            "tags": []
          },
          "execution_count": 108
        }
      ]
    },
    {
      "cell_type": "code",
      "metadata": {
        "id": "7t71EGGANIiN",
        "colab_type": "code",
        "colab": {
          "base_uri": "https://localhost:8080/",
          "height": 1000
        },
        "outputId": "bd4436c8-2367-4a7c-f68e-1c3a0e92df71"
      },
      "source": [
        "# from pandas.tools.plotting import scatter_matrix # For older versions of Pandas\n",
        "from pandas.plotting import scatter_matrix\n",
        "\n",
        "attributes = [\"Cons_diag\", \"number_diagnoses\", \"num_medications\",\"time_in_hospital\",\"HbA1c\"]\n",
        "scatter_matrix(diabetic_num[attributes], figsize=(12, 8))\n",
        "save_fig(\"scatter_matrix_plot\")"
      ],
      "execution_count": 113,
      "outputs": [
        {
          "output_type": "stream",
          "text": [
            "/usr/local/lib/python3.6/dist-packages/pandas/plotting/_matplotlib/tools.py:307: MatplotlibDeprecationWarning: \n",
            "The rowNum attribute was deprecated in Matplotlib 3.2 and will be removed two minor releases later. Use ax.get_subplotspec().rowspan.start instead.\n",
            "  layout[ax.rowNum, ax.colNum] = ax.get_visible()\n",
            "/usr/local/lib/python3.6/dist-packages/pandas/plotting/_matplotlib/tools.py:307: MatplotlibDeprecationWarning: \n",
            "The colNum attribute was deprecated in Matplotlib 3.2 and will be removed two minor releases later. Use ax.get_subplotspec().colspan.start instead.\n",
            "  layout[ax.rowNum, ax.colNum] = ax.get_visible()\n",
            "/usr/local/lib/python3.6/dist-packages/pandas/plotting/_matplotlib/tools.py:313: MatplotlibDeprecationWarning: \n",
            "The rowNum attribute was deprecated in Matplotlib 3.2 and will be removed two minor releases later. Use ax.get_subplotspec().rowspan.start instead.\n",
            "  if not layout[ax.rowNum + 1, ax.colNum]:\n",
            "/usr/local/lib/python3.6/dist-packages/pandas/plotting/_matplotlib/tools.py:313: MatplotlibDeprecationWarning: \n",
            "The colNum attribute was deprecated in Matplotlib 3.2 and will be removed two minor releases later. Use ax.get_subplotspec().colspan.start instead.\n",
            "  if not layout[ax.rowNum + 1, ax.colNum]:\n"
          ],
          "name": "stderr"
        },
        {
          "output_type": "error",
          "ename": "NameError",
          "evalue": "ignored",
          "traceback": [
            "\u001b[0;31m---------------------------------------------------------------------------\u001b[0m",
            "\u001b[0;31mNameError\u001b[0m                                 Traceback (most recent call last)",
            "\u001b[0;32m<ipython-input-113-68ef698dd55d>\u001b[0m in \u001b[0;36m<module>\u001b[0;34m()\u001b[0m\n\u001b[1;32m      3\u001b[0m \u001b[0mattributes\u001b[0m \u001b[0;34m=\u001b[0m \u001b[0;34m[\u001b[0m\u001b[0;34m\"Cons_diag\"\u001b[0m\u001b[0;34m,\u001b[0m \u001b[0;34m\"number_diagnoses\"\u001b[0m\u001b[0;34m,\u001b[0m \u001b[0;34m\"num_medications\"\u001b[0m\u001b[0;34m,\u001b[0m\u001b[0;34m\"time_in_hospital\"\u001b[0m\u001b[0;34m,\u001b[0m\u001b[0;34m\"HbA1c\"\u001b[0m\u001b[0;34m]\u001b[0m\u001b[0;34m\u001b[0m\u001b[0;34m\u001b[0m\u001b[0m\n\u001b[1;32m      4\u001b[0m \u001b[0mscatter_matrix\u001b[0m\u001b[0;34m(\u001b[0m\u001b[0mdiabetic_num\u001b[0m\u001b[0;34m[\u001b[0m\u001b[0mattributes\u001b[0m\u001b[0;34m]\u001b[0m\u001b[0;34m,\u001b[0m \u001b[0mfigsize\u001b[0m\u001b[0;34m=\u001b[0m\u001b[0;34m(\u001b[0m\u001b[0;36m12\u001b[0m\u001b[0;34m,\u001b[0m \u001b[0;36m8\u001b[0m\u001b[0;34m)\u001b[0m\u001b[0;34m)\u001b[0m\u001b[0;34m\u001b[0m\u001b[0;34m\u001b[0m\u001b[0m\n\u001b[0;32m----> 5\u001b[0;31m \u001b[0msave_fig\u001b[0m\u001b[0;34m(\u001b[0m\u001b[0;34m\"scatter_matrix_plot\"\u001b[0m\u001b[0;34m)\u001b[0m\u001b[0;34m\u001b[0m\u001b[0;34m\u001b[0m\u001b[0m\n\u001b[0m",
            "\u001b[0;32m<ipython-input-112-3c3cd1966184>\u001b[0m in \u001b[0;36msave_fig\u001b[0;34m(fig_id, tight_layout, fig_extension, resolution)\u001b[0m\n\u001b[1;32m     21\u001b[0m \u001b[0;34m\u001b[0m\u001b[0m\n\u001b[1;32m     22\u001b[0m \u001b[0;32mdef\u001b[0m \u001b[0msave_fig\u001b[0m\u001b[0;34m(\u001b[0m\u001b[0mfig_id\u001b[0m\u001b[0;34m,\u001b[0m \u001b[0mtight_layout\u001b[0m\u001b[0;34m=\u001b[0m\u001b[0;32mTrue\u001b[0m\u001b[0;34m,\u001b[0m \u001b[0mfig_extension\u001b[0m\u001b[0;34m=\u001b[0m\u001b[0;34m\"png\"\u001b[0m\u001b[0;34m,\u001b[0m \u001b[0mresolution\u001b[0m\u001b[0;34m=\u001b[0m\u001b[0;36m300\u001b[0m\u001b[0;34m)\u001b[0m\u001b[0;34m:\u001b[0m\u001b[0;34m\u001b[0m\u001b[0;34m\u001b[0m\u001b[0m\n\u001b[0;32m---> 23\u001b[0;31m     \u001b[0mpath\u001b[0m \u001b[0;34m=\u001b[0m \u001b[0mos\u001b[0m\u001b[0;34m.\u001b[0m\u001b[0mpath\u001b[0m\u001b[0;34m.\u001b[0m\u001b[0mjoin\u001b[0m\u001b[0;34m(\u001b[0m\u001b[0mIMAGES_PATH\u001b[0m\u001b[0;34m,\u001b[0m \u001b[0mfig_id\u001b[0m \u001b[0;34m+\u001b[0m \u001b[0;34m\".\"\u001b[0m \u001b[0;34m+\u001b[0m \u001b[0mfig_extension\u001b[0m\u001b[0;34m)\u001b[0m\u001b[0;34m\u001b[0m\u001b[0;34m\u001b[0m\u001b[0m\n\u001b[0m\u001b[1;32m     24\u001b[0m     \u001b[0mprint\u001b[0m\u001b[0;34m(\u001b[0m\u001b[0;34m\"Saving figure\"\u001b[0m\u001b[0;34m,\u001b[0m \u001b[0mfig_id\u001b[0m\u001b[0;34m)\u001b[0m\u001b[0;34m\u001b[0m\u001b[0;34m\u001b[0m\u001b[0m\n\u001b[1;32m     25\u001b[0m     \u001b[0;32mif\u001b[0m \u001b[0mtight_layout\u001b[0m\u001b[0;34m:\u001b[0m\u001b[0;34m\u001b[0m\u001b[0;34m\u001b[0m\u001b[0m\n",
            "\u001b[0;31mNameError\u001b[0m: name 'IMAGES_PATH' is not defined"
          ]
        },
        {
          "output_type": "display_data",
          "data": {
            "image/png": "[encoded data removed]",
            "text/plain": [
              "<Figure size 864x576 with 25 Axes>"
            ]
          },
          "metadata": {
            "tags": []
          }
        }
      ]
    },
    {
      "cell_type": "code",
      "metadata": {
        "id": "yLSmK5a4OZCd",
        "colab_type": "code",
        "colab": {
          "base_uri": "https://localhost:8080/",
          "height": 316
        },
        "outputId": "6a3e7f0e-609a-4674-9781-673ba4a1fddf"
      },
      "source": [
        "corr_matrix = diabetic_num.corr()\n",
        "corr_matrix[\"re_ad\"].sort_values(ascending=False)"
      ],
      "execution_count": 114,
      "outputs": [
        {
          "output_type": "execute_result",
          "data": {
            "text/plain": [
              "re_ad                       1.000000\n",
              "number_inpatient            0.102937\n",
              "discharge_disposition_id    0.064957\n",
              "time_in_hospital            0.054446\n",
              "number_diagnoses            0.042758\n",
              "num_medications             0.036680\n",
              "num_lab_procedures          0.029971\n",
              "number_emergency            0.027454\n",
              "number_outpatient           0.007629\n",
              "admission_source_id         0.005368\n",
              "patient_nbr                 0.004257\n",
              "num_procedures              0.002310\n",
              "admission_type_id           0.000013\n",
              "Cons_diag                  -0.008505\n",
              "HbA1c                      -0.009776\n",
              "encounter_id               -0.047151\n",
              "Name: re_ad, dtype: float64"
            ]
          },
          "metadata": {
            "tags": []
          },
          "execution_count": 114
        }
      ]
    },
    {
      "cell_type": "code",
      "metadata": {
        "id": "4mE-M32rOa_V",
        "colab_type": "code",
        "colab": {}
      },
      "source": [
        "diabetic_train = train_set.drop(\"Cons_diag\", axis=1) # drop labels for training set\n",
        "diabetic_train = diabetic_train.drop(\"re_ad\", axis=1)\n",
        "dia_labels_diag = train_set[\"Cons_diag\"].copy()\n",
        "dia_labels_read = train_set[\"re_ad\"].copy()"
      ],
      "execution_count": 0,
      "outputs": []
    },
    {
      "cell_type": "code",
      "metadata": {
        "id": "MEE20xtpOfOV",
        "colab_type": "code",
        "colab": {}
      },
      "source": [
        "from sklearn.pipeline import Pipeline\n",
        "from sklearn.preprocessing import StandardScaler\n",
        "\n",
        "num_pipeline = Pipeline([('std_scaler', StandardScaler())])\n",
        "\n",
        "diabetic_tr = num_pipeline.fit_transform(diabetic_num)"
      ],
      "execution_count": 0,
      "outputs": []
    },
    {
      "cell_type": "code",
      "metadata": {
        "id": "GWjeyl9UOjFo",
        "colab_type": "code",
        "colab": {
          "base_uri": "https://localhost:8080/",
          "height": 246
        },
        "outputId": "7b466481-1f4f-4a7b-c140-4009eab95115"
      },
      "source": [
        "diabetic_tr"
      ],
      "execution_count": 117,
      "outputs": [
        {
          "output_type": "execute_result",
          "data": {
            "text/plain": [
              "array([[-0.44167186,  0.74301342, -0.73174058, ...,  1.24629849,\n",
              "         3.20091536,  2.81240975],\n",
              "       [-0.94669309, -0.9783004 , -0.06767563, ...,  1.24629849,\n",
              "        -0.31241064,  2.81240975],\n",
              "       [-0.47466256,  1.25738643, -0.73174058, ..., -0.802376  ,\n",
              "        -0.31241064, -0.43380394],\n",
              "       ...,\n",
              "       [ 0.73947577, -1.34344443, -0.06767563, ..., -0.802376  ,\n",
              "        -0.31241064, -0.43380394],\n",
              "       [-1.49134838, -1.13924841,  2.58858414, ..., -0.802376  ,\n",
              "        -0.31241064, -0.43380394],\n",
              "       [-0.8256232 , -0.87191168,  0.59638931, ..., -0.802376  ,\n",
              "        -0.31241064, -0.43380394]])"
            ]
          },
          "metadata": {
            "tags": []
          },
          "execution_count": 117
        }
      ]
    },
    {
      "cell_type": "code",
      "metadata": {
        "id": "gNOVOpNBOl7f",
        "colab_type": "code",
        "colab": {}
      },
      "source": [
        "from sklearn.preprocessing import OneHotEncoder\n",
        "\n",
        "cat_encoder = OneHotEncoder()"
      ],
      "execution_count": 0,
      "outputs": []
    },
    {
      "cell_type": "code",
      "metadata": {
        "id": "V6F10qeMOpVn",
        "colab_type": "code",
        "colab": {}
      },
      "source": [
        "from sklearn.compose import ColumnTransformer\n",
        "\n",
        "num_attribs = list(diabetic_num)\n",
        "cat_attribs = ['race','gender','age',\n",
        "                              'max_glu_serum','metformin','repaglinide','nateglinide',\n",
        "                              'chlorpropamide','glimepiride','acetohexamide','glipizide',\n",
        "                              'glyburide','tolbutamide','pioglitazone','rosiglitazone','acarbose',\n",
        "                              'miglitol','troglitazone','tolazamide','examide','citoglipton',\n",
        "                              'insulin','glyburide-metformin','glipizide-metformin',\n",
        "                              'glimepiride-pioglitazone','metformin-rosiglitazone',\n",
        "                              'metformin-pioglitazone','change','diabetesMed']\n",
        "\n",
        "full_pipeline = ColumnTransformer([\n",
        "        (\"num\", num_pipeline, num_attribs),\n",
        "        (\"cat\", OneHotEncoder(), cat_attribs),\n",
        "    ])\n",
        "\n",
        "dia_prepared = full_pipeline.fit_transform(train_set)"
      ],
      "execution_count": 0,
      "outputs": []
    },
    {
      "cell_type": "code",
      "metadata": {
        "id": "0g1cwn-1OuC4",
        "colab_type": "code",
        "colab": {
          "base_uri": "https://localhost:8080/",
          "height": 35
        },
        "outputId": "2b5913ac-1689-497f-883a-caabaab34ca5"
      },
      "source": [
        "dia_prepared.shape"
      ],
      "execution_count": 120,
      "outputs": [
        {
          "output_type": "execute_result",
          "data": {
            "text/plain": [
              "(56353, 110)"
            ]
          },
          "metadata": {
            "tags": []
          },
          "execution_count": 120
        }
      ]
    },
    {
      "cell_type": "code",
      "metadata": {
        "id": "uVWrB8WjOvhy",
        "colab_type": "code",
        "colab": {}
      },
      "source": [
        "test_num = test_set.drop(['race','gender','age', \n",
        "                              'max_glu_serum', 'metformin', 'repaglinide', 'nateglinide',\n",
        "                              'chlorpropamide','glimepiride','acetohexamide','glipizide',\n",
        "                              'glyburide','tolbutamide','pioglitazone','rosiglitazone','acarbose',\n",
        "                              'miglitol','troglitazone','tolazamide','examide','citoglipton',\n",
        "                              'insulin','glyburide-metformin','glipizide-metformin',\n",
        "                              'glimepiride-pioglitazone','metformin-rosiglitazone',\n",
        "                              'metformin-pioglitazone','change','diabetesMed'],axis=1)"
      ],
      "execution_count": 0,
      "outputs": []
    },
    {
      "cell_type": "code",
      "metadata": {
        "id": "B6x8aNJiPhnA",
        "colab_type": "code",
        "colab": {}
      },
      "source": [
        "test_labels_diag = test_set[\"Cons_diag\"].copy()\n",
        "test_labels_read = test_set[\"re_ad\"].copy()\n",
        "diabetic_test = test_set.drop(\"Cons_diag\", axis=1) # drop labels for testing set\n",
        "diabetic_test = diabetic_test.drop(\"re_ad\", axis=1)"
      ],
      "execution_count": 0,
      "outputs": []
    },
    {
      "cell_type": "code",
      "metadata": {
        "id": "h4_Qn7nSPlNK",
        "colab_type": "code",
        "colab": {}
      },
      "source": [
        "test_tr = num_pipeline.fit_transform(test_num)"
      ],
      "execution_count": 0,
      "outputs": []
    },
    {
      "cell_type": "code",
      "metadata": {
        "id": "T4owMIL6PpBQ",
        "colab_type": "code",
        "colab": {}
      },
      "source": [
        "num_attribs = list(test_num)\n",
        "cat_attribs = ['race','gender','age',\n",
        "                              'max_glu_serum','metformin','repaglinide','nateglinide',\n",
        "                              'chlorpropamide','glimepiride','acetohexamide','glipizide',\n",
        "                              'glyburide','tolbutamide','pioglitazone','rosiglitazone','acarbose',\n",
        "                              'miglitol','troglitazone','tolazamide','examide','citoglipton',\n",
        "                              'insulin','glyburide-metformin','glipizide-metformin',\n",
        "                              'glimepiride-pioglitazone','metformin-rosiglitazone',\n",
        "                              'metformin-pioglitazone','change','diabetesMed']\n",
        "\n",
        "full_pipeline = ColumnTransformer([\n",
        "        (\"num\", num_pipeline, num_attribs),\n",
        "        (\"cat\", OneHotEncoder(), cat_attribs),\n",
        "    ])"
      ],
      "execution_count": 0,
      "outputs": []
    },
    {
      "cell_type": "code",
      "metadata": {
        "id": "wJp3w4vqPr7F",
        "colab_type": "code",
        "colab": {}
      },
      "source": [
        "test_prepared = full_pipeline.fit_transform(test_set)"
      ],
      "execution_count": 0,
      "outputs": []
    },
    {
      "cell_type": "code",
      "metadata": {
        "id": "M700JepzPs_J",
        "colab_type": "code",
        "colab": {
          "base_uri": "https://localhost:8080/",
          "height": 35
        },
        "outputId": "7c8fafb6-356d-40b4-d867-3fa0d82ff735"
      },
      "source": [
        "test_prepared.shape"
      ],
      "execution_count": 126,
      "outputs": [
        {
          "output_type": "execute_result",
          "data": {
            "text/plain": [
              "(14088, 100)"
            ]
          },
          "metadata": {
            "tags": []
          },
          "execution_count": 126
        }
      ]
    },
    {
      "cell_type": "code",
      "metadata": {
        "id": "5Kj8Vo40PvdC",
        "colab_type": "code",
        "colab": {
          "base_uri": "https://localhost:8080/",
          "height": 369
        },
        "outputId": "67e6af70-e0d1-463c-9e12-3e529ea55085"
      },
      "source": [
        "diabetic_data[\"Race\"] = 0\n",
        "diabetic_data[\"Race\"][diabetic_data.race==\"Caucasian\"] = 1\n",
        "diabetic_data[\"Race\"][diabetic_data.race==\"AfricanAmerican\"] = 2\n",
        "diabetic_data[\"Race\"][diabetic_data.race==\"Asian\"] = 3\n",
        "diabetic_data[\"Race\"][diabetic_data.race==\"Hispanic\"] = 4"
      ],
      "execution_count": 129,
      "outputs": [
        {
          "output_type": "stream",
          "text": [
            "/usr/local/lib/python3.6/dist-packages/ipykernel_launcher.py:2: SettingWithCopyWarning: \n",
            "A value is trying to be set on a copy of a slice from a DataFrame\n",
            "\n",
            "See the caveats in the documentation: http://pandas.pydata.org/pandas-docs/stable/user_guide/indexing.html#returning-a-view-versus-a-copy\n",
            "  \n",
            "/usr/local/lib/python3.6/dist-packages/ipykernel_launcher.py:3: SettingWithCopyWarning: \n",
            "A value is trying to be set on a copy of a slice from a DataFrame\n",
            "\n",
            "See the caveats in the documentation: http://pandas.pydata.org/pandas-docs/stable/user_guide/indexing.html#returning-a-view-versus-a-copy\n",
            "  This is separate from the ipykernel package so we can avoid doing imports until\n",
            "/usr/local/lib/python3.6/dist-packages/ipykernel_launcher.py:4: SettingWithCopyWarning: \n",
            "A value is trying to be set on a copy of a slice from a DataFrame\n",
            "\n",
            "See the caveats in the documentation: http://pandas.pydata.org/pandas-docs/stable/user_guide/indexing.html#returning-a-view-versus-a-copy\n",
            "  after removing the cwd from sys.path.\n",
            "/usr/local/lib/python3.6/dist-packages/ipykernel_launcher.py:5: SettingWithCopyWarning: \n",
            "A value is trying to be set on a copy of a slice from a DataFrame\n",
            "\n",
            "See the caveats in the documentation: http://pandas.pydata.org/pandas-docs/stable/user_guide/indexing.html#returning-a-view-versus-a-copy\n",
            "  \"\"\"\n"
          ],
          "name": "stderr"
        }
      ]
    },
    {
      "cell_type": "code",
      "metadata": {
        "id": "FQtVY8vTQCCo",
        "colab_type": "code",
        "colab": {}
      },
      "source": [
        "diabetic_data = diabetic_data.drop(\"race\",axis=1)"
      ],
      "execution_count": 0,
      "outputs": []
    },
    {
      "cell_type": "code",
      "metadata": {
        "id": "O6mIUzIEQySI",
        "colab_type": "code",
        "colab": {
          "base_uri": "https://localhost:8080/",
          "height": 193
        },
        "outputId": "33785322-de7c-4ebc-e9d5-b3c4cbeb996b"
      },
      "source": [
        "diabetic_data[\"Gender\"] = 0\n",
        "diabetic_data[\"Gender\"][diabetic_data.gender==\"Female\"] = 1\n",
        "diabetic_data[\"Gender\"][diabetic_data.gender==\"Male\"] = 2"
      ],
      "execution_count": 134,
      "outputs": [
        {
          "output_type": "stream",
          "text": [
            "/usr/local/lib/python3.6/dist-packages/ipykernel_launcher.py:2: SettingWithCopyWarning: \n",
            "A value is trying to be set on a copy of a slice from a DataFrame\n",
            "\n",
            "See the caveats in the documentation: http://pandas.pydata.org/pandas-docs/stable/user_guide/indexing.html#returning-a-view-versus-a-copy\n",
            "  \n",
            "/usr/local/lib/python3.6/dist-packages/ipykernel_launcher.py:3: SettingWithCopyWarning: \n",
            "A value is trying to be set on a copy of a slice from a DataFrame\n",
            "\n",
            "See the caveats in the documentation: http://pandas.pydata.org/pandas-docs/stable/user_guide/indexing.html#returning-a-view-versus-a-copy\n",
            "  This is separate from the ipykernel package so we can avoid doing imports until\n"
          ],
          "name": "stderr"
        }
      ]
    },
    {
      "cell_type": "code",
      "metadata": {
        "id": "UOK1_7wOQ7G6",
        "colab_type": "code",
        "colab": {}
      },
      "source": [
        "diabetic_data = diabetic_data.drop(\"gender\",axis=1)"
      ],
      "execution_count": 0,
      "outputs": []
    },
    {
      "cell_type": "code",
      "metadata": {
        "id": "XtpVZULuRAcm",
        "colab_type": "code",
        "colab": {
          "base_uri": "https://localhost:8080/",
          "height": 809
        },
        "outputId": "fd3f25b3-4ba2-4fa7-dfce-0a834c6a007f"
      },
      "source": [
        "diabetic_data[\"Age\"] = 0\n",
        "diabetic_data[\"Age\"][diabetic_data.age==\"[10-20)\"] = 1\n",
        "diabetic_data[\"Age\"][diabetic_data.age==\"[20-30)\"] = 2\n",
        "diabetic_data[\"Age\"][diabetic_data.age==\"[30-40)\"] = 3\n",
        "diabetic_data[\"Age\"][diabetic_data.age==\"[40-50)\"] = 4\n",
        "diabetic_data[\"Age\"][diabetic_data.age==\"[50-60)\"] = 5\n",
        "diabetic_data[\"Age\"][diabetic_data.age==\"[60-70)\"] = 6\n",
        "diabetic_data[\"Age\"][diabetic_data.age==\"[70-80)\"] = 7\n",
        "diabetic_data[\"Age\"][diabetic_data.age==\"[80-90)\"] = 8\n",
        "diabetic_data[\"Age\"][diabetic_data.age==\"[90-100)\"] = 9"
      ],
      "execution_count": 137,
      "outputs": [
        {
          "output_type": "stream",
          "text": [
            "/usr/local/lib/python3.6/dist-packages/ipykernel_launcher.py:2: SettingWithCopyWarning: \n",
            "A value is trying to be set on a copy of a slice from a DataFrame\n",
            "\n",
            "See the caveats in the documentation: http://pandas.pydata.org/pandas-docs/stable/user_guide/indexing.html#returning-a-view-versus-a-copy\n",
            "  \n",
            "/usr/local/lib/python3.6/dist-packages/ipykernel_launcher.py:3: SettingWithCopyWarning: \n",
            "A value is trying to be set on a copy of a slice from a DataFrame\n",
            "\n",
            "See the caveats in the documentation: http://pandas.pydata.org/pandas-docs/stable/user_guide/indexing.html#returning-a-view-versus-a-copy\n",
            "  This is separate from the ipykernel package so we can avoid doing imports until\n",
            "/usr/local/lib/python3.6/dist-packages/ipykernel_launcher.py:4: SettingWithCopyWarning: \n",
            "A value is trying to be set on a copy of a slice from a DataFrame\n",
            "\n",
            "See the caveats in the documentation: http://pandas.pydata.org/pandas-docs/stable/user_guide/indexing.html#returning-a-view-versus-a-copy\n",
            "  after removing the cwd from sys.path.\n",
            "/usr/local/lib/python3.6/dist-packages/ipykernel_launcher.py:5: SettingWithCopyWarning: \n",
            "A value is trying to be set on a copy of a slice from a DataFrame\n",
            "\n",
            "See the caveats in the documentation: http://pandas.pydata.org/pandas-docs/stable/user_guide/indexing.html#returning-a-view-versus-a-copy\n",
            "  \"\"\"\n",
            "/usr/local/lib/python3.6/dist-packages/ipykernel_launcher.py:6: SettingWithCopyWarning: \n",
            "A value is trying to be set on a copy of a slice from a DataFrame\n",
            "\n",
            "See the caveats in the documentation: http://pandas.pydata.org/pandas-docs/stable/user_guide/indexing.html#returning-a-view-versus-a-copy\n",
            "  \n",
            "/usr/local/lib/python3.6/dist-packages/ipykernel_launcher.py:7: SettingWithCopyWarning: \n",
            "A value is trying to be set on a copy of a slice from a DataFrame\n",
            "\n",
            "See the caveats in the documentation: http://pandas.pydata.org/pandas-docs/stable/user_guide/indexing.html#returning-a-view-versus-a-copy\n",
            "  import sys\n",
            "/usr/local/lib/python3.6/dist-packages/ipykernel_launcher.py:8: SettingWithCopyWarning: \n",
            "A value is trying to be set on a copy of a slice from a DataFrame\n",
            "\n",
            "See the caveats in the documentation: http://pandas.pydata.org/pandas-docs/stable/user_guide/indexing.html#returning-a-view-versus-a-copy\n",
            "  \n",
            "/usr/local/lib/python3.6/dist-packages/ipykernel_launcher.py:9: SettingWithCopyWarning: \n",
            "A value is trying to be set on a copy of a slice from a DataFrame\n",
            "\n",
            "See the caveats in the documentation: http://pandas.pydata.org/pandas-docs/stable/user_guide/indexing.html#returning-a-view-versus-a-copy\n",
            "  if __name__ == '__main__':\n",
            "/usr/local/lib/python3.6/dist-packages/ipykernel_launcher.py:10: SettingWithCopyWarning: \n",
            "A value is trying to be set on a copy of a slice from a DataFrame\n",
            "\n",
            "See the caveats in the documentation: http://pandas.pydata.org/pandas-docs/stable/user_guide/indexing.html#returning-a-view-versus-a-copy\n",
            "  # Remove the CWD from sys.path while we load stuff.\n"
          ],
          "name": "stderr"
        }
      ]
    },
    {
      "cell_type": "code",
      "metadata": {
        "id": "cuWVNX2PRVtZ",
        "colab_type": "code",
        "colab": {}
      },
      "source": [
        "diabetic_data = diabetic_data.drop(\"age\",axis=1)"
      ],
      "execution_count": 0,
      "outputs": []
    },
    {
      "cell_type": "code",
      "metadata": {
        "id": "CU5JwDewRbfI",
        "colab_type": "code",
        "colab": {
          "base_uri": "https://localhost:8080/",
          "height": 105
        },
        "outputId": "7f4fbe3a-0fab-4941-83d4-1027619df0a8"
      },
      "source": [
        "diabetic_data[\"Change\"] = 0\n",
        "diabetic_data[\"Change\"][diabetic_data.change==\"No\"] = 1"
      ],
      "execution_count": 141,
      "outputs": [
        {
          "output_type": "stream",
          "text": [
            "/usr/local/lib/python3.6/dist-packages/ipykernel_launcher.py:2: SettingWithCopyWarning: \n",
            "A value is trying to be set on a copy of a slice from a DataFrame\n",
            "\n",
            "See the caveats in the documentation: http://pandas.pydata.org/pandas-docs/stable/user_guide/indexing.html#returning-a-view-versus-a-copy\n",
            "  \n"
          ],
          "name": "stderr"
        }
      ]
    },
    {
      "cell_type": "code",
      "metadata": {
        "id": "sRUwYXGvRh77",
        "colab_type": "code",
        "colab": {}
      },
      "source": [
        "diabetic_data = diabetic_data.drop(\"change\",axis=1)"
      ],
      "execution_count": 0,
      "outputs": []
    },
    {
      "cell_type": "code",
      "metadata": {
        "id": "TezNOJnNRmO7",
        "colab_type": "code",
        "colab": {
          "base_uri": "https://localhost:8080/",
          "height": 105
        },
        "outputId": "dac270a6-eb22-4ae2-94f2-1ef21e1618c3"
      },
      "source": [
        "diabetic_data[\"DiabetesMed\"] = 0\n",
        "diabetic_data[\"DiabetesMed\"][diabetic_data.diabetesMed==\"No\"] = 1"
      ],
      "execution_count": 143,
      "outputs": [
        {
          "output_type": "stream",
          "text": [
            "/usr/local/lib/python3.6/dist-packages/ipykernel_launcher.py:2: SettingWithCopyWarning: \n",
            "A value is trying to be set on a copy of a slice from a DataFrame\n",
            "\n",
            "See the caveats in the documentation: http://pandas.pydata.org/pandas-docs/stable/user_guide/indexing.html#returning-a-view-versus-a-copy\n",
            "  \n"
          ],
          "name": "stderr"
        }
      ]
    },
    {
      "cell_type": "code",
      "metadata": {
        "id": "fE5wZsEvRuRt",
        "colab_type": "code",
        "colab": {}
      },
      "source": [
        "diabetic_data = diabetic_data.drop(\"diabetesMed\",axis=1)"
      ],
      "execution_count": 0,
      "outputs": []
    },
    {
      "cell_type": "code",
      "metadata": {
        "id": "tA0kkbAmRzKN",
        "colab_type": "code",
        "colab": {
          "base_uri": "https://localhost:8080/",
          "height": 281
        },
        "outputId": "0c21321b-4a18-4920-9eda-b9e424537295"
      },
      "source": [
        "diabetic_data[\"Max_glu_serum\"] = 0\n",
        "diabetic_data[\"Max_glu_serum\"][diabetic_data.max_glu_serum==\"Norm\"] = 1\n",
        "diabetic_data[\"Max_glu_serum\"][diabetic_data.max_glu_serum==\">200\"] = 2\n",
        "diabetic_data[\"Max_glu_serum\"][diabetic_data.max_glu_serum==\">300\"] = 3"
      ],
      "execution_count": 145,
      "outputs": [
        {
          "output_type": "stream",
          "text": [
            "/usr/local/lib/python3.6/dist-packages/ipykernel_launcher.py:2: SettingWithCopyWarning: \n",
            "A value is trying to be set on a copy of a slice from a DataFrame\n",
            "\n",
            "See the caveats in the documentation: http://pandas.pydata.org/pandas-docs/stable/user_guide/indexing.html#returning-a-view-versus-a-copy\n",
            "  \n",
            "/usr/local/lib/python3.6/dist-packages/ipykernel_launcher.py:3: SettingWithCopyWarning: \n",
            "A value is trying to be set on a copy of a slice from a DataFrame\n",
            "\n",
            "See the caveats in the documentation: http://pandas.pydata.org/pandas-docs/stable/user_guide/indexing.html#returning-a-view-versus-a-copy\n",
            "  This is separate from the ipykernel package so we can avoid doing imports until\n",
            "/usr/local/lib/python3.6/dist-packages/ipykernel_launcher.py:4: SettingWithCopyWarning: \n",
            "A value is trying to be set on a copy of a slice from a DataFrame\n",
            "\n",
            "See the caveats in the documentation: http://pandas.pydata.org/pandas-docs/stable/user_guide/indexing.html#returning-a-view-versus-a-copy\n",
            "  after removing the cwd from sys.path.\n"
          ],
          "name": "stderr"
        }
      ]
    },
    {
      "cell_type": "code",
      "metadata": {
        "id": "90rMc-T7R90T",
        "colab_type": "code",
        "colab": {}
      },
      "source": [
        "diabetic_data = diabetic_data.drop(\"max_glu_serum\",axis=1)"
      ],
      "execution_count": 0,
      "outputs": []
    },
    {
      "cell_type": "code",
      "metadata": {
        "id": "ltZOl9OXSEvB",
        "colab_type": "code",
        "colab": {
          "base_uri": "https://localhost:8080/",
          "height": 897
        },
        "outputId": "ef0d4610-53c6-4fa9-beef-743ade5f6fe0"
      },
      "source": [
        "diabetic_data.info()"
      ],
      "execution_count": 147,
      "outputs": [
        {
          "output_type": "stream",
          "text": [
            "<class 'pandas.core.frame.DataFrame'>\n",
            "Int64Index: 70441 entries, 0 to 101765\n",
            "Data columns (total 45 columns):\n",
            "encounter_id                70441 non-null int64\n",
            "patient_nbr                 70441 non-null int64\n",
            "admission_type_id           70441 non-null int64\n",
            "discharge_disposition_id    70441 non-null int64\n",
            "admission_source_id         70441 non-null int64\n",
            "time_in_hospital            70441 non-null int64\n",
            "num_lab_procedures          70441 non-null int64\n",
            "num_procedures              70441 non-null int64\n",
            "num_medications             70441 non-null int64\n",
            "number_outpatient           70441 non-null int64\n",
            "number_emergency            70441 non-null int64\n",
            "number_inpatient            70441 non-null int64\n",
            "number_diagnoses            70441 non-null int64\n",
            "metformin                   70441 non-null object\n",
            "repaglinide                 70441 non-null object\n",
            "nateglinide                 70441 non-null object\n",
            "chlorpropamide              70441 non-null object\n",
            "glimepiride                 70441 non-null object\n",
            "acetohexamide               70441 non-null object\n",
            "glipizide                   70441 non-null object\n",
            "glyburide                   70441 non-null object\n",
            "tolbutamide                 70441 non-null object\n",
            "pioglitazone                70441 non-null object\n",
            "rosiglitazone               70441 non-null object\n",
            "acarbose                    70441 non-null object\n",
            "miglitol                    70441 non-null object\n",
            "troglitazone                70441 non-null object\n",
            "tolazamide                  70441 non-null object\n",
            "examide                     70441 non-null object\n",
            "citoglipton                 70441 non-null object\n",
            "insulin                     70441 non-null object\n",
            "glyburide-metformin         70441 non-null object\n",
            "glipizide-metformin         70441 non-null object\n",
            "glimepiride-pioglitazone    70441 non-null object\n",
            "metformin-rosiglitazone     70441 non-null object\n",
            "metformin-pioglitazone      70441 non-null object\n",
            "Cons_diag                   70441 non-null int64\n",
            "re_ad                       70441 non-null int64\n",
            "HbA1c                       70441 non-null int64\n",
            "Race                        70441 non-null int64\n",
            "Gender                      70441 non-null int64\n",
            "Age                         70441 non-null int64\n",
            "Change                      70441 non-null int64\n",
            "DiabetesMed                 70441 non-null int64\n",
            "Max_glu_serum               70441 non-null int64\n",
            "dtypes: int64(22), object(23)\n",
            "memory usage: 24.7+ MB\n"
          ],
          "name": "stdout"
        }
      ]
    },
    {
      "cell_type": "code",
      "metadata": {
        "id": "fr2LFxPCSHnL",
        "colab_type": "code",
        "colab": {}
      },
      "source": [
        "diabetic_num = diabetic_data.drop(['metformin', 'repaglinide', 'nateglinide',\n",
        "                              'chlorpropamide','glimepiride','acetohexamide','glipizide',\n",
        "                              'glyburide','tolbutamide','pioglitazone','rosiglitazone','acarbose',\n",
        "                              'miglitol','troglitazone','tolazamide','examide','citoglipton',\n",
        "                              'insulin','glyburide-metformin','glipizide-metformin',\n",
        "                              'glimepiride-pioglitazone','metformin-rosiglitazone',\n",
        "                              'metformin-pioglitazone'],axis=1)"
      ],
      "execution_count": 0,
      "outputs": []
    },
    {
      "cell_type": "code",
      "metadata": {
        "id": "afgAPN8gSPGb",
        "colab_type": "code",
        "colab": {
          "base_uri": "https://localhost:8080/",
          "height": 492
        },
        "outputId": "fd5a12be-d10c-4d03-d422-f7d3dd4528e5"
      },
      "source": [
        "diabetic_num.info()"
      ],
      "execution_count": 150,
      "outputs": [
        {
          "output_type": "stream",
          "text": [
            "<class 'pandas.core.frame.DataFrame'>\n",
            "Int64Index: 70441 entries, 0 to 101765\n",
            "Data columns (total 22 columns):\n",
            "encounter_id                70441 non-null int64\n",
            "patient_nbr                 70441 non-null int64\n",
            "admission_type_id           70441 non-null int64\n",
            "discharge_disposition_id    70441 non-null int64\n",
            "admission_source_id         70441 non-null int64\n",
            "time_in_hospital            70441 non-null int64\n",
            "num_lab_procedures          70441 non-null int64\n",
            "num_procedures              70441 non-null int64\n",
            "num_medications             70441 non-null int64\n",
            "number_outpatient           70441 non-null int64\n",
            "number_emergency            70441 non-null int64\n",
            "number_inpatient            70441 non-null int64\n",
            "number_diagnoses            70441 non-null int64\n",
            "Cons_diag                   70441 non-null int64\n",
            "re_ad                       70441 non-null int64\n",
            "HbA1c                       70441 non-null int64\n",
            "Race                        70441 non-null int64\n",
            "Gender                      70441 non-null int64\n",
            "Age                         70441 non-null int64\n",
            "Change                      70441 non-null int64\n",
            "DiabetesMed                 70441 non-null int64\n",
            "Max_glu_serum               70441 non-null int64\n",
            "dtypes: int64(22)\n",
            "memory usage: 12.4 MB\n"
          ],
          "name": "stdout"
        }
      ]
    },
    {
      "cell_type": "code",
      "metadata": {
        "id": "21aukuwCSSCB",
        "colab_type": "code",
        "colab": {
          "base_uri": "https://localhost:8080/",
          "height": 422
        },
        "outputId": "913a1435-1574-48be-c256-ef2cfc6df332"
      },
      "source": [
        "corr_matrix = diabetic_num.corr()\n",
        "corr_matrix[\"Cons_diag\"].sort_values(ascending=False)"
      ],
      "execution_count": 151,
      "outputs": [
        {
          "output_type": "execute_result",
          "data": {
            "text/plain": [
              "Cons_diag                   1.000000\n",
              "HbA1c                       0.123378\n",
              "Race                        0.056638\n",
              "Max_glu_serum               0.035608\n",
              "admission_type_id           0.029707\n",
              "number_emergency            0.008659\n",
              "Gender                      0.001255\n",
              "re_ad                      -0.010278\n",
              "admission_source_id        -0.022414\n",
              "discharge_disposition_id   -0.024340\n",
              "number_inpatient           -0.027235\n",
              "number_outpatient          -0.027827\n",
              "DiabetesMed                -0.066659\n",
              "num_lab_procedures         -0.066782\n",
              "Change                     -0.068617\n",
              "num_procedures             -0.094242\n",
              "patient_nbr                -0.094585\n",
              "encounter_id               -0.106001\n",
              "time_in_hospital           -0.136866\n",
              "num_medications            -0.142426\n",
              "Age                        -0.250490\n",
              "number_diagnoses           -0.418840\n",
              "Name: Cons_diag, dtype: float64"
            ]
          },
          "metadata": {
            "tags": []
          },
          "execution_count": 151
        }
      ]
    },
    {
      "cell_type": "code",
      "metadata": {
        "id": "cYac8WfVSV_4",
        "colab_type": "code",
        "colab": {
          "base_uri": "https://localhost:8080/",
          "height": 1000
        },
        "outputId": "a5d0783b-af2c-4b05-ac82-9577d0053dd1"
      },
      "source": [
        "attributes = [\"Cons_diag\", \"number_diagnoses\", \"Age\", \"num_medications\", \"HbA1c\"]\n",
        "scatter_matrix(diabetic_num[attributes], figsize=(12, 8))\n",
        "save_fig(\"scatter_matrix_plot\")"
      ],
      "execution_count": 152,
      "outputs": [
        {
          "output_type": "stream",
          "text": [
            "/usr/local/lib/python3.6/dist-packages/pandas/plotting/_matplotlib/tools.py:307: MatplotlibDeprecationWarning: \n",
            "The rowNum attribute was deprecated in Matplotlib 3.2 and will be removed two minor releases later. Use ax.get_subplotspec().rowspan.start instead.\n",
            "  layout[ax.rowNum, ax.colNum] = ax.get_visible()\n",
            "/usr/local/lib/python3.6/dist-packages/pandas/plotting/_matplotlib/tools.py:307: MatplotlibDeprecationWarning: \n",
            "The colNum attribute was deprecated in Matplotlib 3.2 and will be removed two minor releases later. Use ax.get_subplotspec().colspan.start instead.\n",
            "  layout[ax.rowNum, ax.colNum] = ax.get_visible()\n",
            "/usr/local/lib/python3.6/dist-packages/pandas/plotting/_matplotlib/tools.py:313: MatplotlibDeprecationWarning: \n",
            "The rowNum attribute was deprecated in Matplotlib 3.2 and will be removed two minor releases later. Use ax.get_subplotspec().rowspan.start instead.\n",
            "  if not layout[ax.rowNum + 1, ax.colNum]:\n",
            "/usr/local/lib/python3.6/dist-packages/pandas/plotting/_matplotlib/tools.py:313: MatplotlibDeprecationWarning: \n",
            "The colNum attribute was deprecated in Matplotlib 3.2 and will be removed two minor releases later. Use ax.get_subplotspec().colspan.start instead.\n",
            "  if not layout[ax.rowNum + 1, ax.colNum]:\n"
          ],
          "name": "stderr"
        },
        {
          "output_type": "error",
          "ename": "NameError",
          "evalue": "ignored",
          "traceback": [
            "\u001b[0;31m---------------------------------------------------------------------------\u001b[0m",
            "\u001b[0;31mNameError\u001b[0m                                 Traceback (most recent call last)",
            "\u001b[0;32m<ipython-input-152-35ddb30d19fe>\u001b[0m in \u001b[0;36m<module>\u001b[0;34m()\u001b[0m\n\u001b[1;32m      1\u001b[0m \u001b[0mattributes\u001b[0m \u001b[0;34m=\u001b[0m \u001b[0;34m[\u001b[0m\u001b[0;34m\"Cons_diag\"\u001b[0m\u001b[0;34m,\u001b[0m \u001b[0;34m\"number_diagnoses\"\u001b[0m\u001b[0;34m,\u001b[0m \u001b[0;34m\"Age\"\u001b[0m\u001b[0;34m,\u001b[0m \u001b[0;34m\"num_medications\"\u001b[0m\u001b[0;34m,\u001b[0m \u001b[0;34m\"HbA1c\"\u001b[0m\u001b[0;34m]\u001b[0m\u001b[0;34m\u001b[0m\u001b[0;34m\u001b[0m\u001b[0m\n\u001b[1;32m      2\u001b[0m \u001b[0mscatter_matrix\u001b[0m\u001b[0;34m(\u001b[0m\u001b[0mdiabetic_num\u001b[0m\u001b[0;34m[\u001b[0m\u001b[0mattributes\u001b[0m\u001b[0;34m]\u001b[0m\u001b[0;34m,\u001b[0m \u001b[0mfigsize\u001b[0m\u001b[0;34m=\u001b[0m\u001b[0;34m(\u001b[0m\u001b[0;36m12\u001b[0m\u001b[0;34m,\u001b[0m \u001b[0;36m8\u001b[0m\u001b[0;34m)\u001b[0m\u001b[0;34m)\u001b[0m\u001b[0;34m\u001b[0m\u001b[0;34m\u001b[0m\u001b[0m\n\u001b[0;32m----> 3\u001b[0;31m \u001b[0msave_fig\u001b[0m\u001b[0;34m(\u001b[0m\u001b[0;34m\"scatter_matrix_plot\"\u001b[0m\u001b[0;34m)\u001b[0m\u001b[0;34m\u001b[0m\u001b[0;34m\u001b[0m\u001b[0m\n\u001b[0m",
            "\u001b[0;32m<ipython-input-112-3c3cd1966184>\u001b[0m in \u001b[0;36msave_fig\u001b[0;34m(fig_id, tight_layout, fig_extension, resolution)\u001b[0m\n\u001b[1;32m     21\u001b[0m \u001b[0;34m\u001b[0m\u001b[0m\n\u001b[1;32m     22\u001b[0m \u001b[0;32mdef\u001b[0m \u001b[0msave_fig\u001b[0m\u001b[0;34m(\u001b[0m\u001b[0mfig_id\u001b[0m\u001b[0;34m,\u001b[0m \u001b[0mtight_layout\u001b[0m\u001b[0;34m=\u001b[0m\u001b[0;32mTrue\u001b[0m\u001b[0;34m,\u001b[0m \u001b[0mfig_extension\u001b[0m\u001b[0;34m=\u001b[0m\u001b[0;34m\"png\"\u001b[0m\u001b[0;34m,\u001b[0m \u001b[0mresolution\u001b[0m\u001b[0;34m=\u001b[0m\u001b[0;36m300\u001b[0m\u001b[0;34m)\u001b[0m\u001b[0;34m:\u001b[0m\u001b[0;34m\u001b[0m\u001b[0;34m\u001b[0m\u001b[0m\n\u001b[0;32m---> 23\u001b[0;31m     \u001b[0mpath\u001b[0m \u001b[0;34m=\u001b[0m \u001b[0mos\u001b[0m\u001b[0;34m.\u001b[0m\u001b[0mpath\u001b[0m\u001b[0;34m.\u001b[0m\u001b[0mjoin\u001b[0m\u001b[0;34m(\u001b[0m\u001b[0mIMAGES_PATH\u001b[0m\u001b[0;34m,\u001b[0m \u001b[0mfig_id\u001b[0m \u001b[0;34m+\u001b[0m \u001b[0;34m\".\"\u001b[0m \u001b[0;34m+\u001b[0m \u001b[0mfig_extension\u001b[0m\u001b[0;34m)\u001b[0m\u001b[0;34m\u001b[0m\u001b[0;34m\u001b[0m\u001b[0m\n\u001b[0m\u001b[1;32m     24\u001b[0m     \u001b[0mprint\u001b[0m\u001b[0;34m(\u001b[0m\u001b[0;34m\"Saving figure\"\u001b[0m\u001b[0;34m,\u001b[0m \u001b[0mfig_id\u001b[0m\u001b[0;34m)\u001b[0m\u001b[0;34m\u001b[0m\u001b[0;34m\u001b[0m\u001b[0m\n\u001b[1;32m     25\u001b[0m     \u001b[0;32mif\u001b[0m \u001b[0mtight_layout\u001b[0m\u001b[0;34m:\u001b[0m\u001b[0;34m\u001b[0m\u001b[0;34m\u001b[0m\u001b[0m\n",
            "\u001b[0;31mNameError\u001b[0m: name 'IMAGES_PATH' is not defined"
          ]
        },
        {
          "output_type": "display_data",
          "data": {
            "image/png": "[encoded data removed]",
            "text/plain": [
              "<Figure size 864x576 with 25 Axes>"
            ]
          },
          "metadata": {
            "tags": []
          }
        }
      ]
    },
    {
      "cell_type": "code",
      "metadata": {
        "id": "FblJ9F7eSiZB",
        "colab_type": "code",
        "colab": {
          "base_uri": "https://localhost:8080/",
          "height": 422
        },
        "outputId": "a09738fd-b190-4ecf-9215-2cc25ca76828"
      },
      "source": [
        "corr_matrix[\"re_ad\"].sort_values(ascending=False)"
      ],
      "execution_count": 153,
      "outputs": [
        {
          "output_type": "execute_result",
          "data": {
            "text/plain": [
              "re_ad                       1.000000\n",
              "number_inpatient            0.100671\n",
              "discharge_disposition_id    0.065299\n",
              "time_in_hospital            0.054757\n",
              "Age                         0.045701\n",
              "number_diagnoses            0.044247\n",
              "num_medications             0.036067\n",
              "num_lab_procedures          0.031682\n",
              "number_emergency            0.028190\n",
              "Max_glu_serum               0.009238\n",
              "number_outpatient           0.008764\n",
              "admission_source_id         0.005402\n",
              "patient_nbr                 0.005099\n",
              "num_procedures              0.000068\n",
              "admission_type_id          -0.001643\n",
              "Gender                     -0.002167\n",
              "Race                       -0.002371\n",
              "HbA1c                      -0.009570\n",
              "Cons_diag                  -0.010278\n",
              "Change                     -0.015013\n",
              "DiabetesMed                -0.028076\n",
              "encounter_id               -0.047624\n",
              "Name: re_ad, dtype: float64"
            ]
          },
          "metadata": {
            "tags": []
          },
          "execution_count": 153
        }
      ]
    },
    {
      "cell_type": "markdown",
      "metadata": {
        "id": "U19Puh4uSrOp",
        "colab_type": "text"
      },
      "source": [
        "# Random Forrest Classifier Model"
      ]
    },
    {
      "cell_type": "code",
      "metadata": {
        "id": "pjZK_wPNSyOH",
        "colab_type": "code",
        "colab": {
          "base_uri": "https://localhost:8080/",
          "height": 35
        },
        "outputId": "1dc15acb-0086-477f-a12c-3e3ccde909a7"
      },
      "source": [
        "train_set, test_set = split_train_test(diabetic_num, 0.2)\n",
        "len(train_set)"
      ],
      "execution_count": 154,
      "outputs": [
        {
          "output_type": "execute_result",
          "data": {
            "text/plain": [
              "56353"
            ]
          },
          "metadata": {
            "tags": []
          },
          "execution_count": 154
        }
      ]
    },
    {
      "cell_type": "code",
      "metadata": {
        "id": "oF9blSySS1RV",
        "colab_type": "code",
        "colab": {
          "base_uri": "https://localhost:8080/",
          "height": 35
        },
        "outputId": "d4680708-d978-4fac-9305-aefd755eb33e"
      },
      "source": [
        "train_set.shape"
      ],
      "execution_count": 155,
      "outputs": [
        {
          "output_type": "execute_result",
          "data": {
            "text/plain": [
              "(56353, 22)"
            ]
          },
          "metadata": {
            "tags": []
          },
          "execution_count": 155
        }
      ]
    },
    {
      "cell_type": "code",
      "metadata": {
        "id": "q4GfFAr6TtuD",
        "colab_type": "code",
        "colab": {}
      },
      "source": [
        "diabetic_train = train_set.drop(\"Cons_diag\", axis=1) # drop labels for training set\n",
        "diabetic_train = diabetic_train.drop(\"re_ad\", axis=1)\n",
        "dia_labels_diag = train_set[\"Cons_diag\"].copy()\n",
        "dia_labels_read = train_set[\"re_ad\"].copy()"
      ],
      "execution_count": 0,
      "outputs": []
    },
    {
      "cell_type": "code",
      "metadata": {
        "id": "I-8hVVdBTvV2",
        "colab_type": "code",
        "colab": {}
      },
      "source": [
        "test_labels_diag = test_set[\"Cons_diag\"].copy()\n",
        "test_labels_read = test_set[\"re_ad\"].copy()\n",
        "diabetic_test = test_set.drop(\"Cons_diag\", axis=1) # drop labels for testing set\n",
        "diabetic_test = diabetic_test.drop(\"re_ad\", axis=1)"
      ],
      "execution_count": 0,
      "outputs": []
    },
    {
      "cell_type": "code",
      "metadata": {
        "id": "ZcTqhNMxTzRa",
        "colab_type": "code",
        "colab": {
          "base_uri": "https://localhost:8080/",
          "height": 35
        },
        "outputId": "c70ebb22-d75d-4fbf-c73c-0f4a2469b575"
      },
      "source": [
        "diabetic_train.shape"
      ],
      "execution_count": 158,
      "outputs": [
        {
          "output_type": "execute_result",
          "data": {
            "text/plain": [
              "(56353, 20)"
            ]
          },
          "metadata": {
            "tags": []
          },
          "execution_count": 158
        }
      ]
    },
    {
      "cell_type": "code",
      "metadata": {
        "id": "XNDSwrZaT3KI",
        "colab_type": "code",
        "colab": {
          "base_uri": "https://localhost:8080/",
          "height": 35
        },
        "outputId": "edabc893-af0a-4ac6-8367-ec1c5e2bdb6c"
      },
      "source": [
        "diabetic_test.shape"
      ],
      "execution_count": 159,
      "outputs": [
        {
          "output_type": "execute_result",
          "data": {
            "text/plain": [
              "(14088, 20)"
            ]
          },
          "metadata": {
            "tags": []
          },
          "execution_count": 159
        }
      ]
    },
    {
      "cell_type": "code",
      "metadata": {
        "id": "llMI848ST9nu",
        "colab_type": "code",
        "colab": {}
      },
      "source": [
        "dia_tr = num_pipeline.fit_transform(train_set)"
      ],
      "execution_count": 0,
      "outputs": []
    },
    {
      "cell_type": "code",
      "metadata": {
        "id": "3xcL7pwDUCHl",
        "colab_type": "code",
        "colab": {}
      },
      "source": [
        "dia_te = num_pipeline.fit_transform(test_set)"
      ],
      "execution_count": 0,
      "outputs": []
    },
    {
      "cell_type": "code",
      "metadata": {
        "id": "3ZKiVSLtUFNn",
        "colab_type": "code",
        "colab": {}
      },
      "source": [
        "from sklearn.ensemble import RandomForestClassifier\n",
        "\n",
        "rnd_clf = RandomForestClassifier(n_estimators=100, random_state=42)"
      ],
      "execution_count": 0,
      "outputs": []
    },
    {
      "cell_type": "code",
      "metadata": {
        "id": "HM6Y3CuvUIJh",
        "colab_type": "code",
        "colab": {
          "base_uri": "https://localhost:8080/",
          "height": 35
        },
        "outputId": "3a823a5d-aa8d-4ee6-8ea7-dfbbb73ed0a8"
      },
      "source": [
        "import time\n",
        "t0 = time.time()\n",
        "rnd_clf.fit(dia_tr, dia_labels_diag)\n",
        "t1 = time.time()\n",
        "print(\"Training took {:.2f}s\".format(t1 - t0))"
      ],
      "execution_count": 163,
      "outputs": [
        {
          "output_type": "stream",
          "text": [
            "Training took 3.23s\n"
          ],
          "name": "stdout"
        }
      ]
    },
    {
      "cell_type": "code",
      "metadata": {
        "id": "C79Aa0X8UOBG",
        "colab_type": "code",
        "colab": {
          "base_uri": "https://localhost:8080/",
          "height": 35
        },
        "outputId": "afcd30b9-69c0-4d32-b887-4194d0b0ca8a"
      },
      "source": [
        "from sklearn.metrics import accuracy_score\n",
        "dia_pred = rnd_clf.predict(dia_te)\n",
        "as_rf_diag = accuracy_score(test_labels_diag, dia_pred)\n",
        "as_rf_diag"
      ],
      "execution_count": 164,
      "outputs": [
        {
          "output_type": "execute_result",
          "data": {
            "text/plain": [
              "1.0"
            ]
          },
          "metadata": {
            "tags": []
          },
          "execution_count": 164
        }
      ]
    },
    {
      "cell_type": "code",
      "metadata": {
        "id": "nY2tnb-rUPkW",
        "colab_type": "code",
        "colab": {
          "base_uri": "https://localhost:8080/",
          "height": 52
        },
        "outputId": "05ab469a-5ee8-4a47-b78d-9ad499c4d69b"
      },
      "source": [
        "from sklearn.metrics import confusion_matrix\n",
        "confusion_matrix(test_labels_diag, dia_pred)"
      ],
      "execution_count": 165,
      "outputs": [
        {
          "output_type": "execute_result",
          "data": {
            "text/plain": [
              "array([[8524,    0],\n",
              "       [   0, 5564]])"
            ]
          },
          "metadata": {
            "tags": []
          },
          "execution_count": 165
        }
      ]
    },
    {
      "cell_type": "code",
      "metadata": {
        "id": "99r0fdoyUVCS",
        "colab_type": "code",
        "colab": {
          "base_uri": "https://localhost:8080/",
          "height": 35
        },
        "outputId": "b2333b54-c8ac-4f37-a0ac-9bb752da602b"
      },
      "source": [
        "from sklearn.metrics import precision_score, recall_score\n",
        "ps_rf_diag = precision_score(test_labels_diag, dia_pred)\n",
        "ps_rf_diag"
      ],
      "execution_count": 166,
      "outputs": [
        {
          "output_type": "execute_result",
          "data": {
            "text/plain": [
              "1.0"
            ]
          },
          "metadata": {
            "tags": []
          },
          "execution_count": 166
        }
      ]
    },
    {
      "cell_type": "code",
      "metadata": {
        "id": "4tto-haKUXrx",
        "colab_type": "code",
        "colab": {
          "base_uri": "https://localhost:8080/",
          "height": 35
        },
        "outputId": "7310e132-fe40-4f2a-e4f0-62967ff1cd28"
      },
      "source": [
        "rs_rf_diag = recall_score(test_labels_diag, dia_pred)\n",
        "rs_rf_diag"
      ],
      "execution_count": 167,
      "outputs": [
        {
          "output_type": "execute_result",
          "data": {
            "text/plain": [
              "1.0"
            ]
          },
          "metadata": {
            "tags": []
          },
          "execution_count": 167
        }
      ]
    },
    {
      "cell_type": "code",
      "metadata": {
        "id": "HmFnyaDyUZHv",
        "colab_type": "code",
        "colab": {
          "base_uri": "https://localhost:8080/",
          "height": 35
        },
        "outputId": "cc12dd91-5c6f-4c16-d202-54447c743404"
      },
      "source": [
        "rnd_clf.fit(dia_tr, dia_labels_read)\n",
        "read_pred = rnd_clf.predict(dia_te)\n",
        "as_rf_read = accuracy_score(test_labels_read, read_pred)\n",
        "as_rf_read"
      ],
      "execution_count": 168,
      "outputs": [
        {
          "output_type": "execute_result",
          "data": {
            "text/plain": [
              "1.0"
            ]
          },
          "metadata": {
            "tags": []
          },
          "execution_count": 168
        }
      ]
    },
    {
      "cell_type": "code",
      "metadata": {
        "id": "vNgUdzkFUcvg",
        "colab_type": "code",
        "colab": {
          "base_uri": "https://localhost:8080/",
          "height": 52
        },
        "outputId": "b963b5de-b97e-4283-edac-15bba3d223f0"
      },
      "source": [
        "confusion_matrix(test_labels_read, read_pred)"
      ],
      "execution_count": 169,
      "outputs": [
        {
          "output_type": "execute_result",
          "data": {
            "text/plain": [
              "array([[12806,     0],\n",
              "       [    0,  1282]])"
            ]
          },
          "metadata": {
            "tags": []
          },
          "execution_count": 169
        }
      ]
    },
    {
      "cell_type": "code",
      "metadata": {
        "id": "eeqzMXTlUgQg",
        "colab_type": "code",
        "colab": {
          "base_uri": "https://localhost:8080/",
          "height": 35
        },
        "outputId": "04be4366-efb4-41c0-b879-a5fd3ed5ed25"
      },
      "source": [
        "ps_rf_read = precision_score(test_labels_read, read_pred)\n",
        "ps_rf_read"
      ],
      "execution_count": 170,
      "outputs": [
        {
          "output_type": "execute_result",
          "data": {
            "text/plain": [
              "1.0"
            ]
          },
          "metadata": {
            "tags": []
          },
          "execution_count": 170
        }
      ]
    },
    {
      "cell_type": "code",
      "metadata": {
        "id": "kG62e09jUjBE",
        "colab_type": "code",
        "colab": {
          "base_uri": "https://localhost:8080/",
          "height": 35
        },
        "outputId": "8292cfe8-4456-4868-b41c-4c57f4cf5b47"
      },
      "source": [
        "rs_rf_read = recall_score(test_labels_read, read_pred)\n",
        "rs_rf_read"
      ],
      "execution_count": 171,
      "outputs": [
        {
          "output_type": "execute_result",
          "data": {
            "text/plain": [
              "1.0"
            ]
          },
          "metadata": {
            "tags": []
          },
          "execution_count": 171
        }
      ]
    },
    {
      "cell_type": "code",
      "metadata": {
        "id": "L9rmmO53Ulpw",
        "colab_type": "code",
        "colab": {
          "base_uri": "https://localhost:8080/",
          "height": 35
        },
        "outputId": "faf6ee66-193f-49be-8da4-6b790be3450d"
      },
      "source": [
        "from sklearn.model_selection import cross_val_score\n",
        "RFCscore_d = cross_val_score(rnd_clf, dia_tr, dia_labels_diag, cv=5, scoring=\"accuracy\")\n",
        "RFCscore_d"
      ],
      "execution_count": 172,
      "outputs": [
        {
          "output_type": "execute_result",
          "data": {
            "text/plain": [
              "array([1., 1., 1., 1., 1.])"
            ]
          },
          "metadata": {
            "tags": []
          },
          "execution_count": 172
        }
      ]
    },
    {
      "cell_type": "code",
      "metadata": {
        "id": "yNomLsnYUsHX",
        "colab_type": "code",
        "colab": {
          "base_uri": "https://localhost:8080/",
          "height": 35
        },
        "outputId": "c38ca337-5ddf-4e49-b296-3a148b5f44f1"
      },
      "source": [
        "RFCscore_r = cross_val_score(rnd_clf, dia_tr, dia_labels_read, cv=5, scoring=\"accuracy\")\n",
        "RFCscore_r"
      ],
      "execution_count": 173,
      "outputs": [
        {
          "output_type": "execute_result",
          "data": {
            "text/plain": [
              "array([1., 1., 1., 1., 1.])"
            ]
          },
          "metadata": {
            "tags": []
          },
          "execution_count": 173
        }
      ]
    },
    {
      "cell_type": "markdown",
      "metadata": {
        "id": "b3xIIYKAUzLw",
        "colab_type": "text"
      },
      "source": [
        "# **SVM Model**"
      ]
    },
    {
      "cell_type": "markdown",
      "metadata": {
        "id": "r64wwPLlU6Wb",
        "colab_type": "text"
      },
      "source": [
        "# **Linear kernal**"
      ]
    },
    {
      "cell_type": "code",
      "metadata": {
        "id": "0lKlfjyRU-e1",
        "colab_type": "code",
        "colab": {
          "base_uri": "https://localhost:8080/",
          "height": 158
        },
        "outputId": "016a2569-4b5d-48f0-cb2a-2c7c7e456034"
      },
      "source": [
        "from sklearn.svm import SVC\n",
        "from sklearn.svm import LinearSVC\n",
        "svm_clf = Pipeline([(\"linear_svc\", LinearSVC(C=1, loss=\"hinge\", random_state=42)),])\n",
        "svm_clf.fit(dia_tr, dia_labels_diag)\n"
      ],
      "execution_count": 174,
      "outputs": [
        {
          "output_type": "execute_result",
          "data": {
            "text/plain": [
              "Pipeline(memory=None,\n",
              "         steps=[('linear_svc',\n",
              "                 LinearSVC(C=1, class_weight=None, dual=True,\n",
              "                           fit_intercept=True, intercept_scaling=1,\n",
              "                           loss='hinge', max_iter=1000, multi_class='ovr',\n",
              "                           penalty='l2', random_state=42, tol=0.0001,\n",
              "                           verbose=0))],\n",
              "         verbose=False)"
            ]
          },
          "metadata": {
            "tags": []
          },
          "execution_count": 174
        }
      ]
    },
    {
      "cell_type": "code",
      "metadata": {
        "id": "uzWz_LFXVBzw",
        "colab_type": "code",
        "colab": {}
      },
      "source": [
        "svm_dia_pred = svm_clf.predict(dia_te)"
      ],
      "execution_count": 0,
      "outputs": []
    },
    {
      "cell_type": "code",
      "metadata": {
        "id": "q7cRFAeZVEmT",
        "colab_type": "code",
        "colab": {
          "base_uri": "https://localhost:8080/",
          "height": 35
        },
        "outputId": "d083295f-9c6c-4d00-c067-ae780a9daa6d"
      },
      "source": [
        "as_svm_diag = accuracy_score(test_labels_diag, svm_dia_pred)\n",
        "as_svm_diag"
      ],
      "execution_count": 176,
      "outputs": [
        {
          "output_type": "execute_result",
          "data": {
            "text/plain": [
              "1.0"
            ]
          },
          "metadata": {
            "tags": []
          },
          "execution_count": 176
        }
      ]
    },
    {
      "cell_type": "code",
      "metadata": {
        "id": "ahTmW-2tVHVr",
        "colab_type": "code",
        "colab": {
          "base_uri": "https://localhost:8080/",
          "height": 35
        },
        "outputId": "4bd2a5c2-5678-4a1e-ba51-cb4a07ffd0c3"
      },
      "source": [
        "SVMCscore_d = cross_val_score(svm_clf, dia_tr, dia_labels_diag, cv=5, scoring=\"accuracy\")\n",
        "SVMCscore_d"
      ],
      "execution_count": 177,
      "outputs": [
        {
          "output_type": "execute_result",
          "data": {
            "text/plain": [
              "array([1., 1., 1., 1., 1.])"
            ]
          },
          "metadata": {
            "tags": []
          },
          "execution_count": 177
        }
      ]
    },
    {
      "cell_type": "code",
      "metadata": {
        "id": "vl5XPZwrVL4M",
        "colab_type": "code",
        "colab": {
          "base_uri": "https://localhost:8080/",
          "height": 52
        },
        "outputId": "1fd98ea7-3035-4882-827e-ac577ec36701"
      },
      "source": [
        "confusion_matrix(test_labels_diag, svm_dia_pred)"
      ],
      "execution_count": 178,
      "outputs": [
        {
          "output_type": "execute_result",
          "data": {
            "text/plain": [
              "array([[8524,    0],\n",
              "       [   0, 5564]])"
            ]
          },
          "metadata": {
            "tags": []
          },
          "execution_count": 178
        }
      ]
    },
    {
      "cell_type": "code",
      "metadata": {
        "id": "LWng2LhcVRU1",
        "colab_type": "code",
        "colab": {
          "base_uri": "https://localhost:8080/",
          "height": 35
        },
        "outputId": "aacbe71e-e194-4fed-e08e-42e92e794b42"
      },
      "source": [
        "ps_svm_diag = precision_score(test_labels_diag, svm_dia_pred)\n",
        "ps_svm_diag"
      ],
      "execution_count": 179,
      "outputs": [
        {
          "output_type": "execute_result",
          "data": {
            "text/plain": [
              "1.0"
            ]
          },
          "metadata": {
            "tags": []
          },
          "execution_count": 179
        }
      ]
    },
    {
      "cell_type": "code",
      "metadata": {
        "id": "dRJgjO8CVSpe",
        "colab_type": "code",
        "colab": {
          "base_uri": "https://localhost:8080/",
          "height": 35
        },
        "outputId": "42faed63-93fe-4c34-af28-47a8026c8965"
      },
      "source": [
        "rs_svm_diag = recall_score(test_labels_diag, svm_dia_pred)\n",
        "rs_svm_diag"
      ],
      "execution_count": 180,
      "outputs": [
        {
          "output_type": "execute_result",
          "data": {
            "text/plain": [
              "1.0"
            ]
          },
          "metadata": {
            "tags": []
          },
          "execution_count": 180
        }
      ]
    },
    {
      "cell_type": "code",
      "metadata": {
        "id": "GSaMG8-qVXt9",
        "colab_type": "code",
        "colab": {}
      },
      "source": [
        "svm_clf.fit(dia_tr, dia_labels_read)\n",
        "svm_read_pred = svm_clf.predict(dia_te)"
      ],
      "execution_count": 0,
      "outputs": []
    },
    {
      "cell_type": "code",
      "metadata": {
        "id": "HIvHjt5tVa4H",
        "colab_type": "code",
        "colab": {
          "base_uri": "https://localhost:8080/",
          "height": 35
        },
        "outputId": "f3a1fba0-9c83-42d3-cabc-4a63daad9929"
      },
      "source": [
        "as_svm_read = accuracy_score(test_labels_read, svm_read_pred)\n",
        "as_svm_read"
      ],
      "execution_count": 182,
      "outputs": [
        {
          "output_type": "execute_result",
          "data": {
            "text/plain": [
              "1.0"
            ]
          },
          "metadata": {
            "tags": []
          },
          "execution_count": 182
        }
      ]
    },
    {
      "cell_type": "code",
      "metadata": {
        "id": "E4-C2nIAVdde",
        "colab_type": "code",
        "colab": {
          "base_uri": "https://localhost:8080/",
          "height": 35
        },
        "outputId": "b82734fd-b978-44b2-fb2d-ea5b73591b6f"
      },
      "source": [
        "SVMCscore_r = cross_val_score(svm_clf, dia_tr, dia_labels_read, cv=5, scoring=\"accuracy\")\n",
        "SVMCscore_r"
      ],
      "execution_count": 183,
      "outputs": [
        {
          "output_type": "execute_result",
          "data": {
            "text/plain": [
              "array([1., 1., 1., 1., 1.])"
            ]
          },
          "metadata": {
            "tags": []
          },
          "execution_count": 183
        }
      ]
    },
    {
      "cell_type": "code",
      "metadata": {
        "id": "7Kh0WAeKVhQx",
        "colab_type": "code",
        "colab": {
          "base_uri": "https://localhost:8080/",
          "height": 52
        },
        "outputId": "ffec417e-a15a-4c8f-b104-66eb860e6ca7"
      },
      "source": [
        "confusion_matrix(test_labels_read, svm_read_pred)"
      ],
      "execution_count": 184,
      "outputs": [
        {
          "output_type": "execute_result",
          "data": {
            "text/plain": [
              "array([[12806,     0],\n",
              "       [    0,  1282]])"
            ]
          },
          "metadata": {
            "tags": []
          },
          "execution_count": 184
        }
      ]
    },
    {
      "cell_type": "code",
      "metadata": {
        "id": "4Yi9Kq-dVlSo",
        "colab_type": "code",
        "colab": {
          "base_uri": "https://localhost:8080/",
          "height": 35
        },
        "outputId": "27c48277-6e95-4a4a-9ca6-9a864068ef59"
      },
      "source": [
        "ps_svm_read = precision_score(test_labels_read, svm_read_pred)\n",
        "ps_svm_read"
      ],
      "execution_count": 185,
      "outputs": [
        {
          "output_type": "execute_result",
          "data": {
            "text/plain": [
              "1.0"
            ]
          },
          "metadata": {
            "tags": []
          },
          "execution_count": 185
        }
      ]
    },
    {
      "cell_type": "code",
      "metadata": {
        "id": "pofBw2GoVovp",
        "colab_type": "code",
        "colab": {
          "base_uri": "https://localhost:8080/",
          "height": 35
        },
        "outputId": "901db452-a2bc-4ab8-f6f7-9cc279f5bf80"
      },
      "source": [
        "rs_svm_read = recall_score(test_labels_read, svm_read_pred)\n",
        "rs_svm_read"
      ],
      "execution_count": 186,
      "outputs": [
        {
          "output_type": "execute_result",
          "data": {
            "text/plain": [
              "1.0"
            ]
          },
          "metadata": {
            "tags": []
          },
          "execution_count": 186
        }
      ]
    },
    {
      "cell_type": "markdown",
      "metadata": {
        "id": "3t70NyuwV9fE",
        "colab_type": "text"
      },
      "source": [
        "# **SGDClassifier**"
      ]
    },
    {
      "cell_type": "code",
      "metadata": {
        "id": "cpvOgaK_WDjS",
        "colab_type": "code",
        "colab": {
          "base_uri": "https://localhost:8080/",
          "height": 123
        },
        "outputId": "e2aeb98b-ef04-4dad-b255-caeb5c214009"
      },
      "source": [
        "from sklearn.linear_model import SGDClassifier\n",
        "\n",
        "sgd_clf = SGDClassifier(max_iter=1000, tol=1e-3, random_state=42)\n",
        "sgd_clf.fit(dia_tr, dia_labels_diag)"
      ],
      "execution_count": 187,
      "outputs": [
        {
          "output_type": "execute_result",
          "data": {
            "text/plain": [
              "SGDClassifier(alpha=0.0001, average=False, class_weight=None,\n",
              "              early_stopping=False, epsilon=0.1, eta0=0.0, fit_intercept=True,\n",
              "              l1_ratio=0.15, learning_rate='optimal', loss='hinge',\n",
              "              max_iter=1000, n_iter_no_change=5, n_jobs=None, penalty='l2',\n",
              "              power_t=0.5, random_state=42, shuffle=True, tol=0.001,\n",
              "              validation_fraction=0.1, verbose=0, warm_start=False)"
            ]
          },
          "metadata": {
            "tags": []
          },
          "execution_count": 187
        }
      ]
    },
    {
      "cell_type": "code",
      "metadata": {
        "id": "PfBnoEpkWIUZ",
        "colab_type": "code",
        "colab": {}
      },
      "source": [
        "sgd_dia_pred =sgd_clf.predict(dia_te)"
      ],
      "execution_count": 0,
      "outputs": []
    },
    {
      "cell_type": "code",
      "metadata": {
        "id": "HSunso43WLB1",
        "colab_type": "code",
        "colab": {
          "base_uri": "https://localhost:8080/",
          "height": 35
        },
        "outputId": "fea15b0f-c7a0-4831-cf82-f10b37f358c1"
      },
      "source": [
        "as_sgd_diag = accuracy_score(test_labels_diag, sgd_dia_pred)\n",
        "as_sgd_diag"
      ],
      "execution_count": 189,
      "outputs": [
        {
          "output_type": "execute_result",
          "data": {
            "text/plain": [
              "1.0"
            ]
          },
          "metadata": {
            "tags": []
          },
          "execution_count": 189
        }
      ]
    },
    {
      "cell_type": "code",
      "metadata": {
        "id": "5pP6CTzzWMO1",
        "colab_type": "code",
        "colab": {
          "base_uri": "https://localhost:8080/",
          "height": 35
        },
        "outputId": "4d73b027-ecea-4895-d573-7a72b561ea20"
      },
      "source": [
        "SGDCscore_d = cross_val_score(sgd_clf, dia_tr, dia_labels_diag, cv=5, scoring=\"accuracy\")\n",
        "SGDCscore_d"
      ],
      "execution_count": 190,
      "outputs": [
        {
          "output_type": "execute_result",
          "data": {
            "text/plain": [
              "array([1.        , 1.        , 1.        , 0.99991127, 0.99991127])"
            ]
          },
          "metadata": {
            "tags": []
          },
          "execution_count": 190
        }
      ]
    },
    {
      "cell_type": "code",
      "metadata": {
        "id": "vNBw9xh6Weo3",
        "colab_type": "code",
        "colab": {
          "base_uri": "https://localhost:8080/",
          "height": 52
        },
        "outputId": "5ed0f259-5110-4c89-bb6d-6c39062249f7"
      },
      "source": [
        "confusion_matrix(test_labels_diag, sgd_dia_pred)"
      ],
      "execution_count": 191,
      "outputs": [
        {
          "output_type": "execute_result",
          "data": {
            "text/plain": [
              "array([[8524,    0],\n",
              "       [   0, 5564]])"
            ]
          },
          "metadata": {
            "tags": []
          },
          "execution_count": 191
        }
      ]
    },
    {
      "cell_type": "code",
      "metadata": {
        "id": "pnn2rc1aWonP",
        "colab_type": "code",
        "colab": {
          "base_uri": "https://localhost:8080/",
          "height": 35
        },
        "outputId": "9ea9635d-2c18-4d68-ba9a-6daa721421a5"
      },
      "source": [
        "ps_sgd_diag = precision_score(test_labels_diag, sgd_dia_pred)\n",
        "ps_sgd_diag"
      ],
      "execution_count": 192,
      "outputs": [
        {
          "output_type": "execute_result",
          "data": {
            "text/plain": [
              "1.0"
            ]
          },
          "metadata": {
            "tags": []
          },
          "execution_count": 192
        }
      ]
    },
    {
      "cell_type": "code",
      "metadata": {
        "id": "tn1OA2J-WqJt",
        "colab_type": "code",
        "colab": {
          "base_uri": "https://localhost:8080/",
          "height": 35
        },
        "outputId": "b0e5ba8e-28f0-4915-f8d7-56bcd51dc422"
      },
      "source": [
        "rs_sgd_diag = recall_score(test_labels_diag, sgd_dia_pred)\n",
        "rs_sgd_diag"
      ],
      "execution_count": 193,
      "outputs": [
        {
          "output_type": "execute_result",
          "data": {
            "text/plain": [
              "1.0"
            ]
          },
          "metadata": {
            "tags": []
          },
          "execution_count": 193
        }
      ]
    },
    {
      "cell_type": "code",
      "metadata": {
        "id": "8DsX0Q58WtOo",
        "colab_type": "code",
        "colab": {}
      },
      "source": [
        "sgd_clf.fit(dia_tr, dia_labels_read)\n",
        "sgd_read_pred =sgd_clf.predict(dia_te)"
      ],
      "execution_count": 0,
      "outputs": []
    },
    {
      "cell_type": "code",
      "metadata": {
        "id": "9ttfHSHBWvsv",
        "colab_type": "code",
        "colab": {
          "base_uri": "https://localhost:8080/",
          "height": 35
        },
        "outputId": "52416d73-769f-425a-d5a4-3ef1f0ee39b6"
      },
      "source": [
        "as_sgd_read = accuracy_score(test_labels_read, sgd_read_pred)\n",
        "as_sgd_read"
      ],
      "execution_count": 195,
      "outputs": [
        {
          "output_type": "execute_result",
          "data": {
            "text/plain": [
              "0.9995031232254401"
            ]
          },
          "metadata": {
            "tags": []
          },
          "execution_count": 195
        }
      ]
    },
    {
      "cell_type": "code",
      "metadata": {
        "id": "0OHaOh71WyIB",
        "colab_type": "code",
        "colab": {
          "base_uri": "https://localhost:8080/",
          "height": 35
        },
        "outputId": "e447161e-84ae-4753-a4a6-7abdf7307493"
      },
      "source": [
        "SGDCscore_r = cross_val_score(sgd_clf, dia_tr, dia_labels_read, cv=5, scoring=\"accuracy\")\n",
        "SGDCscore_r"
      ],
      "execution_count": 196,
      "outputs": [
        {
          "output_type": "execute_result",
          "data": {
            "text/plain": [
              "array([1., 1., 1., 1., 1.])"
            ]
          },
          "metadata": {
            "tags": []
          },
          "execution_count": 196
        }
      ]
    },
    {
      "cell_type": "code",
      "metadata": {
        "id": "ZJwD_x64W1TG",
        "colab_type": "code",
        "colab": {
          "base_uri": "https://localhost:8080/",
          "height": 52
        },
        "outputId": "7a7ec57d-5a55-45ff-fc67-4a14efaa87fe"
      },
      "source": [
        "confusion_matrix(test_labels_read, sgd_read_pred)"
      ],
      "execution_count": 197,
      "outputs": [
        {
          "output_type": "execute_result",
          "data": {
            "text/plain": [
              "array([[12806,     0],\n",
              "       [    7,  1275]])"
            ]
          },
          "metadata": {
            "tags": []
          },
          "execution_count": 197
        }
      ]
    },
    {
      "cell_type": "code",
      "metadata": {
        "id": "j6mYlWFXW62p",
        "colab_type": "code",
        "colab": {
          "base_uri": "https://localhost:8080/",
          "height": 35
        },
        "outputId": "3e9b6bd8-bf76-4a49-fb11-bc1ddf1859eb"
      },
      "source": [
        "ps_sgd_read = precision_score(test_labels_read, sgd_read_pred)\n",
        "ps_sgd_read"
      ],
      "execution_count": 198,
      "outputs": [
        {
          "output_type": "execute_result",
          "data": {
            "text/plain": [
              "1.0"
            ]
          },
          "metadata": {
            "tags": []
          },
          "execution_count": 198
        }
      ]
    },
    {
      "cell_type": "code",
      "metadata": {
        "id": "C2NswFssW9iy",
        "colab_type": "code",
        "colab": {
          "base_uri": "https://localhost:8080/",
          "height": 35
        },
        "outputId": "bcbf88ff-1b1f-4ec7-cf6d-2c73707f900e"
      },
      "source": [
        "rs_sgd_read = recall_score(test_labels_read, sgd_read_pred)\n",
        "rs_sgd_read"
      ],
      "execution_count": 199,
      "outputs": [
        {
          "output_type": "execute_result",
          "data": {
            "text/plain": [
              "0.9945397815912637"
            ]
          },
          "metadata": {
            "tags": []
          },
          "execution_count": 199
        }
      ]
    },
    {
      "cell_type": "markdown",
      "metadata": {
        "id": "aKmcwjToXA_G",
        "colab_type": "text"
      },
      "source": [
        "#Non-linear kernal"
      ]
    },
    {
      "cell_type": "code",
      "metadata": {
        "id": "8jR2yw6DXE8e",
        "colab_type": "code",
        "colab": {}
      },
      "source": [
        "from sklearn.preprocessing import PolynomialFeatures\n",
        "polynomial_svm_clf = Pipeline([\n",
        "        (\"poly_features\", PolynomialFeatures(degree=3)),\n",
        "        (\"svm_clf\", LinearSVC(C=10, loss=\"hinge\", random_state=42))\n",
        "    ])"
      ],
      "execution_count": 0,
      "outputs": []
    },
    {
      "cell_type": "code",
      "metadata": {
        "id": "0blyoL0YXIbF",
        "colab_type": "code",
        "colab": {
          "base_uri": "https://localhost:8080/",
          "height": 211
        },
        "outputId": "be1b31ca-e011-46a9-b9d2-105a8ca89e41"
      },
      "source": [
        "polynomial_svm_clf.fit(dia_tr, dia_labels_diag)"
      ],
      "execution_count": 201,
      "outputs": [
        {
          "output_type": "execute_result",
          "data": {
            "text/plain": [
              "Pipeline(memory=None,\n",
              "         steps=[('poly_features',\n",
              "                 PolynomialFeatures(degree=3, include_bias=True,\n",
              "                                    interaction_only=False, order='C')),\n",
              "                ('svm_clf',\n",
              "                 LinearSVC(C=10, class_weight=None, dual=True,\n",
              "                           fit_intercept=True, intercept_scaling=1,\n",
              "                           loss='hinge', max_iter=1000, multi_class='ovr',\n",
              "                           penalty='l2', random_state=42, tol=0.0001,\n",
              "                           verbose=0))],\n",
              "         verbose=False)"
            ]
          },
          "metadata": {
            "tags": []
          },
          "execution_count": 201
        }
      ]
    },
    {
      "cell_type": "code",
      "metadata": {
        "id": "NIg8qD8bXLjS",
        "colab_type": "code",
        "colab": {}
      },
      "source": [
        "svm_poly_dia_pred = polynomial_svm_clf.predict(dia_te)"
      ],
      "execution_count": 0,
      "outputs": []
    },
    {
      "cell_type": "code",
      "metadata": {
        "id": "R5KnydlpXOuS",
        "colab_type": "code",
        "colab": {
          "base_uri": "https://localhost:8080/",
          "height": 35
        },
        "outputId": "f3e7c6df-95b4-4038-e04f-0ef36d3e7450"
      },
      "source": [
        "as_svm_poly_diag = accuracy_score(test_labels_diag, svm_poly_dia_pred)\n",
        "as_svm_poly_diag"
      ],
      "execution_count": 203,
      "outputs": [
        {
          "output_type": "execute_result",
          "data": {
            "text/plain": [
              "0.9999290176036343"
            ]
          },
          "metadata": {
            "tags": []
          },
          "execution_count": 203
        }
      ]
    },
    {
      "cell_type": "code",
      "metadata": {
        "id": "Hr3A4k5vXW21",
        "colab_type": "code",
        "colab": {
          "base_uri": "https://localhost:8080/",
          "height": 35
        },
        "outputId": "1c5fdfee-f3b4-4e6c-f99e-b2c1a00d9754"
      },
      "source": [
        "PolyCscore_d = cross_val_score(polynomial_svm_clf, dia_tr, dia_labels_diag, cv=3, scoring=\"accuracy\")\n",
        "PolyCscore_d"
      ],
      "execution_count": 204,
      "outputs": [
        {
          "output_type": "execute_result",
          "data": {
            "text/plain": [
              "array([0.99994677, 0.99989353, 0.99994676])"
            ]
          },
          "metadata": {
            "tags": []
          },
          "execution_count": 204
        }
      ]
    },
    {
      "cell_type": "markdown",
      "metadata": {
        "id": "vVhz5ecAXbU0",
        "colab_type": "text"
      },
      "source": [
        "Confusion Matrix, Precision and Recall for Prediction of Diagnoses for diabetes."
      ]
    },
    {
      "cell_type": "code",
      "metadata": {
        "id": "uTxpNht8Xb_i",
        "colab_type": "code",
        "colab": {
          "base_uri": "https://localhost:8080/",
          "height": 52
        },
        "outputId": "1eb4e90b-8673-4ddb-b616-2bccb09bc5cc"
      },
      "source": [
        "confusion_matrix(test_labels_diag, svm_poly_dia_pred)"
      ],
      "execution_count": 205,
      "outputs": [
        {
          "output_type": "execute_result",
          "data": {
            "text/plain": [
              "array([[8524,    0],\n",
              "       [   1, 5563]])"
            ]
          },
          "metadata": {
            "tags": []
          },
          "execution_count": 205
        }
      ]
    },
    {
      "cell_type": "code",
      "metadata": {
        "id": "kfllz_uYXfsH",
        "colab_type": "code",
        "colab": {
          "base_uri": "https://localhost:8080/",
          "height": 35
        },
        "outputId": "af36b2c4-d972-4485-e72c-55fccac16f5c"
      },
      "source": [
        "ps_svm_poly_diag = precision_score(test_labels_diag, svm_poly_dia_pred)\n",
        "ps_svm_poly_diag"
      ],
      "execution_count": 206,
      "outputs": [
        {
          "output_type": "execute_result",
          "data": {
            "text/plain": [
              "1.0"
            ]
          },
          "metadata": {
            "tags": []
          },
          "execution_count": 206
        }
      ]
    },
    {
      "cell_type": "code",
      "metadata": {
        "id": "ljlz-24qXmzg",
        "colab_type": "code",
        "colab": {
          "base_uri": "https://localhost:8080/",
          "height": 35
        },
        "outputId": "7249bff5-54b9-446c-97b1-bb87b41f6556"
      },
      "source": [
        "rs_svm_poly_diag = recall_score(test_labels_diag, svm_poly_dia_pred)\n",
        "rs_svm_poly_diag"
      ],
      "execution_count": 207,
      "outputs": [
        {
          "output_type": "execute_result",
          "data": {
            "text/plain": [
              "0.9998202731847592"
            ]
          },
          "metadata": {
            "tags": []
          },
          "execution_count": 207
        }
      ]
    },
    {
      "cell_type": "code",
      "metadata": {
        "id": "2y1xCSNbXpbG",
        "colab_type": "code",
        "colab": {
          "base_uri": "https://localhost:8080/",
          "height": 211
        },
        "outputId": "68682912-f753-46b0-fb32-ea3e32a258be"
      },
      "source": [
        "polynomial_svm_clf.fit(dia_tr, dia_labels_read)"
      ],
      "execution_count": 208,
      "outputs": [
        {
          "output_type": "execute_result",
          "data": {
            "text/plain": [
              "Pipeline(memory=None,\n",
              "         steps=[('poly_features',\n",
              "                 PolynomialFeatures(degree=3, include_bias=True,\n",
              "                                    interaction_only=False, order='C')),\n",
              "                ('svm_clf',\n",
              "                 LinearSVC(C=10, class_weight=None, dual=True,\n",
              "                           fit_intercept=True, intercept_scaling=1,\n",
              "                           loss='hinge', max_iter=1000, multi_class='ovr',\n",
              "                           penalty='l2', random_state=42, tol=0.0001,\n",
              "                           verbose=0))],\n",
              "         verbose=False)"
            ]
          },
          "metadata": {
            "tags": []
          },
          "execution_count": 208
        }
      ]
    },
    {
      "cell_type": "code",
      "metadata": {
        "id": "CAXpnNj_XtGD",
        "colab_type": "code",
        "colab": {}
      },
      "source": [
        "svm_poly_read_pred = polynomial_svm_clf.predict(dia_te)"
      ],
      "execution_count": 0,
      "outputs": []
    },
    {
      "cell_type": "code",
      "metadata": {
        "id": "wUz6p69BXxK0",
        "colab_type": "code",
        "colab": {
          "base_uri": "https://localhost:8080/",
          "height": 35
        },
        "outputId": "1be352db-2bd7-4591-ce55-4e6546a7bffe"
      },
      "source": [
        "as_svm_poly_read = accuracy_score(test_labels_read, svm_poly_read_pred)\n",
        "as_svm_poly_read"
      ],
      "execution_count": 210,
      "outputs": [
        {
          "output_type": "execute_result",
          "data": {
            "text/plain": [
              "0.9999290176036343"
            ]
          },
          "metadata": {
            "tags": []
          },
          "execution_count": 210
        }
      ]
    },
    {
      "cell_type": "code",
      "metadata": {
        "id": "80GY3gdgXzoO",
        "colab_type": "code",
        "colab": {
          "base_uri": "https://localhost:8080/",
          "height": 35
        },
        "outputId": "05d44bff-caaa-4643-eede-610ceffd6f77"
      },
      "source": [
        "PolyCscore_r = cross_val_score(polynomial_svm_clf, dia_tr, dia_labels_read, cv=3, scoring=\"accuracy\")\n",
        "PolyCscore_r"
      ],
      "execution_count": 211,
      "outputs": [
        {
          "output_type": "execute_result",
          "data": {
            "text/plain": [
              "array([0.99989353, 0.99994676, 0.99973382])"
            ]
          },
          "metadata": {
            "tags": []
          },
          "execution_count": 211
        }
      ]
    },
    {
      "cell_type": "markdown",
      "metadata": {
        "id": "nQ0zcLqGX75K",
        "colab_type": "text"
      },
      "source": [
        "#Confusion Matrix, Precision and Recall for Prediction of re-admitted.\n",
        "\n"
      ]
    },
    {
      "cell_type": "code",
      "metadata": {
        "id": "4n7n2T6oX2Uk",
        "colab_type": "code",
        "colab": {
          "base_uri": "https://localhost:8080/",
          "height": 52
        },
        "outputId": "b981e6c7-00e3-422e-8a76-ec8794c4a5b4"
      },
      "source": [
        "confusion_matrix(test_labels_read, svm_poly_read_pred)"
      ],
      "execution_count": 212,
      "outputs": [
        {
          "output_type": "execute_result",
          "data": {
            "text/plain": [
              "array([[12806,     0],\n",
              "       [    1,  1281]])"
            ]
          },
          "metadata": {
            "tags": []
          },
          "execution_count": 212
        }
      ]
    },
    {
      "cell_type": "code",
      "metadata": {
        "id": "cNEx42WRYDGZ",
        "colab_type": "code",
        "colab": {
          "base_uri": "https://localhost:8080/",
          "height": 35
        },
        "outputId": "55b31ab6-5e49-4613-eec0-046814dce17a"
      },
      "source": [
        "ps_svm_poly_read = precision_score(test_labels_read, svm_poly_read_pred)\n",
        "ps_svm_poly_read"
      ],
      "execution_count": 213,
      "outputs": [
        {
          "output_type": "execute_result",
          "data": {
            "text/plain": [
              "1.0"
            ]
          },
          "metadata": {
            "tags": []
          },
          "execution_count": 213
        }
      ]
    },
    {
      "cell_type": "code",
      "metadata": {
        "id": "E6Oad-uuYG4h",
        "colab_type": "code",
        "colab": {
          "base_uri": "https://localhost:8080/",
          "height": 35
        },
        "outputId": "b036ec8f-2247-49b0-8208-cbef2b2072bc"
      },
      "source": [
        "rs_svm_poly_read = recall_score(test_labels_read, svm_poly_read_pred)\n",
        "rs_svm_poly_read"
      ],
      "execution_count": 214,
      "outputs": [
        {
          "output_type": "execute_result",
          "data": {
            "text/plain": [
              "0.999219968798752"
            ]
          },
          "metadata": {
            "tags": []
          },
          "execution_count": 214
        }
      ]
    },
    {
      "cell_type": "markdown",
      "metadata": {
        "id": "ggxYgnkgYL0h",
        "colab_type": "text"
      },
      "source": [
        "# Comparison Bar Charts"
      ]
    },
    {
      "cell_type": "code",
      "metadata": {
        "id": "RiU2Of4sYIyI",
        "colab_type": "code",
        "colab": {
          "base_uri": "https://localhost:8080/",
          "height": 288
        },
        "outputId": "c3ffeece-4026-44b4-ef5f-6f0f6ada9cf9"
      },
      "source": [
        "names = ['RF', 'LinearSVM', 'NonLinearSVM',\"SGD\"]\n",
        "values = [as_rf_diag, as_svm_diag, as_sgd_diag, as_svm_poly_diag]\n",
        "plt.bar(names, values)\n",
        "plt.ylim(0.9995,1)\n",
        "plt.ylabel(\"Accuracy\")\n",
        "plt.title(\"Diagnosis Accuracy Chart\", color = \"blue\", fontsize = \"xx-large\")\n",
        "plt.show()"
      ],
      "execution_count": 215,
      "outputs": [
        {
          "output_type": "display_data",
          "data": {
            "image/png": "[encoded data removed]",
            "text/plain": [
              "<Figure size 432x288 with 1 Axes>"
            ]
          },
          "metadata": {
            "tags": []
          }
        }
      ]
    },
    {
      "cell_type": "code",
      "metadata": {
        "id": "GdHy1KuQYV1t",
        "colab_type": "code",
        "colab": {
          "base_uri": "https://localhost:8080/",
          "height": 288
        },
        "outputId": "095655c3-ab78-4315-c3b7-59a4fd46fc7d"
      },
      "source": [
        "names = ['RF', 'LinearSVM', 'NonLinearSVM',\"SGD\"]\n",
        "values = [ps_rf_diag, ps_svm_diag, ps_sgd_diag, ps_svm_poly_diag]\n",
        "plt.bar(names, values)\n",
        "plt.ylim(0.9995,1)\n",
        "plt.ylabel(\"Precision\")\n",
        "plt.title(\"Diagnosis Precision Chart\", color = \"blue\", fontsize = \"xx-large\")\n",
        "plt.show()"
      ],
      "execution_count": 216,
      "outputs": [
        {
          "output_type": "display_data",
          "data": {
            "image/png": "[encoded data removed]",
            "text/plain": [
              "<Figure size 432x288 with 1 Axes>"
            ]
          },
          "metadata": {
            "tags": []
          }
        }
      ]
    },
    {
      "cell_type": "code",
      "metadata": {
        "id": "uiWjqAsDYZLq",
        "colab_type": "code",
        "colab": {
          "base_uri": "https://localhost:8080/",
          "height": 288
        },
        "outputId": "f5e7f8dc-023b-41c3-920d-fd8f503a9de4"
      },
      "source": [
        "names = ['RF', 'LinearSVM', 'NonLinearSVM',\"SGD\"]\n",
        "values = [rs_rf_diag, rs_svm_diag, rs_sgd_diag, rs_svm_poly_diag]\n",
        "plt.bar(names, values)\n",
        "plt.ylabel(\"Recall\")\n",
        "plt.ylim(0.9995,1)\n",
        "plt.title(\"Diagnosis Recall Chart\", color = \"blue\", fontsize = \"xx-large\")\n",
        "plt.show()"
      ],
      "execution_count": 217,
      "outputs": [
        {
          "output_type": "display_data",
          "data": {
            "image/png": "[encoded data removed]",
            "text/plain": [
              "<Figure size 432x288 with 1 Axes>"
            ]
          },
          "metadata": {
            "tags": []
          }
        }
      ]
    },
    {
      "cell_type": "code",
      "metadata": {
        "id": "6ak_3fI9YcSM",
        "colab_type": "code",
        "colab": {
          "base_uri": "https://localhost:8080/",
          "height": 288
        },
        "outputId": "d3d6bbd1-d0e9-461b-9944-561f8851da80"
      },
      "source": [
        "names = ['RF', 'LinearSVM', 'NonLinearSVM',\"SGD\"]\n",
        "values = [RFCscore_d.mean(), SVMCscore_d.mean(), PolyCscore_d.mean(), SGDCscore_d.mean()]\n",
        "plt.bar(names, values)\n",
        "plt.ylabel(\"Cross Validation Score\")\n",
        "plt.ylim(0.9995,1)\n",
        "plt.title(\"Diagnosis Cross Validation Score Chart\", color = \"blue\", fontsize = \"xx-large\")\n",
        "plt.show()"
      ],
      "execution_count": 218,
      "outputs": [
        {
          "output_type": "display_data",
          "data": {
            "image/png": "[encoded data removed]",
            "text/plain": [
              "<Figure size 432x288 with 1 Axes>"
            ]
          },
          "metadata": {
            "tags": []
          }
        }
      ]
    },
    {
      "cell_type": "code",
      "metadata": {
        "id": "4pDy3A3MYjBS",
        "colab_type": "code",
        "colab": {
          "base_uri": "https://localhost:8080/",
          "height": 288
        },
        "outputId": "250ecab8-d8ef-42be-e162-17d426630744"
      },
      "source": [
        "names = ['RF', 'LinearSVM', 'NonLinearSVM',\"SGD\"]\n",
        "values = [as_rf_read, as_svm_read, as_sgd_read, as_svm_poly_read]\n",
        "plt.bar(names, values)\n",
        "#plt.bar(\"Methods\", \"Stat\", data = accuracy_score, color = \"blue\")\n",
        "#plt.xlabel(\"RF\", \"SVM\" ,\"SGD\")\n",
        "plt.ylim(0.9995,1)\n",
        "plt.ylabel(\"Accuracy\")\n",
        "plt.title(\"Re-admision Accuracy Chart\", color = \"blue\", fontsize = \"xx-large\")\n",
        "plt.show()"
      ],
      "execution_count": 219,
      "outputs": [
        {
          "output_type": "display_data",
          "data": {
            "image/png": "[encoded data removed]",
            "text/plain": [
              "<Figure size 432x288 with 1 Axes>"
            ]
          },
          "metadata": {
            "tags": []
          }
        }
      ]
    },
    {
      "cell_type": "code",
      "metadata": {
        "id": "aMoWov5tYmO9",
        "colab_type": "code",
        "colab": {
          "base_uri": "https://localhost:8080/",
          "height": 288
        },
        "outputId": "bc47510d-cb6f-464a-bf07-9e4fbfdc448b"
      },
      "source": [
        "names = ['RF', 'LinearSVM', 'NonLinearSVM',\"SGD\"]\n",
        "values = [ps_rf_read, ps_svm_read, ps_sgd_read, ps_svm_poly_read]\n",
        "plt.bar(names, values)\n",
        "plt.ylabel(\"Precision\")\n",
        "plt.ylim(0.9995,1)\n",
        "plt.title(\"Re-admision Precision Chart\", color = \"blue\", fontsize = \"xx-large\")\n",
        "plt.show()"
      ],
      "execution_count": 220,
      "outputs": [
        {
          "output_type": "display_data",
          "data": {
            "image/png": "[encoded data removed]",
            "text/plain": [
              "<Figure size 432x288 with 1 Axes>"
            ]
          },
          "metadata": {
            "tags": []
          }
        }
      ]
    },
    {
      "cell_type": "code",
      "metadata": {
        "id": "8lCxlivOYpt-",
        "colab_type": "code",
        "colab": {
          "base_uri": "https://localhost:8080/",
          "height": 288
        },
        "outputId": "381ca43f-d385-4def-fd8f-1748544d2724"
      },
      "source": [
        "names = ['RF', 'LinearSVM', 'NonLinearSVM',\"SGD\"]\n",
        "values = [rs_rf_read, rs_svm_read, rs_sgd_read, rs_svm_poly_read]\n",
        "plt.bar(names, values)\n",
        "plt.ylabel(\"Recall\")\n",
        "plt.ylim(0.995,1)\n",
        "plt.title(\"Re-admision Recall Chart\", color = \"blue\", fontsize = \"xx-large\")\n",
        "plt.show()"
      ],
      "execution_count": 221,
      "outputs": [
        {
          "output_type": "display_data",
          "data": {
            "image/png": "[encoded data removed]",
            "text/plain": [
              "<Figure size 432x288 with 1 Axes>"
            ]
          },
          "metadata": {
            "tags": []
          }
        }
      ]
    },
    {
      "cell_type": "code",
      "metadata": {
        "id": "DblLz9VQYxaw",
        "colab_type": "code",
        "colab": {
          "base_uri": "https://localhost:8080/",
          "height": 288
        },
        "outputId": "47403619-5ebd-4b89-cf6b-9e349d977b0b"
      },
      "source": [
        "names = ['RF', 'LinearSVM', 'NonLinearSVM',\"SGD\"]\n",
        "values = [RFCscore_r.mean(), SVMCscore_r.mean(), PolyCscore_r.mean(), SGDCscore_r.mean()]\n",
        "plt.bar(names, values)\n",
        "plt.ylabel(\"Cross Validation Score\")\n",
        "plt.title(\"Re-admision Cross Validation Score Chart\", color = \"blue\", fontsize = \"xx-large\")\n",
        "plt.ylim(0.9995,1)\n",
        "plt.show()"
      ],
      "execution_count": 222,
      "outputs": [
        {
          "output_type": "display_data",
          "data": {
            "image/png": "[encoded data removed]",
            "text/plain": [
              "<Figure size 432x288 with 1 Axes>"
            ]
          },
          "metadata": {
            "tags": []
          }
        }
      ]
    },
    {
      "cell_type": "code",
      "metadata": {
        "id": "vJEq7i6IYzHi",
        "colab_type": "code",
        "colab": {
          "base_uri": "https://localhost:8080/",
          "height": 172
        },
        "outputId": "6a765366-57c8-4471-8c71-edfd13a4edf4"
      },
      "source": [
        "models_com = pd.DataFrame({'Model':['Random Forrest','LinearSVM','SGD','NonLinerSVM'],\n",
        "                           'Diagnoses Accuracy':[as_rf_diag,as_svm_diag,as_sgd_diag,as_svm_poly_diag],\n",
        "                           'Readmitted Accuracy':[as_rf_read,as_svm_read,as_sgd_read,as_svm_poly_read],\n",
        "                           'Diagnoses Precision':[ps_rf_diag,ps_svm_diag,ps_sgd_diag,ps_svm_poly_diag],\n",
        "                           'Readmitted Precision':[ps_rf_read,ps_svm_read,ps_sgd_read,ps_svm_poly_read],\n",
        "                           'Diagnoses Recall':[rs_rf_diag,rs_svm_diag,rs_sgd_diag,rs_svm_poly_diag],\n",
        "                           'Readmitted recall':[rs_rf_read,rs_svm_read,rs_sgd_read,rs_svm_poly_read],})\n",
        "models_com"
      ],
      "execution_count": 223,
      "outputs": [
        {
          "output_type": "execute_result",
          "data": {
            "text/html": [
              "<div>\n",
              "<style scoped>\n",
              "    .dataframe tbody tr th:only-of-type {\n",
              "        vertical-align: middle;\n",
              "    }\n",
              "\n",
              "    .dataframe tbody tr th {\n",
              "        vertical-align: top;\n",
              "    }\n",
              "\n",
              "    .dataframe thead th {\n",
              "        text-align: right;\n",
              "    }\n",
              "</style>\n",
              "<table border=\"1\" class=\"dataframe\">\n",
              "  <thead>\n",
              "    <tr style=\"text-align: right;\">\n",
              "      <th></th>\n",
              "      <th>Model</th>\n",
              "      <th>Diagnoses Accuracy</th>\n",
              "      <th>Readmitted Accuracy</th>\n",
              "      <th>Diagnoses Precision</th>\n",
              "      <th>Readmitted Precision</th>\n",
              "      <th>Diagnoses Recall</th>\n",
              "      <th>Readmitted recall</th>\n",
              "    </tr>\n",
              "  </thead>\n",
              "  <tbody>\n",
              "    <tr>\n",
              "      <th>0</th>\n",
              "      <td>Random Forrest</td>\n",
              "      <td>1.000000</td>\n",
              "      <td>1.000000</td>\n",
              "      <td>1.0</td>\n",
              "      <td>1.0</td>\n",
              "      <td>1.00000</td>\n",
              "      <td>1.00000</td>\n",
              "    </tr>\n",
              "    <tr>\n",
              "      <th>1</th>\n",
              "      <td>LinearSVM</td>\n",
              "      <td>1.000000</td>\n",
              "      <td>1.000000</td>\n",
              "      <td>1.0</td>\n",
              "      <td>1.0</td>\n",
              "      <td>1.00000</td>\n",
              "      <td>1.00000</td>\n",
              "    </tr>\n",
              "    <tr>\n",
              "      <th>2</th>\n",
              "      <td>SGD</td>\n",
              "      <td>1.000000</td>\n",
              "      <td>0.999503</td>\n",
              "      <td>1.0</td>\n",
              "      <td>1.0</td>\n",
              "      <td>1.00000</td>\n",
              "      <td>0.99454</td>\n",
              "    </tr>\n",
              "    <tr>\n",
              "      <th>3</th>\n",
              "      <td>NonLinerSVM</td>\n",
              "      <td>0.999929</td>\n",
              "      <td>0.999929</td>\n",
              "      <td>1.0</td>\n",
              "      <td>1.0</td>\n",
              "      <td>0.99982</td>\n",
              "      <td>0.99922</td>\n",
              "    </tr>\n",
              "  </tbody>\n",
              "</table>\n",
              "</div>"
            ],
            "text/plain": [
              "            Model  Diagnoses Accuracy  ...  Diagnoses Recall  Readmitted recall\n",
              "0  Random Forrest            1.000000  ...           1.00000            1.00000\n",
              "1       LinearSVM            1.000000  ...           1.00000            1.00000\n",
              "2             SGD            1.000000  ...           1.00000            0.99454\n",
              "3     NonLinerSVM            0.999929  ...           0.99982            0.99922\n",
              "\n",
              "[4 rows x 7 columns]"
            ]
          },
          "metadata": {
            "tags": []
          },
          "execution_count": 223
        }
      ]
    }
  ]
}