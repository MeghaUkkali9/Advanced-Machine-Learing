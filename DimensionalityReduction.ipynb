{
  "nbformat": 4,
  "nbformat_minor": 0,
  "metadata": {
    "colab": {
      "name": "Welcome To Colaboratory",
      "provenance": [],
      "collapsed_sections": [],
      "toc_visible": true,
      "include_colab_link": true
    },
    "kernelspec": {
      "display_name": "Python 3",
      "name": "python3"
    }
  },
  "cells": [
    {
      "cell_type": "markdown",
      "metadata": {
        "id": "view-in-github",
        "colab_type": "text"
      },
      "source": [
        "<a href=\"https://colab.research.google.com/github/MeghaUkkali9/Advanced-Machine-Learing/blob/master/DimensionalityReduction.ipynb\" target=\"_parent\"><img src=\"https://colab.research.google.com/assets/colab-badge.svg\" alt=\"Open In Colab\"/></a>"
      ]
    },
    {
      "cell_type": "markdown",
      "metadata": {
        "id": "5ZGGYGQsC5E-",
        "colab_type": "text"
      },
      "source": [
        "**Load the MNIST dataset **"
      ]
    },
    {
      "cell_type": "code",
      "metadata": {
        "id": "8dEugDDPBuJj",
        "colab_type": "code",
        "colab": {}
      },
      "source": [
        "from sklearn.datasets import fetch_openml\n",
        "\n",
        "mnist = fetch_openml('mnist_784', version=1)\n"
      ],
      "execution_count": 0,
      "outputs": []
    },
    {
      "cell_type": "code",
      "metadata": {
        "id": "mSgkkxDdCOPs",
        "colab_type": "code",
        "colab": {}
      },
      "source": [
        "import numpy as np\n",
        "mnist.target = mnist.target.astype(np.int8)"
      ],
      "execution_count": 0,
      "outputs": []
    },
    {
      "cell_type": "markdown",
      "metadata": {
        "id": "Yuh6sG-ZC0Wj",
        "colab_type": "text"
      },
      "source": [
        "**split it into a training set and a test set (take the first 60,000 instances for training, and the remaining 10,000 for testing).**\n",
        "\n"
      ]
    },
    {
      "cell_type": "code",
      "metadata": {
        "id": "jhhBqi1iCy8Y",
        "colab_type": "code",
        "colab": {}
      },
      "source": [
        "X_train = mnist['data'][:60000]\n",
        "y_train = mnist['target'][:60000]\n",
        "\n",
        "X_test = mnist['data'][60000:]\n",
        "y_test = mnist['target'][60000:]"
      ],
      "execution_count": 0,
      "outputs": []
    },
    {
      "cell_type": "markdown",
      "metadata": {
        "id": "7dgQPCI5Da9Y",
        "colab_type": "text"
      },
      "source": [
        "**Train a Random Forest classifier on the dataset**"
      ]
    },
    {
      "cell_type": "code",
      "metadata": {
        "id": "5pZsYCCcDej8",
        "colab_type": "code",
        "colab": {}
      },
      "source": [
        "from sklearn.ensemble import RandomForestClassifier\n",
        "\n",
        "rnd_clf = RandomForestClassifier(n_estimators=100, random_state=42)"
      ],
      "execution_count": 0,
      "outputs": []
    },
    {
      "cell_type": "markdown",
      "metadata": {
        "id": "th5au0CEDt1-",
        "colab_type": "text"
      },
      "source": [
        "**Time how long it takes**"
      ]
    },
    {
      "cell_type": "code",
      "metadata": {
        "id": "_bdaCuoFDwdH",
        "colab_type": "code",
        "colab": {}
      },
      "source": [
        "import time\n",
        "\n",
        "t0 = time.time()\n",
        "rnd_clf.fit(X_train, y_train)\n",
        "t1 = time.time()"
      ],
      "execution_count": 0,
      "outputs": []
    },
    {
      "cell_type": "code",
      "metadata": {
        "id": "bwPLD-OKD8Cs",
        "colab_type": "code",
        "colab": {
          "base_uri": "https://localhost:8080/",
          "height": 34
        },
        "outputId": "9b5bed3c-7c6f-486f-9275-12b4d54caa03"
      },
      "source": [
        "print(\"Training took {:.2f}s\".format(t1 - t0))"
      ],
      "execution_count": 8,
      "outputs": [
        {
          "output_type": "stream",
          "text": [
            "Training took 49.86s\n"
          ],
          "name": "stdout"
        }
      ]
    },
    {
      "cell_type": "markdown",
      "metadata": {
        "id": "04gIE70PECKO",
        "colab_type": "text"
      },
      "source": [
        "**Evaluate the resulting model on the test set.**"
      ]
    },
    {
      "cell_type": "code",
      "metadata": {
        "id": "XERt6NYyELz8",
        "colab_type": "code",
        "colab": {
          "base_uri": "https://localhost:8080/",
          "height": 34
        },
        "outputId": "2e8036e2-c12f-48c5-ec1e-3e3b79bef4b2"
      },
      "source": [
        "from sklearn.metrics import accuracy_score\n",
        "\n",
        "y_pred = rnd_clf.predict(X_test)\n",
        "accuracy_score(y_test, y_pred)"
      ],
      "execution_count": 9,
      "outputs": [
        {
          "output_type": "execute_result",
          "data": {
            "text/plain": [
              "0.9705"
            ]
          },
          "metadata": {
            "tags": []
          },
          "execution_count": 9
        }
      ]
    },
    {
      "cell_type": "markdown",
      "metadata": {
        "id": "ttr7Q98YEWup",
        "colab_type": "text"
      },
      "source": [
        "**Use PCA to reduce the dataset's dimensionality, with an explained variance ratio of 95%.**"
      ]
    },
    {
      "cell_type": "code",
      "metadata": {
        "id": "a6giP5GtEZK7",
        "colab_type": "code",
        "colab": {}
      },
      "source": [
        "from sklearn.decomposition import PCA\n",
        "\n",
        "pca = PCA(n_components=0.95)\n",
        "X_train_reduced = pca.fit_transform(X_train)"
      ],
      "execution_count": 0,
      "outputs": []
    },
    {
      "cell_type": "markdown",
      "metadata": {
        "id": "pftCE2JwEn1Z",
        "colab_type": "text"
      },
      "source": [
        "**Train a new Random Forest classifier on the reduced dataset **"
      ]
    },
    {
      "cell_type": "code",
      "metadata": {
        "id": "d18oseLyEqb1",
        "colab_type": "code",
        "colab": {}
      },
      "source": [
        "rnd_clf2 = RandomForestClassifier(n_estimators=100, random_state=42)"
      ],
      "execution_count": 0,
      "outputs": []
    },
    {
      "cell_type": "markdown",
      "metadata": {
        "id": "Yc0cGTebEziJ",
        "colab_type": "text"
      },
      "source": [
        "**see how long it takes. Was training much faster?**"
      ]
    },
    {
      "cell_type": "code",
      "metadata": {
        "id": "eorwOQToE2Jm",
        "colab_type": "code",
        "colab": {}
      },
      "source": [
        "t0 = time.time()\n",
        "rnd_clf2.fit(X_train_reduced, y_train)\n",
        "t1 = time.time()"
      ],
      "execution_count": 0,
      "outputs": []
    },
    {
      "cell_type": "code",
      "metadata": {
        "id": "BcmwcltTNhw0",
        "colab_type": "code",
        "colab": {
          "base_uri": "https://localhost:8080/",
          "height": 34
        },
        "outputId": "5e28f9c3-fde3-4aa0-e1b1-dcd00249ba11"
      },
      "source": [
        "print(\"Training took {:.2f}s\".format(t1 - t0))"
      ],
      "execution_count": 13,
      "outputs": [
        {
          "output_type": "stream",
          "text": [
            "Training took 118.40s\n"
          ],
          "name": "stdout"
        }
      ]
    },
    {
      "cell_type": "markdown",
      "metadata": {
        "id": "sQvosuEwNozD",
        "colab_type": "text"
      },
      "source": [
        "Oh no! Training is actually more than twice slower now! How can that be? Well, as we saw in this chapter, dimensionality reduction does not always lead to faster training time: it depends on the dataset, the model and the training algorithm. See figure 8-6 (the manifold_decision_boundary_plot* plots above). If you try a softmax classifier instead of a random forest classifier, you will find that training time is reduced by a factor of 3 when using PCA. Actually, we will do this in a second, but first let's check the precision of the new random forest classifier."
      ]
    },
    {
      "cell_type": "markdown",
      "metadata": {
        "id": "xpNus8tIN3jE",
        "colab_type": "text"
      },
      "source": [
        "**Next evaluate the classifier on the test set: how does it compare to the previous classifier?**\n",
        "\n"
      ]
    },
    {
      "cell_type": "code",
      "metadata": {
        "id": "2ZXCNjz7NrEj",
        "colab_type": "code",
        "colab": {
          "base_uri": "https://localhost:8080/",
          "height": 34
        },
        "outputId": "6e9952c7-a3b7-4e9d-c82c-e21529b39845"
      },
      "source": [
        "X_test_reduced = pca.transform(X_test)\n",
        "\n",
        "y_pred = rnd_clf2.predict(X_test_reduced)\n",
        "accuracy_score(y_test, y_pred)"
      ],
      "execution_count": 14,
      "outputs": [
        {
          "output_type": "execute_result",
          "data": {
            "text/plain": [
              "0.9481"
            ]
          },
          "metadata": {
            "tags": []
          },
          "execution_count": 14
        }
      ]
    },
    {
      "cell_type": "code",
      "metadata": {
        "id": "fAbbD17GOFxu",
        "colab_type": "code",
        "colab": {
          "base_uri": "https://localhost:8080/",
          "height": 151
        },
        "outputId": "6d767a1e-278a-485b-9359-f945175ad567"
      },
      "source": [
        "from sklearn.linear_model import LogisticRegression\n",
        "\n",
        "log_clf = LogisticRegression(multi_class=\"multinomial\", solver=\"lbfgs\", random_state=42)\n",
        "t0 = time.time()\n",
        "log_clf.fit(X_train, y_train)\n",
        "t1 = time.time()"
      ],
      "execution_count": 15,
      "outputs": [
        {
          "output_type": "stream",
          "text": [
            "/usr/local/lib/python3.6/dist-packages/sklearn/linear_model/_logistic.py:940: ConvergenceWarning: lbfgs failed to converge (status=1):\n",
            "STOP: TOTAL NO. of ITERATIONS REACHED LIMIT.\n",
            "\n",
            "Increase the number of iterations (max_iter) or scale the data as shown in:\n",
            "    https://scikit-learn.org/stable/modules/preprocessing.html\n",
            "Please also refer to the documentation for alternative solver options:\n",
            "    https://scikit-learn.org/stable/modules/linear_model.html#logistic-regression\n",
            "  extra_warning_msg=_LOGISTIC_SOLVER_CONVERGENCE_MSG)\n"
          ],
          "name": "stderr"
        }
      ]
    },
    {
      "cell_type": "code",
      "metadata": {
        "id": "nCTApL9xOMKq",
        "colab_type": "code",
        "colab": {
          "base_uri": "https://localhost:8080/",
          "height": 34
        },
        "outputId": "aa5f1b38-bb43-4659-aa18-6271ce5e7fbb"
      },
      "source": [
        "print(\"Training took {:.2f}s\".format(t1 - t0))"
      ],
      "execution_count": 16,
      "outputs": [
        {
          "output_type": "stream",
          "text": [
            "Training took 36.28s\n"
          ],
          "name": "stdout"
        }
      ]
    },
    {
      "cell_type": "code",
      "metadata": {
        "id": "dbKkkO9aOTO-",
        "colab_type": "code",
        "colab": {
          "base_uri": "https://localhost:8080/",
          "height": 34
        },
        "outputId": "c1a63572-2bb6-4c06-ffca-8f650605cbf3"
      },
      "source": [
        "y_pred = log_clf.predict(X_test)\n",
        "accuracy_score(y_test, y_pred)"
      ],
      "execution_count": 17,
      "outputs": [
        {
          "output_type": "execute_result",
          "data": {
            "text/plain": [
              "0.9255"
            ]
          },
          "metadata": {
            "tags": []
          },
          "execution_count": 17
        }
      ]
    },
    {
      "cell_type": "markdown",
      "metadata": {
        "id": "HkRIO5uoOvCR",
        "colab_type": "text"
      },
      "source": [
        "**Okay, so softmax regression takes much longer to train on this dataset than the random forest classifier, plus it performs worse on the test set. But that's not what we are interested in right now, we want to see how much PCA can help softmax regression. Let's train the softmax regression model using the reduced dataset:**"
      ]
    },
    {
      "cell_type": "code",
      "metadata": {
        "id": "GMfvx3hqOyX1",
        "colab_type": "code",
        "colab": {
          "base_uri": "https://localhost:8080/",
          "height": 151
        },
        "outputId": "408e9b5d-d597-47d2-c8bd-0d713ae2779b"
      },
      "source": [
        "log_clf2 = LogisticRegression(multi_class=\"multinomial\", solver=\"lbfgs\", random_state=42)\n",
        "t0 = time.time()\n",
        "log_clf2.fit(X_train_reduced, y_train)\n",
        "t1 = time.time()"
      ],
      "execution_count": 18,
      "outputs": [
        {
          "output_type": "stream",
          "text": [
            "/usr/local/lib/python3.6/dist-packages/sklearn/linear_model/_logistic.py:940: ConvergenceWarning: lbfgs failed to converge (status=1):\n",
            "STOP: TOTAL NO. of ITERATIONS REACHED LIMIT.\n",
            "\n",
            "Increase the number of iterations (max_iter) or scale the data as shown in:\n",
            "    https://scikit-learn.org/stable/modules/preprocessing.html\n",
            "Please also refer to the documentation for alternative solver options:\n",
            "    https://scikit-learn.org/stable/modules/linear_model.html#logistic-regression\n",
            "  extra_warning_msg=_LOGISTIC_SOLVER_CONVERGENCE_MSG)\n"
          ],
          "name": "stderr"
        }
      ]
    },
    {
      "cell_type": "code",
      "metadata": {
        "id": "evtxgLhsO5ef",
        "colab_type": "code",
        "colab": {
          "base_uri": "https://localhost:8080/",
          "height": 34
        },
        "outputId": "b9ca33a7-8fe2-4c1a-8417-a89d30ad2c85"
      },
      "source": [
        "print(\"Training took {:.2f}s\".format(t1 - t0))"
      ],
      "execution_count": 19,
      "outputs": [
        {
          "output_type": "stream",
          "text": [
            "Training took 12.23s\n"
          ],
          "name": "stdout"
        }
      ]
    },
    {
      "cell_type": "markdown",
      "metadata": {
        "id": "XlSD5DEQO9tj",
        "colab_type": "text"
      },
      "source": [
        "**Nice! Reducing dimensionality led to a 4× speedup. :) Let's check the model's accuracy:**"
      ]
    },
    {
      "cell_type": "code",
      "metadata": {
        "id": "6tL2-N3uPDUB",
        "colab_type": "code",
        "colab": {
          "base_uri": "https://localhost:8080/",
          "height": 34
        },
        "outputId": "1a53ade3-4ec2-492d-b32f-12b6424a301c"
      },
      "source": [
        "y_pred = log_clf2.predict(X_test_reduced)\n",
        "accuracy_score(y_test, y_pred)"
      ],
      "execution_count": 20,
      "outputs": [
        {
          "output_type": "execute_result",
          "data": {
            "text/plain": [
              "0.9201"
            ]
          },
          "metadata": {
            "tags": []
          },
          "execution_count": 20
        }
      ]
    },
    {
      "cell_type": "markdown",
      "metadata": {
        "id": "Bo7UNx6vPIeI",
        "colab_type": "text"
      },
      "source": [
        "A very slight drop in performance, which might be a reasonable price to pay for a 4× speedup, depending on the application.\n",
        "\n",
        "So there you have it: PCA can give you a formidable speedup... but not always!"
      ]
    }
  ]
}